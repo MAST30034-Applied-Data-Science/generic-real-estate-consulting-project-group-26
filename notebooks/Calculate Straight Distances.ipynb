{
 "cells": [
  {
   "cell_type": "code",
   "execution_count": 1,
   "id": "574eb61f",
   "metadata": {},
   "outputs": [],
   "source": [
    "import pandas as pd\n",
    "from pyspark.sql import functions as F\n",
    "import numpy as np\n",
    "from math import cos, asin, sqrt, pi"
   ]
  },
  {
   "cell_type": "code",
   "execution_count": 2,
   "id": "4fdf4cfb",
   "metadata": {},
   "outputs": [
    {
     "name": "stdout",
     "output_type": "stream",
     "text": [
      "22/09/16 21:19:35 WARN Utils: Your hostname, DESKTOP-1D7SN6N resolves to a loopback address: 127.0.1.1; using 172.17.150.234 instead (on interface eth0)\n",
      "22/09/16 21:19:35 WARN Utils: Set SPARK_LOCAL_IP if you need to bind to another address\n"
     ]
    },
    {
     "name": "stderr",
     "output_type": "stream",
     "text": [
      "Setting default log level to \"WARN\".\n",
      "To adjust logging level use sc.setLogLevel(newLevel). For SparkR, use setLogLevel(newLevel).\n"
     ]
    },
    {
     "name": "stdout",
     "output_type": "stream",
     "text": [
      "22/09/16 21:19:36 WARN NativeCodeLoader: Unable to load native-hadoop library for your platform... using builtin-java classes where applicable\n"
     ]
    }
   ],
   "source": [
    "from pyspark.sql import SparkSession\n",
    "\n",
    "# Create a spark session (which will run spark jobs)\n",
    "spark = (\n",
    "    SparkSession.builder.appName(\"MAST30034 Project 1\")\n",
    "    .config(\"spark.sql.repl.eagerEval.enabled\", True) \n",
    "    .config(\"spark.sql.parquet.cacheMetadata\", \"true\")\n",
    "    .config(\"spark.sql.session.timeZone\", \"Etc/UTC\")\n",
    "    .config(\"spark.executor.memory\", \"2g\")\n",
    "    .config(\"spark.driver.memory\", \"4g\")\n",
    "    .getOrCreate()\n",
    ")"
   ]
  },
  {
   "cell_type": "code",
   "execution_count": 3,
   "id": "713419ac",
   "metadata": {},
   "outputs": [],
   "source": [
    "# The goal is to find the number of each type of facilities near each property\n",
    "# and the distance to the nearest facilities\n",
    "# Therefore we need an individual index for each property\n",
    "# Furthermore, we only need properties' coordinate to calculate distances\n",
    "\n",
    "# THIS NOTEBOOK CALCULATE DISTANCE ACCORDING TO STRAIGHT LINE DISTANCE\n",
    "# THE RESULT WILL BE FURTHER PROCESSED TO GET A MORE ACCURACTE APPROXIMATION VIA API\n",
    "properties = pd.read_csv('../data/curated/properties.csv') \n",
    "properties = properties.reset_index()\n",
    "properties = properties[['index', 'prop_lat', 'prop_long']]\n",
    "sparkProperty=spark.createDataFrame(properties) "
   ]
  },
  {
   "cell_type": "code",
   "execution_count": 4,
   "id": "9d053326",
   "metadata": {},
   "outputs": [],
   "source": [
    "\"\"\"\n",
    "Calculate distance between two points, the calculation is based on haversine formula\n",
    "Reference of implementation:\n",
    "https://stackoverflow.com/questions/27928/calculate-distance-between-two-latitude-longitude-points-haversine-formula\n",
    "\n",
    "param: latitude, longitude of the two positions\n",
    "return: the distance in km between the two positions\n",
    "\"\"\"\n",
    "EQUATOR_DIAMETER = 12742\n",
    "def distance(lat1, lon1, lat2, lon2):\n",
    "    p = pi/180\n",
    "    a = 0.5 - cos((lat2-lat1)*p)/2 + cos(lat1*p) * cos(lat2*p) * (1-cos((lon2-lon1)*p))/2\n",
    "    return EQUATOR_DIAMETER * asin(sqrt(a)) \n",
    "distanceUDF = F.udf(lambda a,b,c,d: distance(a,b,c,d))"
   ]
  },
  {
   "cell_type": "markdown",
   "id": "7df496a0",
   "metadata": {},
   "source": [
    "### Calculate Distance to School"
   ]
  },
  {
   "cell_type": "code",
   "execution_count": 5,
   "id": "976b01a2",
   "metadata": {},
   "outputs": [],
   "source": [
    "schools = pd.read_csv('../data/curated/schools.csv')\n",
    "sparkSchool = spark.createDataFrame(schools)"
   ]
  },
  {
   "cell_type": "code",
   "execution_count": 6,
   "id": "3495fc73",
   "metadata": {},
   "outputs": [],
   "source": [
    "# For each property, calculate its distance to every school\n",
    "school_distance = sparkProperty \\\n",
    "            .crossJoin(sparkSchool) \\\n",
    "            .withColumn(\"distance\", \n",
    "                        distanceUDF(F.col(\"prop_lat\"), F.col(\"prop_long\"), F.col(\"school_lat\"), F.col(\"school_long\"))\n",
    "                       )"
   ]
  },
  {
   "cell_type": "code",
   "execution_count": 7,
   "id": "bbd2cef8",
   "metadata": {},
   "outputs": [
    {
     "name": "stdout",
     "output_type": "stream",
     "text": [
      "22/09/16 21:19:40 WARN ExtractPythonUDFFromJoinCondition: The join condition:(cast(<lambda>(prop_lat#1, prop_long#2, school_lat#7, school_long#6)#15 as int) <= 3) of the join plan contains PythonUDF only, it will be moved out and the join plan will be turned to cross join.\n"
     ]
    },
    {
     "name": "stderr",
     "output_type": "stream",
     "text": [
      "                                                                                \r"
     ]
    }
   ],
   "source": [
    "# Count for number of schools within 3km of each property\n",
    "school_count = school_distance \\\n",
    "            .filter(F.col(\"distance\") <= 3) \\\n",
    "            .groupBy(F.col(\"index\")) \\\n",
    "            .count() \\\n",
    "            .join(sparkProperty, 'index', 'right') \\\n",
    "            .orderBy('index') \\\n",
    "            .toPandas()"
   ]
  },
  {
   "cell_type": "code",
   "execution_count": 8,
   "id": "56f7ecbe",
   "metadata": {},
   "outputs": [],
   "source": [
    "# Find the nearest distance to school for each property\n",
    "nearestSchool = school_distance \\\n",
    "            .groupBy(F.col('index')) \\\n",
    "            .agg({'distance': 'min'})"
   ]
  },
  {
   "cell_type": "code",
   "execution_count": 9,
   "id": "ce27fcdd",
   "metadata": {},
   "outputs": [
    {
     "name": "stdout",
     "output_type": "stream",
     "text": [
      "22/09/16 21:20:03 WARN ExtractPythonUDFFromJoinCondition: The join condition:isnotnull(<lambda>(prop_lat#1, prop_long#2, school_lat#7, school_long#6)#15) of the join plan contains PythonUDF only, it will be moved out and the join plan will be turned to cross join.\n"
     ]
    },
    {
     "name": "stderr",
     "output_type": "stream",
     "text": [
      "                                                                                \r"
     ]
    }
   ],
   "source": [
    "# Find the nearest school for each property according to distance\n",
    "nearestSchoolCoord = school_distance \\\n",
    "            .join(nearestSchool, 'index') \\\n",
    "            .filter(F.col(\"distance\") == F.col(\"min(distance)\")) \\\n",
    "            .select('index','school_lat', 'school_long', 'distance') \\\n",
    "            .toPandas()"
   ]
  },
  {
   "cell_type": "code",
   "execution_count": 10,
   "id": "421756af",
   "metadata": {},
   "outputs": [],
   "source": [
    "# Fill propertys having no schools within 3km as 0\n",
    "school_count[['count']] = school_count[['count']].fillna(0)"
   ]
  },
  {
   "cell_type": "code",
   "execution_count": 11,
   "id": "a16ac0b1",
   "metadata": {},
   "outputs": [],
   "source": [
    "# Get the number of school, and the position of nearest school\n",
    "distanceSchool = pd.merge(school_count, nearestSchoolCoord, how='inner', on = 'index')"
   ]
  },
  {
   "cell_type": "code",
   "execution_count": 12,
   "id": "0a0dd9a6",
   "metadata": {},
   "outputs": [],
   "source": [
    "distanceSchool = distanceSchool.rename(columns = {'count':'numSchool_3km', 'distance': 'distance_school'})"
   ]
  },
  {
   "cell_type": "code",
   "execution_count": 13,
   "id": "05c91290",
   "metadata": {},
   "outputs": [],
   "source": [
    "distanceSchool = distanceSchool[['index', 'numSchool_3km', 'school_lat', 'school_long', 'distance_school']]"
   ]
  },
  {
   "cell_type": "code",
   "execution_count": 14,
   "id": "abb14edc",
   "metadata": {},
   "outputs": [],
   "source": [
    "# Combine the distance to each property\n",
    "properties = pd.merge(properties, distanceSchool, how='inner', on='index')"
   ]
  },
  {
   "cell_type": "markdown",
   "id": "e55dab4f",
   "metadata": {},
   "source": [
    "### Calculate Distance to Hospital"
   ]
  },
  {
   "cell_type": "code",
   "execution_count": 15,
   "id": "37548f75",
   "metadata": {},
   "outputs": [],
   "source": [
    "hospitals = pd.read_csv(\"../data/curated/hospitals_vic.csv\")\n",
    "sparkHospital = spark.createDataFrame(hospitals)"
   ]
  },
  {
   "cell_type": "code",
   "execution_count": 16,
   "id": "d5083a14",
   "metadata": {},
   "outputs": [],
   "source": [
    "# For each property, calculate its distance to every hospital\n",
    "hospital_distance = sparkProperty \\\n",
    "            .crossJoin(sparkHospital) \\\n",
    "            .withColumn(\"distance\", \n",
    "                        distanceUDF(F.col(\"prop_lat\"), F.col(\"prop_long\"), F.col(\"Latitude\"), F.col(\"Longitude\"))\n",
    "                       )"
   ]
  },
  {
   "cell_type": "code",
   "execution_count": 17,
   "id": "811ff83e",
   "metadata": {},
   "outputs": [
    {
     "name": "stdout",
     "output_type": "stream",
     "text": [
      "22/09/16 21:20:58 WARN ExtractPythonUDFFromJoinCondition: The join condition:(cast(<lambda>(prop_lat#1, prop_long#2, Latitude#82, Longitude#83)#99 as int) <= 1) of the join plan contains PythonUDF only, it will be moved out and the join plan will be turned to cross join.\n"
     ]
    },
    {
     "name": "stderr",
     "output_type": "stream",
     "text": [
      "                                                                                \r"
     ]
    }
   ],
   "source": [
    "# Count for number of hospitals within 1km of each property\n",
    "hospital_count = hospital_distance \\\n",
    "            .filter(F.col(\"distance\") <= 1) \\\n",
    "            .groupBy(F.col(\"index\")) \\\n",
    "            .count() \\\n",
    "            .join(sparkProperty, 'index', 'right') \\\n",
    "            .orderBy('index') \\\n",
    "            .toPandas()"
   ]
  },
  {
   "cell_type": "code",
   "execution_count": 18,
   "id": "a77b625e",
   "metadata": {},
   "outputs": [],
   "source": [
    "# Find the nearest distance to hospital for each property\n",
    "nearestHospital = hospital_distance \\\n",
    "            .groupBy(F.col('index')) \\\n",
    "            .agg({'distance': 'min'})"
   ]
  },
  {
   "cell_type": "code",
   "execution_count": 19,
   "id": "a3750a5e",
   "metadata": {},
   "outputs": [
    {
     "name": "stdout",
     "output_type": "stream",
     "text": [
      "22/09/16 21:21:07 WARN ExtractPythonUDFFromJoinCondition: The join condition:isnotnull(<lambda>(prop_lat#1, prop_long#2, Latitude#82, Longitude#83)#99) of the join plan contains PythonUDF only, it will be moved out and the join plan will be turned to cross join.\n"
     ]
    },
    {
     "name": "stderr",
     "output_type": "stream",
     "text": [
      "                                                                                \r"
     ]
    }
   ],
   "source": [
    "# Find the nearest hospital for each property according to distance\n",
    "nearestHospitalCoord = hospital_distance \\\n",
    "            .join(nearestHospital, 'index') \\\n",
    "            .filter(F.col(\"distance\") == F.col(\"min(distance)\")) \\\n",
    "            .select('index','Latitude', 'Longitude', 'distance') \\\n",
    "            .toPandas()"
   ]
  },
  {
   "cell_type": "code",
   "execution_count": 20,
   "id": "bb0ff1d3",
   "metadata": {},
   "outputs": [],
   "source": [
    "# Fill propertys having no hospitals within 1km as 0\n",
    "hospital_count[['count']] = hospital_count[['count']].fillna(0)"
   ]
  },
  {
   "cell_type": "code",
   "execution_count": 21,
   "id": "7e38a13b",
   "metadata": {},
   "outputs": [],
   "source": [
    "# Get the number of Hospital, and the position of nearest hospital\n",
    "distanceHospital = pd.merge(hospital_count, nearestHospitalCoord, how='inner', on = 'index')"
   ]
  },
  {
   "cell_type": "code",
   "execution_count": 22,
   "id": "919ae279",
   "metadata": {},
   "outputs": [],
   "source": [
    "distanceHospital = distanceHospital.rename(columns = {'count':'numHospital_1km', \n",
    "                                                      'Latitude': 'hospital_lat', \n",
    "                                                      'Longitude':'hospital_long',\n",
    "                                                      'distance': 'distance_hospital'})"
   ]
  },
  {
   "cell_type": "code",
   "execution_count": 23,
   "id": "e71fe420",
   "metadata": {},
   "outputs": [],
   "source": [
    "distanceHospital = distanceHospital[['index', 'numHospital_1km', 'hospital_lat', 'hospital_long', 'distance_hospital']]"
   ]
  },
  {
   "cell_type": "code",
   "execution_count": 24,
   "id": "e3adcb38",
   "metadata": {},
   "outputs": [],
   "source": [
    "# Combine the distance to each property\n",
    "properties = pd.merge(properties, distanceHospital, how='inner', on='index')"
   ]
  },
  {
   "cell_type": "markdown",
   "id": "c174d1d3",
   "metadata": {},
   "source": [
    "### Calculate Distance to Train Stations"
   ]
  },
  {
   "cell_type": "code",
   "execution_count": 25,
   "id": "2086a31e",
   "metadata": {},
   "outputs": [],
   "source": [
    "stations = pd.read_csv('../data/curated/traffic_dataset.csv')\n",
    "sparkStation = spark.createDataFrame(stations).select('STOP_ID', 'LATITUDE', 'LONGITUDE', 'Pax_annual')"
   ]
  },
  {
   "cell_type": "code",
   "execution_count": 26,
   "id": "51d23588",
   "metadata": {},
   "outputs": [],
   "source": [
    "# For each property, calculate its distance to every train station\n",
    "station_distance = sparkProperty \\\n",
    "            .crossJoin(sparkStation) \\\n",
    "            .withColumn(\"distance\", \n",
    "                        distanceUDF(F.col(\"prop_lat\"), F.col(\"prop_long\"), F.col(\"LATITUDE\"), F.col(\"LONGITUDE\"))\n",
    "                       )"
   ]
  },
  {
   "cell_type": "code",
   "execution_count": 27,
   "id": "947e8ec5",
   "metadata": {},
   "outputs": [
    {
     "name": "stdout",
     "output_type": "stream",
     "text": [
      "22/09/16 21:21:29 WARN ExtractPythonUDFFromJoinCondition: The join condition:(cast(<lambda>(prop_lat#1, prop_long#2, LATITUDE#185, LONGITUDE#186)#211 as int) <= 1) of the join plan contains PythonUDF only, it will be moved out and the join plan will be turned to cross join.\n"
     ]
    },
    {
     "name": "stderr",
     "output_type": "stream",
     "text": [
      "                                                                                \r"
     ]
    }
   ],
   "source": [
    "# Count for number of stations within 1km of each property\n",
    "station_count = station_distance \\\n",
    "            .filter(F.col(\"distance\") <= 1) \\\n",
    "            .groupBy(F.col(\"index\")) \\\n",
    "            .count() \\\n",
    "            .join(sparkProperty, 'index', 'right') \\\n",
    "            .orderBy('index') \\\n",
    "            .toPandas()"
   ]
  },
  {
   "cell_type": "code",
   "execution_count": 28,
   "id": "ddcead66",
   "metadata": {},
   "outputs": [],
   "source": [
    "# Find the nearest distance to station for each property\n",
    "nearestStation = station_distance \\\n",
    "            .groupBy(F.col('index')) \\\n",
    "            .agg({'distance': 'min'})"
   ]
  },
  {
   "cell_type": "code",
   "execution_count": 29,
   "id": "dca49a81",
   "metadata": {},
   "outputs": [
    {
     "name": "stdout",
     "output_type": "stream",
     "text": [
      "22/09/16 21:21:37 WARN ExtractPythonUDFFromJoinCondition: The join condition:isnotnull(<lambda>(prop_lat#1, prop_long#2, LATITUDE#185, LONGITUDE#186)#211) of the join plan contains PythonUDF only, it will be moved out and the join plan will be turned to cross join.\n"
     ]
    },
    {
     "name": "stderr",
     "output_type": "stream",
     "text": [
      "                                                                                \r"
     ]
    }
   ],
   "source": [
    "# Find the nearest station for each property according to distance\n",
    "nearestStationCoord = station_distance \\\n",
    "            .join(nearestStation, 'index') \\\n",
    "            .filter(F.col(\"distance\") == F.col(\"min(distance)\")) \\\n",
    "            .select('index','LATITUDE', 'LONGITUDE', 'distance') \\\n",
    "            .toPandas()"
   ]
  },
  {
   "cell_type": "code",
   "execution_count": 30,
   "id": "e9a22222",
   "metadata": {},
   "outputs": [],
   "source": [
    "# Fill propertys having no train stations within 1km as 0\n",
    "station_count[['count']] = station_count[['count']].fillna(0)"
   ]
  },
  {
   "cell_type": "code",
   "execution_count": 31,
   "id": "e5b9f45b",
   "metadata": {},
   "outputs": [],
   "source": [
    "# Get the number of stations, and the position of nearest station\n",
    "distanceStation = pd.merge(station_count, nearestStationCoord, how='inner', on = 'index')\n"
   ]
  },
  {
   "cell_type": "code",
   "execution_count": 32,
   "id": "b9dbfae8",
   "metadata": {},
   "outputs": [],
   "source": [
    "distanceStation = distanceStation.rename(columns = {'count':'numStation_1km', \n",
    "                                                      'LATITUDE': 'station_lat', \n",
    "                                                      'LONGITUDE':'station_long',\n",
    "                                                      'distance': 'distance_station'})\n"
   ]
  },
  {
   "cell_type": "code",
   "execution_count": 33,
   "id": "0049bb81",
   "metadata": {},
   "outputs": [],
   "source": [
    "distanceStation = distanceStation[['index', 'numStation_1km', 'station_lat', 'station_long', 'distance_station']]"
   ]
  },
  {
   "cell_type": "code",
   "execution_count": 34,
   "id": "2e4201cc",
   "metadata": {},
   "outputs": [],
   "source": [
    "# Combine the distance to each property\n",
    "properties = pd.merge(properties, distanceStation, how='inner', on='index')"
   ]
  },
  {
   "cell_type": "markdown",
   "id": "ff4b93ee",
   "metadata": {},
   "source": [
    "### Calculate Distance to Entertainment Facilities"
   ]
  },
  {
   "cell_type": "code",
   "execution_count": 35,
   "id": "d4ed5205",
   "metadata": {},
   "outputs": [],
   "source": [
    "facility = pd.read_csv('../data/curated/Facilites_list.csv')\n",
    "facility = facility[['Latitude', 'Longitude']]\n",
    "\n",
    "# some different facility shares same position, we decide to treat them as one facility\n",
    "# This is because we need to ensure each property only has one nearest facility\n",
    "# Otherwise inconsistency will occur in dataframes, resulting in more records\n",
    "facility = facility.dropna().drop_duplicates()\n",
    "sparkFacility = spark.createDataFrame(facility)"
   ]
  },
  {
   "cell_type": "code",
   "execution_count": 36,
   "id": "110c8c42",
   "metadata": {},
   "outputs": [],
   "source": [
    "# For each property, calculate its distance to every entertainment facility\n",
    "facility_distance = sparkProperty \\\n",
    "            .crossJoin(sparkFacility) \\\n",
    "            .withColumn(\"distance\", \n",
    "                        distanceUDF(F.col(\"prop_lat\"), F.col(\"prop_long\"), F.col(\"Latitude\"), F.col(\"Longitude\"))\n",
    "                       )"
   ]
  },
  {
   "cell_type": "code",
   "execution_count": 37,
   "id": "f0fac8e9",
   "metadata": {},
   "outputs": [
    {
     "name": "stdout",
     "output_type": "stream",
     "text": [
      "22/09/16 21:21:58 WARN ExtractPythonUDFFromJoinCondition: The join condition:(cast(<lambda>(prop_lat#1, prop_long#2, Latitude#289, Longitude#290)#298 as int) <= 3) of the join plan contains PythonUDF only, it will be moved out and the join plan will be turned to cross join.\n"
     ]
    },
    {
     "name": "stderr",
     "output_type": "stream",
     "text": [
      "                                                                                \r"
     ]
    }
   ],
   "source": [
    "# Count for number of facilities within 1km of each property\n",
    "facility_count = facility_distance \\\n",
    "            .filter(F.col(\"distance\") <= 3) \\\n",
    "            .groupBy(F.col(\"index\")) \\\n",
    "            .count() \\\n",
    "            .join(sparkProperty, 'index', 'right') \\\n",
    "            .orderBy('index') \\\n",
    "            .toPandas()"
   ]
  },
  {
   "cell_type": "code",
   "execution_count": 38,
   "id": "25c93dff",
   "metadata": {},
   "outputs": [],
   "source": [
    "# Find the nearest distance to facility for each property\n",
    "nearestFacility = facility_distance \\\n",
    "            .groupBy(F.col('index')) \\\n",
    "            .agg({'distance': 'min'})"
   ]
  },
  {
   "cell_type": "code",
   "execution_count": 39,
   "id": "c535c8a2",
   "metadata": {},
   "outputs": [
    {
     "name": "stdout",
     "output_type": "stream",
     "text": [
      "22/09/16 21:22:26 WARN ExtractPythonUDFFromJoinCondition: The join condition:isnotnull(<lambda>(prop_lat#1, prop_long#2, Latitude#289, Longitude#290)#298) of the join plan contains PythonUDF only, it will be moved out and the join plan will be turned to cross join.\n"
     ]
    },
    {
     "name": "stderr",
     "output_type": "stream",
     "text": [
      "                                                                                \r"
     ]
    }
   ],
   "source": [
    "# Find the nearest facility for each property according to distance\n",
    "nearestFacilityCoord = facility_distance \\\n",
    "            .join(nearestFacility, 'index', 'inner') \\\n",
    "            .filter(F.col(\"distance\") == F.col(\"min(distance)\")) \\\n",
    "            .select('index','Latitude', 'Longitude', 'distance') \\\n",
    "            .orderBy('index') \\\n",
    "            .toPandas()"
   ]
  },
  {
   "cell_type": "code",
   "execution_count": 40,
   "id": "7a2a0a29",
   "metadata": {},
   "outputs": [],
   "source": [
    "# Fill propertys having no facilities within 3km as 0\n",
    "facility_count[['count']] = facility_count[['count']].fillna(0)"
   ]
  },
  {
   "cell_type": "code",
   "execution_count": 41,
   "id": "8b964e6f",
   "metadata": {},
   "outputs": [],
   "source": [
    "# Get the number of facilities, and the position of nearest facility\n",
    "distanceFacility = pd.merge(facility_count, nearestFacilityCoord, how='inner', on = 'index')"
   ]
  },
  {
   "cell_type": "code",
   "execution_count": 42,
   "id": "2af74159",
   "metadata": {},
   "outputs": [],
   "source": [
    "distanceFacility = distanceFacility.rename(columns = {'count':'numFacility_3km', \n",
    "                                                      'Latitude': 'facility_lat', \n",
    "                                                      'Longitude':'facility_long',\n",
    "                                                      'distance': 'distance_facility'})\n"
   ]
  },
  {
   "cell_type": "code",
   "execution_count": 43,
   "id": "d2dc0d5c",
   "metadata": {},
   "outputs": [],
   "source": [
    "distanceFacility = distanceFacility[['index', 'numFacility_3km', 'facility_lat', 'facility_long', 'distance_facility']]"
   ]
  },
  {
   "cell_type": "code",
   "execution_count": 44,
   "id": "9d51b159",
   "metadata": {},
   "outputs": [],
   "source": [
    "# Combine the distance to each property\n",
    "properties = pd.merge(properties, distanceFacility, how='inner', on='index')"
   ]
  },
  {
   "cell_type": "code",
   "execution_count": 45,
   "id": "664070f2",
   "metadata": {},
   "outputs": [],
   "source": [
    "properties = properties.drop_duplicates(subset = 'index').set_index('index')"
   ]
  },
  {
   "cell_type": "code",
   "execution_count": 46,
   "id": "5c3e4027",
   "metadata": {},
   "outputs": [],
   "source": [
    "properties.to_csv('../data/curated/distance_to_property.csv', index = False)"
   ]
  },
  {
   "cell_type": "code",
   "execution_count": 47,
   "id": "f42ac04c",
   "metadata": {},
   "outputs": [
    {
     "data": {
      "text/html": [
       "<div>\n",
       "<style scoped>\n",
       "    .dataframe tbody tr th:only-of-type {\n",
       "        vertical-align: middle;\n",
       "    }\n",
       "\n",
       "    .dataframe tbody tr th {\n",
       "        vertical-align: top;\n",
       "    }\n",
       "\n",
       "    .dataframe thead th {\n",
       "        text-align: right;\n",
       "    }\n",
       "</style>\n",
       "<table border=\"1\" class=\"dataframe\">\n",
       "  <thead>\n",
       "    <tr style=\"text-align: right;\">\n",
       "      <th></th>\n",
       "      <th>prop_lat</th>\n",
       "      <th>prop_long</th>\n",
       "      <th>numSchool_3km</th>\n",
       "      <th>school_lat</th>\n",
       "      <th>school_long</th>\n",
       "      <th>distance_school</th>\n",
       "      <th>numHospital_1km</th>\n",
       "      <th>hospital_lat</th>\n",
       "      <th>hospital_long</th>\n",
       "      <th>distance_hospital</th>\n",
       "      <th>numStation_1km</th>\n",
       "      <th>station_lat</th>\n",
       "      <th>station_long</th>\n",
       "      <th>distance_station</th>\n",
       "      <th>numFacility_3km</th>\n",
       "      <th>facility_lat</th>\n",
       "      <th>facility_long</th>\n",
       "      <th>distance_facility</th>\n",
       "    </tr>\n",
       "    <tr>\n",
       "      <th>index</th>\n",
       "      <th></th>\n",
       "      <th></th>\n",
       "      <th></th>\n",
       "      <th></th>\n",
       "      <th></th>\n",
       "      <th></th>\n",
       "      <th></th>\n",
       "      <th></th>\n",
       "      <th></th>\n",
       "      <th></th>\n",
       "      <th></th>\n",
       "      <th></th>\n",
       "      <th></th>\n",
       "      <th></th>\n",
       "      <th></th>\n",
       "      <th></th>\n",
       "      <th></th>\n",
       "      <th></th>\n",
       "    </tr>\n",
       "  </thead>\n",
       "  <tbody>\n",
       "    <tr>\n",
       "      <th>0</th>\n",
       "      <td>-37.780782</td>\n",
       "      <td>144.813020</td>\n",
       "      <td>33.0</td>\n",
       "      <td>-37.78219</td>\n",
       "      <td>144.82020</td>\n",
       "      <td>0.6501404158195666</td>\n",
       "      <td>0.0</td>\n",
       "      <td>-37.693365</td>\n",
       "      <td>144.758677</td>\n",
       "      <td>10.83147814710251</td>\n",
       "      <td>2.0</td>\n",
       "      <td>-37.777653</td>\n",
       "      <td>144.824704</td>\n",
       "      <td>1.0842142151889327</td>\n",
       "      <td>58.0</td>\n",
       "      <td>-37.781765</td>\n",
       "      <td>144.814164</td>\n",
       "      <td>0.14850882293301257</td>\n",
       "    </tr>\n",
       "    <tr>\n",
       "      <th>1</th>\n",
       "      <td>-37.869028</td>\n",
       "      <td>144.807250</td>\n",
       "      <td>12.0</td>\n",
       "      <td>-37.86390</td>\n",
       "      <td>144.81167</td>\n",
       "      <td>0.6896526476051238</td>\n",
       "      <td>1.0</td>\n",
       "      <td>-37.869448</td>\n",
       "      <td>144.828494</td>\n",
       "      <td>1.8653500382034183</td>\n",
       "      <td>2.0</td>\n",
       "      <td>-37.865163</td>\n",
       "      <td>144.813494</td>\n",
       "      <td>0.6964726085221332</td>\n",
       "      <td>21.0</td>\n",
       "      <td>-37.873873</td>\n",
       "      <td>144.811386</td>\n",
       "      <td>0.6496779101999998</td>\n",
       "    </tr>\n",
       "    <tr>\n",
       "      <th>2</th>\n",
       "      <td>-37.276411</td>\n",
       "      <td>142.920079</td>\n",
       "      <td>6.0</td>\n",
       "      <td>-37.27736</td>\n",
       "      <td>142.92100</td>\n",
       "      <td>0.1333351425115027</td>\n",
       "      <td>1.0</td>\n",
       "      <td>-37.278816</td>\n",
       "      <td>142.932858</td>\n",
       "      <td>1.1618697631779715</td>\n",
       "      <td>0.0</td>\n",
       "      <td>-37.579091</td>\n",
       "      <td>144.727319</td>\n",
       "      <td>163.09079964570816</td>\n",
       "      <td>20.0</td>\n",
       "      <td>-37.279115</td>\n",
       "      <td>142.914920</td>\n",
       "      <td>0.5465960785569935</td>\n",
       "    </tr>\n",
       "    <tr>\n",
       "      <th>3</th>\n",
       "      <td>-37.292905</td>\n",
       "      <td>142.921881</td>\n",
       "      <td>6.0</td>\n",
       "      <td>-37.28600</td>\n",
       "      <td>142.92196</td>\n",
       "      <td>0.7678326903981126</td>\n",
       "      <td>1.0</td>\n",
       "      <td>-37.278816</td>\n",
       "      <td>142.932858</td>\n",
       "      <td>1.843199687372491</td>\n",
       "      <td>0.0</td>\n",
       "      <td>-37.579091</td>\n",
       "      <td>144.727319</td>\n",
       "      <td>162.54898938018138</td>\n",
       "      <td>21.0</td>\n",
       "      <td>-37.292104</td>\n",
       "      <td>142.935676</td>\n",
       "      <td>1.2235626246941527</td>\n",
       "    </tr>\n",
       "    <tr>\n",
       "      <th>4</th>\n",
       "      <td>-37.782361</td>\n",
       "      <td>144.808833</td>\n",
       "      <td>30.0</td>\n",
       "      <td>-37.78753</td>\n",
       "      <td>144.80752</td>\n",
       "      <td>0.5862197076000492</td>\n",
       "      <td>0.0</td>\n",
       "      <td>-37.693365</td>\n",
       "      <td>144.758677</td>\n",
       "      <td>10.834261807364065</td>\n",
       "      <td>1.0</td>\n",
       "      <td>-37.777653</td>\n",
       "      <td>144.824704</td>\n",
       "      <td>1.489848932777189</td>\n",
       "      <td>55.0</td>\n",
       "      <td>-37.782572</td>\n",
       "      <td>144.805283</td>\n",
       "      <td>0.31284398999338375</td>\n",
       "    </tr>\n",
       "    <tr>\n",
       "      <th>...</th>\n",
       "      <td>...</td>\n",
       "      <td>...</td>\n",
       "      <td>...</td>\n",
       "      <td>...</td>\n",
       "      <td>...</td>\n",
       "      <td>...</td>\n",
       "      <td>...</td>\n",
       "      <td>...</td>\n",
       "      <td>...</td>\n",
       "      <td>...</td>\n",
       "      <td>...</td>\n",
       "      <td>...</td>\n",
       "      <td>...</td>\n",
       "      <td>...</td>\n",
       "      <td>...</td>\n",
       "      <td>...</td>\n",
       "      <td>...</td>\n",
       "      <td>...</td>\n",
       "    </tr>\n",
       "    <tr>\n",
       "      <th>9077</th>\n",
       "      <td>-38.105231</td>\n",
       "      <td>145.134350</td>\n",
       "      <td>15.0</td>\n",
       "      <td>-38.10444</td>\n",
       "      <td>145.13050</td>\n",
       "      <td>0.34816382989589356</td>\n",
       "      <td>0.0</td>\n",
       "      <td>-38.243369</td>\n",
       "      <td>143.985357</td>\n",
       "      <td>101.60528521826753</td>\n",
       "      <td>2.0</td>\n",
       "      <td>-38.104021</td>\n",
       "      <td>145.128230</td>\n",
       "      <td>0.5521356365337967</td>\n",
       "      <td>31.0</td>\n",
       "      <td>-38.101721</td>\n",
       "      <td>145.129820</td>\n",
       "      <td>0.5562710099279955</td>\n",
       "    </tr>\n",
       "    <tr>\n",
       "      <th>9078</th>\n",
       "      <td>-38.354365</td>\n",
       "      <td>144.758948</td>\n",
       "      <td>2.0</td>\n",
       "      <td>-37.46289</td>\n",
       "      <td>144.59658</td>\n",
       "      <td>100.14569569048717</td>\n",
       "      <td>0.0</td>\n",
       "      <td>-38.361748</td>\n",
       "      <td>144.883554</td>\n",
       "      <td>10.895777765396797</td>\n",
       "      <td>0.0</td>\n",
       "      <td>-38.337390</td>\n",
       "      <td>145.178027</td>\n",
       "      <td>36.59569383784788</td>\n",
       "      <td>7.0</td>\n",
       "      <td>-38.362027</td>\n",
       "      <td>144.764383</td>\n",
       "      <td>0.9749237018181851</td>\n",
       "    </tr>\n",
       "    <tr>\n",
       "      <th>9079</th>\n",
       "      <td>-37.833083</td>\n",
       "      <td>144.966977</td>\n",
       "      <td>50.0</td>\n",
       "      <td>-37.83589</td>\n",
       "      <td>144.97186</td>\n",
       "      <td>0.5303940155951052</td>\n",
       "      <td>2.0</td>\n",
       "      <td>-37.834246</td>\n",
       "      <td>144.972151</td>\n",
       "      <td>0.47241226296551453</td>\n",
       "      <td>1.0</td>\n",
       "      <td>-37.818305</td>\n",
       "      <td>144.966964</td>\n",
       "      <td>1.6431834497373843</td>\n",
       "      <td>70.0</td>\n",
       "      <td>-37.839805</td>\n",
       "      <td>144.967048</td>\n",
       "      <td>0.7475336064227691</td>\n",
       "    </tr>\n",
       "    <tr>\n",
       "      <th>9080</th>\n",
       "      <td>-37.840129</td>\n",
       "      <td>144.996587</td>\n",
       "      <td>58.0</td>\n",
       "      <td>-37.83762</td>\n",
       "      <td>144.99768</td>\n",
       "      <td>0.29501884947033125</td>\n",
       "      <td>6.0</td>\n",
       "      <td>-37.847714</td>\n",
       "      <td>144.997225</td>\n",
       "      <td>0.8452948276125342</td>\n",
       "      <td>8.0</td>\n",
       "      <td>-37.838449</td>\n",
       "      <td>144.992342</td>\n",
       "      <td>0.41694301000288997</td>\n",
       "      <td>85.0</td>\n",
       "      <td>-37.836983</td>\n",
       "      <td>144.995195</td>\n",
       "      <td>0.3705376632873842</td>\n",
       "    </tr>\n",
       "    <tr>\n",
       "      <th>9081</th>\n",
       "      <td>-37.840863</td>\n",
       "      <td>144.988399</td>\n",
       "      <td>54.0</td>\n",
       "      <td>-37.84135</td>\n",
       "      <td>144.98562</td>\n",
       "      <td>0.2499786048734872</td>\n",
       "      <td>6.0</td>\n",
       "      <td>-37.846087</td>\n",
       "      <td>144.981937</td>\n",
       "      <td>0.8120713539054856</td>\n",
       "      <td>6.0</td>\n",
       "      <td>-37.838449</td>\n",
       "      <td>144.992342</td>\n",
       "      <td>0.4380770271876516</td>\n",
       "      <td>74.0</td>\n",
       "      <td>-37.840400</td>\n",
       "      <td>144.981583</td>\n",
       "      <td>0.6007379108663685</td>\n",
       "    </tr>\n",
       "  </tbody>\n",
       "</table>\n",
       "<p>9082 rows × 18 columns</p>\n",
       "</div>"
      ],
      "text/plain": [
       "        prop_lat   prop_long  numSchool_3km  school_lat  school_long  \\\n",
       "index                                                                  \n",
       "0     -37.780782  144.813020           33.0   -37.78219    144.82020   \n",
       "1     -37.869028  144.807250           12.0   -37.86390    144.81167   \n",
       "2     -37.276411  142.920079            6.0   -37.27736    142.92100   \n",
       "3     -37.292905  142.921881            6.0   -37.28600    142.92196   \n",
       "4     -37.782361  144.808833           30.0   -37.78753    144.80752   \n",
       "...          ...         ...            ...         ...          ...   \n",
       "9077  -38.105231  145.134350           15.0   -38.10444    145.13050   \n",
       "9078  -38.354365  144.758948            2.0   -37.46289    144.59658   \n",
       "9079  -37.833083  144.966977           50.0   -37.83589    144.97186   \n",
       "9080  -37.840129  144.996587           58.0   -37.83762    144.99768   \n",
       "9081  -37.840863  144.988399           54.0   -37.84135    144.98562   \n",
       "\n",
       "           distance_school  numHospital_1km  hospital_lat  hospital_long  \\\n",
       "index                                                                      \n",
       "0       0.6501404158195666              0.0    -37.693365     144.758677   \n",
       "1       0.6896526476051238              1.0    -37.869448     144.828494   \n",
       "2       0.1333351425115027              1.0    -37.278816     142.932858   \n",
       "3       0.7678326903981126              1.0    -37.278816     142.932858   \n",
       "4       0.5862197076000492              0.0    -37.693365     144.758677   \n",
       "...                    ...              ...           ...            ...   \n",
       "9077   0.34816382989589356              0.0    -38.243369     143.985357   \n",
       "9078    100.14569569048717              0.0    -38.361748     144.883554   \n",
       "9079    0.5303940155951052              2.0    -37.834246     144.972151   \n",
       "9080   0.29501884947033125              6.0    -37.847714     144.997225   \n",
       "9081    0.2499786048734872              6.0    -37.846087     144.981937   \n",
       "\n",
       "         distance_hospital  numStation_1km  station_lat  station_long  \\\n",
       "index                                                                   \n",
       "0        10.83147814710251             2.0   -37.777653    144.824704   \n",
       "1       1.8653500382034183             2.0   -37.865163    144.813494   \n",
       "2       1.1618697631779715             0.0   -37.579091    144.727319   \n",
       "3        1.843199687372491             0.0   -37.579091    144.727319   \n",
       "4       10.834261807364065             1.0   -37.777653    144.824704   \n",
       "...                    ...             ...          ...           ...   \n",
       "9077    101.60528521826753             2.0   -38.104021    145.128230   \n",
       "9078    10.895777765396797             0.0   -38.337390    145.178027   \n",
       "9079   0.47241226296551453             1.0   -37.818305    144.966964   \n",
       "9080    0.8452948276125342             8.0   -37.838449    144.992342   \n",
       "9081    0.8120713539054856             6.0   -37.838449    144.992342   \n",
       "\n",
       "          distance_station  numFacility_3km  facility_lat  facility_long  \\\n",
       "index                                                                      \n",
       "0       1.0842142151889327             58.0    -37.781765     144.814164   \n",
       "1       0.6964726085221332             21.0    -37.873873     144.811386   \n",
       "2       163.09079964570816             20.0    -37.279115     142.914920   \n",
       "3       162.54898938018138             21.0    -37.292104     142.935676   \n",
       "4        1.489848932777189             55.0    -37.782572     144.805283   \n",
       "...                    ...              ...           ...            ...   \n",
       "9077    0.5521356365337967             31.0    -38.101721     145.129820   \n",
       "9078     36.59569383784788              7.0    -38.362027     144.764383   \n",
       "9079    1.6431834497373843             70.0    -37.839805     144.967048   \n",
       "9080   0.41694301000288997             85.0    -37.836983     144.995195   \n",
       "9081    0.4380770271876516             74.0    -37.840400     144.981583   \n",
       "\n",
       "         distance_facility  \n",
       "index                       \n",
       "0      0.14850882293301257  \n",
       "1       0.6496779101999998  \n",
       "2       0.5465960785569935  \n",
       "3       1.2235626246941527  \n",
       "4      0.31284398999338375  \n",
       "...                    ...  \n",
       "9077    0.5562710099279955  \n",
       "9078    0.9749237018181851  \n",
       "9079    0.7475336064227691  \n",
       "9080    0.3705376632873842  \n",
       "9081    0.6007379108663685  \n",
       "\n",
       "[9082 rows x 18 columns]"
      ]
     },
     "execution_count": 47,
     "metadata": {},
     "output_type": "execute_result"
    }
   ],
   "source": [
    "# Here is the result dataframe, it contains each property's index and its location\n",
    "# also the number of different buildings near them, as well as the distance to nearest buildings\n",
    "properties"
   ]
  },
  {
   "cell_type": "code",
   "execution_count": null,
   "id": "c59a282f",
   "metadata": {},
   "outputs": [],
   "source": []
  }
 ],
 "metadata": {
  "kernelspec": {
   "display_name": "Python 3 (ipykernel)",
   "language": "python",
   "name": "python3"
  },
  "language_info": {
   "codemirror_mode": {
    "name": "ipython",
    "version": 3
   },
   "file_extension": ".py",
   "mimetype": "text/x-python",
   "name": "python",
   "nbconvert_exporter": "python",
   "pygments_lexer": "ipython3",
   "version": "3.10.4"
  }
 },
 "nbformat": 4,
 "nbformat_minor": 5
}
