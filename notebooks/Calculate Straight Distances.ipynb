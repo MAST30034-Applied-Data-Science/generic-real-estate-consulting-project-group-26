{
 "cells": [
  {
   "cell_type": "code",
   "execution_count": 1,
   "id": "574eb61f",
   "metadata": {},
   "outputs": [],
   "source": [
    "import pandas as pd\n",
    "from pyspark.sql import functions as F\n",
    "import numpy as np\n",
    "from math import cos, asin, sqrt, pi"
   ]
  },
  {
   "cell_type": "code",
   "execution_count": 2,
   "id": "4fdf4cfb",
   "metadata": {},
   "outputs": [
    {
     "name": "stdout",
     "output_type": "stream",
     "text": [
      "22/09/13 20:42:57 WARN Utils: Your hostname, DESKTOP-1D7SN6N resolves to a loopback address: 127.0.1.1; using 172.31.41.177 instead (on interface eth0)\n",
      "22/09/13 20:42:57 WARN Utils: Set SPARK_LOCAL_IP if you need to bind to another address\n"
     ]
    },
    {
     "name": "stderr",
     "output_type": "stream",
     "text": [
      "Setting default log level to \"WARN\".\n",
      "To adjust logging level use sc.setLogLevel(newLevel). For SparkR, use setLogLevel(newLevel).\n"
     ]
    },
    {
     "name": "stdout",
     "output_type": "stream",
     "text": [
      "22/09/13 20:42:58 WARN NativeCodeLoader: Unable to load native-hadoop library for your platform... using builtin-java classes where applicable\n"
     ]
    }
   ],
   "source": [
    "from pyspark.sql import SparkSession\n",
    "\n",
    "# Create a spark session (which will run spark jobs)\n",
    "spark = (\n",
    "    SparkSession.builder.appName(\"MAST30034 Project 1\")\n",
    "    .config(\"spark.sql.repl.eagerEval.enabled\", True) \n",
    "    .config(\"spark.sql.parquet.cacheMetadata\", \"true\")\n",
    "    .config(\"spark.sql.session.timeZone\", \"Etc/UTC\")\n",
    "    .config(\"spark.executor.memory\", \"2g\")\n",
    "    .config(\"spark.driver.memory\", \"4g\")\n",
    "    .getOrCreate()\n",
    ")"
   ]
  },
  {
   "cell_type": "code",
   "execution_count": 3,
   "id": "713419ac",
   "metadata": {},
   "outputs": [],
   "source": [
    "# The goal is to find the number of each type of facilities near each property\n",
    "# and the distance to the nearest facilities\n",
    "# Therefore we need an individual index for each property\n",
    "# Furthermore, we only need properties' coordinate to calculate distances\n",
    "\n",
    "# THIS NOTEBOOK CALCULATE DISTANCE ACCORDING TO STRAIGHT LINE DISTANCE\n",
    "# THE RESULT WILL BE FURTHER PROCESSED TO GET A MORE ACCURACTE APPROXIMATION VIA API\n",
    "properties = pd.read_csv('../data/curated/properties.csv') \n",
    "properties = properties.reset_index()\n",
    "properties = properties[['index', 'prop_lat', 'prop_long']]\n",
    "sparkProperty=spark.createDataFrame(properties) "
   ]
  },
  {
   "cell_type": "code",
   "execution_count": 4,
   "id": "9d053326",
   "metadata": {},
   "outputs": [],
   "source": [
    "\"\"\"\n",
    "Calculate distance between two points, the calculation is based on haversine formula\n",
    "Reference of implementation:\n",
    "https://stackoverflow.com/questions/27928/calculate-distance-between-two-latitude-longitude-points-haversine-formula\n",
    "\n",
    "param: latitude, longitude of the two positions\n",
    "return: the distance in km between the two positions\n",
    "\"\"\"\n",
    "EQUATOR_DIAMETER = 12742\n",
    "def distance(lat1, lon1, lat2, lon2):\n",
    "    p = pi/180\n",
    "    a = 0.5 - cos((lat2-lat1)*p)/2 + cos(lat1*p) * cos(lat2*p) * (1-cos((lon2-lon1)*p))/2\n",
    "    return EQUATOR_DIAMETER * asin(sqrt(a)) \n",
    "distanceUDF = F.udf(lambda a,b,c,d: distance(a,b,c,d))"
   ]
  },
  {
   "cell_type": "markdown",
   "id": "7df496a0",
   "metadata": {},
   "source": [
    "### Calculate Distance to School"
   ]
  },
  {
   "cell_type": "code",
   "execution_count": 5,
   "id": "976b01a2",
   "metadata": {},
   "outputs": [],
   "source": [
    "schools = pd.read_csv('../data/curated/schools.csv')\n",
    "sparkSchool = spark.createDataFrame(schools)"
   ]
  },
  {
   "cell_type": "code",
   "execution_count": 6,
   "id": "3495fc73",
   "metadata": {},
   "outputs": [],
   "source": [
    "# For each property, calculate its distance to every school\n",
    "school_distance = sparkProperty \\\n",
    "            .crossJoin(sparkSchool) \\\n",
    "            .withColumn(\"distance\", \n",
    "                        distanceUDF(F.col(\"prop_lat\"), F.col(\"prop_long\"), F.col(\"school_lat\"), F.col(\"school_long\"))\n",
    "                       )"
   ]
  },
  {
   "cell_type": "code",
   "execution_count": 7,
   "id": "bbd2cef8",
   "metadata": {},
   "outputs": [
    {
     "name": "stdout",
     "output_type": "stream",
     "text": [
      "22/09/13 20:43:02 WARN ExtractPythonUDFFromJoinCondition: The join condition:(cast(<lambda>(prop_lat#1, prop_long#2, school_lat#7, school_long#6)#15 as int) <= 3) of the join plan contains PythonUDF only, it will be moved out and the join plan will be turned to cross join.\n"
     ]
    },
    {
     "name": "stderr",
     "output_type": "stream",
     "text": [
      "                                                                                \r"
     ]
    }
   ],
   "source": [
    "# Count for number of schools within 3km of each property\n",
    "school_count = school_distance \\\n",
    "            .filter(F.col(\"distance\") <= 3) \\\n",
    "            .groupBy(F.col(\"index\")) \\\n",
    "            .count() \\\n",
    "            .join(sparkProperty, 'index', 'right') \\\n",
    "            .orderBy('index') \\\n",
    "            .toPandas()"
   ]
  },
  {
   "cell_type": "code",
   "execution_count": 8,
   "id": "56f7ecbe",
   "metadata": {},
   "outputs": [],
   "source": [
    "# Find the nearest distance to school for each property\n",
    "nearestSchool = school_distance \\\n",
    "            .groupBy(F.col('index')) \\\n",
    "            .agg({'distance': 'min'})"
   ]
  },
  {
   "cell_type": "code",
   "execution_count": 9,
   "id": "ce27fcdd",
   "metadata": {},
   "outputs": [
    {
     "name": "stdout",
     "output_type": "stream",
     "text": [
      "22/09/13 20:43:22 WARN ExtractPythonUDFFromJoinCondition: The join condition:isnotnull(<lambda>(prop_lat#1, prop_long#2, school_lat#7, school_long#6)#15) of the join plan contains PythonUDF only, it will be moved out and the join plan will be turned to cross join.\n"
     ]
    },
    {
     "name": "stderr",
     "output_type": "stream",
     "text": [
      "                                                                                \r"
     ]
    }
   ],
   "source": [
    "# Find the nearest school for each property according to distance\n",
    "nearestSchoolCoord = school_distance \\\n",
    "            .join(nearestSchool, 'index') \\\n",
    "            .filter(F.col(\"distance\") == F.col(\"min(distance)\")) \\\n",
    "            .select('index','school_lat', 'school_long', 'distance') \\\n",
    "            .toPandas()"
   ]
  },
  {
   "cell_type": "code",
   "execution_count": 10,
   "id": "421756af",
   "metadata": {},
   "outputs": [],
   "source": [
    "# Fill propertys having no schools within 3km as 0\n",
    "school_count[['count']] = school_count[['count']].fillna(0)"
   ]
  },
  {
   "cell_type": "code",
   "execution_count": 11,
   "id": "a16ac0b1",
   "metadata": {},
   "outputs": [],
   "source": [
    "# Get the number of school, and the position of nearest school\n",
    "distanceSchool = pd.merge(school_count, nearestSchoolCoord, how='inner', on = 'index')"
   ]
  },
  {
   "cell_type": "code",
   "execution_count": 12,
   "id": "0a0dd9a6",
   "metadata": {},
   "outputs": [],
   "source": [
    "distanceSchool = distanceSchool.rename(columns = {'count':'numSchool_3km'})"
   ]
  },
  {
   "cell_type": "code",
   "execution_count": 13,
   "id": "05c91290",
   "metadata": {},
   "outputs": [],
   "source": [
    "distanceSchool = distanceSchool[['index', 'numSchool_3km', 'school_lat', \"school_long\"]]"
   ]
  },
  {
   "cell_type": "code",
   "execution_count": 14,
   "id": "abb14edc",
   "metadata": {},
   "outputs": [],
   "source": [
    "# Combine the distance to each property\n",
    "properties = pd.merge(properties, distanceSchool, how='inner', on='index')"
   ]
  },
  {
   "cell_type": "markdown",
   "id": "e55dab4f",
   "metadata": {},
   "source": [
    "### Calculate Distance to Hospital"
   ]
  },
  {
   "cell_type": "code",
   "execution_count": 15,
   "id": "37548f75",
   "metadata": {},
   "outputs": [],
   "source": [
    "hospitals = pd.read_csv(\"../data/curated/hospitals_vic.csv\")\n",
    "sparkHospital = spark.createDataFrame(hospitals)"
   ]
  },
  {
   "cell_type": "code",
   "execution_count": 16,
   "id": "d5083a14",
   "metadata": {},
   "outputs": [],
   "source": [
    "# For each property, calculate its distance to every hospital\n",
    "hospital_distance = sparkProperty \\\n",
    "            .crossJoin(sparkHospital) \\\n",
    "            .withColumn(\"distance\", \n",
    "                        distanceUDF(F.col(\"prop_lat\"), F.col(\"prop_long\"), F.col(\"Latitude\"), F.col(\"Longitude\"))\n",
    "                       )"
   ]
  },
  {
   "cell_type": "code",
   "execution_count": 17,
   "id": "811ff83e",
   "metadata": {},
   "outputs": [
    {
     "name": "stdout",
     "output_type": "stream",
     "text": [
      "22/09/13 20:44:15 WARN ExtractPythonUDFFromJoinCondition: The join condition:(cast(<lambda>(prop_lat#1, prop_long#2, Latitude#82, Longitude#83)#99 as int) <= 1) of the join plan contains PythonUDF only, it will be moved out and the join plan will be turned to cross join.\n"
     ]
    },
    {
     "name": "stderr",
     "output_type": "stream",
     "text": [
      "                                                                                \r"
     ]
    }
   ],
   "source": [
    "# Count for number of hospitals within 1km of each property\n",
    "hospital_count = hospital_distance \\\n",
    "            .filter(F.col(\"distance\") <= 1) \\\n",
    "            .groupBy(F.col(\"index\")) \\\n",
    "            .count() \\\n",
    "            .join(sparkProperty, 'index', 'right') \\\n",
    "            .orderBy('index') \\\n",
    "            .toPandas()"
   ]
  },
  {
   "cell_type": "code",
   "execution_count": 18,
   "id": "a77b625e",
   "metadata": {},
   "outputs": [],
   "source": [
    "# Find the nearest distance to hospital for each property\n",
    "nearestHospital = hospital_distance \\\n",
    "            .groupBy(F.col('index')) \\\n",
    "            .agg({'distance': 'min'})"
   ]
  },
  {
   "cell_type": "code",
   "execution_count": 19,
   "id": "a3750a5e",
   "metadata": {},
   "outputs": [
    {
     "name": "stdout",
     "output_type": "stream",
     "text": [
      "22/09/13 20:44:24 WARN ExtractPythonUDFFromJoinCondition: The join condition:isnotnull(<lambda>(prop_lat#1, prop_long#2, Latitude#82, Longitude#83)#99) of the join plan contains PythonUDF only, it will be moved out and the join plan will be turned to cross join.\n"
     ]
    },
    {
     "name": "stderr",
     "output_type": "stream",
     "text": [
      "                                                                                \r"
     ]
    }
   ],
   "source": [
    "# Find the nearest hospital for each property according to distance\n",
    "nearestHospitalCoord = hospital_distance \\\n",
    "            .join(nearestHospital, 'index') \\\n",
    "            .filter(F.col(\"distance\") == F.col(\"min(distance)\")) \\\n",
    "            .select('index','Latitude', 'Longitude', 'distance') \\\n",
    "            .toPandas()"
   ]
  },
  {
   "cell_type": "code",
   "execution_count": 20,
   "id": "bb0ff1d3",
   "metadata": {},
   "outputs": [],
   "source": [
    "# Fill propertys having no hospitals within 1km as 0\n",
    "hospital_count[['count']] = hospital_count[['count']].fillna(0)"
   ]
  },
  {
   "cell_type": "code",
   "execution_count": 21,
   "id": "7e38a13b",
   "metadata": {},
   "outputs": [],
   "source": [
    "# Get the number of Hospital, and the position of nearest hospital\n",
    "distanceHospital = pd.merge(hospital_count, nearestHospitalCoord, how='inner', on = 'index')"
   ]
  },
  {
   "cell_type": "code",
   "execution_count": 22,
   "id": "919ae279",
   "metadata": {},
   "outputs": [],
   "source": [
    "distanceHospital = distanceHospital.rename(columns = {'count':'numHospital_1km', \n",
    "                                                      'Latitude': 'hospital_lat', \n",
    "                                                      'Longitude':'hospital_long'})"
   ]
  },
  {
   "cell_type": "code",
   "execution_count": 23,
   "id": "e71fe420",
   "metadata": {},
   "outputs": [],
   "source": [
    "distanceHospital = distanceHospital[['index', 'numHospital_1km', 'hospital_lat', 'hospital_long']]"
   ]
  },
  {
   "cell_type": "code",
   "execution_count": 24,
   "id": "e3adcb38",
   "metadata": {},
   "outputs": [],
   "source": [
    "# Combine the distance to each property\n",
    "properties = pd.merge(properties, distanceHospital, how='inner', on='index')"
   ]
  },
  {
   "cell_type": "markdown",
   "id": "c174d1d3",
   "metadata": {},
   "source": [
    "### Calculate Distance to Train Stations"
   ]
  },
  {
   "cell_type": "code",
   "execution_count": 25,
   "id": "2086a31e",
   "metadata": {},
   "outputs": [],
   "source": [
    "stations = pd.read_csv('../data/curated/traffic_dataset.csv')\n",
    "sparkStation = spark.createDataFrame(stations).select('STOP_ID', 'LATITUDE', 'LONGITUDE', 'Pax_annual')"
   ]
  },
  {
   "cell_type": "code",
   "execution_count": 26,
   "id": "51d23588",
   "metadata": {},
   "outputs": [],
   "source": [
    "# For each property, calculate its distance to every train station\n",
    "station_distance = sparkProperty \\\n",
    "            .crossJoin(sparkStation) \\\n",
    "            .withColumn(\"distance\", \n",
    "                        distanceUDF(F.col(\"prop_lat\"), F.col(\"prop_long\"), F.col(\"LATITUDE\"), F.col(\"LONGITUDE\"))\n",
    "                       )"
   ]
  },
  {
   "cell_type": "code",
   "execution_count": 27,
   "id": "947e8ec5",
   "metadata": {},
   "outputs": [
    {
     "name": "stdout",
     "output_type": "stream",
     "text": [
      "22/09/13 20:44:45 WARN ExtractPythonUDFFromJoinCondition: The join condition:(cast(<lambda>(prop_lat#1, prop_long#2, LATITUDE#185, LONGITUDE#186)#211 as int) <= 1) of the join plan contains PythonUDF only, it will be moved out and the join plan will be turned to cross join.\n"
     ]
    },
    {
     "name": "stderr",
     "output_type": "stream",
     "text": [
      "                                                                                \r"
     ]
    }
   ],
   "source": [
    "# Count for number of stations within 1km of each property\n",
    "station_count = station_distance \\\n",
    "            .filter(F.col(\"distance\") <= 1) \\\n",
    "            .groupBy(F.col(\"index\")) \\\n",
    "            .count() \\\n",
    "            .join(sparkProperty, 'index', 'right') \\\n",
    "            .orderBy('index') \\\n",
    "            .toPandas()"
   ]
  },
  {
   "cell_type": "code",
   "execution_count": 28,
   "id": "ddcead66",
   "metadata": {},
   "outputs": [],
   "source": [
    "# Find the nearest distance to station for each property\n",
    "nearestStation = station_distance \\\n",
    "            .groupBy(F.col('index')) \\\n",
    "            .agg({'distance': 'min'})"
   ]
  },
  {
   "cell_type": "code",
   "execution_count": 29,
   "id": "dca49a81",
   "metadata": {},
   "outputs": [
    {
     "name": "stdout",
     "output_type": "stream",
     "text": [
      "22/09/13 20:44:53 WARN ExtractPythonUDFFromJoinCondition: The join condition:isnotnull(<lambda>(prop_lat#1, prop_long#2, LATITUDE#185, LONGITUDE#186)#211) of the join plan contains PythonUDF only, it will be moved out and the join plan will be turned to cross join.\n"
     ]
    },
    {
     "name": "stderr",
     "output_type": "stream",
     "text": [
      "                                                                                \r"
     ]
    }
   ],
   "source": [
    "# Find the nearest station for each property according to distance\n",
    "nearestStationCoord = station_distance \\\n",
    "            .join(nearestStation, 'index') \\\n",
    "            .filter(F.col(\"distance\") == F.col(\"min(distance)\")) \\\n",
    "            .select('index','LATITUDE', 'LONGITUDE') \\\n",
    "            .toPandas()"
   ]
  },
  {
   "cell_type": "code",
   "execution_count": 30,
   "id": "e9a22222",
   "metadata": {},
   "outputs": [],
   "source": [
    "# Fill propertys having no train stations within 1km as 0\n",
    "station_count[['count']] = station_count[['count']].fillna(0)"
   ]
  },
  {
   "cell_type": "code",
   "execution_count": 31,
   "id": "e5b9f45b",
   "metadata": {},
   "outputs": [],
   "source": [
    "# Get the number of stations, and the position of nearest station\n",
    "distanceStation = pd.merge(station_count, nearestStationCoord, how='inner', on = 'index')\n"
   ]
  },
  {
   "cell_type": "code",
   "execution_count": 32,
   "id": "b9dbfae8",
   "metadata": {},
   "outputs": [],
   "source": [
    "distanceStation = distanceStation.rename(columns = {'count':'numStation_1km', \n",
    "                                                      'LATITUDE': 'station_lat', \n",
    "                                                      'LONGITUDE':'station_long'})\n"
   ]
  },
  {
   "cell_type": "code",
   "execution_count": 33,
   "id": "0049bb81",
   "metadata": {},
   "outputs": [],
   "source": [
    "distanceStation = distanceStation[['index', 'numStation_1km', 'station_lat', 'station_long']]"
   ]
  },
  {
   "cell_type": "code",
   "execution_count": 34,
   "id": "2e4201cc",
   "metadata": {},
   "outputs": [],
   "source": [
    "# Combine the distance to each property\n",
    "properties = pd.merge(properties, distanceStation, how='inner', on='index')"
   ]
  },
  {
   "cell_type": "markdown",
   "id": "ff4b93ee",
   "metadata": {},
   "source": [
    "### Calculate Distance to Entertainment Facilities"
   ]
  },
  {
   "cell_type": "code",
   "execution_count": 35,
   "id": "d4ed5205",
   "metadata": {},
   "outputs": [],
   "source": [
    "facility = pd.read_csv('../data/curated/Facilites_list.csv')\n",
    "facility = facility[['Latitude', 'Longitude']]\n",
    "\n",
    "# some different facility shares same position, we decide to treat them as one facility\n",
    "# This is because we need to ensure each property only has one nearest facility\n",
    "# Otherwise inconsistency will occur in dataframes, resulting in more records\n",
    "facility = facility.dropna().drop_duplicates()\n",
    "sparkFacility = spark.createDataFrame(facility)"
   ]
  },
  {
   "cell_type": "code",
   "execution_count": 36,
   "id": "110c8c42",
   "metadata": {},
   "outputs": [],
   "source": [
    "# For each property, calculate its distance to every entertainment facility\n",
    "facility_distance = sparkProperty \\\n",
    "            .crossJoin(sparkFacility) \\\n",
    "            .withColumn(\"distance\", \n",
    "                        distanceUDF(F.col(\"prop_lat\"), F.col(\"prop_long\"), F.col(\"Latitude\"), F.col(\"Longitude\"))\n",
    "                       )"
   ]
  },
  {
   "cell_type": "code",
   "execution_count": 37,
   "id": "f0fac8e9",
   "metadata": {},
   "outputs": [
    {
     "name": "stdout",
     "output_type": "stream",
     "text": [
      "22/09/13 20:45:14 WARN ExtractPythonUDFFromJoinCondition: The join condition:(cast(<lambda>(prop_lat#1, prop_long#2, Latitude#288, Longitude#289)#297 as int) <= 3) of the join plan contains PythonUDF only, it will be moved out and the join plan will be turned to cross join.\n"
     ]
    },
    {
     "name": "stderr",
     "output_type": "stream",
     "text": [
      "                                                                                \r"
     ]
    }
   ],
   "source": [
    "# Count for number of facilities within 1km of each property\n",
    "facility_count = facility_distance \\\n",
    "            .filter(F.col(\"distance\") <= 3) \\\n",
    "            .groupBy(F.col(\"index\")) \\\n",
    "            .count() \\\n",
    "            .join(sparkProperty, 'index', 'right') \\\n",
    "            .orderBy('index') \\\n",
    "            .toPandas()"
   ]
  },
  {
   "cell_type": "code",
   "execution_count": 38,
   "id": "25c93dff",
   "metadata": {},
   "outputs": [],
   "source": [
    "# Find the nearest distance to facility for each property\n",
    "nearestFacility = facility_distance \\\n",
    "            .groupBy(F.col('index')) \\\n",
    "            .agg({'distance': 'min'})"
   ]
  },
  {
   "cell_type": "code",
   "execution_count": 39,
   "id": "c535c8a2",
   "metadata": {},
   "outputs": [
    {
     "name": "stdout",
     "output_type": "stream",
     "text": [
      "22/09/13 20:45:41 WARN ExtractPythonUDFFromJoinCondition: The join condition:isnotnull(<lambda>(prop_lat#1, prop_long#2, Latitude#288, Longitude#289)#297) of the join plan contains PythonUDF only, it will be moved out and the join plan will be turned to cross join.\n"
     ]
    },
    {
     "name": "stderr",
     "output_type": "stream",
     "text": [
      "                                                                                \r"
     ]
    }
   ],
   "source": [
    "# Find the nearest facility for each property according to distance\n",
    "nearestFacilityCoord = facility_distance \\\n",
    "            .join(nearestFacility, 'index', 'inner') \\\n",
    "            .filter(F.col(\"distance\") == F.col(\"min(distance)\")) \\\n",
    "            .select('index','Latitude', 'Longitude') \\\n",
    "            .orderBy('index') \\\n",
    "            .toPandas()"
   ]
  },
  {
   "cell_type": "code",
   "execution_count": 40,
   "id": "7a2a0a29",
   "metadata": {},
   "outputs": [],
   "source": [
    "# Fill propertys having no facilities within 3km as 0\n",
    "facility_count[['count']] = facility_count[['count']].fillna(0)"
   ]
  },
  {
   "cell_type": "code",
   "execution_count": 41,
   "id": "8b964e6f",
   "metadata": {},
   "outputs": [],
   "source": [
    "# Get the number of facilities, and the position of nearest facility\n",
    "distanceFacility = pd.merge(facility_count, nearestFacilityCoord, how='inner', on = 'index')"
   ]
  },
  {
   "cell_type": "code",
   "execution_count": 42,
   "id": "2af74159",
   "metadata": {},
   "outputs": [],
   "source": [
    "distanceFacility = distanceFacility.rename(columns = {'count':'numFacility_3km', \n",
    "                                                      'Latitude': 'facility_lat', \n",
    "                                                      'Longitude':'facility_long'})\n"
   ]
  },
  {
   "cell_type": "code",
   "execution_count": 43,
   "id": "d2dc0d5c",
   "metadata": {},
   "outputs": [],
   "source": [
    "distanceFacility = distanceFacility[['index', 'numFacility_3km', 'facility_lat', 'facility_long']]"
   ]
  },
  {
   "cell_type": "code",
   "execution_count": 44,
   "id": "9d51b159",
   "metadata": {},
   "outputs": [],
   "source": [
    "# Combine the distance to each property\n",
    "properties = pd.merge(properties, distanceFacility, how='inner', on='index')"
   ]
  },
  {
   "cell_type": "code",
   "execution_count": 47,
   "id": "664070f2",
   "metadata": {},
   "outputs": [],
   "source": [
    "# Here is the result dataframe, it contains each property's index and its location\n",
    "# also the number of different buildings near them, as well as the distance to nearest buildings\n",
    "properties = properties.drop_duplicates(subset = 'index').set_index('index')"
   ]
  },
  {
   "cell_type": "code",
   "execution_count": 49,
   "id": "5c3e4027",
   "metadata": {},
   "outputs": [],
   "source": [
    "properties.to_csv('../data/curated/distance_to_property.csv', index = False)"
   ]
  },
  {
   "cell_type": "code",
   "execution_count": null,
   "id": "f42ac04c",
   "metadata": {},
   "outputs": [],
   "source": []
  }
 ],
 "metadata": {
  "kernelspec": {
   "display_name": "Python 3 (ipykernel)",
   "language": "python",
   "name": "python3"
  },
  "language_info": {
   "codemirror_mode": {
    "name": "ipython",
    "version": 3
   },
   "file_extension": ".py",
   "mimetype": "text/x-python",
   "name": "python",
   "nbconvert_exporter": "python",
   "pygments_lexer": "ipython3",
   "version": "3.10.4"
  }
 },
 "nbformat": 4,
 "nbformat_minor": 5
}
