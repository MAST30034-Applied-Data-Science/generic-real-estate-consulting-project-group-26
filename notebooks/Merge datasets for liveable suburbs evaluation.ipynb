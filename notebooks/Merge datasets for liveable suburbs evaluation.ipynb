{
 "cells": [
  {
   "cell_type": "code",
   "execution_count": 13,
   "metadata": {},
   "outputs": [],
   "source": [
    "# import required libries\n",
    "import pandas as pd\n",
    "\n",
    "# define required path\n",
    "raw_data = '../data/raw/'\n",
    "curated_data = '../data/curated/'"
   ]
  },
  {
   "cell_type": "code",
   "execution_count": 14,
   "metadata": {},
   "outputs": [],
   "source": [
    "# read in datasets\n",
    "shopping = pd.read_csv(curated_data + 'suburb_shopping.csv', index_col=0)\n",
    "population = pd.read_csv(curated_data + 'suburb_population.csv', index_col=0)\n",
    "crime = pd.read_csv(curated_data + 'crime2021.csv', index_col=0)\n",
    "passenger = pd.read_csv(curated_data + 'traffic_sum.csv', index_col=0)\n",
    "station = pd.read_csv(curated_data + 'traffic_count.csv', index_col=0)\n",
    "income = pd.read_csv(curated_data + 'suburb_income.csv', index_col=0)\n",
    "\n",
    "facilites = pd.read_csv(curated_data + 'facilites_suburb.csv', index_col=0)\n",
    "hospital = pd.read_csv(curated_data + 'hospital_suburb.csv', index_col=0)\n",
    "school = pd.read_csv(curated_data + 'school_suburb.csv', index_col=0)"
   ]
  },
  {
   "cell_type": "code",
   "execution_count": 15,
   "metadata": {},
   "outputs": [],
   "source": [
    "population = population[['Suburb', '2021']]\n",
    "crime = crime[['Suburb', 'crime_rate']]\n",
    "income = income[['Suburb', '2018_19_median']]"
   ]
  },
  {
   "cell_type": "code",
   "execution_count": 16,
   "metadata": {},
   "outputs": [],
   "source": [
    "shopping['suburb'] = shopping['suburb'].str.upper()\n",
    "passenger['Suburb'] = passenger['Suburb'].str.upper()\n",
    "hospital['Suburb'] = hospital['Suburb'].str.upper()\n",
    "station['Suburb'] = station['Suburb'].str.upper()"
   ]
  },
  {
   "cell_type": "code",
   "execution_count": 17,
   "metadata": {},
   "outputs": [],
   "source": [
    "suburb_merged = income.join(shopping.set_index('suburb'), on = 'Suburb')"
   ]
  },
  {
   "cell_type": "code",
   "execution_count": 18,
   "metadata": {},
   "outputs": [],
   "source": [
    "suburb_merged = suburb_merged.join(population.set_index('Suburb'), on = 'Suburb')"
   ]
  },
  {
   "cell_type": "code",
   "execution_count": 19,
   "metadata": {},
   "outputs": [],
   "source": [
    "suburb_merged = suburb_merged.join(crime.set_index('Suburb'), on = 'Suburb')"
   ]
  },
  {
   "cell_type": "code",
   "execution_count": 20,
   "metadata": {},
   "outputs": [],
   "source": [
    "suburb_merged = suburb_merged.join(passenger.set_index('Suburb'), on = 'Suburb')"
   ]
  },
  {
   "cell_type": "code",
   "execution_count": 21,
   "metadata": {},
   "outputs": [],
   "source": [
    "suburb_merged = suburb_merged.join(station.set_index('Suburb'), on = 'Suburb')"
   ]
  },
  {
   "cell_type": "code",
   "execution_count": 22,
   "metadata": {},
   "outputs": [],
   "source": [
    "suburb_merged = suburb_merged.join(facilites.set_index('Suburb'), on = 'Suburb')"
   ]
  },
  {
   "cell_type": "code",
   "execution_count": 23,
   "metadata": {},
   "outputs": [],
   "source": [
    "suburb_merged = suburb_merged.join(hospital.set_index('Suburb'), on = 'Suburb')"
   ]
  },
  {
   "cell_type": "code",
   "execution_count": 24,
   "metadata": {},
   "outputs": [],
   "source": [
    "suburb_merged = suburb_merged.join(school.set_index('Suburb'), on = 'Suburb')"
   ]
  },
  {
   "cell_type": "code",
   "execution_count": 25,
   "metadata": {},
   "outputs": [],
   "source": [
    "suburb_merged.columns = ['Suburb', '2018_income', 'shopping_count', 'population', 'crime_rate', 'num_passenger', 'num_station','num facilites','num hospital','num school']"
   ]
  },
  {
   "cell_type": "code",
   "execution_count": 27,
   "metadata": {},
   "outputs": [
    {
     "data": {
      "text/plain": [
       "Suburb               0\n",
       "2018_income          0\n",
       "shopping_count    3203\n",
       "population        2679\n",
       "crime_rate           1\n",
       "num_passenger     3172\n",
       "num_station       3172\n",
       "num facilites     2180\n",
       "num hospital      3153\n",
       "num school        2904\n",
       "dtype: int64"
      ]
     },
     "execution_count": 27,
     "metadata": {},
     "output_type": "execute_result"
    }
   ],
   "source": [
    "suburb_merged.isnull().sum()"
   ]
  },
  {
   "cell_type": "code",
   "execution_count": 28,
   "metadata": {},
   "outputs": [
    {
     "data": {
      "text/html": [
       "<div>\n",
       "<style scoped>\n",
       "    .dataframe tbody tr th:only-of-type {\n",
       "        vertical-align: middle;\n",
       "    }\n",
       "\n",
       "    .dataframe tbody tr th {\n",
       "        vertical-align: top;\n",
       "    }\n",
       "\n",
       "    .dataframe thead th {\n",
       "        text-align: right;\n",
       "    }\n",
       "</style>\n",
       "<table border=\"1\" class=\"dataframe\">\n",
       "  <thead>\n",
       "    <tr style=\"text-align: right;\">\n",
       "      <th></th>\n",
       "      <th>Suburb</th>\n",
       "      <th>2018_income</th>\n",
       "      <th>shopping_count</th>\n",
       "      <th>population</th>\n",
       "      <th>crime_rate</th>\n",
       "      <th>num_passenger</th>\n",
       "      <th>num_station</th>\n",
       "      <th>num facilites</th>\n",
       "      <th>num hospital</th>\n",
       "      <th>num school</th>\n",
       "    </tr>\n",
       "  </thead>\n",
       "  <tbody>\n",
       "    <tr>\n",
       "      <th>0</th>\n",
       "      <td>MELBOURNE</td>\n",
       "      <td>30024.0</td>\n",
       "      <td>26.0</td>\n",
       "      <td>43823.0</td>\n",
       "      <td>0.147173</td>\n",
       "      <td>NaN</td>\n",
       "      <td>NaN</td>\n",
       "      <td>23.0</td>\n",
       "      <td>5.0</td>\n",
       "      <td>6.0</td>\n",
       "    </tr>\n",
       "    <tr>\n",
       "      <th>1</th>\n",
       "      <td>EAST MELBOURNE</td>\n",
       "      <td>75755.0</td>\n",
       "      <td>NaN</td>\n",
       "      <td>4962.0</td>\n",
       "      <td>0.091946</td>\n",
       "      <td>358650.0</td>\n",
       "      <td>1.0</td>\n",
       "      <td>NaN</td>\n",
       "      <td>6.0</td>\n",
       "      <td>NaN</td>\n",
       "    </tr>\n",
       "    <tr>\n",
       "      <th>2</th>\n",
       "      <td>ST KILDA ROAD CENTRAL</td>\n",
       "      <td>70451.0</td>\n",
       "      <td>NaN</td>\n",
       "      <td>NaN</td>\n",
       "      <td>0.091946</td>\n",
       "      <td>NaN</td>\n",
       "      <td>NaN</td>\n",
       "      <td>NaN</td>\n",
       "      <td>NaN</td>\n",
       "      <td>NaN</td>\n",
       "    </tr>\n",
       "    <tr>\n",
       "      <th>3</th>\n",
       "      <td>ST KILDA ROAD MELBOURNE</td>\n",
       "      <td>70451.0</td>\n",
       "      <td>NaN</td>\n",
       "      <td>NaN</td>\n",
       "      <td>0.091946</td>\n",
       "      <td>NaN</td>\n",
       "      <td>NaN</td>\n",
       "      <td>NaN</td>\n",
       "      <td>NaN</td>\n",
       "      <td>NaN</td>\n",
       "    </tr>\n",
       "    <tr>\n",
       "      <th>4</th>\n",
       "      <td>WORLD TRADE CENTRE</td>\n",
       "      <td>55150.0</td>\n",
       "      <td>NaN</td>\n",
       "      <td>NaN</td>\n",
       "      <td>0.147173</td>\n",
       "      <td>NaN</td>\n",
       "      <td>NaN</td>\n",
       "      <td>NaN</td>\n",
       "      <td>NaN</td>\n",
       "      <td>NaN</td>\n",
       "    </tr>\n",
       "    <tr>\n",
       "      <th>...</th>\n",
       "      <td>...</td>\n",
       "      <td>...</td>\n",
       "      <td>...</td>\n",
       "      <td>...</td>\n",
       "      <td>...</td>\n",
       "      <td>...</td>\n",
       "      <td>...</td>\n",
       "      <td>...</td>\n",
       "      <td>...</td>\n",
       "      <td>...</td>\n",
       "    </tr>\n",
       "    <tr>\n",
       "      <th>3317</th>\n",
       "      <td>COLLINS STREET WEST</td>\n",
       "      <td>30024.0</td>\n",
       "      <td>NaN</td>\n",
       "      <td>NaN</td>\n",
       "      <td>0.091946</td>\n",
       "      <td>NaN</td>\n",
       "      <td>NaN</td>\n",
       "      <td>NaN</td>\n",
       "      <td>NaN</td>\n",
       "      <td>NaN</td>\n",
       "    </tr>\n",
       "    <tr>\n",
       "      <th>3318</th>\n",
       "      <td>FLINDERS LANE</td>\n",
       "      <td>30024.0</td>\n",
       "      <td>NaN</td>\n",
       "      <td>NaN</td>\n",
       "      <td>0.091946</td>\n",
       "      <td>NaN</td>\n",
       "      <td>NaN</td>\n",
       "      <td>NaN</td>\n",
       "      <td>NaN</td>\n",
       "      <td>NaN</td>\n",
       "    </tr>\n",
       "    <tr>\n",
       "      <th>3319</th>\n",
       "      <td>LAW COURTS</td>\n",
       "      <td>52984.0</td>\n",
       "      <td>NaN</td>\n",
       "      <td>NaN</td>\n",
       "      <td>0.091946</td>\n",
       "      <td>NaN</td>\n",
       "      <td>NaN</td>\n",
       "      <td>NaN</td>\n",
       "      <td>NaN</td>\n",
       "      <td>NaN</td>\n",
       "    </tr>\n",
       "    <tr>\n",
       "      <th>3320</th>\n",
       "      <td>LITTLE LONSDALE STREET</td>\n",
       "      <td>30024.0</td>\n",
       "      <td>NaN</td>\n",
       "      <td>NaN</td>\n",
       "      <td>0.091946</td>\n",
       "      <td>NaN</td>\n",
       "      <td>NaN</td>\n",
       "      <td>NaN</td>\n",
       "      <td>NaN</td>\n",
       "      <td>NaN</td>\n",
       "    </tr>\n",
       "    <tr>\n",
       "      <th>3321</th>\n",
       "      <td>NORTH POLE</td>\n",
       "      <td>30024.0</td>\n",
       "      <td>NaN</td>\n",
       "      <td>NaN</td>\n",
       "      <td>0.091946</td>\n",
       "      <td>NaN</td>\n",
       "      <td>NaN</td>\n",
       "      <td>NaN</td>\n",
       "      <td>NaN</td>\n",
       "      <td>NaN</td>\n",
       "    </tr>\n",
       "  </tbody>\n",
       "</table>\n",
       "<p>3322 rows × 10 columns</p>\n",
       "</div>"
      ],
      "text/plain": [
       "                       Suburb  2018_income  shopping_count  population  \\\n",
       "0                   MELBOURNE      30024.0            26.0     43823.0   \n",
       "1              EAST MELBOURNE      75755.0             NaN      4962.0   \n",
       "2       ST KILDA ROAD CENTRAL      70451.0             NaN         NaN   \n",
       "3     ST KILDA ROAD MELBOURNE      70451.0             NaN         NaN   \n",
       "4          WORLD TRADE CENTRE      55150.0             NaN         NaN   \n",
       "...                       ...          ...             ...         ...   \n",
       "3317      COLLINS STREET WEST      30024.0             NaN         NaN   \n",
       "3318            FLINDERS LANE      30024.0             NaN         NaN   \n",
       "3319               LAW COURTS      52984.0             NaN         NaN   \n",
       "3320   LITTLE LONSDALE STREET      30024.0             NaN         NaN   \n",
       "3321               NORTH POLE      30024.0             NaN         NaN   \n",
       "\n",
       "      crime_rate  num_passenger  num_station  num facilites  num hospital  \\\n",
       "0       0.147173            NaN          NaN           23.0           5.0   \n",
       "1       0.091946       358650.0          1.0            NaN           6.0   \n",
       "2       0.091946            NaN          NaN            NaN           NaN   \n",
       "3       0.091946            NaN          NaN            NaN           NaN   \n",
       "4       0.147173            NaN          NaN            NaN           NaN   \n",
       "...          ...            ...          ...            ...           ...   \n",
       "3317    0.091946            NaN          NaN            NaN           NaN   \n",
       "3318    0.091946            NaN          NaN            NaN           NaN   \n",
       "3319    0.091946            NaN          NaN            NaN           NaN   \n",
       "3320    0.091946            NaN          NaN            NaN           NaN   \n",
       "3321    0.091946            NaN          NaN            NaN           NaN   \n",
       "\n",
       "      num school  \n",
       "0            6.0  \n",
       "1            NaN  \n",
       "2            NaN  \n",
       "3            NaN  \n",
       "4            NaN  \n",
       "...          ...  \n",
       "3317         NaN  \n",
       "3318         NaN  \n",
       "3319         NaN  \n",
       "3320         NaN  \n",
       "3321         NaN  \n",
       "\n",
       "[3322 rows x 10 columns]"
      ]
     },
     "execution_count": 28,
     "metadata": {},
     "output_type": "execute_result"
    }
   ],
   "source": [
    "suburb_merged"
   ]
  }
 ],
 "metadata": {
  "kernelspec": {
   "display_name": "Python 3 (ipykernel)",
   "language": "python",
   "name": "python3"
  },
  "language_info": {
   "codemirror_mode": {
    "name": "ipython",
    "version": 3
   },
   "file_extension": ".py",
   "mimetype": "text/x-python",
   "name": "python",
   "nbconvert_exporter": "python",
   "pygments_lexer": "ipython3",
   "version": "3.9.12"
  },
  "vscode": {
   "interpreter": {
    "hash": "916dbcbb3f70747c44a77c7bcd40155683ae19c65e1c03b4aa3499c5328201f1"
   }
  }
 },
 "nbformat": 4,
 "nbformat_minor": 2
}
