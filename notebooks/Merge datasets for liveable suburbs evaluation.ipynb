{
 "cells": [
  {
   "cell_type": "code",
   "execution_count": 61,
   "metadata": {},
   "outputs": [],
   "source": [
    "# import required libries\n",
    "import pandas as pd\n",
    "\n",
    "# define required path\n",
    "raw_data = '../data/raw/'\n",
    "curated_data = '../data/curated/'"
   ]
  },
  {
   "cell_type": "code",
   "execution_count": 62,
   "metadata": {},
   "outputs": [],
   "source": [
    "# read in datasets\n",
    "shopping = pd.read_csv(curated_data + 'suburb_shopping.csv', index_col=0)\n",
    "population = pd.read_csv(curated_data + 'suburb_population.csv', index_col=0)\n",
    "crime = pd.read_csv(curated_data + 'crime2021.csv', index_col=0)\n",
    "passenger = pd.read_csv(curated_data + 'traffic_sum.csv', index_col=0)\n",
    "station = pd.read_csv(curated_data + 'traffic_count.csv', index_col=0)\n",
    "income = pd.read_csv(curated_data + 'suburb_income.csv', index_col=0)\n",
    "\n",
    "facilites = pd.read_csv(curated_data + 'facilites_suburb.csv', index_col=0)\n",
    "hospital = pd.read_csv(curated_data + 'hospital_suburb.csv', index_col=0)\n",
    "school = pd.read_csv(curated_data + 'school_suburb.csv', index_col=0)"
   ]
  },
  {
   "cell_type": "code",
   "execution_count": 63,
   "metadata": {},
   "outputs": [],
   "source": [
    "population = population[['Suburb', '2021']]\n",
    "crime = crime[['Suburb', 'crime_rate']]\n",
    "income = income[['Suburb', '2018_19_median']]"
   ]
  },
  {
   "cell_type": "code",
   "execution_count": 64,
   "metadata": {},
   "outputs": [],
   "source": [
    "# Tranfer all suburb columns to uppercase\n",
    "shopping['suburb'] = shopping['suburb'].str.upper()\n",
    "passenger['Suburb'] = passenger['Suburb'].str.upper()\n",
    "hospital['Suburb'] = hospital['Suburb'].str.upper()\n",
    "station['Suburb'] = station['Suburb'].str.upper()"
   ]
  },
  {
   "cell_type": "code",
   "execution_count": 65,
   "metadata": {},
   "outputs": [],
   "source": [
    "suburb_merged = income.join(shopping.set_index('suburb'), on = 'Suburb')"
   ]
  },
  {
   "cell_type": "code",
   "execution_count": 66,
   "metadata": {},
   "outputs": [],
   "source": [
    "suburb_merged = suburb_merged.join(population.set_index('Suburb'), on = 'Suburb')"
   ]
  },
  {
   "cell_type": "code",
   "execution_count": 67,
   "metadata": {},
   "outputs": [],
   "source": [
    "suburb_merged = suburb_merged.join(crime.set_index('Suburb'), on = 'Suburb')"
   ]
  },
  {
   "cell_type": "code",
   "execution_count": 68,
   "metadata": {},
   "outputs": [],
   "source": [
    "suburb_merged = suburb_merged.join(passenger.set_index('Suburb'), on = 'Suburb')"
   ]
  },
  {
   "cell_type": "code",
   "execution_count": 69,
   "metadata": {},
   "outputs": [],
   "source": [
    "suburb_merged = suburb_merged.join(station.set_index('Suburb'), on = 'Suburb')"
   ]
  },
  {
   "cell_type": "code",
   "execution_count": 70,
   "metadata": {},
   "outputs": [],
   "source": [
    "suburb_merged = suburb_merged.join(facilites.set_index('Suburb'), on = 'Suburb')"
   ]
  },
  {
   "cell_type": "code",
   "execution_count": 71,
   "metadata": {},
   "outputs": [],
   "source": [
    "suburb_merged = suburb_merged.join(hospital.set_index('Suburb'), on = 'Suburb')"
   ]
  },
  {
   "cell_type": "code",
   "execution_count": 72,
   "metadata": {},
   "outputs": [],
   "source": [
    "suburb_merged = suburb_merged.join(school.set_index('Suburb'), on = 'Suburb')"
   ]
  },
  {
   "cell_type": "code",
   "execution_count": 73,
   "metadata": {},
   "outputs": [],
   "source": [
    "suburb_merged.columns = ['Suburb', '2018_income', 'shopping_count', 'population', 'crime_rate', 'num_passenger', 'num_station','num facilites','num hospital','num school']"
   ]
  },
  {
   "cell_type": "code",
   "execution_count": 74,
   "metadata": {},
   "outputs": [
    {
     "data": {
      "text/plain": [
       "Suburb               0\n",
       "2018_income          0\n",
       "shopping_count    3203\n",
       "population        2679\n",
       "crime_rate           1\n",
       "num_passenger     3172\n",
       "num_station       3172\n",
       "num facilites     2180\n",
       "num hospital      3153\n",
       "num school        2904\n",
       "dtype: int64"
      ]
     },
     "execution_count": 74,
     "metadata": {},
     "output_type": "execute_result"
    }
   ],
   "source": [
    "suburb_merged.isnull().sum()"
   ]
  },
  {
   "cell_type": "code",
   "execution_count": 76,
   "metadata": {},
   "outputs": [],
   "source": [
    "suburb_merged.dropna(subset = [\"population\"], inplace=True)"
   ]
  },
  {
   "cell_type": "code",
   "execution_count": 80,
   "metadata": {},
   "outputs": [],
   "source": [
    "suburb_merged = suburb_merged.fillna(0)"
   ]
  },
  {
   "cell_type": "code",
   "execution_count": 82,
   "metadata": {},
   "outputs": [
    {
     "data": {
      "text/html": [
       "<div>\n",
       "<style scoped>\n",
       "    .dataframe tbody tr th:only-of-type {\n",
       "        vertical-align: middle;\n",
       "    }\n",
       "\n",
       "    .dataframe tbody tr th {\n",
       "        vertical-align: top;\n",
       "    }\n",
       "\n",
       "    .dataframe thead th {\n",
       "        text-align: right;\n",
       "    }\n",
       "</style>\n",
       "<table border=\"1\" class=\"dataframe\">\n",
       "  <thead>\n",
       "    <tr style=\"text-align: right;\">\n",
       "      <th></th>\n",
       "      <th>Suburb</th>\n",
       "      <th>2018_income</th>\n",
       "      <th>shopping_count</th>\n",
       "      <th>population</th>\n",
       "      <th>crime_rate</th>\n",
       "      <th>num_passenger</th>\n",
       "      <th>num_station</th>\n",
       "      <th>num facilites</th>\n",
       "      <th>num hospital</th>\n",
       "      <th>num school</th>\n",
       "    </tr>\n",
       "  </thead>\n",
       "  <tbody>\n",
       "    <tr>\n",
       "      <th>0</th>\n",
       "      <td>MELBOURNE</td>\n",
       "      <td>30024.0</td>\n",
       "      <td>26.0</td>\n",
       "      <td>43823.0</td>\n",
       "      <td>0.147173</td>\n",
       "      <td>0.0</td>\n",
       "      <td>0.0</td>\n",
       "      <td>23.0</td>\n",
       "      <td>5.0</td>\n",
       "      <td>6.0</td>\n",
       "    </tr>\n",
       "    <tr>\n",
       "      <th>1</th>\n",
       "      <td>EAST MELBOURNE</td>\n",
       "      <td>75755.0</td>\n",
       "      <td>0.0</td>\n",
       "      <td>4962.0</td>\n",
       "      <td>0.091946</td>\n",
       "      <td>358650.0</td>\n",
       "      <td>1.0</td>\n",
       "      <td>0.0</td>\n",
       "      <td>6.0</td>\n",
       "      <td>0.0</td>\n",
       "    </tr>\n",
       "    <tr>\n",
       "      <th>6</th>\n",
       "      <td>SOUTHBANK</td>\n",
       "      <td>65395.0</td>\n",
       "      <td>0.0</td>\n",
       "      <td>8505.0</td>\n",
       "      <td>0.083418</td>\n",
       "      <td>0.0</td>\n",
       "      <td>0.0</td>\n",
       "      <td>3.0</td>\n",
       "      <td>0.0</td>\n",
       "      <td>0.0</td>\n",
       "    </tr>\n",
       "    <tr>\n",
       "      <th>7</th>\n",
       "      <td>DOCKLANDS</td>\n",
       "      <td>55150.0</td>\n",
       "      <td>1.0</td>\n",
       "      <td>15942.0</td>\n",
       "      <td>0.147173</td>\n",
       "      <td>0.0</td>\n",
       "      <td>0.0</td>\n",
       "      <td>3.0</td>\n",
       "      <td>0.0</td>\n",
       "      <td>0.0</td>\n",
       "    </tr>\n",
       "    <tr>\n",
       "      <th>9</th>\n",
       "      <td>FOOTSCRAY</td>\n",
       "      <td>49243.0</td>\n",
       "      <td>2.0</td>\n",
       "      <td>17420.0</td>\n",
       "      <td>0.046509</td>\n",
       "      <td>2137800.0</td>\n",
       "      <td>2.0</td>\n",
       "      <td>12.0</td>\n",
       "      <td>7.0</td>\n",
       "      <td>2.0</td>\n",
       "    </tr>\n",
       "    <tr>\n",
       "      <th>...</th>\n",
       "      <td>...</td>\n",
       "      <td>...</td>\n",
       "      <td>...</td>\n",
       "      <td>...</td>\n",
       "      <td>...</td>\n",
       "      <td>...</td>\n",
       "      <td>...</td>\n",
       "      <td>...</td>\n",
       "      <td>...</td>\n",
       "      <td>...</td>\n",
       "    </tr>\n",
       "    <tr>\n",
       "      <th>3295</th>\n",
       "      <td>DALYSTON</td>\n",
       "      <td>39884.0</td>\n",
       "      <td>0.0</td>\n",
       "      <td>1670.0</td>\n",
       "      <td>0.055692</td>\n",
       "      <td>0.0</td>\n",
       "      <td>0.0</td>\n",
       "      <td>1.0</td>\n",
       "      <td>0.0</td>\n",
       "      <td>0.0</td>\n",
       "    </tr>\n",
       "    <tr>\n",
       "      <th>3300</th>\n",
       "      <td>CAPE PATERSON</td>\n",
       "      <td>39884.0</td>\n",
       "      <td>0.0</td>\n",
       "      <td>1670.0</td>\n",
       "      <td>0.038873</td>\n",
       "      <td>0.0</td>\n",
       "      <td>0.0</td>\n",
       "      <td>3.0</td>\n",
       "      <td>0.0</td>\n",
       "      <td>0.0</td>\n",
       "    </tr>\n",
       "    <tr>\n",
       "      <th>3305</th>\n",
       "      <td>NORTH WONTHAGGI</td>\n",
       "      <td>39884.0</td>\n",
       "      <td>0.0</td>\n",
       "      <td>1670.0</td>\n",
       "      <td>0.038873</td>\n",
       "      <td>0.0</td>\n",
       "      <td>0.0</td>\n",
       "      <td>0.0</td>\n",
       "      <td>0.0</td>\n",
       "      <td>0.0</td>\n",
       "    </tr>\n",
       "    <tr>\n",
       "      <th>3310</th>\n",
       "      <td>WONTHAGGI</td>\n",
       "      <td>39884.0</td>\n",
       "      <td>0.0</td>\n",
       "      <td>8350.0</td>\n",
       "      <td>0.038873</td>\n",
       "      <td>0.0</td>\n",
       "      <td>0.0</td>\n",
       "      <td>10.0</td>\n",
       "      <td>1.0</td>\n",
       "      <td>1.0</td>\n",
       "    </tr>\n",
       "    <tr>\n",
       "      <th>3312</th>\n",
       "      <td>INVERLOCH</td>\n",
       "      <td>39884.0</td>\n",
       "      <td>0.0</td>\n",
       "      <td>5010.0</td>\n",
       "      <td>0.038873</td>\n",
       "      <td>0.0</td>\n",
       "      <td>0.0</td>\n",
       "      <td>8.0</td>\n",
       "      <td>0.0</td>\n",
       "      <td>0.0</td>\n",
       "    </tr>\n",
       "  </tbody>\n",
       "</table>\n",
       "<p>643 rows × 10 columns</p>\n",
       "</div>"
      ],
      "text/plain": [
       "               Suburb  2018_income  shopping_count  population  crime_rate  \\\n",
       "0           MELBOURNE      30024.0            26.0     43823.0    0.147173   \n",
       "1      EAST MELBOURNE      75755.0             0.0      4962.0    0.091946   \n",
       "6           SOUTHBANK      65395.0             0.0      8505.0    0.083418   \n",
       "7           DOCKLANDS      55150.0             1.0     15942.0    0.147173   \n",
       "9           FOOTSCRAY      49243.0             2.0     17420.0    0.046509   \n",
       "...               ...          ...             ...         ...         ...   \n",
       "3295         DALYSTON      39884.0             0.0      1670.0    0.055692   \n",
       "3300    CAPE PATERSON      39884.0             0.0      1670.0    0.038873   \n",
       "3305  NORTH WONTHAGGI      39884.0             0.0      1670.0    0.038873   \n",
       "3310        WONTHAGGI      39884.0             0.0      8350.0    0.038873   \n",
       "3312        INVERLOCH      39884.0             0.0      5010.0    0.038873   \n",
       "\n",
       "      num_passenger  num_station  num facilites  num hospital  num school  \n",
       "0               0.0          0.0           23.0           5.0         6.0  \n",
       "1          358650.0          1.0            0.0           6.0         0.0  \n",
       "6               0.0          0.0            3.0           0.0         0.0  \n",
       "7               0.0          0.0            3.0           0.0         0.0  \n",
       "9         2137800.0          2.0           12.0           7.0         2.0  \n",
       "...             ...          ...            ...           ...         ...  \n",
       "3295            0.0          0.0            1.0           0.0         0.0  \n",
       "3300            0.0          0.0            3.0           0.0         0.0  \n",
       "3305            0.0          0.0            0.0           0.0         0.0  \n",
       "3310            0.0          0.0           10.0           1.0         1.0  \n",
       "3312            0.0          0.0            8.0           0.0         0.0  \n",
       "\n",
       "[643 rows x 10 columns]"
      ]
     },
     "execution_count": 82,
     "metadata": {},
     "output_type": "execute_result"
    }
   ],
   "source": [
    "suburb_merged"
   ]
  }
 ],
 "metadata": {
  "kernelspec": {
   "display_name": "Python 3 (ipykernel)",
   "language": "python",
   "name": "python3"
  },
  "language_info": {
   "codemirror_mode": {
    "name": "ipython",
    "version": 3
   },
   "file_extension": ".py",
   "mimetype": "text/x-python",
   "name": "python",
   "nbconvert_exporter": "python",
   "pygments_lexer": "ipython3",
   "version": "3.9.12"
  },
  "vscode": {
   "interpreter": {
    "hash": "916dbcbb3f70747c44a77c7bcd40155683ae19c65e1c03b4aa3499c5328201f1"
   }
  }
 },
 "nbformat": 4,
 "nbformat_minor": 2
}
