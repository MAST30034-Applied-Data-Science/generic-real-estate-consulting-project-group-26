{
 "cells": [
  {
   "cell_type": "code",
   "execution_count": 13,
   "id": "a849bcba",
   "metadata": {},
   "outputs": [],
   "source": [
    "from urllib.request import urlretrieve\n",
    "import requests\n",
    "from bs4 import BeautifulSoup\n",
    "from urllib.request import urlopen\n",
    "import pandas as pd"
   ]
  },
  {
   "cell_type": "code",
   "execution_count": 3,
   "id": "d13a47df",
   "metadata": {},
   "outputs": [],
   "source": [
    "URL = \"https://www.matthewproctor.com/full_australian_postcodes_vic\"\n",
    "bs_object = BeautifulSoup(requests.get(URL).text, \"html.parser\")"
   ]
  },
  {
   "cell_type": "code",
   "execution_count": 12,
   "id": "f5cac612",
   "metadata": {},
   "outputs": [],
   "source": [
    "table = bs_object.find(\"table\", {\"class\": \"table table-striped\"})\n",
    "suburb_list = []\n",
    "for row in table.findAll('tr')[1:]:    \n",
    "    columns = row.find_all('td')\n",
    "    postcode = columns[1].text.strip()\n",
    "    name = columns[2].text.strip()\n",
    "    LGA = columns[29].text.strip()\n",
    "    suburb_list.append([postcode, name, LGA])"
   ]
  },
  {
   "cell_type": "code",
   "execution_count": 15,
   "id": "d25a8c3d",
   "metadata": {},
   "outputs": [],
   "source": [
    "suburb_df = pd.DataFrame(suburb_list, columns = [\"Postcode\",\"Suburb\",\"LGA\"])"
   ]
  },
  {
   "cell_type": "code",
   "execution_count": 16,
   "id": "e240035e",
   "metadata": {},
   "outputs": [
    {
     "data": {
      "text/html": [
       "<div>\n",
       "<style scoped>\n",
       "    .dataframe tbody tr th:only-of-type {\n",
       "        vertical-align: middle;\n",
       "    }\n",
       "\n",
       "    .dataframe tbody tr th {\n",
       "        vertical-align: top;\n",
       "    }\n",
       "\n",
       "    .dataframe thead th {\n",
       "        text-align: right;\n",
       "    }\n",
       "</style>\n",
       "<table border=\"1\" class=\"dataframe\">\n",
       "  <thead>\n",
       "    <tr style=\"text-align: right;\">\n",
       "      <th></th>\n",
       "      <th>Postcode</th>\n",
       "      <th>Suburb</th>\n",
       "      <th>LGA</th>\n",
       "    </tr>\n",
       "  </thead>\n",
       "  <tbody>\n",
       "    <tr>\n",
       "      <th>0</th>\n",
       "      <td>3000</td>\n",
       "      <td>MELBOURNE</td>\n",
       "      <td>Melbourne</td>\n",
       "    </tr>\n",
       "    <tr>\n",
       "      <th>1</th>\n",
       "      <td>3001</td>\n",
       "      <td>MELBOURNE</td>\n",
       "      <td>Moonee Valley</td>\n",
       "    </tr>\n",
       "    <tr>\n",
       "      <th>2</th>\n",
       "      <td>3002</td>\n",
       "      <td>EAST MELBOURNE</td>\n",
       "      <td>Yarra</td>\n",
       "    </tr>\n",
       "    <tr>\n",
       "      <th>3</th>\n",
       "      <td>3003</td>\n",
       "      <td>WEST MELBOURNE</td>\n",
       "      <td>Melbourne</td>\n",
       "    </tr>\n",
       "    <tr>\n",
       "      <th>4</th>\n",
       "      <td>3004</td>\n",
       "      <td>MELBOURNE</td>\n",
       "      <td>Yarra</td>\n",
       "    </tr>\n",
       "    <tr>\n",
       "      <th>...</th>\n",
       "      <td>...</td>\n",
       "      <td>...</td>\n",
       "      <td>...</td>\n",
       "    </tr>\n",
       "    <tr>\n",
       "      <th>3529</th>\n",
       "      <td>8111</td>\n",
       "      <td>MELBOURNE</td>\n",
       "      <td>Yarra</td>\n",
       "    </tr>\n",
       "    <tr>\n",
       "      <th>3530</th>\n",
       "      <td>8120</td>\n",
       "      <td>MELBOURNE</td>\n",
       "      <td>Yarra</td>\n",
       "    </tr>\n",
       "    <tr>\n",
       "      <th>3531</th>\n",
       "      <td>8205</td>\n",
       "      <td>MELBOURNE</td>\n",
       "      <td>Yarra</td>\n",
       "    </tr>\n",
       "    <tr>\n",
       "      <th>3532</th>\n",
       "      <td>8785</td>\n",
       "      <td>DANDENONG</td>\n",
       "      <td>Monash</td>\n",
       "    </tr>\n",
       "    <tr>\n",
       "      <th>3533</th>\n",
       "      <td>9999</td>\n",
       "      <td>NORTH POLE</td>\n",
       "      <td>Yarra</td>\n",
       "    </tr>\n",
       "  </tbody>\n",
       "</table>\n",
       "<p>3534 rows × 3 columns</p>\n",
       "</div>"
      ],
      "text/plain": [
       "     Postcode          Suburb            LGA\n",
       "0        3000       MELBOURNE      Melbourne\n",
       "1        3001       MELBOURNE  Moonee Valley\n",
       "2        3002  EAST MELBOURNE          Yarra\n",
       "3        3003  WEST MELBOURNE      Melbourne\n",
       "4        3004       MELBOURNE          Yarra\n",
       "...       ...             ...            ...\n",
       "3529     8111       MELBOURNE          Yarra\n",
       "3530     8120       MELBOURNE          Yarra\n",
       "3531     8205       MELBOURNE          Yarra\n",
       "3532     8785       DANDENONG         Monash\n",
       "3533     9999      NORTH POLE          Yarra\n",
       "\n",
       "[3534 rows x 3 columns]"
      ]
     },
     "execution_count": 16,
     "metadata": {},
     "output_type": "execute_result"
    }
   ],
   "source": [
    "suburb_df"
   ]
  },
  {
   "cell_type": "code",
   "execution_count": 17,
   "id": "3988c66d",
   "metadata": {},
   "outputs": [],
   "source": [
    "suburb_df.to_csv('../data/raw/suburb.csv')"
   ]
  },
  {
   "cell_type": "code",
   "execution_count": null,
   "id": "fad4259d",
   "metadata": {},
   "outputs": [],
   "source": []
  }
 ],
 "metadata": {
  "kernelspec": {
   "display_name": "Python 3 (ipykernel)",
   "language": "python",
   "name": "python3"
  },
  "language_info": {
   "codemirror_mode": {
    "name": "ipython",
    "version": 3
   },
   "file_extension": ".py",
   "mimetype": "text/x-python",
   "name": "python",
   "nbconvert_exporter": "python",
   "pygments_lexer": "ipython3",
   "version": "3.10.4"
  }
 },
 "nbformat": 4,
 "nbformat_minor": 5
}
