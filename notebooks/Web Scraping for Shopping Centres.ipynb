{
 "cells": [
  {
   "cell_type": "code",
   "execution_count": 1,
   "id": "7c697cb5",
   "metadata": {},
   "outputs": [],
   "source": [
    "import re\n",
    "from json import dump\n",
    "import requests\n",
    "\n",
    "from collections import defaultdict\n",
    "\n",
    "# user packages\n",
    "from bs4 import BeautifulSoup\n",
    "from urllib.request import urlopen"
   ]
  },
  {
   "cell_type": "code",
   "execution_count": 2,
   "id": "47518115",
   "metadata": {},
   "outputs": [],
   "source": [
    "url = \"https://www.australia-shoppings.com/malls-centres/victoria\"\n",
    "shopping_metadata = defaultdict(dict)\n",
    "bs_object = BeautifulSoup(requests.get(url).text, \"html.parser\")"
   ]
  },
  {
   "cell_type": "code",
   "execution_count": 3,
   "id": "d8360202",
   "metadata": {},
   "outputs": [],
   "source": [
    "shopping_list = bs_object.find(\"ul\" , {\"class\": \"malls-list\"})\n",
    "pattern = r\"(-?\\d+(\\.\\d+)?),\\s*(-?\\d+(\\.\\d+)?)\"\n",
    "for li in shopping_list.find_all(\"li\"):\n",
    "    name = li.find(\"h3\",{\"class\": \"tit\"}).text.strip()\n",
    "    addr = li.find(\"p\", {\"class\":\"st\"})\n",
    "    match = re.findall(pattern, addr.text)\n",
    "    coordinate = [float(match[0][0]),float(match[0][2])]\n",
    "    shopping_metadata[name] = coordinate"
   ]
  },
  {
   "cell_type": "code",
   "execution_count": 80,
   "id": "d3709f42",
   "metadata": {},
   "outputs": [],
   "source": [
    "with open('../data/raw/shopping_centre.json', 'w') as f:\n",
    "    dump(shopping_metadata, f)"
   ]
  },
  {
   "cell_type": "code",
   "execution_count": null,
   "id": "71fb195f",
   "metadata": {},
   "outputs": [],
   "source": []
  }
 ],
 "metadata": {
  "kernelspec": {
   "display_name": "Python 3 (ipykernel)",
   "language": "python",
   "name": "python3"
  },
  "language_info": {
   "codemirror_mode": {
    "name": "ipython",
    "version": 3
   },
   "file_extension": ".py",
   "mimetype": "text/x-python",
   "name": "python",
   "nbconvert_exporter": "python",
   "pygments_lexer": "ipython3",
   "version": "3.10.4"
  }
 },
 "nbformat": 4,
 "nbformat_minor": 5
}
