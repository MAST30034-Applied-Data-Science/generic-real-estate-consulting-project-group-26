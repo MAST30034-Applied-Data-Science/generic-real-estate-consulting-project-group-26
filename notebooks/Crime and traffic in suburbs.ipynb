{
 "cells": [
  {
   "cell_type": "code",
   "execution_count": 1,
   "metadata": {},
   "outputs": [],
   "source": [
    "# import required libries\n",
    "import pandas as pd\n",
    "\n",
    "# define required path\n",
    "raw_data = '../data/raw/'\n",
    "curated_data = '../data/curated/'"
   ]
  },
  {
   "cell_type": "code",
   "execution_count": 2,
   "metadata": {},
   "outputs": [],
   "source": [
    "# read in dataset\n",
    "crime = pd.read_csv(curated_data + 'crime_rate.csv')\n",
    "suburb = pd.read_csv(curated_data + 'suburb.csv')\n",
    "traffic = pd.read_csv(curated_data + 'traffic_dataset.csv')"
   ]
  },
  {
   "cell_type": "code",
   "execution_count": 3,
   "metadata": {},
   "outputs": [],
   "source": [
    "# discard duplicate index\n",
    "del crime['Unnamed: 0']\n",
    "del suburb['Unnamed: 0']\n",
    "del traffic['Unnamed: 0']"
   ]
  },
  {
   "cell_type": "code",
   "execution_count": 4,
   "metadata": {},
   "outputs": [],
   "source": [
    "# drop total data\n",
    "crime = crime.loc[crime[\"Local Government Area\"] != 'Total']"
   ]
  },
  {
   "cell_type": "code",
   "execution_count": 5,
   "metadata": {},
   "outputs": [],
   "source": [
    "# drop duplicate suburbs\n",
    "suburb['Suburb'] = suburb['Suburb'].drop_duplicates()\n",
    "suburb = suburb.dropna()"
   ]
  },
  {
   "cell_type": "code",
   "execution_count": 6,
   "metadata": {},
   "outputs": [],
   "source": [
    "# select crime rate in 2021\n",
    "crime = crime.loc[crime['Year'] == 2021]"
   ]
  },
  {
   "cell_type": "code",
   "execution_count": 7,
   "metadata": {},
   "outputs": [],
   "source": [
    "# preprocessing the column to drop space\n",
    "crime['Local Government Area'] = crime['Local Government Area'].str[1:]"
   ]
  },
  {
   "cell_type": "code",
   "execution_count": 8,
   "metadata": {},
   "outputs": [],
   "source": [
    "# left join crime dataset to suburb dataset\n",
    "crime2021 = suburb[['Suburb','LGA']].join(crime[['Local Government Area','crime_rate']].set_index('Local Government Area'), \\\n",
    "    on = 'LGA').reset_index(drop=True)"
   ]
  },
  {
   "cell_type": "code",
   "execution_count": 9,
   "metadata": {},
   "outputs": [],
   "source": [
    "crime2021.to_csv(curated_data + 'crime2021.csv')"
   ]
  },
  {
   "cell_type": "code",
   "execution_count": 10,
   "metadata": {},
   "outputs": [],
   "source": [
    "# extract suburb from stop name\n",
    "traffic['Suburb'] = traffic['STOP_NAME'].str.extract(r\"\\(([A-Za-z ]+)\\)\", expand=False)"
   ]
  },
  {
   "cell_type": "code",
   "execution_count": 11,
   "metadata": {},
   "outputs": [],
   "source": [
    "# calculate the number of station each suburb\n",
    "traffic_count = traffic.groupby(['Suburb'], as_index=False)['STOP_ID'].count()"
   ]
  },
  {
   "cell_type": "code",
   "execution_count": 12,
   "metadata": {},
   "outputs": [],
   "source": [
    "traffic_count.columns = ['Suburb','traffic_count']"
   ]
  },
  {
   "cell_type": "code",
   "execution_count": 13,
   "metadata": {},
   "outputs": [],
   "source": [
    "# calculate the annual traffic\n",
    "traffic_sum = traffic.groupby(['Suburb'], as_index=False)['Pax_annual'].sum()"
   ]
  },
  {
   "cell_type": "code",
   "execution_count": 14,
   "metadata": {},
   "outputs": [],
   "source": [
    "traffic_sum.columns = ['Suburb','traffic_sum']"
   ]
  },
  {
   "cell_type": "code",
   "execution_count": 61,
   "metadata": {},
   "outputs": [],
   "source": [
    "traffic_count.to_csv(curated_data + 'traffic_count.csv')\n",
    "traffic_sum.to_csv(curated_data + 'traffic_sum.csv')"
   ]
  }
 ],
 "metadata": {
  "kernelspec": {
   "display_name": "Python 3.8.10 64-bit",
   "language": "python",
   "name": "python3"
  },
  "language_info": {
   "codemirror_mode": {
    "name": "ipython",
    "version": 3
   },
   "file_extension": ".py",
   "mimetype": "text/x-python",
   "name": "python",
   "nbconvert_exporter": "python",
   "pygments_lexer": "ipython3",
   "version": "3.8.10"
  },
  "orig_nbformat": 4,
  "vscode": {
   "interpreter": {
    "hash": "916dbcbb3f70747c44a77c7bcd40155683ae19c65e1c03b4aa3499c5328201f1"
   }
  }
 },
 "nbformat": 4,
 "nbformat_minor": 2
}
