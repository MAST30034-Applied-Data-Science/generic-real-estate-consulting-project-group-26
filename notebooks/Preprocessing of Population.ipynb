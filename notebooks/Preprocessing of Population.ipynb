{
 "cells": [
  {
   "cell_type": "code",
   "execution_count": 191,
   "metadata": {},
   "outputs": [],
   "source": [
    "# import required libries\n",
    "import os\n",
    "import numpy as np\n",
    "import spicy as sp\n",
    "import pandas as pd\n",
    "\n",
    "# define required path\n",
    "raw_data = '../data/raw/'\n",
    "curated_data = '../data/curated/'"
   ]
  },
  {
   "cell_type": "code",
   "execution_count": 192,
   "metadata": {},
   "outputs": [],
   "source": [
    "# read in dataset\n",
    "popu = pd.read_csv(raw_data + 'population.csv', index_col=0)"
   ]
  },
  {
   "cell_type": "code",
   "execution_count": 193,
   "metadata": {},
   "outputs": [],
   "source": [
    "required = ['SA2_code', '2021']\n",
    "popu_sa2 = popu[required]"
   ]
  },
  {
   "cell_type": "code",
   "execution_count": 194,
   "metadata": {},
   "outputs": [],
   "source": [
    "# Select data in Victoria\n",
    "popu = popu.loc[(popu['SA2_code'].astype(int)>199999999) & (popu['SA2_code'].astype(int)<300000000)]\n",
    "popu_sa2 = popu_sa2.loc[(popu_sa2['SA2_code'].astype(int)>199999999) & (popu_sa2['SA2_code'].astype(int)<300000000)]"
   ]
  },
  {
   "cell_type": "code",
   "execution_count": 195,
   "metadata": {},
   "outputs": [],
   "source": [
    "popu_sa2.to_csv(curated_data + 'population.csv')"
   ]
  },
  {
   "cell_type": "code",
   "execution_count": 196,
   "metadata": {},
   "outputs": [],
   "source": [
    "suburb = pd.read_csv(raw_data + 'suburb.csv', index_col=0)"
   ]
  },
  {
   "cell_type": "code",
   "execution_count": 197,
   "metadata": {},
   "outputs": [],
   "source": [
    "# drop duplicate suburbs\n",
    "suburb['Suburb'] = suburb['Suburb'].drop_duplicates()\n",
    "suburb = suburb.dropna()"
   ]
  },
  {
   "cell_type": "code",
   "execution_count": 198,
   "metadata": {},
   "outputs": [],
   "source": [
    "# read in dataset\n",
    "properties = pd.read_csv(curated_data + 'properties.csv')"
   ]
  },
  {
   "cell_type": "code",
   "execution_count": 199,
   "metadata": {},
   "outputs": [],
   "source": [
    "# calcuate the number of suburbs in properties\n",
    "suburb_count = properties.groupby(['suburb'],as_index=False)['name'].count()\n",
    "suburb_count.columns = ['suburb', 'count']"
   ]
  },
  {
   "cell_type": "code",
   "execution_count": 200,
   "metadata": {},
   "outputs": [],
   "source": [
    "# prepare for joining\n",
    "suburb_count['suburb'] = suburb_count['suburb'].str.upper()"
   ]
  },
  {
   "cell_type": "code",
   "execution_count": 201,
   "metadata": {},
   "outputs": [],
   "source": [
    "# join the suburb and dataset with sa2\n",
    "suburb_count = suburb[['Suburb', 'SA2_code']].join(suburb_count.set_index('suburb'), on = 'Suburb').dropna().reset_index(drop=True)"
   ]
  },
  {
   "cell_type": "code",
   "execution_count": 202,
   "metadata": {},
   "outputs": [],
   "source": [
    "# calculate the number of properties in each sa2 area\n",
    "sa2_count = suburb_count.groupby(['SA2_code'], as_index=False).sum()\n",
    "sa2_count.columns = ['SA2_code', 'sum']"
   ]
  },
  {
   "cell_type": "code",
   "execution_count": 203,
   "metadata": {},
   "outputs": [],
   "source": [
    "# merge the sum of sa2 properties data\n",
    "suburb_count = suburb_count.join(sa2_count.set_index('SA2_code'), on = 'SA2_code')"
   ]
  },
  {
   "cell_type": "code",
   "execution_count": 204,
   "metadata": {},
   "outputs": [],
   "source": [
    "# calculate the properties proportions of suburbs\n",
    "suburb_count['popu_ratio'] = suburb_count['count'] / suburb_count['sum']"
   ]
  },
  {
   "cell_type": "code",
   "execution_count": 205,
   "metadata": {},
   "outputs": [],
   "source": [
    "# merge the population dataframe\n",
    "suburb_popu = suburb_count.join(popu.set_index('SA2_code'), on = 'SA2_code')"
   ]
  },
  {
   "cell_type": "code",
   "execution_count": 206,
   "metadata": {},
   "outputs": [],
   "source": [
    "# calculate population of suburbs according to the properties ratio\n",
    "suburb_popu.iloc[:, 6:] = suburb_popu.iloc[:, 6:].multiply(suburb_popu['popu_ratio'], axis=\"index\").astype(int)"
   ]
  },
  {
   "cell_type": "code",
   "execution_count": 207,
   "metadata": {},
   "outputs": [],
   "source": [
    "# discard columns that not required\n",
    "suburb_popu = suburb_popu.drop(['SA2_code', 'SA2_name', 'count', 'sum', 'popu_ratio', 'Area', 'Population_density_2021'], axis=1)"
   ]
  },
  {
   "cell_type": "code",
   "execution_count": 208,
   "metadata": {},
   "outputs": [],
   "source": [
    "popu_2021 = suburb_popu[['Suburb','2021']]"
   ]
  },
  {
   "cell_type": "code",
   "execution_count": 209,
   "metadata": {},
   "outputs": [],
   "source": [
    "popu_2021.columns = ['Suburb','2021_population']"
   ]
  },
  {
   "cell_type": "code",
   "execution_count": 210,
   "metadata": {},
   "outputs": [],
   "source": [
    "# idea from https://stackoverflow.com/questions/39772896/add-prefix-to-specific-columns-of-dataframe\n",
    "new_names = [(i,i+'_population') for i in suburb_popu.iloc[:, 1:].columns.values]\n",
    "suburb_popu.rename(columns = dict(new_names), inplace=True)"
   ]
  },
  {
   "cell_type": "code",
   "execution_count": 211,
   "metadata": {},
   "outputs": [],
   "source": [
    "popu_2021.to_csv(curated_data + 'suburb_population2021.csv', index = False)"
   ]
  },
  {
   "cell_type": "code",
   "execution_count": 213,
   "metadata": {},
   "outputs": [],
   "source": [
    "suburb_popu.to_csv(curated_data + 'suburb_population2001-2021.csv', index = False)"
   ]
  }
 ],
 "metadata": {
  "kernelspec": {
   "display_name": "Python 3.8.10 64-bit",
   "language": "python",
   "name": "python3"
  },
  "language_info": {
   "codemirror_mode": {
    "name": "ipython",
    "version": 3
   },
   "file_extension": ".py",
   "mimetype": "text/x-python",
   "name": "python",
   "nbconvert_exporter": "python",
   "pygments_lexer": "ipython3",
   "version": "3.8.10"
  },
  "orig_nbformat": 4,
  "vscode": {
   "interpreter": {
    "hash": "916dbcbb3f70747c44a77c7bcd40155683ae19c65e1c03b4aa3499c5328201f1"
   }
  }
 },
 "nbformat": 4,
 "nbformat_minor": 2
}
