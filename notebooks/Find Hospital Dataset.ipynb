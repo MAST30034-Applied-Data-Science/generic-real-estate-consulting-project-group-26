{
 "cells": [
  {
   "cell_type": "code",
   "execution_count": 4,
   "id": "a2bbd6f4",
   "metadata": {},
   "outputs": [],
   "source": [
    "from urllib.request import urlretrieve\n",
    "import pandas as pd"
   ]
  },
  {
   "cell_type": "code",
   "execution_count": 2,
   "id": "98e2d612",
   "metadata": {},
   "outputs": [
    {
     "data": {
      "text/plain": [
       "('../data/raw/hospitals.csv', <http.client.HTTPMessage at 0x7fc8f831eb30>)"
      ]
     },
     "execution_count": 2,
     "metadata": {},
     "output_type": "execute_result"
    }
   ],
   "source": [
    "output_hospital = '../data/raw/hospitals.csv'\n",
    "url = 'https://springernature.figshare.com/ndownloader/files/15591434'\n",
    "urlretrieve(url, output_hospital)"
   ]
  },
  {
   "cell_type": "code",
   "execution_count": 13,
   "id": "4af3e93d",
   "metadata": {},
   "outputs": [],
   "source": [
    "hospitals = pd.read_csv(\"../data/raw/hospitals.csv\",encoding='cp1252')"
   ]
  },
  {
   "cell_type": "code",
   "execution_count": 16,
   "id": "475addfc",
   "metadata": {
    "scrolled": false
   },
   "outputs": [],
   "source": [
    "hospitals_vic = hospitals[hospitals[\"State\"] == \"Vic\"]"
   ]
  },
  {
   "cell_type": "code",
   "execution_count": 18,
   "id": "4842b3e3",
   "metadata": {},
   "outputs": [],
   "source": [
    "hospitals_select = hospitals_vic[[\"Hospital name\", \"Suburb\", \"Latitude\" ,\"Longitude\"]]"
   ]
  },
  {
   "cell_type": "code",
   "execution_count": 19,
   "id": "4b7f0fe9",
   "metadata": {},
   "outputs": [],
   "source": [
    "hospitals_select.to_csv(\"../data/curated/hospitals_vic.csv\")"
   ]
  },
  {
   "cell_type": "code",
   "execution_count": null,
   "id": "fc7aca3e",
   "metadata": {},
   "outputs": [],
   "source": []
  }
 ],
 "metadata": {
  "kernelspec": {
   "display_name": "Python 3 (ipykernel)",
   "language": "python",
   "name": "python3"
  },
  "language_info": {
   "codemirror_mode": {
    "name": "ipython",
    "version": 3
   },
   "file_extension": ".py",
   "mimetype": "text/x-python",
   "name": "python",
   "nbconvert_exporter": "python",
   "pygments_lexer": "ipython3",
   "version": "3.10.4"
  }
 },
 "nbformat": 4,
 "nbformat_minor": 5
}
