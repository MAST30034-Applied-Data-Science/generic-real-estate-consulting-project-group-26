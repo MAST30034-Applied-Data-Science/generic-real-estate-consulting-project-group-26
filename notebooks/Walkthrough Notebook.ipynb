{
 "cells": [
  {
   "cell_type": "markdown",
   "id": "6c7f78ab",
   "metadata": {},
   "source": [
    "### Data Scraping:\n",
    "Below are the notebooks we used for scraping data, all of them are done using script instead of manually downloading. \\\n",
    "\\\n",
    "Web Scraping for Properties \\\n",
    "Web Scraping for Shopping Centres \\\n",
    "Web Scraping for Suburbs-LGA-SA2 Mapping \\\n",
    "ABS Dataset \\\n",
    "Find Hospital and Entertainment Facilities Dataset "
   ]
  },
  {
   "cell_type": "markdown",
   "id": "bae26efb",
   "metadata": {},
   "source": [
    "### Preprocessing:\n",
    "Below are the notebooks for preprocessing, mainly deal with missing values, and use techniques to extract useful information from raw data \\\n",
    "\\\n",
    "Preprocessing of Income \\\n",
    "Preprocessing of Population \\\n",
    "Preprocessing of Property Dataset \\\n",
    "Preprocessing of School Locations \\\n",
    "crime_rate \\\n",
    "Preprocess_crime_rate \\\n",
    "preprocess_traffic \\\n",
    "Preprocess for annual rent "
   ]
  },
  {
   "cell_type": "markdown",
   "id": "eb37f4cd",
   "metadata": {},
   "source": [
    "### Feature Engineering:\n",
    "Calculate Straight Distances \\\n",
    "Count for Facilites, Hospital, School by suburb \\\n",
    "Crime each suburb \\\n",
    "Crime traffic, and income in suburbs \\\n",
    "Merge dataset for Q2 \\\n",
    "Merge datasets for liveable suburbs evaluation \\\n",
    "Shopping central in suburbs \\\n",
    "Use API to Get Route Distance(irreproducible)"
   ]
  },
  {
   "cell_type": "markdown",
   "id": "4b5fa7d9",
   "metadata": {},
   "source": [
    "### Modelling:\n",
    "#### Q1:\n",
    "- Plot the distributions and correlation of attributes\n",
    "- Apply data transformations\n",
    "- Use stepwise selection to build statistic model\n",
    "\n",
    "#### Q2:\n",
    "- Use rental price, population, income to measure suburb growth\n",
    "- Build time series model using Auto Regression, use data from earliest recorded time to 2018 for consistency\n",
    "- Predict values of these data for each suburb in 2025 and rank them\n",
    "- Use the average rank of three attributes as the final ranking of suburb"
   ]
  },
  {
   "cell_type": "code",
   "execution_count": null,
   "id": "af1c86ea",
   "metadata": {},
   "outputs": [],
   "source": []
  },
  {
   "cell_type": "code",
   "execution_count": null,
   "id": "f5294cf3",
   "metadata": {},
   "outputs": [],
   "source": []
  },
  {
   "cell_type": "code",
   "execution_count": null,
   "id": "f1da0552",
   "metadata": {},
   "outputs": [],
   "source": []
  }
 ],
 "metadata": {
  "kernelspec": {
   "display_name": "Python 3 (ipykernel)",
   "language": "python",
   "name": "python3"
  },
  "language_info": {
   "codemirror_mode": {
    "name": "ipython",
    "version": 3
   },
   "file_extension": ".py",
   "mimetype": "text/x-python",
   "name": "python",
   "nbconvert_exporter": "python",
   "pygments_lexer": "ipython3",
   "version": "3.10.4"
  }
 },
 "nbformat": 4,
 "nbformat_minor": 5
}
