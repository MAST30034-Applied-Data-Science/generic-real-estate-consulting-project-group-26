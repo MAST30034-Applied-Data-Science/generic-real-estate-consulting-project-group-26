{
 "cells": [
  {
   "cell_type": "markdown",
   "id": "eabca1c7",
   "metadata": {},
   "source": [
    "Data Scraping:\n",
    "Web Scraping for Properties\n",
    "Web Scraping for Shopping Centres\n",
    "Web Scraping for Suburbs-LGA-SA2 Mapping\n",
    "ABS Dataset\n",
    "Find Hospital and Entertainment Facilities Dataset"
   ]
  },
  {
   "cell_type": "markdown",
   "id": "2e97a947",
   "metadata": {},
   "source": [
    "Preprocessing:\n",
    "Preprocessing of Income\n",
    "Preprocessing of Population\n",
    "Preprocessing of Property Dataset\n",
    "Preprocessing of School Locations\n"
   ]
  },
  {
   "cell_type": "code",
   "execution_count": null,
   "id": "0193056a",
   "metadata": {},
   "outputs": [],
   "source": []
  },
  {
   "cell_type": "code",
   "execution_count": null,
   "id": "fdf55023",
   "metadata": {},
   "outputs": [],
   "source": []
  },
  {
   "cell_type": "code",
   "execution_count": null,
   "id": "499a9ad6",
   "metadata": {},
   "outputs": [],
   "source": []
  },
  {
   "cell_type": "code",
   "execution_count": null,
   "id": "124351d7",
   "metadata": {},
   "outputs": [],
   "source": []
  },
  {
   "cell_type": "code",
   "execution_count": null,
   "id": "2119acf4",
   "metadata": {},
   "outputs": [],
   "source": []
  }
 ],
 "metadata": {
  "kernelspec": {
   "display_name": "Python 3 (ipykernel)",
   "language": "python",
   "name": "python3"
  },
  "language_info": {
   "codemirror_mode": {
    "name": "ipython",
    "version": 3
   },
   "file_extension": ".py",
   "mimetype": "text/x-python",
   "name": "python",
   "nbconvert_exporter": "python",
   "pygments_lexer": "ipython3",
   "version": "3.10.4"
  }
 },
 "nbformat": 4,
 "nbformat_minor": 5
}
