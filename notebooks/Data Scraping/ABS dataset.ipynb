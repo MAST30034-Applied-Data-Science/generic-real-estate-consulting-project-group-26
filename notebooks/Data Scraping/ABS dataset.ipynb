{
 "cells": [
  {
   "cell_type": "code",
   "execution_count": 1,
   "metadata": {},
   "outputs": [],
   "source": [
    "# import required libries\n",
    "import os\n",
    "import numpy as np\n",
    "import spicy as sp\n",
    "import pandas as pd\n",
    "\n",
    "# define required location\n",
    "raw_data = '../../data/raw/'\n"
   ]
  },
  {
   "cell_type": "code",
   "execution_count": 2,
   "metadata": {},
   "outputs": [],
   "source": [
    "# read total population dataset\n",
    "tot_popu = pd.read_excel('https://www.abs.gov.au/statistics/people/population/regional-population/2021/32180DS0003_2001-21.xlsx',\\\n",
    "    sheet_name='Table 1', header=7)"
   ]
  },
  {
   "cell_type": "code",
   "execution_count": 3,
   "metadata": {},
   "outputs": [],
   "source": [
    "# discard NA columns\n",
    "del tot_popu['Unnamed: 31']\n",
    "del tot_popu['Unnamed: 34']\n",
    "# discard codes, names, and ERP change that not required\n",
    "tot_popu = tot_popu.drop(columns=['S/T code', 'S/T name','GCCSA code', 'GCCSA name', 'SA4 code', 'SA4 name', 'SA3 code', 'SA3 name', \\\n",
    "    'no..21', '%'])\n",
    "# drop NA rows\n",
    "tot_popu = tot_popu.dropna()"
   ]
  },
  {
   "cell_type": "code",
   "execution_count": 4,
   "metadata": {},
   "outputs": [],
   "source": [
    "tot_popu.columns = ['SA2_code', 'SA2_name', '2001',\n",
    "                    '2002', '2003', '2004', '2005', '2006', '2007', '2008', '2009',\n",
    "                    '2010', '2011', '2012', '2013', '2014', '2015', '2016', '2017',\n",
    "                    '2018', '2019','2020', '2021', 'Area', 'Population_density_2021']"
   ]
  },
  {
   "cell_type": "code",
   "execution_count": 5,
   "metadata": {},
   "outputs": [],
   "source": [
    "tot_popu.to_csv(raw_data + 'population.csv')"
   ]
  },
  {
   "cell_type": "code",
   "execution_count": 6,
   "metadata": {},
   "outputs": [],
   "source": [
    "# read income dataset\n",
    "income=pd.read_excel('https://www.abs.gov.au/statistics/labour/earnings-and-working-conditions/personal-income-australia/2014-15-2018-19/6524055002_DO001.xlsx', \\\n",
    "    sheet_name='Table 1.4', header=6)"
   ]
  },
  {
   "cell_type": "code",
   "execution_count": 7,
   "metadata": {},
   "outputs": [],
   "source": [
    "del income['Unnamed: 27']"
   ]
  },
  {
   "cell_type": "code",
   "execution_count": 8,
   "metadata": {},
   "outputs": [],
   "source": [
    "# drop columns with none information\n",
    "income = income.dropna()"
   ]
  },
  {
   "cell_type": "code",
   "execution_count": 9,
   "metadata": {},
   "outputs": [],
   "source": [
    "# rename the columns\n",
    "income.columns = ['SA2_code', 'SA2_name', '2014_15_earners', '2015_16_earners',\t'2016_17_earners', '2017_18_earners',\\\n",
    "     '2018_19_earners', '2014_15_age', '2015_16_age', '2016_17_age', '2017_18_age', '2018_19_age', '2014_15_sum', '2015_16_sum',\\\n",
    "        \t'2016_17_sum', '2017_18_sum', '2018_19_sum', '2014_15_median', '2015_16_median', '2016_17_median', '2017_18_median', \\\n",
    "                '2018_19_median', '2014_15_mean', '2015_16_mean', '2016_17_mean', '2017_18_mean', '2018_19_mean']"
   ]
  },
  {
   "cell_type": "code",
   "execution_count": 10,
   "metadata": {},
   "outputs": [],
   "source": [
    "income.to_csv(raw_data + 'income.csv')"
   ]
  },
  {
   "cell_type": "code",
   "execution_count": 11,
   "metadata": {},
   "outputs": [],
   "source": [
    "# read population forecast dataset\n",
    "# idea from https://stackoverflow.com/questions/62278538/pd-read-csv-produces-httperror-http-error-403-forbidden\n",
    "url = 'https://www.gen-agedcaredata.gov.au/www_aihwgen/media/Population-Projections-2019/Victoria.csv'\n",
    "storage_options = {'User-Agent': 'Mozilla/5.0'}\n",
    "forecast = pd.read_csv(url, storage_options=storage_options)"
   ]
  },
  {
   "cell_type": "code",
   "execution_count": 12,
   "metadata": {},
   "outputs": [],
   "source": [
    "forecast.to_csv(raw_data + 'forecast.csv')"
   ]
  },
  {
   "cell_type": "code",
   "execution_count": 13,
   "metadata": {},
   "outputs": [],
   "source": [
    "# read school location dataset\n",
    "school_location = pd.read_csv('https://www.education.vic.gov.au/Documents/about/research/datavic/dv331_schoollocations2022.csv',encoding='cp1252')"
   ]
  },
  {
   "cell_type": "code",
   "execution_count": 14,
   "metadata": {},
   "outputs": [],
   "source": [
    "school_location.to_csv(raw_data + 'SchoolLocation.csv')"
   ]
  },
  {
   "cell_type": "code",
   "execution_count": 15,
   "metadata": {},
   "outputs": [],
   "source": [
    "# read income dataset\n",
    "income2010_2013 = pd.read_excel('https://www.abs.gov.au/AUSSTATS/subscriber.nsf/log?openagent&6524055002do0006_201115.xls&6524.0.55.002&Data%20Cubes&52341F5E5E86953ACA25810F001B136D&0&2011-2015&28.04.2017&Latest',\n",
    "    sheet_name='Table 4', header=6)\n"
   ]
  },
  {
   "cell_type": "code",
   "execution_count": 16,
   "metadata": {},
   "outputs": [],
   "source": [
    "# extract mean income\n",
    "income2010_2013 = income2010_2013[['SA2', '2010-11.4', '2011-12.4', '2012-13.4', '2013-14.4']].dropna()"
   ]
  },
  {
   "cell_type": "code",
   "execution_count": 17,
   "metadata": {},
   "outputs": [],
   "source": [
    "# rename columns\n",
    "income2010_2013.columns = ['SA2', '2010_income', '2011_income', '2012_income', '2013_income']"
   ]
  },
  {
   "cell_type": "code",
   "execution_count": 18,
   "metadata": {},
   "outputs": [],
   "source": [
    "income2010_2013.to_csv(raw_data + 'income2010-2013.csv')"
   ]
  },
  {
   "cell_type": "code",
   "execution_count": 19,
   "metadata": {},
   "outputs": [],
   "source": [
    "# read income dataset\n",
    "income2005_2009 = pd.read_excel('https://www.abs.gov.au/ausstats/subscriber.nsf/log?openagent&6524055002do004_200506201011.xls&6524.0.55.002&Data%20Cubes&9962A8804603D4D8CA257C12000CA346&0&2005-06%20to%202010-11&29.10.2013&Latest',\n",
    "    sheet_name='Table_7', header=6)"
   ]
  },
  {
   "cell_type": "code",
   "execution_count": 20,
   "metadata": {},
   "outputs": [],
   "source": [
    "# extract mean income\n",
    "income2005_2009 = income2005_2009[['SA2', '2005-06.17','2006-07.17',\n",
    "                                   '2007-08.17', '2008-09.17', '2009-10.17']].dropna()"
   ]
  },
  {
   "cell_type": "code",
   "execution_count": 21,
   "metadata": {},
   "outputs": [],
   "source": [
    "# rename columns\n",
    "income2005_2009.columns = ['SA2', '2005_income', '2006_income', '2007_income', '2008_income', '2009_income']"
   ]
  },
  {
   "cell_type": "code",
   "execution_count": 22,
   "metadata": {},
   "outputs": [],
   "source": [
    "income2005_2009.to_csv(raw_data + 'income2005-2009.csv')"
   ]
  },
  {
   "cell_type": "code",
   "execution_count": null,
   "metadata": {},
   "outputs": [],
   "source": []
  }
 ],
 "metadata": {
  "kernelspec": {
   "display_name": "Python 3 (ipykernel)",
   "language": "python",
   "name": "python3"
  },
  "language_info": {
   "codemirror_mode": {
    "name": "ipython",
    "version": 3
   },
   "file_extension": ".py",
   "mimetype": "text/x-python",
   "name": "python",
   "nbconvert_exporter": "python",
   "pygments_lexer": "ipython3",
   "version": "3.10.4"
  },
  "vscode": {
   "interpreter": {
    "hash": "916dbcbb3f70747c44a77c7bcd40155683ae19c65e1c03b4aa3499c5328201f1"
   }
  }
 },
 "nbformat": 4,
 "nbformat_minor": 2
}
