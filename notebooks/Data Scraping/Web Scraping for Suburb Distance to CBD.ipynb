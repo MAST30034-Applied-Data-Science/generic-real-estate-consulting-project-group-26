{
 "cells": [
  {
   "cell_type": "code",
   "execution_count": 35,
   "id": "4e608053",
   "metadata": {},
   "outputs": [],
   "source": [
    "import requests\n",
    "import pandas as pd\n",
    "from bs4 import BeautifulSoup\n",
    "from urllib.request import urlopen"
   ]
  },
  {
   "cell_type": "code",
   "execution_count": 10,
   "id": "2dbde20e",
   "metadata": {},
   "outputs": [],
   "source": [
    "# constants\n",
    "url = \"http://myboot.com.au/VIC/50/suburblist.aspx\""
   ]
  },
  {
   "cell_type": "code",
   "execution_count": 37,
   "id": "1666be1e",
   "metadata": {
    "scrolled": true
   },
   "outputs": [],
   "source": [
    "suburbs = []\n",
    "bs_object =  BeautifulSoup(requests.get(url).text, \"html.parser\")\n",
    "table = bs_object.findAll('div', {'class': 'cssSUBURBDESC'})\n",
    "\n",
    "# The first entry is header\n",
    "for each in table[1:]:\n",
    "    result = each.text\n",
    "\n",
    "    # Locate suburb name and distance\n",
    "    name = result[result.find(':')+1:result.find('(')].strip()\n",
    "    distance = result.split()[-2]\n",
    "    suburbs.append([name, distance])"
   ]
  },
  {
   "cell_type": "code",
   "execution_count": 42,
   "id": "84fd1f6f",
   "metadata": {},
   "outputs": [
    {
     "data": {
      "text/html": [
       "<div>\n",
       "<style scoped>\n",
       "    .dataframe tbody tr th:only-of-type {\n",
       "        vertical-align: middle;\n",
       "    }\n",
       "\n",
       "    .dataframe tbody tr th {\n",
       "        vertical-align: top;\n",
       "    }\n",
       "\n",
       "    .dataframe thead th {\n",
       "        text-align: right;\n",
       "    }\n",
       "</style>\n",
       "<table border=\"1\" class=\"dataframe\">\n",
       "  <thead>\n",
       "    <tr style=\"text-align: right;\">\n",
       "      <th></th>\n",
       "      <th>Suburb</th>\n",
       "      <th>Distance to CBD (km)</th>\n",
       "    </tr>\n",
       "  </thead>\n",
       "  <tbody>\n",
       "    <tr>\n",
       "      <th>0</th>\n",
       "      <td>Abbotsford</td>\n",
       "      <td>2.5</td>\n",
       "    </tr>\n",
       "    <tr>\n",
       "      <th>1</th>\n",
       "      <td>Aberfeldie</td>\n",
       "      <td>9.1</td>\n",
       "    </tr>\n",
       "    <tr>\n",
       "      <th>2</th>\n",
       "      <td>Airport West</td>\n",
       "      <td>13.5</td>\n",
       "    </tr>\n",
       "    <tr>\n",
       "      <th>3</th>\n",
       "      <td>Albanvale</td>\n",
       "      <td>19.2</td>\n",
       "    </tr>\n",
       "    <tr>\n",
       "      <th>4</th>\n",
       "      <td>Albert Park</td>\n",
       "      <td>3.3</td>\n",
       "    </tr>\n",
       "    <tr>\n",
       "      <th>...</th>\n",
       "      <td>...</td>\n",
       "      <td>...</td>\n",
       "    </tr>\n",
       "    <tr>\n",
       "      <th>473</th>\n",
       "      <td>Yarraville</td>\n",
       "      <td>7</td>\n",
       "    </tr>\n",
       "    <tr>\n",
       "      <th>474</th>\n",
       "      <td>Yarraville West</td>\n",
       "      <td>9.4</td>\n",
       "    </tr>\n",
       "    <tr>\n",
       "      <th>475</th>\n",
       "      <td>Yellingbo</td>\n",
       "      <td>47.2</td>\n",
       "    </tr>\n",
       "    <tr>\n",
       "      <th>476</th>\n",
       "      <td>Yering</td>\n",
       "      <td>37.8</td>\n",
       "    </tr>\n",
       "    <tr>\n",
       "      <th>477</th>\n",
       "      <td>Yuroke</td>\n",
       "      <td>26.1</td>\n",
       "    </tr>\n",
       "  </tbody>\n",
       "</table>\n",
       "<p>478 rows × 2 columns</p>\n",
       "</div>"
      ],
      "text/plain": [
       "              Suburb Distance to CBD (km)\n",
       "0         Abbotsford                  2.5\n",
       "1         Aberfeldie                  9.1\n",
       "2       Airport West                 13.5\n",
       "3          Albanvale                 19.2\n",
       "4        Albert Park                  3.3\n",
       "..               ...                  ...\n",
       "473       Yarraville                    7\n",
       "474  Yarraville West                  9.4\n",
       "475        Yellingbo                 47.2\n",
       "476           Yering                 37.8\n",
       "477           Yuroke                 26.1\n",
       "\n",
       "[478 rows x 2 columns]"
      ]
     },
     "execution_count": 42,
     "metadata": {},
     "output_type": "execute_result"
    }
   ],
   "source": [
    "suburbs_pd = pd.DataFrame(suburbs)\n",
    "suburbs_pd.columns = ['Suburb', 'Distance to CBD (km)']\n",
    "suburbs_pd.to_csv('../../data/curated/suburb_distance_to_cbd.csv')"
   ]
  },
  {
   "cell_type": "code",
   "execution_count": null,
   "id": "eb411b5d",
   "metadata": {},
   "outputs": [],
   "source": []
  }
 ],
 "metadata": {
  "kernelspec": {
   "display_name": "Python 3 (ipykernel)",
   "language": "python",
   "name": "python3"
  },
  "language_info": {
   "codemirror_mode": {
    "name": "ipython",
    "version": 3
   },
   "file_extension": ".py",
   "mimetype": "text/x-python",
   "name": "python",
   "nbconvert_exporter": "python",
   "pygments_lexer": "ipython3",
   "version": "3.10.4"
  }
 },
 "nbformat": 4,
 "nbformat_minor": 5
}
