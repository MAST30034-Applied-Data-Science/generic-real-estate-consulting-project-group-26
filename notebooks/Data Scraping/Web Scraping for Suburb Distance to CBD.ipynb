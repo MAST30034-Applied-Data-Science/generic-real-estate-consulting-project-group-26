{
 "cells": [
  {
   "cell_type": "code",
   "execution_count": 1,
   "id": "4e608053",
   "metadata": {},
   "outputs": [],
   "source": [
    "import requests\n",
    "import pandas as pd\n",
    "from bs4 import BeautifulSoup\n",
    "from urllib.request import urlopen"
   ]
  },
  {
   "cell_type": "code",
   "execution_count": 2,
   "id": "2dbde20e",
   "metadata": {},
   "outputs": [],
   "source": [
    "# constants\n",
    "url = \"http://myboot.com.au/VIC/50/suburblist.aspx\""
   ]
  },
  {
   "cell_type": "code",
   "execution_count": 3,
   "id": "1666be1e",
   "metadata": {
    "scrolled": true
   },
   "outputs": [],
   "source": [
    "suburbs = []\n",
    "bs_object =  BeautifulSoup(requests.get(url).text, \"html.parser\")\n",
    "table = bs_object.findAll('div', {'class': 'cssSUBURBDESC'})\n",
    "\n",
    "# The first entry is header\n",
    "for each in table[1:]:\n",
    "    result = each.text\n",
    "    # Locate suburb name and distance\n",
    "    name = result[result.find(':')+1:result.find('(')].strip()\n",
    "    distance = result.split()[-2]\n",
    "    suburbs.append([name, distance])"
   ]
  },
  {
   "cell_type": "code",
   "execution_count": 4,
   "id": "84fd1f6f",
   "metadata": {},
   "outputs": [],
   "source": [
    "suburbs_pd = pd.DataFrame(suburbs)\n",
    "suburbs_pd.columns = ['Suburb', 'Distance to CBD (km)']\n",
    "suburbs_pd.to_csv('../../data/curated/suburb_distance_to_cbd.csv')"
   ]
  },
  {
   "cell_type": "code",
   "execution_count": null,
   "id": "eb411b5d",
   "metadata": {},
   "outputs": [],
   "source": []
  }
 ],
 "metadata": {
  "kernelspec": {
   "display_name": "Python 3 (ipykernel)",
   "language": "python",
   "name": "python3"
  },
  "language_info": {
   "codemirror_mode": {
    "name": "ipython",
    "version": 3
   },
   "file_extension": ".py",
   "mimetype": "text/x-python",
   "name": "python",
   "nbconvert_exporter": "python",
   "pygments_lexer": "ipython3",
   "version": "3.10.4"
  }
 },
 "nbformat": 4,
 "nbformat_minor": 5
}
