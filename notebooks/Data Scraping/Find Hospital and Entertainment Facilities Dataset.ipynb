{
 "cells": [
  {
   "cell_type": "code",
   "execution_count": 1,
   "id": "a2bbd6f4",
   "metadata": {},
   "outputs": [],
   "source": [
    "from urllib.request import urlretrieve\n",
    "import pandas as pd\n",
    "import numpy as np"
   ]
  },
  {
   "cell_type": "code",
   "execution_count": 2,
   "id": "98e2d612",
   "metadata": {},
   "outputs": [
    {
     "data": {
      "text/plain": [
       "('../../data/raw/hospitals.csv', <http.client.HTTPMessage at 0x7f5ef8724dc0>)"
      ]
     },
     "execution_count": 2,
     "metadata": {},
     "output_type": "execute_result"
    }
   ],
   "source": [
    "output_hospital = '../../data/raw/hospitals.csv'\n",
    "url = 'https://springernature.figshare.com/ndownloader/files/15591434'\n",
    "urlretrieve(url, output_hospital)"
   ]
  },
  {
   "cell_type": "code",
   "execution_count": 3,
   "id": "4af3e93d",
   "metadata": {},
   "outputs": [],
   "source": [
    "hospitals = pd.read_csv(\"../../data/raw/hospitals.csv\", encoding='cp1252')"
   ]
  },
  {
   "cell_type": "code",
   "execution_count": 4,
   "id": "475addfc",
   "metadata": {
    "scrolled": false
   },
   "outputs": [],
   "source": [
    "# We only interested in victoria scope\n",
    "hospitals_vic = hospitals[hospitals[\"State\"] == \"Vic\"]"
   ]
  },
  {
   "cell_type": "code",
   "execution_count": 5,
   "id": "4842b3e3",
   "metadata": {},
   "outputs": [],
   "source": [
    "# Extract useful features\n",
    "hospitals_select = hospitals_vic[[\"Hospital name\", \"Suburb\",\"Postcode\",\"Latitude\",\"Longitude\"]]"
   ]
  },
  {
   "cell_type": "code",
   "execution_count": 6,
   "id": "4b7f0fe9",
   "metadata": {},
   "outputs": [],
   "source": [
    "hospitals_select.to_csv(\"../../data/curated/hospitals_vic.csv\")"
   ]
  },
  {
   "cell_type": "code",
   "execution_count": 7,
   "id": "fc7aca3e",
   "metadata": {},
   "outputs": [
    {
     "data": {
      "text/plain": [
       "('../../data/raw/Facilites_list.xlsx',\n",
       " <http.client.HTTPMessage at 0x7f5ef87270d0>)"
      ]
     },
     "execution_count": 7,
     "metadata": {},
     "output_type": "execute_result"
    }
   ],
   "source": [
    "url = 'https://discover.data.vic.gov.au/dataset/e6db797e-3801-4cfa-bf02-82350d0f722d/resource/bfff5fff-9c74-4671-8396-43f793613b70/download/srv_ifmd_all-facilities.xlsx'\n",
    "output_facility = '../../data/raw/Facilites_list.xlsx'\n",
    "urlretrieve(url, output_facility)"
   ]
  },
  {
   "cell_type": "code",
   "execution_count": 8,
   "id": "f17455c0",
   "metadata": {},
   "outputs": [],
   "source": [
    "facility = pd.read_excel('../../data/raw/Facilites_list.xlsx')\n",
    "# Since some entertainment facility shares one ID, therefore drop duplicates\n",
    "facility = facility.drop_duplicates(subset=['Facility ID'])\n",
    "# Extract useful information\n",
    "facility = facility[['Facility ID', 'Pcode', 'Suburb/Town', 'Latitude', 'Longitude']]"
   ]
  },
  {
   "cell_type": "code",
   "execution_count": 9,
   "id": "0189a03d",
   "metadata": {},
   "outputs": [],
   "source": [
    "facility = facility.dropna(subset=['Latitude'])"
   ]
  },
  {
   "cell_type": "code",
   "execution_count": 11,
   "id": "4841fee2",
   "metadata": {},
   "outputs": [],
   "source": [
    "facility.to_csv('../../data/curated/Facilites_list.csv')"
   ]
  },
  {
   "cell_type": "code",
   "execution_count": null,
   "id": "d3f4d985",
   "metadata": {},
   "outputs": [],
   "source": []
  }
 ],
 "metadata": {
  "kernelspec": {
   "display_name": "Python 3 (ipykernel)",
   "language": "python",
   "name": "python3"
  },
  "language_info": {
   "codemirror_mode": {
    "name": "ipython",
    "version": 3
   },
   "file_extension": ".py",
   "mimetype": "text/x-python",
   "name": "python",
   "nbconvert_exporter": "python",
   "pygments_lexer": "ipython3",
   "version": "3.10.4"
  }
 },
 "nbformat": 4,
 "nbformat_minor": 5
}
