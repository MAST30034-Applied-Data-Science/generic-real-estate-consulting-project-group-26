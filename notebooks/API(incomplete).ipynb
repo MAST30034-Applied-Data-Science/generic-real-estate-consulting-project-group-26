{
 "cells": [
  {
   "cell_type": "code",
   "execution_count": 17,
   "id": "dc4cb9d1",
   "metadata": {},
   "outputs": [],
   "source": [
    "import pandas as pd\n",
    "import numpy as np\n",
    "import openrouteservice as ors\n",
    "import folium"
   ]
  },
  {
   "cell_type": "code",
   "execution_count": 2,
   "id": "900c7e32",
   "metadata": {},
   "outputs": [],
   "source": [
    "properties = pd.read_csv(\"../data/curated/distance_to_property.csv\")"
   ]
  },
  {
   "cell_type": "code",
   "execution_count": 3,
   "id": "97b54d93",
   "metadata": {},
   "outputs": [],
   "source": [
    "property_position = properties[['prop_lat', 'prop_long']]\n",
    "school_position = properties[['school_lat', 'school_long']]\n",
    "hospital_position = properties[['hospital_lat', 'hospital_long']]\n",
    "station_position = properties[['station_lat', 'station_long']]\n",
    "facility_position = properties[['facility_lat', 'facility_long']]"
   ]
  },
  {
   "cell_type": "code",
   "execution_count": 5,
   "id": "04cbc7a8",
   "metadata": {},
   "outputs": [],
   "source": [
    "client = ors.Client(key='5b3ce3597851110001cf62487c93bb74ac4048998460ee4d5ed60ec2')"
   ]
  },
  {
   "cell_type": "code",
   "execution_count": 10,
   "id": "37aeeacf",
   "metadata": {},
   "outputs": [],
   "source": [
    "test = pd.merge(property_position.reset_index(), school_position.reset_index())[:10]"
   ]
  },
  {
   "cell_type": "code",
   "execution_count": 11,
   "id": "3e3f7e4e",
   "metadata": {},
   "outputs": [
    {
     "data": {
      "text/html": [
       "<div>\n",
       "<style scoped>\n",
       "    .dataframe tbody tr th:only-of-type {\n",
       "        vertical-align: middle;\n",
       "    }\n",
       "\n",
       "    .dataframe tbody tr th {\n",
       "        vertical-align: top;\n",
       "    }\n",
       "\n",
       "    .dataframe thead th {\n",
       "        text-align: right;\n",
       "    }\n",
       "</style>\n",
       "<table border=\"1\" class=\"dataframe\">\n",
       "  <thead>\n",
       "    <tr style=\"text-align: right;\">\n",
       "      <th></th>\n",
       "      <th>index</th>\n",
       "      <th>prop_lat</th>\n",
       "      <th>prop_long</th>\n",
       "      <th>school_lat</th>\n",
       "      <th>school_long</th>\n",
       "    </tr>\n",
       "  </thead>\n",
       "  <tbody>\n",
       "    <tr>\n",
       "      <th>0</th>\n",
       "      <td>0</td>\n",
       "      <td>-37.780782</td>\n",
       "      <td>144.813020</td>\n",
       "      <td>-37.78219</td>\n",
       "      <td>144.82020</td>\n",
       "    </tr>\n",
       "    <tr>\n",
       "      <th>1</th>\n",
       "      <td>1</td>\n",
       "      <td>-37.869028</td>\n",
       "      <td>144.807250</td>\n",
       "      <td>-37.86390</td>\n",
       "      <td>144.81167</td>\n",
       "    </tr>\n",
       "    <tr>\n",
       "      <th>2</th>\n",
       "      <td>2</td>\n",
       "      <td>-37.276411</td>\n",
       "      <td>142.920079</td>\n",
       "      <td>-37.27736</td>\n",
       "      <td>142.92100</td>\n",
       "    </tr>\n",
       "    <tr>\n",
       "      <th>3</th>\n",
       "      <td>3</td>\n",
       "      <td>-37.292905</td>\n",
       "      <td>142.921881</td>\n",
       "      <td>-37.28600</td>\n",
       "      <td>142.92196</td>\n",
       "    </tr>\n",
       "    <tr>\n",
       "      <th>4</th>\n",
       "      <td>4</td>\n",
       "      <td>-37.782361</td>\n",
       "      <td>144.808833</td>\n",
       "      <td>-37.78753</td>\n",
       "      <td>144.80752</td>\n",
       "    </tr>\n",
       "    <tr>\n",
       "      <th>5</th>\n",
       "      <td>5</td>\n",
       "      <td>-37.860329</td>\n",
       "      <td>145.022016</td>\n",
       "      <td>-37.85807</td>\n",
       "      <td>145.03116</td>\n",
       "    </tr>\n",
       "    <tr>\n",
       "      <th>6</th>\n",
       "      <td>6</td>\n",
       "      <td>-37.773066</td>\n",
       "      <td>144.930304</td>\n",
       "      <td>-37.77432</td>\n",
       "      <td>144.92612</td>\n",
       "    </tr>\n",
       "    <tr>\n",
       "      <th>7</th>\n",
       "      <td>7</td>\n",
       "      <td>-37.757388</td>\n",
       "      <td>144.869104</td>\n",
       "      <td>-37.75847</td>\n",
       "      <td>144.86162</td>\n",
       "    </tr>\n",
       "    <tr>\n",
       "      <th>8</th>\n",
       "      <td>8</td>\n",
       "      <td>-37.557037</td>\n",
       "      <td>143.879475</td>\n",
       "      <td>-37.56170</td>\n",
       "      <td>143.87401</td>\n",
       "    </tr>\n",
       "    <tr>\n",
       "      <th>9</th>\n",
       "      <td>9</td>\n",
       "      <td>-36.556619</td>\n",
       "      <td>145.973497</td>\n",
       "      <td>-36.55396</td>\n",
       "      <td>145.97412</td>\n",
       "    </tr>\n",
       "  </tbody>\n",
       "</table>\n",
       "</div>"
      ],
      "text/plain": [
       "   index   prop_lat   prop_long  school_lat  school_long\n",
       "0      0 -37.780782  144.813020   -37.78219    144.82020\n",
       "1      1 -37.869028  144.807250   -37.86390    144.81167\n",
       "2      2 -37.276411  142.920079   -37.27736    142.92100\n",
       "3      3 -37.292905  142.921881   -37.28600    142.92196\n",
       "4      4 -37.782361  144.808833   -37.78753    144.80752\n",
       "5      5 -37.860329  145.022016   -37.85807    145.03116\n",
       "6      6 -37.773066  144.930304   -37.77432    144.92612\n",
       "7      7 -37.757388  144.869104   -37.75847    144.86162\n",
       "8      8 -37.557037  143.879475   -37.56170    143.87401\n",
       "9      9 -36.556619  145.973497   -36.55396    145.97412"
      ]
     },
     "execution_count": 11,
     "metadata": {},
     "output_type": "execute_result"
    }
   ],
   "source": [
    "test"
   ]
  },
  {
   "cell_type": "code",
   "execution_count": 30,
   "id": "8f17d09f",
   "metadata": {},
   "outputs": [],
   "source": [
    "positions = []\n",
    "for i in range(len(test)-1):\n",
    "    cur_position = []\n",
    "    cur_position.append([list(test[['prop_long']].iloc[i])[0], list(test[['prop_lat']].iloc[i])[0]])\n",
    "    cur_position.append([list(test[['school_long']].iloc[i])[0], list(test[['school_lat']].iloc[i])[0]])\n",
    "    positions.append(cur_position)"
   ]
  },
  {
   "cell_type": "code",
   "execution_count": 53,
   "id": "947cbbc8",
   "metadata": {},
   "outputs": [
    {
     "name": "stdout",
     "output_type": "stream",
     "text": [
      "[[144.8130199, -37.7807821], [144.8202, -37.78219]]\n",
      "[[144.8072501, -37.8690276], [144.81167, -37.8639]]\n",
      "[[142.920079, -37.27641089999999], [142.921, -37.27736]]\n",
      "[[142.9218811, -37.292905], [142.92196, -37.286]]\n",
      "[[144.8088328, -37.7823611], [144.80752, -37.78753]]\n",
      "[[145.0220163, -37.860329], [145.03116, -37.85807]]\n",
      "[[144.9303035, -37.7730663], [144.92612, -37.77432]]\n",
      "[[144.8691038, -37.7573875], [144.86162, -37.75847]]\n",
      "[[143.8794746, -37.5570369], [143.87401, -37.5617]]\n"
     ]
    }
   ],
   "source": [
    "for each in positions:\n",
    "    print(each)"
   ]
  },
  {
   "cell_type": "code",
   "execution_count": 61,
   "id": "e588d175",
   "metadata": {},
   "outputs": [
    {
     "name": "stdout",
     "output_type": "stream",
     "text": [
      "{'routes': [{'summary': {'distance': 886.4, 'duration': 125.1}, 'segments': [{'distance': 886.4, 'duration': 125.1, 'steps': [{'distance': 360.4, 'duration': 58.9, 'type': 11, 'instruction': 'Head north on Selwyn Street', 'name': 'Selwyn Street', 'way_points': [0, 20]}, {'distance': 325.0, 'duration': 34.2, 'type': 0, 'instruction': 'Turn left onto King Edward Avenue', 'name': 'King Edward Avenue', 'way_points': [20, 32]}, {'distance': 130.5, 'duration': 15.1, 'type': 7, 'instruction': 'Enter the roundabout and take the 3rd exit onto Adelaide Street', 'name': 'Adelaide Street', 'exit_number': 3, 'way_points': [32, 48]}, {'distance': 70.5, 'duration': 16.9, 'type': 0, 'instruction': 'Turn left onto Drummartin Street', 'name': 'Drummartin Street', 'way_points': [48, 50]}, {'distance': 0.0, 'duration': 0.0, 'type': 10, 'instruction': 'Arrive at Drummartin Street, on the left', 'name': '-', 'way_points': [50, 50]}]}], 'bbox': [144.813233, -37.78264, 144.820127, -37.77998], 'geometry': '`areFuyzrZw@IGEIKGKqAkCAEFuA@K?E@GHuA@IFIdAcA@AFEb@e@PCz@HH@BQDQTiE@Q?I@ITqE@M@OLeDAc@AO?AAA?C?I@C@A@ABAB?B@B@@BHD^Jv@JvAL@ULiC', 'way_points': [0, 50]}], 'bbox': [144.813233, -37.78264, 144.820127, -37.77998], 'metadata': {'attribution': 'openrouteservice.org | OpenStreetMap contributors', 'service': 'routing', 'timestamp': 1663164251048, 'query': {'coordinates': [[144.8130199, -37.7807821], [144.8202, -37.78219]], 'profile': 'driving-car', 'format': 'json'}, 'engine': {'version': '6.7.0', 'build_date': '2022-02-18T19:37:41Z', 'graph_date': '2022-09-04T14:30:21Z'}}}\n",
      "{'routes': [{'summary': {'distance': 1070.1, 'duration': 135.9}, 'segments': [{'distance': 1070.1, 'duration': 135.9, 'steps': [{'distance': 29.2, 'duration': 4.2, 'type': 11, 'instruction': 'Head east on Robin Street', 'name': 'Robin Street', 'way_points': [0, 1]}, {'distance': 36.5, 'duration': 5.3, 'type': 6, 'instruction': 'Continue straight onto Robin Street', 'name': 'Robin Street', 'way_points': [1, 4]}, {'distance': 19.9, 'duration': 2.9, 'type': 1, 'instruction': 'Turn right onto Dove Avenue', 'name': 'Dove Avenue', 'way_points': [4, 5]}, {'distance': 304.4, 'duration': 43.8, 'type': 0, 'instruction': 'Turn left onto Swallow Street', 'name': 'Swallow Street', 'way_points': [5, 18]}, {'distance': 230.8, 'duration': 33.2, 'type': 3, 'instruction': 'Turn sharp right onto Linnet Street', 'name': 'Linnet Street', 'way_points': [18, 29]}, {'distance': 449.2, 'duration': 46.5, 'type': 0, 'instruction': 'Turn left onto Maidstone Street', 'name': 'Maidstone Street', 'way_points': [29, 43]}, {'distance': 0.0, 'duration': 0.0, 'type': 10, 'instruction': 'Arrive at Maidstone Street, on the left', 'name': '-', 'way_points': [43, 43]}]}], 'bbox': [144.80727, -37.869123, 144.812681, -37.86375], 'geometry': 'rgcfFmtyrZDaAD_A@G?I\\\\WAE{AeECECIOe@KWIMMKSGcE_@KASAEAH_@DMFSR]X]R[Hm@B]TeF@E?OcIu@e@@a@AYCG?w@Gm@Gg@BWHk@JUDi@NWHaAX', 'way_points': [0, 43]}], 'bbox': [144.80727, -37.869123, 144.812681, -37.86375], 'metadata': {'attribution': 'openrouteservice.org | OpenStreetMap contributors', 'service': 'routing', 'timestamp': 1663164251386, 'query': {'coordinates': [[144.8072501, -37.8690276], [144.81167, -37.8639]], 'profile': 'driving-car', 'format': 'json'}, 'engine': {'version': '6.7.0', 'build_date': '2022-02-18T19:37:41Z', 'graph_date': '2022-09-04T14:30:21Z'}}}\n",
      "{'routes': [{'summary': {'distance': 374.5, 'duration': 81.1}, 'segments': [{'distance': 374.5, 'duration': 81.1, 'steps': [{'distance': 98.5, 'duration': 23.6, 'type': 11, 'instruction': 'Head south on Hucker Street', 'name': 'Hucker Street', 'way_points': [0, 3]}, {'distance': 80.8, 'duration': 19.4, 'type': 4, 'instruction': 'Turn slight left onto Hucker Street', 'name': 'Hucker Street', 'way_points': [3, 4]}, {'distance': 146.8, 'duration': 26.4, 'type': 2, 'instruction': 'Turn sharp left', 'name': '-', 'way_points': [4, 6]}, {'distance': 48.4, 'duration': 11.6, 'type': 2, 'instruction': 'Turn sharp left onto Kneebone Street', 'name': 'Kneebone Street', 'way_points': [6, 8]}, {'distance': 0.0, 'duration': 0.0, 'type': 10, 'instruction': 'Arrive at Kneebone Street, on the right', 'name': '-', 'way_points': [8, 8]}]}], 'bbox': [142.919502, -37.277975, 142.921117, -37.276452], 'geometry': 'xpobFucigZ`CTNJJ\\\\jBxBf@kHMWIRk@~@', 'way_points': [0, 8]}], 'bbox': [142.919502, -37.277975, 142.921117, -37.276452], 'metadata': {'attribution': 'openrouteservice.org | OpenStreetMap contributors', 'service': 'routing', 'timestamp': 1663164251725, 'query': {'coordinates': [[142.920079, -37.27641089999999], [142.921, -37.27736]], 'profile': 'driving-car', 'format': 'json'}, 'engine': {'version': '6.7.0', 'build_date': '2022-02-18T19:37:41Z', 'graph_date': '2022-09-04T14:30:21Z'}}}\n",
      "{'routes': [{'summary': {'distance': 1182.0, 'duration': 221.2}, 'segments': [{'distance': 1182.0, 'duration': 221.2, 'steps': [{'distance': 174.2, 'duration': 41.8, 'type': 11, 'instruction': 'Head northeast on Neylan Street', 'name': 'Neylan Street', 'way_points': [0, 3]}, {'distance': 100.0, 'duration': 24.0, 'type': 0, 'instruction': 'Turn left onto Laidlaw Street', 'name': 'Laidlaw Street', 'way_points': [3, 5]}, {'distance': 338.1, 'duration': 81.1, 'type': 1, 'instruction': 'Turn right onto Tobin Street', 'name': 'Tobin Street', 'way_points': [5, 9]}, {'distance': 322.8, 'duration': 38.7, 'type': 0, 'instruction': 'Turn left onto Crouch Street', 'name': 'Crouch Street', 'way_points': [9, 12]}, {'distance': 105.5, 'duration': 25.3, 'type': 1, 'instruction': 'Turn right onto George Road', 'name': 'George Road', 'way_points': [12, 16]}, {'distance': 141.3, 'duration': 10.2, 'type': 1, 'instruction': 'Turn right onto Ararat - Halls Gap Road, C222, 31', 'name': 'Ararat - Halls Gap Road, C222, 31', 'way_points': [16, 18]}, {'distance': 0.0, 'duration': 0.0, 'type': 10, 'instruction': 'Arrive at Ararat - Halls Gap Road, C222, 31, on the right', 'name': '-', 'way_points': [18, 18]}]}], 'bbox': [142.920189, -37.292998, 142.923218, -37.285541], 'geometry': 'fxrbF_nigZu@e@UM{EcAa@|CK|@_GgA[S}@y@}DqDeArBuE|IUjC_@CwBWI?WNUm@cBiF', 'way_points': [0, 18]}], 'bbox': [142.920189, -37.292998, 142.923218, -37.285541], 'metadata': {'attribution': 'openrouteservice.org | OpenStreetMap contributors', 'service': 'routing', 'timestamp': 1663164252064, 'query': {'coordinates': [[142.9218811, -37.292905], [142.92196, -37.286]], 'profile': 'driving-car', 'format': 'json'}, 'engine': {'version': '6.7.0', 'build_date': '2022-02-18T19:37:41Z', 'graph_date': '2022-09-04T14:30:21Z'}}}\n",
      "{'routes': [{'summary': {'distance': 3872.8, 'duration': 349.4}, 'segments': [{'distance': 3872.8, 'duration': 349.4, 'steps': [{'distance': 353.5, 'duration': 29.4, 'type': 11, 'instruction': 'Head west on Suspension Street', 'name': 'Suspension Street', 'way_points': [0, 5]}, {'distance': 87.8, 'duration': 12.6, 'type': 0, 'instruction': 'Turn left onto Yallourn Street', 'name': 'Yallourn Street', 'way_points': [5, 9]}, {'distance': 880.1, 'duration': 66.9, 'type': 7, 'instruction': 'Enter the roundabout and take the 2nd exit onto Forrest Street', 'name': 'Forrest Street', 'exit_number': 2, 'way_points': [9, 29]}, {'distance': 764.6, 'duration': 74.1, 'type': 1, 'instruction': 'Turn right onto Fitzgerald Road', 'name': 'Fitzgerald Road', 'way_points': [29, 53]}, {'distance': 113.1, 'duration': 14.6, 'type': 7, 'instruction': 'Enter the roundabout and take the 2nd exit onto Fitzgerald Road', 'name': 'Fitzgerald Road', 'exit_number': 2, 'way_points': [53, 62]}, {'distance': 443.6, 'duration': 35.5, 'type': 0, 'instruction': 'Turn left onto Mark Street', 'name': 'Mark Street', 'way_points': [62, 65]}, {'distance': 99.9, 'duration': 12.0, 'type': 1, 'instruction': 'Turn right onto Allison Street', 'name': 'Allison Street', 'way_points': [65, 66]}, {'distance': 629.2, 'duration': 55.0, 'type': 7, 'instruction': 'Enter the roundabout and take the 1st exit onto Glengala Road', 'name': 'Glengala Road', 'exit_number': 1, 'way_points': [66, 78]}, {'distance': 436.3, 'duration': 39.9, 'type': 7, 'instruction': 'Enter the roundabout and take the 2nd exit onto Glengala Road', 'name': 'Glengala Road', 'exit_number': 2, 'way_points': [78, 88]}, {'distance': 64.5, 'duration': 9.3, 'type': 0, 'instruction': 'Turn left onto Links Street', 'name': 'Links Street', 'way_points': [88, 90]}, {'distance': 0.0, 'duration': 0.0, 'type': 10, 'instruction': 'Arrive at Links Street, on the left', 'name': '-', 'way_points': [90, 90]}]}], 'bbox': [144.791172, -37.788173, 144.808797, -37.780436], 'geometry': 'blreF_~yrZ_@|Hm@vL?T?B?LD@xBRRAF?@A@A@AD?@@@B@FAFC@?FGd@InAa@`IK|Bs@fNI|As@xNCj@QdEC`@{@Ka@Cc@?w@RWL[TQTWb@Sj@I^Cn@@n@Ff@Nd@R^p@p@r@d@lAp@pBjAfAt@r@T|@N|@FvE^@CFIB?B?FJ?D\\\\@bBL^D@Wt@qNp@}MpDZ@EHGB?p@mM@QTyERgDFkAXmFPkDAW?OCC?C?C@GBABA@KB[n@{Lp@sMMCcBS', 'way_points': [0, 90]}], 'bbox': [144.791172, -37.788173, 144.808797, -37.780436], 'metadata': {'attribution': 'openrouteservice.org | OpenStreetMap contributors', 'service': 'routing', 'timestamp': 1663164252409, 'query': {'coordinates': [[144.8088328, -37.7823611], [144.80752, -37.78753]], 'profile': 'driving-car', 'format': 'json'}, 'engine': {'version': '6.7.0', 'build_date': '2022-02-18T19:37:41Z', 'graph_date': '2022-09-04T14:30:21Z'}}}\n"
     ]
    },
    {
     "name": "stdout",
     "output_type": "stream",
     "text": [
      "{'routes': [{'summary': {'distance': 1886.1, 'duration': 227.9}, 'segments': [{'distance': 1886.1, 'duration': 227.9, 'steps': [{'distance': 22.4, 'duration': 5.4, 'type': 11, 'instruction': 'Head south on The Terrace', 'name': 'The Terrace', 'way_points': [0, 1]}, {'distance': 11.2, 'duration': 2.7, 'type': 6, 'instruction': 'Continue straight onto The Terrace', 'name': 'The Terrace', 'way_points': [1, 2]}, {'distance': 208.4, 'duration': 25.0, 'type': 1, 'instruction': 'Turn right onto St Georges Road', 'name': 'St Georges Road', 'way_points': [2, 3]}, {'distance': 543.5, 'duration': 46.2, 'type': 1, 'instruction': 'Turn right onto Kooyong Road', 'name': 'Kooyong Road', 'way_points': [3, 17]}, {'distance': 764.5, 'duration': 81.2, 'type': 1, 'instruction': 'Turn right onto High Street, 24', 'name': 'High Street, 24', 'way_points': [17, 30]}, {'distance': 153.6, 'duration': 23.6, 'type': 1, 'instruction': 'Turn right onto Glenferrie Road, 19', 'name': 'Glenferrie Road, 19', 'way_points': [30, 36]}, {'distance': 182.4, 'duration': 43.8, 'type': 0, 'instruction': 'Turn left onto Stanhope Street', 'name': 'Stanhope Street', 'way_points': [36, 39]}, {'distance': 0.0, 'duration': 0.0, 'type': 10, 'instruction': 'Arrive at Stanhope Street, on the left', 'name': '-', 'way_points': [39, 39]}]}], 'bbox': [145.019885, -37.860648, 145.031118, -37.855497], 'geometry': 'drafFctctZf@BR@}@tM}Da@sD]sCYMAQCC?u@IKAk@EQCaCSeAKsAMA?XcETmDLkBPgCFy@FcA^wFJ_BNkBp@aK?CPeC?A@?d@Dd@Dj@FR@bCT?CBe@p@oJ', 'way_points': [0, 39]}], 'bbox': [145.019885, -37.860648, 145.031118, -37.855497], 'metadata': {'attribution': 'openrouteservice.org | OpenStreetMap contributors', 'service': 'routing', 'timestamp': 1663164252754, 'query': {'coordinates': [[145.0220163, -37.860329], [145.03116, -37.85807]], 'profile': 'driving-car', 'format': 'json'}, 'engine': {'version': '6.7.0', 'build_date': '2022-02-18T19:37:41Z', 'graph_date': '2022-09-04T14:30:21Z'}}}\n",
      "{'routes': [{'summary': {'distance': 568.2, 'duration': 94.6}, 'segments': [{'distance': 568.2, 'duration': 94.6, 'steps': [{'distance': 297.8, 'duration': 33.0, 'type': 11, 'instruction': 'Head west on Ormond Road, 38', 'name': 'Ormond Road, 38', 'way_points': [0, 9]}, {'distance': 92.1, 'duration': 18.8, 'type': 0, 'instruction': 'Turn left onto Mount Alexander Road, A60', 'name': 'Mount Alexander Road, A60', 'way_points': [9, 15]}, {'distance': 34.1, 'duration': 8.2, 'type': 1, 'instruction': 'Turn right onto Regent Street', 'name': 'Regent Street', 'way_points': [15, 18]}, {'distance': 84.6, 'duration': 20.3, 'type': 0, 'instruction': 'Turn left', 'name': '-', 'way_points': [18, 22]}, {'distance': 59.7, 'duration': 14.3, 'type': 1, 'instruction': 'Turn right onto Bank Street', 'name': 'Bank Street', 'way_points': [22, 24]}, {'distance': 0.0, 'duration': 0.0, 'type': 10, 'instruction': 'Arrive at Bank Street, on the left', 'name': '-', 'way_points': [24, 24]}]}], 'bbox': [144.926137, -37.774284, 144.930329, -37.772629], 'geometry': 'vopeFquqsZ?@YlFGdAMpCGhAAV@r@Nn@DJHATG^MVKd@O^K?B@RCt@J@bAHz@HH@E|@GfA', 'way_points': [0, 24]}], 'bbox': [144.926137, -37.774284, 144.930329, -37.772629], 'metadata': {'attribution': 'openrouteservice.org | OpenStreetMap contributors', 'service': 'routing', 'timestamp': 1663164253104, 'query': {'coordinates': [[144.9303035, -37.7730663], [144.92612, -37.77432]], 'profile': 'driving-car', 'format': 'json'}, 'engine': {'version': '6.7.0', 'build_date': '2022-02-18T19:37:41Z', 'graph_date': '2022-09-04T14:30:21Z'}}}\n",
      "{'routes': [{'summary': {'distance': 2078.8, 'duration': 354.0}, 'segments': [{'distance': 2078.8, 'duration': 354.0, 'steps': [{'distance': 265.9, 'duration': 38.3, 'type': 11, 'instruction': 'Head north on San Remo Drive', 'name': 'San Remo Drive', 'way_points': [0, 9]}, {'distance': 167.1, 'duration': 25.2, 'type': 0, 'instruction': 'Turn left onto Riviera Road', 'name': 'Riviera Road', 'way_points': [9, 17]}, {'distance': 211.2, 'duration': 50.7, 'type': 7, 'instruction': 'Enter the roundabout and take the 1st exit onto Montpellier Drive', 'name': 'Montpellier Drive', 'exit_number': 1, 'way_points': [17, 26]}, {'distance': 546.7, 'duration': 70.3, 'type': 1, 'instruction': 'Turn right onto Charmaine Avenue', 'name': 'Charmaine Avenue', 'way_points': [26, 35]}, {'distance': 88.8, 'duration': 21.3, 'type': 0, 'instruction': 'Turn left onto Orleans Road', 'name': 'Orleans Road', 'way_points': [35, 42]}, {'distance': 89.7, 'duration': 21.5, 'type': 1, 'instruction': 'Turn right onto St Raphael Street', 'name': 'St Raphael Street', 'way_points': [42, 48]}, {'distance': 272.0, 'duration': 21.8, 'type': 0, 'instruction': 'Turn left onto Military Road, 39', 'name': 'Military Road, 39', 'way_points': [48, 54]}, {'distance': 235.9, 'duration': 56.6, 'type': 0, 'instruction': 'Turn left onto Templewood Crescent', 'name': 'Templewood Crescent', 'way_points': [54, 62]}, {'distance': 97.0, 'duration': 23.3, 'type': 0, 'instruction': 'Turn left onto Thackeray Quadrant', 'name': 'Thackeray Quadrant', 'way_points': [62, 65]}, {'distance': 104.5, 'duration': 25.1, 'type': 0, 'instruction': 'Turn left onto Thackeray Quadrant', 'name': 'Thackeray Quadrant', 'way_points': [65, 70]}, {'distance': 0.0, 'duration': 0.0, 'type': 10, 'instruction': 'Arrive at Thackeray Quadrant, on the right', 'name': '-', 'way_points': [70, 70]}]}], 'bbox': [144.85999, -37.759783, 144.868838, -37.754987], 'geometry': 'nnmeFauesZc@Ee@@]FgDz@o@Nc@DmABUDK@Ej@?h@Bf@H`@l@|BNl@DFHJ@?FALCv@_@PKxAYtAY^?z@Jk@|KW`E?Z?LAD?JGZy@fOALl@?`@Cb@GBALEJEJ?AN?P?jABf@FZDTxDkALC??lC{@f@SpAa@CWCMMuAu@mEKeACi@Bi@Bc@UCiC[KACb@KrBAZF^DT', 'way_points': [0, 70]}], 'bbox': [144.85999, -37.759783, 144.868838, -37.754987], 'metadata': {'attribution': 'openrouteservice.org | OpenStreetMap contributors', 'service': 'routing', 'timestamp': 1663164253448, 'query': {'coordinates': [[144.8691038, -37.7573875], [144.86162, -37.75847]], 'profile': 'driving-car', 'format': 'json'}, 'engine': {'version': '6.7.0', 'build_date': '2022-02-18T19:37:41Z', 'graph_date': '2022-09-04T14:30:21Z'}}}\n",
      "{'routes': [{'summary': {'distance': 955.5, 'duration': 145.5}, 'segments': [{'distance': 955.5, 'duration': 145.5, 'steps': [{'distance': 305.8, 'duration': 36.7, 'type': 11, 'instruction': 'Head west on Johns Street', 'name': 'Johns Street', 'way_points': [0, 2]}, {'distance': 346.7, 'duration': 83.2, 'type': 0, 'instruction': 'Turn left onto Queen Street North', 'name': 'Queen Street North', 'way_points': [2, 14]}, {'distance': 16.8, 'duration': 1.3, 'type': 1, 'instruction': 'Turn right onto Victoria Street, C805', 'name': 'Victoria Street, C805', 'way_points': [14, 16]}, {'distance': 286.2, 'duration': 24.2, 'type': 0, 'instruction': 'Turn left onto Victoria Street Service Road', 'name': 'Victoria Street Service Road', 'way_points': [16, 20]}, {'distance': 0.0, 'duration': 0.0, 'type': 10, 'instruction': 'Arrive at Victoria Street Service Road, on the left', 'name': '-', 'way_points': [20, 20]}]}], 'bbox': [143.873943, -37.561525, 143.879507, -37.557216], 'geometry': 'rkfdF}mdmZRxDx@tNrBi@XIl@Oz@Sv@SJCrBe@HCJCzA]d@MPEDZ@F`@TxAlJL|@`@rC', 'way_points': [0, 20]}], 'bbox': [143.873943, -37.561525, 143.879507, -37.557216], 'metadata': {'attribution': 'openrouteservice.org | OpenStreetMap contributors', 'service': 'routing', 'timestamp': 1663164253789, 'query': {'coordinates': [[143.8794746, -37.5570369], [143.87401, -37.5617]], 'profile': 'driving-car', 'format': 'json'}, 'engine': {'version': '6.7.0', 'build_date': '2022-02-18T19:37:41Z', 'graph_date': '2022-09-04T14:30:21Z'}}}\n"
     ]
    }
   ],
   "source": [
    "routes = []\n",
    "for each in positions:\n",
    "    route = client.directions(\n",
    "        coordinates=each\n",
    "    )\n",
    "    print(route)\n",
    "    routes.append(route['routes'][0]['summary']['distance'])\n"
   ]
  },
  {
   "cell_type": "code",
   "execution_count": 62,
   "id": "77ef1526",
   "metadata": {},
   "outputs": [
    {
     "data": {
      "text/plain": [
       "[886.4, 1070.1, 374.5, 1182.0, 3872.8, 1886.1, 568.2, 2078.8, 955.5]"
      ]
     },
     "execution_count": 62,
     "metadata": {},
     "output_type": "execute_result"
    }
   ],
   "source": [
    "routes"
   ]
  },
  {
   "cell_type": "code",
   "execution_count": 58,
   "id": "bfb4fd68",
   "metadata": {},
   "outputs": [
    {
     "data": {
      "text/plain": [
       "{'type': 'FeatureCollection',\n",
       " 'features': [{'bbox': [143.873966, -37.561854, 143.879507, -37.557216],\n",
       "   'type': 'Feature',\n",
       "   'properties': {'segments': [{'distance': 1075.2,\n",
       "      'duration': 774.2,\n",
       "      'steps': [{'distance': 82.3,\n",
       "        'duration': 59.3,\n",
       "        'type': 11,\n",
       "        'instruction': 'Head west on Johns Street',\n",
       "        'name': 'Johns Street',\n",
       "        'way_points': [0, 1]},\n",
       "       {'distance': 66.6,\n",
       "        'duration': 48.0,\n",
       "        'type': 0,\n",
       "        'instruction': 'Turn left onto Oliver Street',\n",
       "        'name': 'Oliver Street',\n",
       "        'way_points': [1, 2]},\n",
       "       {'distance': 223.3,\n",
       "        'duration': 160.8,\n",
       "        'type': 1,\n",
       "        'instruction': 'Turn right onto Scott Parade',\n",
       "        'name': 'Scott Parade',\n",
       "        'way_points': [2, 5]},\n",
       "       {'distance': 247.5,\n",
       "        'duration': 178.2,\n",
       "        'type': 0,\n",
       "        'instruction': 'Turn left onto Queen Street North',\n",
       "        'name': 'Queen Street North',\n",
       "        'way_points': [5, 14]},\n",
       "       {'distance': 8.7,\n",
       "        'duration': 6.3,\n",
       "        'type': 1,\n",
       "        'instruction': 'Turn right',\n",
       "        'name': '-',\n",
       "        'way_points': [14, 15]},\n",
       "       {'distance': 32.8,\n",
       "        'duration': 23.6,\n",
       "        'type': 0,\n",
       "        'instruction': 'Turn left',\n",
       "        'name': '-',\n",
       "        'way_points': [15, 17]},\n",
       "       {'distance': 4.2,\n",
       "        'duration': 3.0,\n",
       "        'type': 1,\n",
       "        'instruction': 'Turn right onto Victoria Street, C805',\n",
       "        'name': 'Victoria Street, C805',\n",
       "        'way_points': [17, 18]},\n",
       "       {'distance': 189.8,\n",
       "        'duration': 136.6,\n",
       "        'type': 0,\n",
       "        'instruction': 'Turn left onto Victoria Street Service Road',\n",
       "        'name': 'Victoria Street Service Road',\n",
       "        'way_points': [18, 20]},\n",
       "       {'distance': 63.5,\n",
       "        'duration': 45.7,\n",
       "        'type': 0,\n",
       "        'instruction': 'Turn left onto Otway Street South',\n",
       "        'name': 'Otway Street South',\n",
       "        'way_points': [20, 21]},\n",
       "       {'distance': 9.5,\n",
       "        'duration': 6.8,\n",
       "        'type': 1,\n",
       "        'instruction': 'Turn right onto Hopetoun Street',\n",
       "        'name': 'Hopetoun Street',\n",
       "        'way_points': [21, 22]},\n",
       "       {'distance': 2.7,\n",
       "        'duration': 1.9,\n",
       "        'type': 1,\n",
       "        'instruction': 'Turn right',\n",
       "        'name': '-',\n",
       "        'way_points': [22, 23]},\n",
       "       {'distance': 144.4,\n",
       "        'duration': 104.0,\n",
       "        'type': 1,\n",
       "        'instruction': 'Turn right',\n",
       "        'name': '-',\n",
       "        'way_points': [23, 26]},\n",
       "       {'distance': 0.0,\n",
       "        'duration': 0.0,\n",
       "        'type': 10,\n",
       "        'instruction': 'Arrive at your destination, on the left',\n",
       "        'name': '-',\n",
       "        'way_points': [26, 26]}]}],\n",
       "    'summary': {'distance': 1075.2, 'duration': 774.2},\n",
       "    'way_points': [0, 26]},\n",
       "   'geometry': {'coordinates': [[143.879507, -37.557216],\n",
       "     [143.878583, -37.557321],\n",
       "     [143.878786, -37.557899],\n",
       "     [143.876703, -37.558118],\n",
       "     [143.87631, -37.558186],\n",
       "     [143.876281, -37.558187],\n",
       "     [143.876327, -37.55832],\n",
       "     [143.876407, -37.558546],\n",
       "     [143.87651, -37.558846],\n",
       "     [143.876614, -37.559131],\n",
       "     [143.876631, -37.559194],\n",
       "     [143.876823, -37.559772],\n",
       "     [143.876839, -37.55982],\n",
       "     [143.876859, -37.559877],\n",
       "     [143.877012, -37.560336],\n",
       "     [143.876918, -37.56036],\n",
       "     [143.876945, -37.560554],\n",
       "     [143.876971, -37.560652],\n",
       "     [143.876926, -37.560664],\n",
       "     [143.876824, -37.560833],\n",
       "     [143.874993, -37.56128],\n",
       "     [143.875185, -37.56183],\n",
       "     [143.875082, -37.561854],\n",
       "     [143.875074, -37.561831],\n",
       "     [143.87509, -37.561827],\n",
       "     [143.874922, -37.561353],\n",
       "     [143.873966, -37.561584]],\n",
       "    'type': 'LineString'}}],\n",
       " 'bbox': [143.873966, -37.561854, 143.879507, -37.557216],\n",
       " 'metadata': {'attribution': 'openrouteservice.org | OpenStreetMap contributors',\n",
       "  'service': 'routing',\n",
       "  'timestamp': 1663164086151,\n",
       "  'query': {'coordinates': [[143.8794746, -37.5570369], [143.87401, -37.5617]],\n",
       "   'profile': 'foot-walking',\n",
       "   'format': 'geojson',\n",
       "   'options': {'avoid_features': ['steps']}},\n",
       "  'engine': {'version': '6.7.0',\n",
       "   'build_date': '2022-02-18T19:37:41Z',\n",
       "   'graph_date': '2022-09-06T07:58:44Z'}}}"
      ]
     },
     "execution_count": 58,
     "metadata": {},
     "output_type": "execute_result"
    }
   ],
   "source": [
    "route"
   ]
  },
  {
   "cell_type": "code",
   "execution_count": null,
   "id": "33ce39ba",
   "metadata": {},
   "outputs": [],
   "source": []
  }
 ],
 "metadata": {
  "kernelspec": {
   "display_name": "Python 3 (ipykernel)",
   "language": "python",
   "name": "python3"
  },
  "language_info": {
   "codemirror_mode": {
    "name": "ipython",
    "version": 3
   },
   "file_extension": ".py",
   "mimetype": "text/x-python",
   "name": "python",
   "nbconvert_exporter": "python",
   "pygments_lexer": "ipython3",
   "version": "3.10.4"
  }
 },
 "nbformat": 4,
 "nbformat_minor": 5
}
