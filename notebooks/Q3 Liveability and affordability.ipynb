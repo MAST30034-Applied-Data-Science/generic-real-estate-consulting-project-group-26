{
 "cells": [
  {
   "cell_type": "code",
   "execution_count": 11,
   "metadata": {},
   "outputs": [],
   "source": [
    "# import required libries\n",
    "import pandas as pd\n",
    "\n",
    "# define required path\n",
    "raw_data = '../data/raw/'\n",
    "curated_data = '../data/curated/'"
   ]
  },
  {
   "cell_type": "markdown",
   "metadata": {},
   "source": [
    "# Liveability"
   ]
  },
  {
   "cell_type": "code",
   "execution_count": 12,
   "metadata": {},
   "outputs": [],
   "source": [
    "suburbs = pd.read_csv(curated_data + 'normalized_data.csv', index_col = 0)"
   ]
  },
  {
   "cell_type": "code",
   "execution_count": 13,
   "metadata": {},
   "outputs": [],
   "source": [
    "attributes = ['shopping_count', 'population', 'crime_rate', 'num_station', 'num facilites', 'num hospital', 'num school']\n",
    "for feature_name in attributes:\n",
    "    mean_value = suburbs[feature_name].mean()\n",
    "    suburbs[feature_name] = (suburbs[feature_name] - mean_value)"
   ]
  },
  {
   "cell_type": "code",
   "execution_count": 14,
   "metadata": {},
   "outputs": [],
   "source": [
    "# Crime rate has negative effect\n",
    "suburbs['crime_rate'] = -suburbs['crime_rate']"
   ]
  },
  {
   "cell_type": "code",
   "execution_count": 15,
   "metadata": {},
   "outputs": [],
   "source": [
    "suburbs['Liveability'] = (suburbs['shopping_count']*10 + suburbs['num_station']*10 + suburbs['num facilites']*10 + suburbs['num hospital']*20 +\n",
    "suburbs['population']*20 + suburbs['crime_rate']*30)"
   ]
  },
  {
   "cell_type": "code",
   "execution_count": 16,
   "metadata": {},
   "outputs": [],
   "source": [
    "suburbs.sort_values(by=['Liveability'], inplace=True, ascending=False)"
   ]
  },
  {
   "cell_type": "code",
   "execution_count": 17,
   "metadata": {},
   "outputs": [],
   "source": [
    "suburbs.reset_index(drop = True, inplace = True)"
   ]
  },
  {
   "cell_type": "code",
   "execution_count": 18,
   "metadata": {},
   "outputs": [
    {
     "data": {
      "text/html": [
       "<div>\n",
       "<style scoped>\n",
       "    .dataframe tbody tr th:only-of-type {\n",
       "        vertical-align: middle;\n",
       "    }\n",
       "\n",
       "    .dataframe tbody tr th {\n",
       "        vertical-align: top;\n",
       "    }\n",
       "\n",
       "    .dataframe thead th {\n",
       "        text-align: right;\n",
       "    }\n",
       "</style>\n",
       "<table border=\"1\" class=\"dataframe\">\n",
       "  <thead>\n",
       "    <tr style=\"text-align: right;\">\n",
       "      <th></th>\n",
       "      <th>Suburb</th>\n",
       "      <th>shopping_count</th>\n",
       "      <th>population</th>\n",
       "      <th>crime_rate</th>\n",
       "      <th>num_station</th>\n",
       "      <th>num facilites</th>\n",
       "      <th>num hospital</th>\n",
       "      <th>num school</th>\n",
       "      <th>Liveability</th>\n",
       "    </tr>\n",
       "  </thead>\n",
       "  <tbody>\n",
       "    <tr>\n",
       "      <th>0</th>\n",
       "      <td>FRANKSTON</td>\n",
       "      <td>0.348165</td>\n",
       "      <td>0.303667</td>\n",
       "      <td>0.134580</td>\n",
       "      <td>0.237158</td>\n",
       "      <td>0.754961</td>\n",
       "      <td>0.615925</td>\n",
       "      <td>0.131148</td>\n",
       "      <td>35.832086</td>\n",
       "    </tr>\n",
       "    <tr>\n",
       "      <th>1</th>\n",
       "      <td>FOOTSCRAY</td>\n",
       "      <td>0.205308</td>\n",
       "      <td>0.107287</td>\n",
       "      <td>0.068933</td>\n",
       "      <td>0.237158</td>\n",
       "      <td>0.070751</td>\n",
       "      <td>0.901639</td>\n",
       "      <td>0.031148</td>\n",
       "      <td>27.378687</td>\n",
       "    </tr>\n",
       "    <tr>\n",
       "      <th>2</th>\n",
       "      <td>DANDENONG</td>\n",
       "      <td>0.205308</td>\n",
       "      <td>0.512214</td>\n",
       "      <td>0.095089</td>\n",
       "      <td>0.037158</td>\n",
       "      <td>0.149698</td>\n",
       "      <td>0.330211</td>\n",
       "      <td>0.031148</td>\n",
       "      <td>23.622815</td>\n",
       "    </tr>\n",
       "    <tr>\n",
       "      <th>3</th>\n",
       "      <td>CAMBERWELL</td>\n",
       "      <td>0.062451</td>\n",
       "      <td>0.231144</td>\n",
       "      <td>0.180064</td>\n",
       "      <td>0.837158</td>\n",
       "      <td>0.070751</td>\n",
       "      <td>0.187354</td>\n",
       "      <td>-0.068852</td>\n",
       "      <td>23.475480</td>\n",
       "    </tr>\n",
       "    <tr>\n",
       "      <th>4</th>\n",
       "      <td>WODONGA</td>\n",
       "      <td>0.491023</td>\n",
       "      <td>0.273610</td>\n",
       "      <td>0.200714</td>\n",
       "      <td>-0.162842</td>\n",
       "      <td>0.412856</td>\n",
       "      <td>0.187354</td>\n",
       "      <td>0.231148</td>\n",
       "      <td>22.651073</td>\n",
       "    </tr>\n",
       "    <tr>\n",
       "      <th>5</th>\n",
       "      <td>MORNINGTON</td>\n",
       "      <td>0.348165</td>\n",
       "      <td>0.364233</td>\n",
       "      <td>0.134580</td>\n",
       "      <td>-0.162842</td>\n",
       "      <td>0.281277</td>\n",
       "      <td>0.330211</td>\n",
       "      <td>0.031148</td>\n",
       "      <td>22.592290</td>\n",
       "    </tr>\n",
       "    <tr>\n",
       "      <th>6</th>\n",
       "      <td>RICHMOND</td>\n",
       "      <td>0.062451</td>\n",
       "      <td>0.507795</td>\n",
       "      <td>-0.282459</td>\n",
       "      <td>0.637158</td>\n",
       "      <td>0.623382</td>\n",
       "      <td>0.330211</td>\n",
       "      <td>0.131148</td>\n",
       "      <td>21.516266</td>\n",
       "    </tr>\n",
       "    <tr>\n",
       "      <th>7</th>\n",
       "      <td>BERWICK</td>\n",
       "      <td>0.205308</td>\n",
       "      <td>0.281843</td>\n",
       "      <td>0.178580</td>\n",
       "      <td>0.037158</td>\n",
       "      <td>0.018119</td>\n",
       "      <td>0.330211</td>\n",
       "      <td>0.131148</td>\n",
       "      <td>20.204343</td>\n",
       "    </tr>\n",
       "    <tr>\n",
       "      <th>8</th>\n",
       "      <td>GLEN WAVERLEY</td>\n",
       "      <td>0.205308</td>\n",
       "      <td>0.242858</td>\n",
       "      <td>0.180064</td>\n",
       "      <td>0.237158</td>\n",
       "      <td>0.281277</td>\n",
       "      <td>0.044496</td>\n",
       "      <td>0.131148</td>\n",
       "      <td>18.386448</td>\n",
       "    </tr>\n",
       "    <tr>\n",
       "      <th>9</th>\n",
       "      <td>PAKENHAM</td>\n",
       "      <td>0.205308</td>\n",
       "      <td>0.598206</td>\n",
       "      <td>0.115923</td>\n",
       "      <td>0.237158</td>\n",
       "      <td>0.044435</td>\n",
       "      <td>-0.098361</td>\n",
       "      <td>0.131148</td>\n",
       "      <td>18.343615</td>\n",
       "    </tr>\n",
       "  </tbody>\n",
       "</table>\n",
       "</div>"
      ],
      "text/plain": [
       "          Suburb  shopping_count  population  crime_rate  num_station  \\\n",
       "0      FRANKSTON        0.348165    0.303667    0.134580     0.237158   \n",
       "1      FOOTSCRAY        0.205308    0.107287    0.068933     0.237158   \n",
       "2      DANDENONG        0.205308    0.512214    0.095089     0.037158   \n",
       "3     CAMBERWELL        0.062451    0.231144    0.180064     0.837158   \n",
       "4        WODONGA        0.491023    0.273610    0.200714    -0.162842   \n",
       "5     MORNINGTON        0.348165    0.364233    0.134580    -0.162842   \n",
       "6       RICHMOND        0.062451    0.507795   -0.282459     0.637158   \n",
       "7        BERWICK        0.205308    0.281843    0.178580     0.037158   \n",
       "8  GLEN WAVERLEY        0.205308    0.242858    0.180064     0.237158   \n",
       "9       PAKENHAM        0.205308    0.598206    0.115923     0.237158   \n",
       "\n",
       "   num facilites  num hospital  num school  Liveability  \n",
       "0       0.754961      0.615925    0.131148    35.832086  \n",
       "1       0.070751      0.901639    0.031148    27.378687  \n",
       "2       0.149698      0.330211    0.031148    23.622815  \n",
       "3       0.070751      0.187354   -0.068852    23.475480  \n",
       "4       0.412856      0.187354    0.231148    22.651073  \n",
       "5       0.281277      0.330211    0.031148    22.592290  \n",
       "6       0.623382      0.330211    0.131148    21.516266  \n",
       "7       0.018119      0.330211    0.131148    20.204343  \n",
       "8       0.281277      0.044496    0.131148    18.386448  \n",
       "9       0.044435     -0.098361    0.131148    18.343615  "
      ]
     },
     "execution_count": 18,
     "metadata": {},
     "output_type": "execute_result"
    }
   ],
   "source": [
    "suburbs.head(10)"
   ]
  },
  {
   "cell_type": "code",
   "execution_count": 19,
   "metadata": {},
   "outputs": [],
   "source": [
    "suburbs[['Suburb', 'Liveability']].to_csv(curated_data + 'Liveability_rank.csv')"
   ]
  },
  {
   "cell_type": "markdown",
   "metadata": {},
   "source": [
    "# Affordability"
   ]
  },
  {
   "cell_type": "code",
   "execution_count": 20,
   "metadata": {},
   "outputs": [],
   "source": [
    "suburbs2 = pd.read_csv(curated_data + 'final_table.csv',index_col = 0)[['Suburb', '2021 rent', '2018_income']]"
   ]
  },
  {
   "cell_type": "code",
   "execution_count": 21,
   "metadata": {},
   "outputs": [],
   "source": [
    "suburbs2['Affordability'] = suburbs2['2021 rent'] / suburbs2['2018_income']"
   ]
  },
  {
   "cell_type": "code",
   "execution_count": 22,
   "metadata": {},
   "outputs": [],
   "source": [
    "suburbs2.sort_values(by=['Affordability'], inplace=True)"
   ]
  },
  {
   "cell_type": "code",
   "execution_count": 23,
   "metadata": {},
   "outputs": [],
   "source": [
    "suburbs2.reset_index(drop = True, inplace = True)"
   ]
  },
  {
   "cell_type": "code",
   "execution_count": 24,
   "metadata": {},
   "outputs": [
    {
     "data": {
      "text/html": [
       "<div>\n",
       "<style scoped>\n",
       "    .dataframe tbody tr th:only-of-type {\n",
       "        vertical-align: middle;\n",
       "    }\n",
       "\n",
       "    .dataframe tbody tr th {\n",
       "        vertical-align: top;\n",
       "    }\n",
       "\n",
       "    .dataframe thead th {\n",
       "        text-align: right;\n",
       "    }\n",
       "</style>\n",
       "<table border=\"1\" class=\"dataframe\">\n",
       "  <thead>\n",
       "    <tr style=\"text-align: right;\">\n",
       "      <th></th>\n",
       "      <th>Suburb</th>\n",
       "      <th>2021 rent</th>\n",
       "      <th>2018_income</th>\n",
       "      <th>Affordability</th>\n",
       "    </tr>\n",
       "  </thead>\n",
       "  <tbody>\n",
       "    <tr>\n",
       "      <th>0</th>\n",
       "      <td>TOORAK</td>\n",
       "      <td>515</td>\n",
       "      <td>188906.0</td>\n",
       "      <td>0.002726</td>\n",
       "    </tr>\n",
       "    <tr>\n",
       "      <th>1</th>\n",
       "      <td>EAST MELBOURNE</td>\n",
       "      <td>450</td>\n",
       "      <td>132130.0</td>\n",
       "      <td>0.003406</td>\n",
       "    </tr>\n",
       "    <tr>\n",
       "      <th>2</th>\n",
       "      <td>HAWTHORN</td>\n",
       "      <td>390</td>\n",
       "      <td>104364.0</td>\n",
       "      <td>0.003737</td>\n",
       "    </tr>\n",
       "    <tr>\n",
       "      <th>3</th>\n",
       "      <td>MALVERN</td>\n",
       "      <td>450</td>\n",
       "      <td>119392.0</td>\n",
       "      <td>0.003769</td>\n",
       "    </tr>\n",
       "    <tr>\n",
       "      <th>4</th>\n",
       "      <td>GLEN IRIS</td>\n",
       "      <td>480</td>\n",
       "      <td>119392.0</td>\n",
       "      <td>0.004020</td>\n",
       "    </tr>\n",
       "    <tr>\n",
       "      <th>5</th>\n",
       "      <td>ARMADALE</td>\n",
       "      <td>450</td>\n",
       "      <td>111629.0</td>\n",
       "      <td>0.004031</td>\n",
       "    </tr>\n",
       "    <tr>\n",
       "      <th>6</th>\n",
       "      <td>MALVERN EAST</td>\n",
       "      <td>420</td>\n",
       "      <td>101673.0</td>\n",
       "      <td>0.004131</td>\n",
       "    </tr>\n",
       "    <tr>\n",
       "      <th>7</th>\n",
       "      <td>ALBERT PARK</td>\n",
       "      <td>500</td>\n",
       "      <td>120412.0</td>\n",
       "      <td>0.004152</td>\n",
       "    </tr>\n",
       "    <tr>\n",
       "      <th>8</th>\n",
       "      <td>MIDDLE PARK</td>\n",
       "      <td>500</td>\n",
       "      <td>120412.0</td>\n",
       "      <td>0.004152</td>\n",
       "    </tr>\n",
       "    <tr>\n",
       "      <th>9</th>\n",
       "      <td>IVANHOE EAST</td>\n",
       "      <td>465</td>\n",
       "      <td>111558.0</td>\n",
       "      <td>0.004168</td>\n",
       "    </tr>\n",
       "  </tbody>\n",
       "</table>\n",
       "</div>"
      ],
      "text/plain": [
       "           Suburb  2021 rent  2018_income  Affordability\n",
       "0          TOORAK        515     188906.0       0.002726\n",
       "1  EAST MELBOURNE        450     132130.0       0.003406\n",
       "2        HAWTHORN        390     104364.0       0.003737\n",
       "3         MALVERN        450     119392.0       0.003769\n",
       "4       GLEN IRIS        480     119392.0       0.004020\n",
       "5        ARMADALE        450     111629.0       0.004031\n",
       "6    MALVERN EAST        420     101673.0       0.004131\n",
       "7     ALBERT PARK        500     120412.0       0.004152\n",
       "8     MIDDLE PARK        500     120412.0       0.004152\n",
       "9    IVANHOE EAST        465     111558.0       0.004168"
      ]
     },
     "execution_count": 24,
     "metadata": {},
     "output_type": "execute_result"
    }
   ],
   "source": [
    "suburbs2.head(10)"
   ]
  },
  {
   "cell_type": "code",
   "execution_count": 65,
   "metadata": {},
   "outputs": [],
   "source": [
    "suburbs2[['Suburb', 'Affordability']].to_csv(curated_data + 'Affordability_rank.csv')"
   ]
  }
 ],
 "metadata": {
  "kernelspec": {
   "display_name": "Python 3.8.10 64-bit",
   "language": "python",
   "name": "python3"
  },
  "language_info": {
   "codemirror_mode": {
    "name": "ipython",
    "version": 3
   },
   "file_extension": ".py",
   "mimetype": "text/x-python",
   "name": "python",
   "nbconvert_exporter": "python",
   "pygments_lexer": "ipython3",
   "version": "3.8.10"
  },
  "orig_nbformat": 4,
  "vscode": {
   "interpreter": {
    "hash": "916dbcbb3f70747c44a77c7bcd40155683ae19c65e1c03b4aa3499c5328201f1"
   }
  }
 },
 "nbformat": 4,
 "nbformat_minor": 2
}
