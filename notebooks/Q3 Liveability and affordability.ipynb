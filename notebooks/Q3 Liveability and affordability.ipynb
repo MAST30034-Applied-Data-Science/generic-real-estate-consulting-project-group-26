{
 "cells": [
  {
   "cell_type": "code",
   "execution_count": 33,
   "metadata": {},
   "outputs": [],
   "source": [
    "# import required libries\n",
    "import pandas as pd\n",
    "\n",
    "# define required path\n",
    "raw_data = '../data/raw/'\n",
    "curated_data = '../data/curated/'"
   ]
  },
  {
   "cell_type": "markdown",
   "metadata": {},
   "source": [
    "# Liveability"
   ]
  },
  {
   "cell_type": "code",
   "execution_count": 34,
   "metadata": {},
   "outputs": [],
   "source": [
    "suburbs = pd.read_csv(curated_data + 'normalized_data.csv', index_col = 0)"
   ]
  },
  {
   "cell_type": "code",
   "execution_count": 35,
   "metadata": {},
   "outputs": [],
   "source": [
    "attributes = ['shopping_count', 'population', 'crime_rate', 'num_station', 'num facilites', 'num hospital', 'num school']\n",
    "for feature_name in attributes:\n",
    "    mean_value = suburbs[feature_name].mean()\n",
    "    suburbs[feature_name] = (suburbs[feature_name] - mean_value)"
   ]
  },
  {
   "cell_type": "code",
   "execution_count": 36,
   "metadata": {},
   "outputs": [],
   "source": [
    "# Crime rate has negative effect\n",
    "suburbs['crime_rate'] = -suburbs['crime_rate']"
   ]
  },
  {
   "cell_type": "code",
   "execution_count": 37,
   "metadata": {},
   "outputs": [],
   "source": [
    "# Set different importance to attributes. Set crime hospital and crime with a larger \n",
    "# constant because they are considered with more weight\n",
    "NORMAL_WEIGHT = 10\n",
    "IMPORTANT_WEIGHT = 20\n",
    "suburbs['Liveability'] = (suburbs['shopping_count']*NORMAL_WEIGHT + suburbs['num_station']*NORMAL_WEIGHT + \n",
    "suburbs['num facilites']*NORMAL_WEIGHT + suburbs['num hospital']*IMPORTANT_WEIGHT + suburbs['num school']*NORMAL_WEIGHT +\n",
    "suburbs['population']*NORMAL_WEIGHT + suburbs['crime_rate']*IMPORTANT_WEIGHT)"
   ]
  },
  {
   "cell_type": "code",
   "execution_count": 38,
   "metadata": {},
   "outputs": [],
   "source": [
    "# Order the table\n",
    "suburbs.sort_values(by=['Liveability'], inplace=True, ascending=False)"
   ]
  },
  {
   "cell_type": "code",
   "execution_count": 39,
   "metadata": {},
   "outputs": [],
   "source": [
    "suburbs.reset_index(drop = True, inplace = True)"
   ]
  },
  {
   "cell_type": "code",
   "execution_count": 40,
   "metadata": {},
   "outputs": [
    {
     "data": {
      "text/html": [
       "<div>\n",
       "<style scoped>\n",
       "    .dataframe tbody tr th:only-of-type {\n",
       "        vertical-align: middle;\n",
       "    }\n",
       "\n",
       "    .dataframe tbody tr th {\n",
       "        vertical-align: top;\n",
       "    }\n",
       "\n",
       "    .dataframe thead th {\n",
       "        text-align: right;\n",
       "    }\n",
       "</style>\n",
       "<table border=\"1\" class=\"dataframe\">\n",
       "  <thead>\n",
       "    <tr style=\"text-align: right;\">\n",
       "      <th></th>\n",
       "      <th>Suburb</th>\n",
       "      <th>shopping_count</th>\n",
       "      <th>population</th>\n",
       "      <th>crime_rate</th>\n",
       "      <th>num_station</th>\n",
       "      <th>num facilites</th>\n",
       "      <th>num hospital</th>\n",
       "      <th>num school</th>\n",
       "      <th>Liveability</th>\n",
       "    </tr>\n",
       "  </thead>\n",
       "  <tbody>\n",
       "    <tr>\n",
       "      <th>0</th>\n",
       "      <td>FRANKSTON</td>\n",
       "      <td>0.348165</td>\n",
       "      <td>0.303667</td>\n",
       "      <td>0.134580</td>\n",
       "      <td>0.237158</td>\n",
       "      <td>0.754961</td>\n",
       "      <td>0.615925</td>\n",
       "      <td>0.131148</td>\n",
       "      <td>32.761094</td>\n",
       "    </tr>\n",
       "    <tr>\n",
       "      <th>1</th>\n",
       "      <td>FOOTSCRAY</td>\n",
       "      <td>0.205308</td>\n",
       "      <td>0.107287</td>\n",
       "      <td>0.068933</td>\n",
       "      <td>0.237158</td>\n",
       "      <td>0.070751</td>\n",
       "      <td>0.901639</td>\n",
       "      <td>0.031148</td>\n",
       "      <td>25.927965</td>\n",
       "    </tr>\n",
       "    <tr>\n",
       "      <th>2</th>\n",
       "      <td>RICHMOND</td>\n",
       "      <td>0.062451</td>\n",
       "      <td>0.507795</td>\n",
       "      <td>-0.282459</td>\n",
       "      <td>0.637158</td>\n",
       "      <td>0.623382</td>\n",
       "      <td>0.330211</td>\n",
       "      <td>0.131148</td>\n",
       "      <td>20.574380</td>\n",
       "    </tr>\n",
       "    <tr>\n",
       "      <th>3</th>\n",
       "      <td>WODONGA</td>\n",
       "      <td>0.491023</td>\n",
       "      <td>0.273610</td>\n",
       "      <td>0.200714</td>\n",
       "      <td>-0.162842</td>\n",
       "      <td>0.412856</td>\n",
       "      <td>0.187354</td>\n",
       "      <td>0.231148</td>\n",
       "      <td>20.219304</td>\n",
       "    </tr>\n",
       "    <tr>\n",
       "      <th>4</th>\n",
       "      <td>CAMBERWELL</td>\n",
       "      <td>0.062451</td>\n",
       "      <td>0.231144</td>\n",
       "      <td>0.180064</td>\n",
       "      <td>0.837158</td>\n",
       "      <td>0.070751</td>\n",
       "      <td>0.187354</td>\n",
       "      <td>-0.068852</td>\n",
       "      <td>18.674874</td>\n",
       "    </tr>\n",
       "    <tr>\n",
       "      <th>5</th>\n",
       "      <td>MORNINGTON</td>\n",
       "      <td>0.348165</td>\n",
       "      <td>0.364233</td>\n",
       "      <td>0.134580</td>\n",
       "      <td>-0.162842</td>\n",
       "      <td>0.281277</td>\n",
       "      <td>0.330211</td>\n",
       "      <td>0.031148</td>\n",
       "      <td>17.915633</td>\n",
       "    </tr>\n",
       "    <tr>\n",
       "      <th>6</th>\n",
       "      <td>DANDENONG</td>\n",
       "      <td>0.205308</td>\n",
       "      <td>0.512214</td>\n",
       "      <td>0.095089</td>\n",
       "      <td>0.037158</td>\n",
       "      <td>0.149698</td>\n",
       "      <td>0.330211</td>\n",
       "      <td>0.031148</td>\n",
       "      <td>17.861258</td>\n",
       "    </tr>\n",
       "    <tr>\n",
       "      <th>7</th>\n",
       "      <td>BERWICK</td>\n",
       "      <td>0.205308</td>\n",
       "      <td>0.281843</td>\n",
       "      <td>0.178580</td>\n",
       "      <td>0.037158</td>\n",
       "      <td>0.018119</td>\n",
       "      <td>0.330211</td>\n",
       "      <td>0.131148</td>\n",
       "      <td>16.911584</td>\n",
       "    </tr>\n",
       "    <tr>\n",
       "      <th>8</th>\n",
       "      <td>GLEN WAVERLEY</td>\n",
       "      <td>0.205308</td>\n",
       "      <td>0.242858</td>\n",
       "      <td>0.180064</td>\n",
       "      <td>0.237158</td>\n",
       "      <td>0.281277</td>\n",
       "      <td>0.044496</td>\n",
       "      <td>0.131148</td>\n",
       "      <td>15.468703</td>\n",
       "    </tr>\n",
       "    <tr>\n",
       "      <th>9</th>\n",
       "      <td>BENDIGO</td>\n",
       "      <td>0.348165</td>\n",
       "      <td>-0.088669</td>\n",
       "      <td>-0.061805</td>\n",
       "      <td>-0.162842</td>\n",
       "      <td>0.570751</td>\n",
       "      <td>0.330211</td>\n",
       "      <td>0.331148</td>\n",
       "      <td>15.353650</td>\n",
       "    </tr>\n",
       "  </tbody>\n",
       "</table>\n",
       "</div>"
      ],
      "text/plain": [
       "          Suburb  shopping_count  population  crime_rate  num_station  \\\n",
       "0      FRANKSTON        0.348165    0.303667    0.134580     0.237158   \n",
       "1      FOOTSCRAY        0.205308    0.107287    0.068933     0.237158   \n",
       "2       RICHMOND        0.062451    0.507795   -0.282459     0.637158   \n",
       "3        WODONGA        0.491023    0.273610    0.200714    -0.162842   \n",
       "4     CAMBERWELL        0.062451    0.231144    0.180064     0.837158   \n",
       "5     MORNINGTON        0.348165    0.364233    0.134580    -0.162842   \n",
       "6      DANDENONG        0.205308    0.512214    0.095089     0.037158   \n",
       "7        BERWICK        0.205308    0.281843    0.178580     0.037158   \n",
       "8  GLEN WAVERLEY        0.205308    0.242858    0.180064     0.237158   \n",
       "9        BENDIGO        0.348165   -0.088669   -0.061805    -0.162842   \n",
       "\n",
       "   num facilites  num hospital  num school  Liveability  \n",
       "0       0.754961      0.615925    0.131148    32.761094  \n",
       "1       0.070751      0.901639    0.031148    25.927965  \n",
       "2       0.623382      0.330211    0.131148    20.574380  \n",
       "3       0.412856      0.187354    0.231148    20.219304  \n",
       "4       0.070751      0.187354   -0.068852    18.674874  \n",
       "5       0.281277      0.330211    0.031148    17.915633  \n",
       "6       0.149698      0.330211    0.031148    17.861258  \n",
       "7       0.018119      0.330211    0.131148    16.911584  \n",
       "8       0.281277      0.044496    0.131148    15.468703  \n",
       "9       0.570751      0.330211    0.331148    15.353650  "
      ]
     },
     "execution_count": 40,
     "metadata": {},
     "output_type": "execute_result"
    }
   ],
   "source": [
    "suburbs.head(10)"
   ]
  },
  {
   "cell_type": "code",
   "execution_count": 41,
   "metadata": {},
   "outputs": [],
   "source": [
    "suburbs[['Suburb', 'Liveability']].to_csv(curated_data + 'Liveability_rank.csv')"
   ]
  },
  {
   "cell_type": "markdown",
   "metadata": {},
   "source": [
    "# Affordability"
   ]
  },
  {
   "cell_type": "code",
   "execution_count": 42,
   "metadata": {},
   "outputs": [],
   "source": [
    "suburbs2 = pd.read_csv(curated_data + 'final_table.csv',index_col = 0)[['Suburb', '2021 rent', '2018_income']]"
   ]
  },
  {
   "cell_type": "code",
   "execution_count": 43,
   "metadata": {},
   "outputs": [],
   "source": [
    "# Assume that the rental price represents the commodity price\n",
    "# This is the formula of affordability\n",
    "suburbs2['Affordability'] = suburbs2['2018_income'] / suburbs2['2021 rent']"
   ]
  },
  {
   "cell_type": "code",
   "execution_count": 44,
   "metadata": {},
   "outputs": [],
   "source": [
    "# sort the table\n",
    "suburbs2.sort_values(by=['Affordability'], inplace=True, ascending=False)"
   ]
  },
  {
   "cell_type": "code",
   "execution_count": 45,
   "metadata": {},
   "outputs": [],
   "source": [
    "suburbs2.reset_index(drop = True, inplace = True)"
   ]
  },
  {
   "cell_type": "code",
   "execution_count": 46,
   "metadata": {},
   "outputs": [
    {
     "data": {
      "text/html": [
       "<div>\n",
       "<style scoped>\n",
       "    .dataframe tbody tr th:only-of-type {\n",
       "        vertical-align: middle;\n",
       "    }\n",
       "\n",
       "    .dataframe tbody tr th {\n",
       "        vertical-align: top;\n",
       "    }\n",
       "\n",
       "    .dataframe thead th {\n",
       "        text-align: right;\n",
       "    }\n",
       "</style>\n",
       "<table border=\"1\" class=\"dataframe\">\n",
       "  <thead>\n",
       "    <tr style=\"text-align: right;\">\n",
       "      <th></th>\n",
       "      <th>Suburb</th>\n",
       "      <th>2021 rent</th>\n",
       "      <th>2018_income</th>\n",
       "      <th>Affordability</th>\n",
       "    </tr>\n",
       "  </thead>\n",
       "  <tbody>\n",
       "    <tr>\n",
       "      <th>0</th>\n",
       "      <td>TOORAK</td>\n",
       "      <td>515</td>\n",
       "      <td>188906.0</td>\n",
       "      <td>366.807767</td>\n",
       "    </tr>\n",
       "    <tr>\n",
       "      <th>1</th>\n",
       "      <td>EAST MELBOURNE</td>\n",
       "      <td>450</td>\n",
       "      <td>132130.0</td>\n",
       "      <td>293.622222</td>\n",
       "    </tr>\n",
       "    <tr>\n",
       "      <th>2</th>\n",
       "      <td>HAWTHORN</td>\n",
       "      <td>390</td>\n",
       "      <td>104364.0</td>\n",
       "      <td>267.600000</td>\n",
       "    </tr>\n",
       "    <tr>\n",
       "      <th>3</th>\n",
       "      <td>MALVERN</td>\n",
       "      <td>450</td>\n",
       "      <td>119392.0</td>\n",
       "      <td>265.315556</td>\n",
       "    </tr>\n",
       "    <tr>\n",
       "      <th>4</th>\n",
       "      <td>GLEN IRIS</td>\n",
       "      <td>480</td>\n",
       "      <td>119392.0</td>\n",
       "      <td>248.733333</td>\n",
       "    </tr>\n",
       "    <tr>\n",
       "      <th>5</th>\n",
       "      <td>ARMADALE</td>\n",
       "      <td>450</td>\n",
       "      <td>111629.0</td>\n",
       "      <td>248.064444</td>\n",
       "    </tr>\n",
       "    <tr>\n",
       "      <th>6</th>\n",
       "      <td>MALVERN EAST</td>\n",
       "      <td>420</td>\n",
       "      <td>101673.0</td>\n",
       "      <td>242.078571</td>\n",
       "    </tr>\n",
       "    <tr>\n",
       "      <th>7</th>\n",
       "      <td>ALBERT PARK</td>\n",
       "      <td>500</td>\n",
       "      <td>120412.0</td>\n",
       "      <td>240.824000</td>\n",
       "    </tr>\n",
       "    <tr>\n",
       "      <th>8</th>\n",
       "      <td>MIDDLE PARK</td>\n",
       "      <td>500</td>\n",
       "      <td>120412.0</td>\n",
       "      <td>240.824000</td>\n",
       "    </tr>\n",
       "    <tr>\n",
       "      <th>9</th>\n",
       "      <td>IVANHOE EAST</td>\n",
       "      <td>465</td>\n",
       "      <td>111558.0</td>\n",
       "      <td>239.909677</td>\n",
       "    </tr>\n",
       "  </tbody>\n",
       "</table>\n",
       "</div>"
      ],
      "text/plain": [
       "           Suburb  2021 rent  2018_income  Affordability\n",
       "0          TOORAK        515     188906.0     366.807767\n",
       "1  EAST MELBOURNE        450     132130.0     293.622222\n",
       "2        HAWTHORN        390     104364.0     267.600000\n",
       "3         MALVERN        450     119392.0     265.315556\n",
       "4       GLEN IRIS        480     119392.0     248.733333\n",
       "5        ARMADALE        450     111629.0     248.064444\n",
       "6    MALVERN EAST        420     101673.0     242.078571\n",
       "7     ALBERT PARK        500     120412.0     240.824000\n",
       "8     MIDDLE PARK        500     120412.0     240.824000\n",
       "9    IVANHOE EAST        465     111558.0     239.909677"
      ]
     },
     "execution_count": 46,
     "metadata": {},
     "output_type": "execute_result"
    }
   ],
   "source": [
    "suburbs2.head(10)"
   ]
  },
  {
   "cell_type": "code",
   "execution_count": 47,
   "metadata": {},
   "outputs": [],
   "source": [
    "suburbs2[['Suburb', 'Affordability']].to_csv(curated_data + 'Affordability_rank.csv')"
   ]
  }
 ],
 "metadata": {
  "kernelspec": {
   "display_name": "Python 3 (ipykernel)",
   "language": "python",
   "name": "python3"
  },
  "language_info": {
   "codemirror_mode": {
    "name": "ipython",
    "version": 3
   },
   "file_extension": ".py",
   "mimetype": "text/x-python",
   "name": "python",
   "nbconvert_exporter": "python",
   "pygments_lexer": "ipython3",
   "version": "3.8.10"
  },
  "vscode": {
   "interpreter": {
    "hash": "916dbcbb3f70747c44a77c7bcd40155683ae19c65e1c03b4aa3499c5328201f1"
   }
  }
 },
 "nbformat": 4,
 "nbformat_minor": 2
}
