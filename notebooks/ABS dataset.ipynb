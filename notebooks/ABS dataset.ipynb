{
 "cells": [
  {
   "cell_type": "code",
   "execution_count": 1,
   "metadata": {},
   "outputs": [
    {
     "name": "stderr",
     "output_type": "stream",
     "text": [
      "/home/shunranw/.local/lib/python3.8/site-packages/geopandas/_compat.py:112: UserWarning: The Shapely GEOS version (3.10.2-CAPI-1.16.0) is incompatible with the GEOS version PyGEOS was compiled with (3.10.1-CAPI-1.16.0). Conversions between both will be slow.\n",
      "  warnings.warn(\n"
     ]
    }
   ],
   "source": [
    "# import required libries\n",
    "import os\n",
    "import numpy as np\n",
    "import spicy as sp\n",
    "import pandas as pd\n",
    "import geopandas as gpd\n",
    "import matplotlib.pyplot as plt\n",
    "import seaborn as sns\n",
    "import folium\n",
    "from statsmodels.formula.api import ols, glm\n",
    "from glmnet import ElasticNet\n",
    "\n",
    "# define required location\n",
    "curated_data = '../data/curated/'\n"
   ]
  },
  {
   "cell_type": "code",
   "execution_count": null,
   "metadata": {},
   "outputs": [],
   "source": [
    "# read total population dataset\n",
    "tot_popu=pd.read_excel('https://www.abs.gov.au/statistics/people/population/regional-population/2021/32180DS0003_2001-21.xlsx',\\\n",
    "    sheet_name='Table 1',header=7)"
   ]
  },
  {
   "cell_type": "code",
   "execution_count": null,
   "metadata": {},
   "outputs": [],
   "source": [
    "# discard NA columns\n",
    "del tot_popu['Unnamed: 31']\n",
    "del tot_popu['Unnamed: 34']\n",
    "# discard codes, names, and ERP change that not required\n",
    "tot_popu = tot_popu.drop(columns=['S/T code', 'S/T name','GCCSA code', 'GCCSA name', 'SA4 code', 'SA4 name', 'SA3 code', 'SA3 name', \\\n",
    "    'no..21', '%'])\n",
    "# drop NA rows\n",
    "tot_popu = tot_popu.dropna()"
   ]
  },
  {
   "cell_type": "code",
   "execution_count": null,
   "metadata": {},
   "outputs": [],
   "source": [
    "tot_popu.columns = ['SA2_code', 'SA2_name', '2001', '2002', '2003', '2004', '2005', '2006', '2007', '2008', '2009', \\\n",
    "    '2010', '2011', '2012', '2013', '2014', '2015', '2016', '2017', '2018', '2019','2020', '2021', 'Area', 'Population_density_2021']"
   ]
  },
  {
   "cell_type": "code",
   "execution_count": null,
   "metadata": {},
   "outputs": [],
   "source": [
    "tot_popu.to_csv(curated_data + 'population.csv')"
   ]
  },
  {
   "cell_type": "code",
   "execution_count": null,
   "metadata": {},
   "outputs": [],
   "source": [
    "# read income dataset\n",
    "income=pd.read_excel('https://www.abs.gov.au/statistics/labour/earnings-and-working-conditions/personal-income-australia/2014-15-2018-19/6524055002_DO001.xlsx', \\\n",
    "    sheet_name='Table 1.4',header=6)"
   ]
  },
  {
   "cell_type": "code",
   "execution_count": null,
   "metadata": {},
   "outputs": [],
   "source": [
    "del income['Unnamed: 27']"
   ]
  },
  {
   "cell_type": "code",
   "execution_count": null,
   "metadata": {},
   "outputs": [],
   "source": [
    "# drop columns with none information\n",
    "income = income.dropna()"
   ]
  },
  {
   "cell_type": "code",
   "execution_count": null,
   "metadata": {},
   "outputs": [],
   "source": [
    "# rename the columns\n",
    "income.columns = ['SA2_code', 'SA2_name', '2014_15_earners', '2015_16_earners',\t'2016_17_earners', '2017_18_earners',\\\n",
    "     '2018_19_earners', '2014_15_age', '2015_16_age', '2016_17_age', '2017_18_age', '2018_19_age', '2014_15_sum', '2015_16_sum',\\\n",
    "        \t'2016_17_sum', '2017_18_sum', '2018_19_sum', '2014_15_median', '2015_16_median', '2016_17_median', '2017_18_median', \\\n",
    "                '2018_19_median', '2014_15_mean', '2015_16_mean', '2016_17_mean', '2017_18_mean', '2018_19_mean']"
   ]
  },
  {
   "cell_type": "code",
   "execution_count": null,
   "metadata": {},
   "outputs": [],
   "source": [
    "income.to_csv(curated_data + 'income.csv')"
   ]
  },
  {
   "cell_type": "code",
   "execution_count": null,
   "metadata": {},
   "outputs": [],
   "source": [
    "# read population forecast dataset\n",
    "# idea from https://stackoverflow.com/questions/62278538/pd-read-csv-produces-httperror-http-error-403-forbidden\n",
    "url = 'https://www.gen-agedcaredata.gov.au/www_aihwgen/media/Population-Projections-2019/Victoria.csv'\n",
    "storage_options = {'User-Agent': 'Mozilla/5.0'}\n",
    "forecast = pd.read_csv(url, storage_options=storage_options)"
   ]
  },
  {
   "cell_type": "code",
   "execution_count": null,
   "metadata": {},
   "outputs": [],
   "source": [
    "forecast.to_csv(curated_data + 'forecast.csv')"
   ]
  },
  {
   "cell_type": "code",
   "execution_count": null,
   "metadata": {},
   "outputs": [],
   "source": [
    "# read school location dataset\n",
    "school_location = pd.read_csv('https://www.education.vic.gov.au/Documents/about/research/datavic/dv331_schoollocations2022.csv',encoding='cp1252')"
   ]
  },
  {
   "cell_type": "code",
   "execution_count": null,
   "metadata": {},
   "outputs": [],
   "source": [
    "school_location.to_csv(curated_data + 'location.csv')"
   ]
  },
  {
   "cell_type": "code",
   "execution_count": 2,
   "metadata": {},
   "outputs": [],
   "source": [
    "# read total population dataset\n",
    "fitness = pd.read_excel('https://discover.data.vic.gov.au/dataset/e6db797e-3801-4cfa-bf02-82350d0f722d/resource/bfff5fff-9c74-4671-8396-43f793613b70/download/srv_ifmd_all-facilities.xlsx',\\\n",
    "    sheet_name='wholeIFMD')"
   ]
  },
  {
   "cell_type": "code",
   "execution_count": 5,
   "metadata": {},
   "outputs": [],
   "source": [
    "required = ['Facility ID','Latitude','Longitude']\n",
    "fitness = fitness[required]"
   ]
  },
  {
   "cell_type": "code",
   "execution_count": 6,
   "metadata": {},
   "outputs": [],
   "source": [
    "fitness.to_csv(curated_data + 'facility.csv')"
   ]
  }
 ],
 "metadata": {
  "kernelspec": {
   "display_name": "Python 3.8.10 64-bit",
   "language": "python",
   "name": "python3"
  },
  "language_info": {
   "codemirror_mode": {
    "name": "ipython",
    "version": 3
   },
   "file_extension": ".py",
   "mimetype": "text/x-python",
   "name": "python",
   "nbconvert_exporter": "python",
   "pygments_lexer": "ipython3",
   "version": "3.8.10"
  },
  "orig_nbformat": 4,
  "vscode": {
   "interpreter": {
    "hash": "916dbcbb3f70747c44a77c7bcd40155683ae19c65e1c03b4aa3499c5328201f1"
   }
  }
 },
 "nbformat": 4,
 "nbformat_minor": 2
}
