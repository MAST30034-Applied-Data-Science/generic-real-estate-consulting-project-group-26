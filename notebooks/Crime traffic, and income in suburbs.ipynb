{
 "cells": [
  {
   "cell_type": "code",
   "execution_count": 3,
   "metadata": {},
   "outputs": [],
   "source": [
    "# import required libries\n",
    "import pandas as pd\n",
    "\n",
    "# define required path\n",
    "raw_data = '../data/raw/'\n",
    "curated_data = '../data/curated/'"
   ]
  },
  {
   "cell_type": "code",
   "execution_count": 4,
   "metadata": {},
   "outputs": [],
   "source": [
    "# read in datasets\n",
    "crime = pd.read_csv(curated_data + 'crime_rate.csv')\n",
    "suburb = pd.read_csv(raw_data + 'suburb.csv')\n",
    "traffic = pd.read_csv(curated_data + 'traffic_dataset.csv')\n",
    "income = pd.read_csv(curated_data + 'income.csv')"
   ]
  },
  {
   "cell_type": "code",
   "execution_count": 5,
   "metadata": {},
   "outputs": [],
   "source": [
    "# discard duplicate index\n",
    "del crime['Unnamed: 0']\n",
    "del suburb['Unnamed: 0']\n",
    "del traffic['Unnamed: 0']\n",
    "del income['Unnamed: 0']"
   ]
  },
  {
   "cell_type": "code",
   "execution_count": 6,
   "metadata": {},
   "outputs": [],
   "source": [
    "# drop total data\n",
    "crime = crime.loc[crime[\"Local Government Area\"] != 'Total']"
   ]
  },
  {
   "cell_type": "code",
   "execution_count": 7,
   "metadata": {},
   "outputs": [],
   "source": [
    "# drop duplicate suburbs\n",
    "suburb['Suburb'] = suburb['Suburb'].drop_duplicates()\n",
    "suburb = suburb.dropna()"
   ]
  },
  {
   "cell_type": "code",
   "execution_count": 8,
   "metadata": {},
   "outputs": [],
   "source": [
    "# select crime rate in 2021\n",
    "crime = crime.loc[crime['Year'] == 2021]"
   ]
  },
  {
   "cell_type": "code",
   "execution_count": 9,
   "metadata": {},
   "outputs": [],
   "source": [
    "# preprocessing the column to drop space\n",
    "crime['Local Government Area'] = crime['Local Government Area'].str[1:]"
   ]
  },
  {
   "cell_type": "code",
   "execution_count": 10,
   "metadata": {},
   "outputs": [],
   "source": [
    "# left join crime dataset to suburb dataset\n",
    "crime2021 = suburb[['Suburb','LGA']].join(crime[['Local Government Area','crime_rate']].set_index('Local Government Area'), \\\n",
    "    on = 'LGA').reset_index(drop=True)"
   ]
  },
  {
   "cell_type": "code",
   "execution_count": 11,
   "metadata": {},
   "outputs": [],
   "source": [
    "crime2021.to_csv(curated_data + 'crime2021.csv')"
   ]
  },
  {
   "cell_type": "code",
   "execution_count": 12,
   "metadata": {},
   "outputs": [],
   "source": [
    "# extract suburb from stop name\n",
    "traffic['Suburb'] = traffic['STOP_NAME'].str.extract(r\"\\(([A-Za-z ]+)\\)\", expand=False)"
   ]
  },
  {
   "cell_type": "code",
   "execution_count": 13,
   "metadata": {},
   "outputs": [],
   "source": [
    "# calculate the number of station each suburb\n",
    "traffic_count = traffic.groupby(['Suburb'], as_index=False)['STOP_ID'].count()"
   ]
  },
  {
   "cell_type": "code",
   "execution_count": 14,
   "metadata": {},
   "outputs": [],
   "source": [
    "traffic_count.columns = ['Suburb','traffic_count']"
   ]
  },
  {
   "cell_type": "code",
   "execution_count": 15,
   "metadata": {},
   "outputs": [],
   "source": [
    "# calculate the annual traffic\n",
    "traffic_sum = traffic.groupby(['Suburb'], as_index=False)['Pax_annual'].sum()"
   ]
  },
  {
   "cell_type": "code",
   "execution_count": 16,
   "metadata": {},
   "outputs": [],
   "source": [
    "traffic_sum.columns = ['Suburb','traffic_sum']"
   ]
  },
  {
   "cell_type": "code",
   "execution_count": 17,
   "metadata": {},
   "outputs": [],
   "source": [
    "traffic_count.to_csv(curated_data + 'traffic_count.csv')\n",
    "traffic_sum.to_csv(curated_data + 'traffic_sum.csv')"
   ]
  },
  {
   "cell_type": "code",
   "execution_count": 18,
   "metadata": {},
   "outputs": [],
   "source": [
    "income = pd.read_csv(curated_data + 'income.csv')"
   ]
  },
  {
   "cell_type": "code",
   "execution_count": 19,
   "metadata": {},
   "outputs": [],
   "source": [
    "# allocate data in sa2 to suburbs\n",
    "suburb_income = suburb.join(income.set_index('SA2_code'), on = 'SA2_code').dropna().reset_index(drop=True)"
   ]
  },
  {
   "cell_type": "code",
   "execution_count": 20,
   "metadata": {},
   "outputs": [
    {
     "name": "stdout",
     "output_type": "stream",
     "text": [
      "      Postcode                   Suburb        LGA     SA2_code  \\\n",
      "0         3000                MELBOURNE  Melbourne  206041122.0   \n",
      "1         3002           EAST MELBOURNE      Yarra  206041119.0   \n",
      "2         3004    ST KILDA ROAD CENTRAL      Yarra  206041125.0   \n",
      "3         3004  ST KILDA ROAD MELBOURNE      Yarra  206041125.0   \n",
      "4         3005       WORLD TRADE CENTRE  Melbourne  206041118.0   \n",
      "...        ...                      ...        ...          ...   \n",
      "3317      8007      COLLINS STREET WEST      Yarra  206041122.0   \n",
      "3318      8009            FLINDERS LANE      Yarra  206041122.0   \n",
      "3319      8010               LAW COURTS      Yarra  210021235.0   \n",
      "3320      8011   LITTLE LONSDALE STREET      Yarra  206041122.0   \n",
      "3321      9999               NORTH POLE      Yarra  206041122.0   \n",
      "\n",
      "                SA2_name  Unnamed: 0  2014_15_median  2015_16_median  \\\n",
      "0              Melbourne       697.0         32697.0         31242.0   \n",
      "1         East Melbourne       694.0         67966.0         71551.0   \n",
      "2     South Yarra - West       700.0         66468.0         65975.0   \n",
      "3     South Yarra - West       700.0         66468.0         65975.0   \n",
      "4              Docklands       693.0         54734.0         54667.0   \n",
      "...                  ...         ...             ...             ...   \n",
      "3317           Melbourne       697.0         32697.0         31242.0   \n",
      "3318           Melbourne       697.0         32697.0         31242.0   \n",
      "3319              Romsey       819.0         46295.0         47303.0   \n",
      "3320           Melbourne       697.0         32697.0         31242.0   \n",
      "3321           Melbourne       697.0         32697.0         31242.0   \n",
      "\n",
      "      2016_17_median  2017_18_median  2018_19_median  \n",
      "0            28068.0         28806.0         30024.0  \n",
      "1            70034.0         71759.0         75755.0  \n",
      "2            65330.0         68512.0         70451.0  \n",
      "3            65330.0         68512.0         70451.0  \n",
      "4            51342.0         54047.0         55150.0  \n",
      "...              ...             ...             ...  \n",
      "3317         28068.0         28806.0         30024.0  \n",
      "3318         28068.0         28806.0         30024.0  \n",
      "3319         48804.0         51057.0         52984.0  \n",
      "3320         28068.0         28806.0         30024.0  \n",
      "3321         28068.0         28806.0         30024.0  \n",
      "\n",
      "[3322 rows x 11 columns]\n"
     ]
    }
   ],
   "source": [
    "print(suburb_income)"
   ]
  },
  {
   "cell_type": "code",
   "execution_count": 20,
   "metadata": {},
   "outputs": [],
   "source": [
    "suburb_income.to_csv(curated_data + 'suburb_income.csv')"
   ]
  }
 ],
 "metadata": {
  "kernelspec": {
   "display_name": "Python 3 (ipykernel)",
   "language": "python",
   "name": "python3"
  },
  "language_info": {
   "codemirror_mode": {
    "name": "ipython",
    "version": 3
   },
   "file_extension": ".py",
   "mimetype": "text/x-python",
   "name": "python",
   "nbconvert_exporter": "python",
   "pygments_lexer": "ipython3",
   "version": "3.8.10"
  },
  "vscode": {
   "interpreter": {
    "hash": "916dbcbb3f70747c44a77c7bcd40155683ae19c65e1c03b4aa3499c5328201f1"
   }
  }
 },
 "nbformat": 4,
 "nbformat_minor": 2
}
