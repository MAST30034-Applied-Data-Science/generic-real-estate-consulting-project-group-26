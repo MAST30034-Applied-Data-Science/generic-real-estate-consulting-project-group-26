{
 "cells": [
  {
   "cell_type": "code",
   "execution_count": 1,
   "metadata": {},
   "outputs": [],
   "source": [
    "# import required libries\n",
    "import pandas as pd\n",
    "\n",
    "# define required path\n",
    "raw_data = '../data/raw/'\n",
    "curated_data = '../data/curated/'"
   ]
  },
  {
   "cell_type": "code",
   "execution_count": 2,
   "metadata": {},
   "outputs": [],
   "source": [
    "# read in datasets\n",
    "\n",
    "population = pd.read_csv(curated_data + 'suburb_population.csv', index_col=0)\n",
    "\n",
    "income = pd.read_csv(curated_data + 'suburb_income.csv', index_col=0)\n",
    "\n",
    "requried_suburb = pd.read_csv(curated_data + 'final_tabel.csv',index_col=0)\n",
    "\n",
    "rent_14_18 = pd.read_csv(curated_data + 'annual_rent_2014_2018.csv', index_col=0)\n",
    "\n",
    "rent_19_20 = pd.read_csv(curated_data + 'annual_rent_2019_2020.csv', index_col=0)"
   ]
  },
  {
   "cell_type": "code",
   "execution_count": 3,
   "metadata": {},
   "outputs": [],
   "source": [
    "#select requried columns"
   ]
  },
  {
   "cell_type": "code",
   "execution_count": 4,
   "metadata": {},
   "outputs": [],
   "source": [
    "population = population[['Suburb', '2014', '2015', '2016', '2017', '2018']]\n",
    "income = income[['Suburb', '2014_15_median', '2015_16_median', '2016_17_median', '2017_18_median','2018_19_median']]"
   ]
  },
  {
   "cell_type": "code",
   "execution_count": 5,
   "metadata": {},
   "outputs": [],
   "source": [
    "income.columns = ['Suburb', '2014_income', '2015_income', '2016_income', '2017_income','2018_income']\n",
    "population.columns = ['Suburb', '2014_population', '2015_population', '2016_population', '2017_population', '2018_population']"
   ]
  },
  {
   "cell_type": "code",
   "execution_count": 6,
   "metadata": {},
   "outputs": [],
   "source": [
    "# get useful suburb\n",
    "requried_suburb = list(requried_suburb.Suburb)\n"
   ]
  },
  {
   "cell_type": "code",
   "execution_count": 7,
   "metadata": {},
   "outputs": [],
   "source": [
    "# Tranfer all suburb columns to uppercase\n",
    "rent_14_18['Suburb'] = rent_14_18['Suburb'].str.upper()\n",
    "rent_19_20['Suburb'] = rent_19_20['Suburb'].str.upper()"
   ]
  },
  {
   "cell_type": "code",
   "execution_count": 8,
   "metadata": {},
   "outputs": [],
   "source": [
    "# select datasrt\n",
    "select_income = income.loc[income['Suburb'].isin(requried_suburb)]\n",
    "select_population = population.loc[population['Suburb'].isin(requried_suburb)]\n",
    "select_rent_14_18 = rent_14_18.loc[rent_14_18['Suburb'].isin(requried_suburb)]\n",
    "select_rent_19_20 = rent_19_20.loc[rent_19_20['Suburb'].isin(requried_suburb)]"
   ]
  },
  {
   "cell_type": "code",
   "execution_count": 9,
   "metadata": {},
   "outputs": [],
   "source": [
    "# save to file\n",
    "select_income.to_csv(curated_data + 'select_income_14-18.csv')\n",
    "select_population.to_csv(curated_data + 'select_population_14-18.csv')\n",
    "select_rent_14_18.to_csv(curated_data + 'select_rent_14-18.csv')\n",
    "select_rent_19_20.to_csv(curated_data + 'select_rent_19_20.csv')"
   ]
  },
  {
   "cell_type": "code",
   "execution_count": null,
   "metadata": {},
   "outputs": [],
   "source": []
  }
 ],
 "metadata": {
  "kernelspec": {
   "display_name": "Python 3 (ipykernel)",
   "language": "python",
   "name": "python3"
  },
  "language_info": {
   "codemirror_mode": {
    "name": "ipython",
    "version": 3
   },
   "file_extension": ".py",
   "mimetype": "text/x-python",
   "name": "python",
   "nbconvert_exporter": "python",
   "pygments_lexer": "ipython3",
   "version": "3.9.12"
  },
  "vscode": {
   "interpreter": {
    "hash": "916dbcbb3f70747c44a77c7bcd40155683ae19c65e1c03b4aa3499c5328201f1"
   }
  }
 },
 "nbformat": 4,
 "nbformat_minor": 2
}
