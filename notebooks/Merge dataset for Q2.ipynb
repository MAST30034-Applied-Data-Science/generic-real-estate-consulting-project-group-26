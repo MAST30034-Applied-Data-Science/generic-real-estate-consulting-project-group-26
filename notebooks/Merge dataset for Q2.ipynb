{
 "cells": [
  {
   "cell_type": "code",
   "execution_count": 31,
   "metadata": {},
   "outputs": [],
   "source": [
    "# import required libries\n",
    "import pandas as pd\n",
    "\n",
    "# define required path\n",
    "raw_data = '../data/raw/'\n",
    "curated_data = '../data/curated/'"
   ]
  },
  {
   "cell_type": "code",
   "execution_count": 32,
   "metadata": {},
   "outputs": [],
   "source": [
    "# read in datasets\n",
    "shopping = pd.read_csv(curated_data + 'suburb_shopping.csv', index_col=0)\n",
    "population = pd.read_csv(curated_data + 'suburb_population.csv', index_col=0)\n",
    "crime = pd.read_csv(curated_data + 'suburb_crime12-21.csv', index_col=0)\n",
    "passenger = pd.read_csv(curated_data + 'traffic_sum.csv', index_col=0)\n",
    "station = pd.read_csv(curated_data + 'traffic_count.csv', index_col=0)\n",
    "income = pd.read_csv(curated_data + 'suburb_income.csv', index_col=0)\n",
    "facilites = pd.read_csv(curated_data + 'facilites_suburb.csv', index_col=0)\n",
    "hospital = pd.read_csv(curated_data + 'hospital_suburb.csv', index_col=0)\n",
    "school = pd.read_csv(curated_data + 'school_suburb.csv', index_col=0)"
   ]
  },
  {
   "cell_type": "code",
   "execution_count": 33,
   "metadata": {},
   "outputs": [],
   "source": [
    "rent = pd.read_csv(curated_data + 'annual_rent_2014_2018.csv')"
   ]
  },
  {
   "cell_type": "code",
   "execution_count": 34,
   "metadata": {},
   "outputs": [
    {
     "data": {
      "text/plain": [
       "Index(['Postcode', 'Suburb', 'LGA', 'SA2_code', 'SA2_name', 'Unnamed: 0',\n",
       "       '2014_15_median', '2015_16_median', '2016_17_median', '2017_18_median',\n",
       "       '2018_19_median'],\n",
       "      dtype='object')"
      ]
     },
     "execution_count": 34,
     "metadata": {},
     "output_type": "execute_result"
    }
   ],
   "source": [
    "income.columns"
   ]
  },
  {
   "cell_type": "code",
   "execution_count": 35,
   "metadata": {},
   "outputs": [],
   "source": [
    "population = population[['Suburb', '2014', '2015', '2016', '2017', '2018']]\n",
    "crime = crime[['Suburb', 'crime_rate_2014', 'crime_rate_2015', 'crime_rate_2016', \\\n",
    "    'crime_rate_2017', 'crime_rate_2018']]\n",
    "income = income[['Suburb', '2014_15_median', '2015_16_median', '2016_17_median', '2017_18_median','2018_19_median']]"
   ]
  },
  {
   "cell_type": "code",
   "execution_count": 36,
   "metadata": {},
   "outputs": [],
   "source": [
    "income.columns = ['Suburb', '2014_income', '2015_income', '2016_income', '2017_income','2018_income']\n",
    "population.columns = ['Suburb', '2014_population', '2015_population', '2016_population', '2017_population', '2018_population']"
   ]
  },
  {
   "cell_type": "code",
   "execution_count": 37,
   "metadata": {},
   "outputs": [],
   "source": [
    "# Tranfer all suburb columns to uppercase\n",
    "shopping['suburb'] = shopping['suburb'].str.upper()\n",
    "passenger['Suburb'] = passenger['Suburb'].str.upper()\n",
    "hospital['Suburb'] = hospital['Suburb'].str.upper()\n",
    "station['Suburb'] = station['Suburb'].str.upper()\n",
    "rent['Suburb'] = rent['Suburb'].str.upper()"
   ]
  },
  {
   "cell_type": "code",
   "execution_count": 38,
   "metadata": {},
   "outputs": [],
   "source": [
    "suburb_merged = income.join(shopping.set_index('suburb'), on = 'Suburb')"
   ]
  },
  {
   "cell_type": "code",
   "execution_count": 39,
   "metadata": {},
   "outputs": [],
   "source": [
    "suburb_merged = suburb_merged.join(passenger.set_index('Suburb'), on = 'Suburb')"
   ]
  },
  {
   "cell_type": "code",
   "execution_count": 40,
   "metadata": {},
   "outputs": [],
   "source": [
    "suburb_merged = suburb_merged.join(station.set_index('Suburb'), on = 'Suburb')"
   ]
  },
  {
   "cell_type": "code",
   "execution_count": 41,
   "metadata": {},
   "outputs": [],
   "source": [
    "suburb_merged = suburb_merged.join(facilites.set_index('Suburb'), on = 'Suburb')"
   ]
  },
  {
   "cell_type": "code",
   "execution_count": 42,
   "metadata": {},
   "outputs": [],
   "source": [
    "suburb_merged = suburb_merged.join(hospital.set_index('Suburb'), on = 'Suburb')"
   ]
  },
  {
   "cell_type": "code",
   "execution_count": 43,
   "metadata": {},
   "outputs": [],
   "source": [
    "suburb_merged = suburb_merged.join(school.set_index('Suburb'), on = 'Suburb')"
   ]
  },
  {
   "cell_type": "code",
   "execution_count": 44,
   "metadata": {},
   "outputs": [],
   "source": [
    "suburb_merged = suburb_merged.join(population.set_index('Suburb'), on = 'Suburb')"
   ]
  },
  {
   "cell_type": "code",
   "execution_count": 45,
   "metadata": {},
   "outputs": [],
   "source": [
    "suburb_merged = suburb_merged.join(crime.set_index('Suburb'), on = 'Suburb')"
   ]
  },
  {
   "cell_type": "code",
   "execution_count": 46,
   "metadata": {},
   "outputs": [],
   "source": [
    "suburb_merged = suburb_merged.join(rent.set_index('Suburb'), on = 'Suburb')"
   ]
  },
  {
   "cell_type": "code",
   "execution_count": 48,
   "metadata": {},
   "outputs": [
    {
     "data": {
      "text/plain": [
       "Index(['Suburb', '2014_income', '2015_income', '2016_income', '2017_income',\n",
       "       '2018_income', 'shopping_count', 'traffic_sum', 'traffic_count',\n",
       "       'Facilites', 'Hospitals', 'Schools', '2014_population',\n",
       "       '2015_population', '2016_population', '2017_population',\n",
       "       '2018_population', 'crime_rate_2014', 'crime_rate_2015',\n",
       "       'crime_rate_2016', 'crime_rate_2017', 'crime_rate_2018',\n",
       "       'Mar 2014 count', 'Mar 2014 Median', 'Jun 2014 count',\n",
       "       'Jun 2014 Median', 'Sep 2014 count', 'Sep 2014 Median',\n",
       "       'Dec 2014 count', 'Dec 2014 Median', 'Mar 2015 count',\n",
       "       'Mar 2015 Median', 'Jun 2015 count', 'Jun 2015 Median',\n",
       "       'Sep 2015 count', 'Sep 2015 Median', 'Dec 2015 count',\n",
       "       'Dec 2015 Median', 'Mar 2016 count', 'Mar 2016 Median',\n",
       "       'Jun 2016 count', 'Jun 2016 Median', 'Sep 2016 count',\n",
       "       'Sep 2016 Median', 'Dec 2016 count', 'Dec 2016 Median',\n",
       "       'Mar 2017 count', 'Mar 2017 Median', 'Jun 2017 count',\n",
       "       'Jun 2017 Median', 'Sep 2017 count', 'Sep 2017 Median',\n",
       "       'Dec 2017 count', 'Dec 2017 Median', 'Mar 2018 count',\n",
       "       'Mar 2018 Median', 'Jun 2018 count', 'Jun 2018 Median',\n",
       "       'Sep 2018 count', 'Sep 2018 Median', 'Dec 2018 count',\n",
       "       'Dec 2018 Median'],\n",
       "      dtype='object')"
      ]
     },
     "execution_count": 48,
     "metadata": {},
     "output_type": "execute_result"
    }
   ],
   "source": [
    "suburb_merged.columns"
   ]
  },
  {
   "cell_type": "code",
   "execution_count": 51,
   "metadata": {},
   "outputs": [],
   "source": [
    "suburb_merged.to_csv(curated_data + 'suburb_14-18.csv')"
   ]
  }
 ],
 "metadata": {
  "kernelspec": {
   "display_name": "Python 3.8.10 64-bit",
   "language": "python",
   "name": "python3"
  },
  "language_info": {
   "codemirror_mode": {
    "name": "ipython",
    "version": 3
   },
   "file_extension": ".py",
   "mimetype": "text/x-python",
   "name": "python",
   "nbconvert_exporter": "python",
   "pygments_lexer": "ipython3",
   "version": "3.8.10"
  },
  "orig_nbformat": 4,
  "vscode": {
   "interpreter": {
    "hash": "916dbcbb3f70747c44a77c7bcd40155683ae19c65e1c03b4aa3499c5328201f1"
   }
  }
 },
 "nbformat": 4,
 "nbformat_minor": 2
}
