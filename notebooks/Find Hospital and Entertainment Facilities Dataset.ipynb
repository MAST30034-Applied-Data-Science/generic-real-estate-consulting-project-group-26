{
 "cells": [
  {
   "cell_type": "code",
   "execution_count": 1,
   "id": "a2bbd6f4",
   "metadata": {},
   "outputs": [],
   "source": [
    "from urllib.request import urlretrieve\n",
    "import pandas as pd\n",
    "import numpy as np"
   ]
  },
  {
   "cell_type": "code",
   "execution_count": 2,
   "id": "98e2d612",
   "metadata": {},
   "outputs": [
    {
     "data": {
      "text/plain": [
       "('../data/raw/hospitals.csv', <http.client.HTTPMessage at 0x7fa2c71d79a0>)"
      ]
     },
     "execution_count": 2,
     "metadata": {},
     "output_type": "execute_result"
    }
   ],
   "source": [
    "output_hospital = '../data/raw/hospitals.csv'\n",
    "url = 'https://springernature.figshare.com/ndownloader/files/15591434'\n",
    "urlretrieve(url, output_hospital)"
   ]
  },
  {
   "cell_type": "code",
   "execution_count": 9,
   "id": "4af3e93d",
   "metadata": {},
   "outputs": [],
   "source": [
    "hospitals = pd.read_csv(\"../data/raw/hospitals.csv\",encoding='cp1252')"
   ]
  },
  {
   "cell_type": "code",
   "execution_count": 11,
   "id": "475addfc",
   "metadata": {
    "scrolled": false
   },
   "outputs": [],
   "source": [
    "hospitals_vic = hospitals[hospitals[\"State\"] == \"Vic\"]"
   ]
  },
  {
   "cell_type": "code",
   "execution_count": 12,
   "id": "4842b3e3",
   "metadata": {},
   "outputs": [],
   "source": [
    "hospitals_select = hospitals_vic[[\"Hospital name\", \"Suburb\",\"Postcode\",\"Latitude\",\"Longitude\"]]"
   ]
  },
  {
   "cell_type": "code",
   "execution_count": 13,
   "id": "4b7f0fe9",
   "metadata": {},
   "outputs": [],
   "source": [
    "hospitals_select.to_csv(\"../data/curated/hospitals_vic.csv\")"
   ]
  },
  {
   "cell_type": "code",
   "execution_count": 32,
   "id": "fc7aca3e",
   "metadata": {},
   "outputs": [
    {
     "data": {
      "text/plain": [
       "('../data/raw/Facilites_list.xlsx',\n",
       " <http.client.HTTPMessage at 0x7fa2c5cb45e0>)"
      ]
     },
     "execution_count": 32,
     "metadata": {},
     "output_type": "execute_result"
    }
   ],
   "source": [
    "url = 'https://discover.data.vic.gov.au/dataset/e6db797e-3801-4cfa-bf02-82350d0f722d/resource/bfff5fff-9c74-4671-8396-43f793613b70/download/srv_ifmd_all-facilities.xlsx'\n",
    "output_facility = '../data/raw/Facilites_list.xlsx'\n",
    "urlretrieve(url, output_facility)"
   ]
  },
  {
   "cell_type": "code",
   "execution_count": 2,
   "id": "f17455c0",
   "metadata": {},
   "outputs": [],
   "source": [
    "facility = pd.read_excel('../data/raw/Facilites_list.xlsx')\n",
    "facility = facility.drop_duplicates(subset = ['Facility ID'])\n",
    "facility = facility[['Facility ID', 'Pcode', 'Suburb/Town', 'Latitude', 'Longitude']]"
   ]
  },
  {
   "cell_type": "code",
   "execution_count": 13,
   "id": "880e6f6a",
   "metadata": {},
   "outputs": [
    {
     "data": {
      "text/html": [
       "<div>\n",
       "<style scoped>\n",
       "    .dataframe tbody tr th:only-of-type {\n",
       "        vertical-align: middle;\n",
       "    }\n",
       "\n",
       "    .dataframe tbody tr th {\n",
       "        vertical-align: top;\n",
       "    }\n",
       "\n",
       "    .dataframe thead th {\n",
       "        text-align: right;\n",
       "    }\n",
       "</style>\n",
       "<table border=\"1\" class=\"dataframe\">\n",
       "  <thead>\n",
       "    <tr style=\"text-align: right;\">\n",
       "      <th></th>\n",
       "      <th>Facility ID</th>\n",
       "      <th>Pcode</th>\n",
       "      <th>Suburb/Town</th>\n",
       "      <th>Latitude</th>\n",
       "      <th>Longitude</th>\n",
       "    </tr>\n",
       "  </thead>\n",
       "  <tbody>\n",
       "    <tr>\n",
       "      <th>39</th>\n",
       "      <td>ALPINE11452</td>\n",
       "      <td>3741.0</td>\n",
       "      <td>BRIGHT</td>\n",
       "      <td>NaN</td>\n",
       "      <td>NaN</td>\n",
       "    </tr>\n",
       "    <tr>\n",
       "      <th>40</th>\n",
       "      <td>ALPINE11495</td>\n",
       "      <td>3699.0</td>\n",
       "      <td>MOUNT BEAUTY</td>\n",
       "      <td>NaN</td>\n",
       "      <td>NaN</td>\n",
       "    </tr>\n",
       "    <tr>\n",
       "      <th>622</th>\n",
       "      <td>BAWBAW12139</td>\n",
       "      <td>3820.0</td>\n",
       "      <td>WARRAGUL</td>\n",
       "      <td>NaN</td>\n",
       "      <td>NaN</td>\n",
       "    </tr>\n",
       "    <tr>\n",
       "      <th>671</th>\n",
       "      <td>BAWBAW12086</td>\n",
       "      <td>3818.0</td>\n",
       "      <td>DROUIN WEST</td>\n",
       "      <td>NaN</td>\n",
       "      <td>NaN</td>\n",
       "    </tr>\n",
       "    <tr>\n",
       "      <th>672</th>\n",
       "      <td>BAWBAW12134</td>\n",
       "      <td>3820.0</td>\n",
       "      <td>WARRAGUL</td>\n",
       "      <td>NaN</td>\n",
       "      <td>NaN</td>\n",
       "    </tr>\n",
       "    <tr>\n",
       "      <th>...</th>\n",
       "      <td>...</td>\n",
       "      <td>...</td>\n",
       "      <td>...</td>\n",
       "      <td>...</td>\n",
       "      <td>...</td>\n",
       "    </tr>\n",
       "    <tr>\n",
       "      <th>9451</th>\n",
       "      <td>YARRAR11475</td>\n",
       "      <td>3796.0</td>\n",
       "      <td>MOUNT EVELYN</td>\n",
       "      <td>NaN</td>\n",
       "      <td>NaN</td>\n",
       "    </tr>\n",
       "    <tr>\n",
       "      <th>9452</th>\n",
       "      <td>YARRAR11490</td>\n",
       "      <td>3158.0</td>\n",
       "      <td>UPWEY</td>\n",
       "      <td>NaN</td>\n",
       "      <td>NaN</td>\n",
       "    </tr>\n",
       "    <tr>\n",
       "      <th>9453</th>\n",
       "      <td>YARRAR11501</td>\n",
       "      <td>3775.0</td>\n",
       "      <td>YARRA GLEN</td>\n",
       "      <td>NaN</td>\n",
       "      <td>NaN</td>\n",
       "    </tr>\n",
       "    <tr>\n",
       "      <th>9454</th>\n",
       "      <td>YARRAR11505</td>\n",
       "      <td>3797.0</td>\n",
       "      <td>YARRA JUNCTION</td>\n",
       "      <td>NaN</td>\n",
       "      <td>NaN</td>\n",
       "    </tr>\n",
       "    <tr>\n",
       "      <th>9472</th>\n",
       "      <td>YARRAR11464</td>\n",
       "      <td>3793.0</td>\n",
       "      <td>MONBULK</td>\n",
       "      <td>NaN</td>\n",
       "      <td>NaN</td>\n",
       "    </tr>\n",
       "  </tbody>\n",
       "</table>\n",
       "<p>319 rows × 5 columns</p>\n",
       "</div>"
      ],
      "text/plain": [
       "      Facility ID   Pcode     Suburb/Town  Latitude  Longitude\n",
       "39    ALPINE11452  3741.0        BRIGHT         NaN        NaN\n",
       "40    ALPINE11495  3699.0    MOUNT BEAUTY       NaN        NaN\n",
       "622   BAWBAW12139  3820.0        WARRAGUL       NaN        NaN\n",
       "671   BAWBAW12086  3818.0     DROUIN WEST       NaN        NaN\n",
       "672   BAWBAW12134  3820.0        WARRAGUL       NaN        NaN\n",
       "...           ...     ...             ...       ...        ...\n",
       "9451  YARRAR11475  3796.0    MOUNT EVELYN       NaN        NaN\n",
       "9452  YARRAR11490  3158.0           UPWEY       NaN        NaN\n",
       "9453  YARRAR11501  3775.0      YARRA GLEN       NaN        NaN\n",
       "9454  YARRAR11505  3797.0  YARRA JUNCTION       NaN        NaN\n",
       "9472  YARRAR11464  3793.0         MONBULK       NaN        NaN\n",
       "\n",
       "[319 rows x 5 columns]"
      ]
     },
     "execution_count": 13,
     "metadata": {},
     "output_type": "execute_result"
    }
   ],
   "source": [
    "facility[facility['Latitude'].isna() == True]"
   ]
  },
  {
   "cell_type": "code",
   "execution_count": 9,
   "id": "4841fee2",
   "metadata": {},
   "outputs": [],
   "source": [
    "facility.to_csv('../data/curated/Facilites_list.csv')"
   ]
  },
  {
   "cell_type": "code",
   "execution_count": null,
   "id": "d3f4d985",
   "metadata": {},
   "outputs": [],
   "source": []
  }
 ],
 "metadata": {
  "kernelspec": {
   "display_name": "Python 3 (ipykernel)",
   "language": "python",
   "name": "python3"
  },
  "language_info": {
   "codemirror_mode": {
    "name": "ipython",
    "version": 3
   },
   "file_extension": ".py",
   "mimetype": "text/x-python",
   "name": "python",
   "nbconvert_exporter": "python",
   "pygments_lexer": "ipython3",
   "version": "3.10.4"
  }
 },
 "nbformat": 4,
 "nbformat_minor": 5
}
