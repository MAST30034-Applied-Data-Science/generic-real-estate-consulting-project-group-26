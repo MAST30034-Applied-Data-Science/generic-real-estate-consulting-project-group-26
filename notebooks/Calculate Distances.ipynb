{
 "cells": [
  {
   "cell_type": "code",
   "execution_count": 1,
   "id": "574eb61f",
   "metadata": {},
   "outputs": [],
   "source": [
    "import pandas as pd\n",
    "from pyspark.sql import functions as F\n",
    "import numpy as np"
   ]
  },
  {
   "cell_type": "code",
   "execution_count": 2,
   "id": "4fdf4cfb",
   "metadata": {},
   "outputs": [
    {
     "name": "stdout",
     "output_type": "stream",
     "text": [
      "22/09/12 15:38:50 WARN Utils: Your hostname, DESKTOP-1D7SN6N resolves to a loopback address: 127.0.1.1; using 172.23.1.215 instead (on interface eth0)\n",
      "22/09/12 15:38:50 WARN Utils: Set SPARK_LOCAL_IP if you need to bind to another address\n"
     ]
    },
    {
     "name": "stderr",
     "output_type": "stream",
     "text": [
      "Setting default log level to \"WARN\".\n",
      "To adjust logging level use sc.setLogLevel(newLevel). For SparkR, use setLogLevel(newLevel).\n"
     ]
    },
    {
     "name": "stdout",
     "output_type": "stream",
     "text": [
      "22/09/12 15:38:52 WARN NativeCodeLoader: Unable to load native-hadoop library for your platform... using builtin-java classes where applicable\n"
     ]
    }
   ],
   "source": [
    "from pyspark.sql import SparkSession\n",
    "\n",
    "# Create a spark session (which will run spark jobs)\n",
    "spark = (\n",
    "    SparkSession.builder.appName(\"MAST30034 Project 1\")\n",
    "    .config(\"spark.sql.repl.eagerEval.enabled\", True) \n",
    "    .config(\"spark.sql.parquet.cacheMetadata\", \"true\")\n",
    "    .config(\"spark.sql.session.timeZone\", \"Etc/UTC\")\n",
    "    .config(\"spark.executor.memory\", \"2g\")\n",
    "    .config(\"spark.driver.memory\", \"4g\")\n",
    "    .getOrCreate()\n",
    ")"
   ]
  },
  {
   "cell_type": "code",
   "execution_count": 10,
   "id": "713419ac",
   "metadata": {},
   "outputs": [],
   "source": [
    "properties = pd.read_csv('../data/curated/properties.csv') \n",
    "properties = properties.reset_index()\n",
    "sparkProperty=spark.createDataFrame(properties) "
   ]
  },
  {
   "cell_type": "markdown",
   "id": "7df496a0",
   "metadata": {},
   "source": [
    "### Calculate Distance to School"
   ]
  },
  {
   "cell_type": "code",
   "execution_count": 11,
   "id": "976b01a2",
   "metadata": {},
   "outputs": [],
   "source": [
    "schools = pd.read_csv('../data/curated/schools.csv')\n",
    "sparkSchool = spark.createDataFrame(schools)"
   ]
  },
  {
   "cell_type": "code",
   "execution_count": 13,
   "id": "69e1fee4",
   "metadata": {},
   "outputs": [],
   "source": [
    "#https://stackoverflow.com/questions/27928/calculate-distance-between-two-latitude-longitude-points-haversine-formula\n",
    "\n",
    "from math import cos, asin, sqrt, pi\n",
    "\n",
    "def distance(lat1, lon1, lat2, lon2):\n",
    "    p = pi/180\n",
    "    a = 0.5 - cos((lat2-lat1)*p)/2 + cos(lat1*p) * cos(lat2*p) * (1-cos((lon2-lon1)*p))/2\n",
    "    return 12742 * asin(sqrt(a)) #2*R*asin...\n",
    "distanceUDF = F.udf(lambda a,b,c,d: distance(a,b,c,d))"
   ]
  },
  {
   "cell_type": "code",
   "execution_count": 44,
   "id": "3495fc73",
   "metadata": {},
   "outputs": [],
   "source": [
    "school_distance = sparkProperty \\\n",
    "            .crossJoin(sparkSchool) \\\n",
    "            .withColumn(\"distance\", \n",
    "                        distanceUDF(F.col(\"prop_lat\"), F.col(\"prop_long\"), F.col(\"school_lat\"), F.col(\"school_long\"))\n",
    "                       )"
   ]
  },
  {
   "cell_type": "code",
   "execution_count": 47,
   "id": "bbd2cef8",
   "metadata": {},
   "outputs": [],
   "source": [
    "# For each property, calculate its distance to every school\n",
    "# then count for number of schools within 3km of each property\n",
    "school_count = school_distance \\\n",
    "            .filter(F.col(\"distance\") <= 3) \\\n",
    "            .groupBy(F.col(\"index\")) \\\n",
    "            .count() \\\n",
    "            .join(sparkProperty, 'index', 'right') \\\n",
    "            .orderBy('index')"
   ]
  },
  {
   "cell_type": "code",
   "execution_count": 48,
   "id": "56f7ecbe",
   "metadata": {},
   "outputs": [],
   "source": [
    "nearestSchool = school_distance \\\n",
    "            .groupBy(F.col('index')) \\\n",
    "            .agg({'distance': 'min'})"
   ]
  },
  {
   "cell_type": "code",
   "execution_count": 54,
   "id": "ce27fcdd",
   "metadata": {},
   "outputs": [
    {
     "name": "stdout",
     "output_type": "stream",
     "text": [
      "22/09/12 16:05:09 WARN ExtractPythonUDFFromJoinCondition: The join condition:isnotnull(<lambda>(prop_lat#49, prop_long#50, school_lat#67, school_long#66)#798) of the join plan contains PythonUDF only, it will be moved out and the join plan will be turned to cross join.\n"
     ]
    },
    {
     "name": "stderr",
     "output_type": "stream",
     "text": [
      "                                                                                \r"
     ]
    },
    {
     "data": {
      "text/html": [
       "<div>\n",
       "<style scoped>\n",
       "    .dataframe tbody tr th:only-of-type {\n",
       "        vertical-align: middle;\n",
       "    }\n",
       "\n",
       "    .dataframe tbody tr th {\n",
       "        vertical-align: top;\n",
       "    }\n",
       "\n",
       "    .dataframe thead th {\n",
       "        text-align: right;\n",
       "    }\n",
       "</style>\n",
       "<table border=\"1\" class=\"dataframe\">\n",
       "  <thead>\n",
       "    <tr style=\"text-align: right;\">\n",
       "      <th></th>\n",
       "      <th>index</th>\n",
       "      <th>school_lat</th>\n",
       "      <th>school_long</th>\n",
       "      <th>distance</th>\n",
       "    </tr>\n",
       "  </thead>\n",
       "  <tbody>\n",
       "    <tr>\n",
       "      <th>0</th>\n",
       "      <td>163</td>\n",
       "      <td>-37.68227</td>\n",
       "      <td>145.01150</td>\n",
       "      <td>0.41993489911442805</td>\n",
       "    </tr>\n",
       "    <tr>\n",
       "      <th>1</th>\n",
       "      <td>357</td>\n",
       "      <td>-38.17551</td>\n",
       "      <td>144.38277</td>\n",
       "      <td>1.503205163147383</td>\n",
       "    </tr>\n",
       "    <tr>\n",
       "      <th>2</th>\n",
       "      <td>509</td>\n",
       "      <td>-36.72058</td>\n",
       "      <td>144.25426</td>\n",
       "      <td>0.19287648807960583</td>\n",
       "    </tr>\n",
       "    <tr>\n",
       "      <th>3</th>\n",
       "      <td>216</td>\n",
       "      <td>-37.79838</td>\n",
       "      <td>144.89267</td>\n",
       "      <td>0.6771463834716006</td>\n",
       "    </tr>\n",
       "    <tr>\n",
       "      <th>4</th>\n",
       "      <td>472</td>\n",
       "      <td>-37.75310</td>\n",
       "      <td>144.92104</td>\n",
       "      <td>0.4410581494860552</td>\n",
       "    </tr>\n",
       "    <tr>\n",
       "      <th>...</th>\n",
       "      <td>...</td>\n",
       "      <td>...</td>\n",
       "      <td>...</td>\n",
       "      <td>...</td>\n",
       "    </tr>\n",
       "    <tr>\n",
       "      <th>9389</th>\n",
       "      <td>9358</td>\n",
       "      <td>-37.93846</td>\n",
       "      <td>145.02350</td>\n",
       "      <td>0.5555827925406773</td>\n",
       "    </tr>\n",
       "    <tr>\n",
       "      <th>9390</th>\n",
       "      <td>9326</td>\n",
       "      <td>-37.80519</td>\n",
       "      <td>144.95509</td>\n",
       "      <td>0.607354674226439</td>\n",
       "    </tr>\n",
       "    <tr>\n",
       "      <th>9391</th>\n",
       "      <td>9265</td>\n",
       "      <td>-37.81154</td>\n",
       "      <td>144.97056</td>\n",
       "      <td>0.7384529716809485</td>\n",
       "    </tr>\n",
       "    <tr>\n",
       "      <th>9392</th>\n",
       "      <td>8977</td>\n",
       "      <td>-37.81154</td>\n",
       "      <td>144.97056</td>\n",
       "      <td>0.8273281932123162</td>\n",
       "    </tr>\n",
       "    <tr>\n",
       "      <th>9393</th>\n",
       "      <td>9268</td>\n",
       "      <td>-37.81954</td>\n",
       "      <td>144.98926</td>\n",
       "      <td>0.33543112089935173</td>\n",
       "    </tr>\n",
       "  </tbody>\n",
       "</table>\n",
       "<p>9394 rows × 4 columns</p>\n",
       "</div>"
      ],
      "text/plain": [
       "      index  school_lat  school_long             distance\n",
       "0       163   -37.68227    145.01150  0.41993489911442805\n",
       "1       357   -38.17551    144.38277    1.503205163147383\n",
       "2       509   -36.72058    144.25426  0.19287648807960583\n",
       "3       216   -37.79838    144.89267   0.6771463834716006\n",
       "4       472   -37.75310    144.92104   0.4410581494860552\n",
       "...     ...         ...          ...                  ...\n",
       "9389   9358   -37.93846    145.02350   0.5555827925406773\n",
       "9390   9326   -37.80519    144.95509    0.607354674226439\n",
       "9391   9265   -37.81154    144.97056   0.7384529716809485\n",
       "9392   8977   -37.81154    144.97056   0.8273281932123162\n",
       "9393   9268   -37.81954    144.98926  0.33543112089935173\n",
       "\n",
       "[9394 rows x 4 columns]"
      ]
     },
     "execution_count": 54,
     "metadata": {},
     "output_type": "execute_result"
    }
   ],
   "source": [
    "school_distance \\\n",
    "            .join(nearestSchool, 'index') \\\n",
    "            .filter(F.col(\"distance\") == F.col(\"min(distance)\")) \\\n",
    "            .select('index','school_lat', 'school_long', 'distance') \\\n",
    "            .toPandas()"
   ]
  },
  {
   "cell_type": "code",
   "execution_count": 42,
   "id": "421756af",
   "metadata": {},
   "outputs": [
    {
     "data": {
      "text/html": [
       "<table border='1'>\n",
       "<tr><th>school_long</th><th>school_lat</th></tr>\n",
       "<tr><td>146.6666</td><td>-38.61771</td></tr>\n",
       "<tr><td>142.59039</td><td>-38.38628</td></tr>\n",
       "<tr><td>143.47565</td><td>-37.0845</td></tr>\n",
       "<tr><td>145.23472</td><td>-36.90137</td></tr>\n",
       "<tr><td>145.21398</td><td>-37.74268</td></tr>\n",
       "<tr><td>144.3421</td><td>-38.17067</td></tr>\n",
       "<tr><td>144.44312</td><td>-37.67303</td></tr>\n",
       "<tr><td>143.85394</td><td>-37.56401</td></tr>\n",
       "<tr><td>146.88982</td><td>-36.12921</td></tr>\n",
       "<tr><td>145.35442</td><td>-38.04409</td></tr>\n",
       "<tr><td>143.38172</td><td>-37.43852</td></tr>\n",
       "<tr><td>145.05463</td><td>-37.96861</td></tr>\n",
       "<tr><td>142.65084</td><td>-38.34794</td></tr>\n",
       "<tr><td>144.87834</td><td>-37.83842</td></tr>\n",
       "<tr><td>142.03989</td><td>-37.53087</td></tr>\n",
       "<tr><td>143.59834</td><td>-38.33722</td></tr>\n",
       "<tr><td>144.22233</td><td>-37.0666</td></tr>\n",
       "<tr><td>144.20466</td><td>-37.09293</td></tr>\n",
       "<tr><td>143.89156</td><td>-37.42411</td></tr>\n",
       "<tr><td>144.24986</td><td>-36.73321</td></tr>\n",
       "</table>\n",
       "only showing top 20 rows\n"
      ],
      "text/plain": [
       "+-----------+----------+\n",
       "|school_long|school_lat|\n",
       "+-----------+----------+\n",
       "|   146.6666| -38.61771|\n",
       "|  142.59039| -38.38628|\n",
       "|  143.47565|  -37.0845|\n",
       "|  145.23472| -36.90137|\n",
       "|  145.21398| -37.74268|\n",
       "|   144.3421| -38.17067|\n",
       "|  144.44312| -37.67303|\n",
       "|  143.85394| -37.56401|\n",
       "|  146.88982| -36.12921|\n",
       "|  145.35442| -38.04409|\n",
       "|  143.38172| -37.43852|\n",
       "|  145.05463| -37.96861|\n",
       "|  142.65084| -38.34794|\n",
       "|  144.87834| -37.83842|\n",
       "|  142.03989| -37.53087|\n",
       "|  143.59834| -38.33722|\n",
       "|  144.22233|  -37.0666|\n",
       "|  144.20466| -37.09293|\n",
       "|  143.89156| -37.42411|\n",
       "|  144.24986| -36.73321|\n",
       "+-----------+----------+\n",
       "only showing top 20 rows"
      ]
     },
     "execution_count": 42,
     "metadata": {},
     "output_type": "execute_result"
    }
   ],
   "source": []
  },
  {
   "cell_type": "code",
   "execution_count": 16,
   "id": "80e22d3b",
   "metadata": {},
   "outputs": [],
   "source": [
    "# Fill propertys having no schools within 3km as 0\n",
    "school_count[['count']] = school_count[['count']].fillna(0)"
   ]
  },
  {
   "cell_type": "code",
   "execution_count": 17,
   "id": "09efc3ef",
   "metadata": {},
   "outputs": [],
   "source": [
    "distanceSchool = pd.merge(school_count, nearestSchool, how='inner', on = 'index')"
   ]
  },
  {
   "cell_type": "code",
   "execution_count": 18,
   "id": "0a0dd9a6",
   "metadata": {},
   "outputs": [],
   "source": [
    "distanceSchool = distanceSchool.rename(columns = {'count':'numSchool_3km', 'min(distance)': 'distance_to_nearest_school'})"
   ]
  },
  {
   "cell_type": "code",
   "execution_count": 19,
   "id": "05c91290",
   "metadata": {},
   "outputs": [],
   "source": [
    "distanceSchool = distanceSchool[['index', 'numSchool_3km', 'distance_to_nearest_school']]"
   ]
  },
  {
   "cell_type": "code",
   "execution_count": 20,
   "id": "abb14edc",
   "metadata": {},
   "outputs": [],
   "source": [
    "properties = pd.merge(properties, distanceSchool, how='inner', on='index')"
   ]
  },
  {
   "cell_type": "markdown",
   "id": "e55dab4f",
   "metadata": {},
   "source": [
    "### Calculate Distance to Hospital"
   ]
  },
  {
   "cell_type": "code",
   "execution_count": 22,
   "id": "37548f75",
   "metadata": {},
   "outputs": [],
   "source": [
    "hospitals = pd.read_csv(\"../data/curated/hospitals_vic.csv\")\n",
    "sparkHospital = spark.createDataFrame(hospitals)"
   ]
  },
  {
   "cell_type": "code",
   "execution_count": 36,
   "id": "811ff83e",
   "metadata": {},
   "outputs": [],
   "source": [
    "hospital_count = sparkProperty \\\n",
    "            .crossJoin(sparkHospital) \\\n",
    "            .withColumn(\"distance\", \n",
    "                        distanceUDF(F.col(\"prop_lat\"), F.col(\"prop_long\"), F.col(\"Latitude\"), F.col(\"Longitude\"))\n",
    "                       ) \\\n",
    "            .filter(F.col(\"distance\") <= 3) \\\n",
    "            .groupBy(F.col(\"index\")) \\\n",
    "            .count() \\\n",
    "            .join(sparkProperty, 'index', 'right') \\\n",
    "            .orderBy('index')"
   ]
  },
  {
   "cell_type": "code",
   "execution_count": 37,
   "id": "617992c8",
   "metadata": {},
   "outputs": [],
   "source": [
    "nearestHospital = sparkProperty \\\n",
    "            .crossJoin(sparkHospital) \\\n",
    "            .withColumn(\"distance\", \n",
    "                        distanceUDF(F.col(\"prop_lat\"), F.col(\"prop_long\"), F.col(\"Latitude\"), F.col(\"Longitude\"))\n",
    "                       ) \\\n",
    "            .groupBy(F.col('index')) \\\n",
    "            .agg({'distance': 'min'})"
   ]
  },
  {
   "cell_type": "code",
   "execution_count": 38,
   "id": "4c4f8d0d",
   "metadata": {},
   "outputs": [
    {
     "name": "stdout",
     "output_type": "stream",
     "text": [
      "22/09/12 15:49:59 WARN ExtractPythonUDFFromJoinCondition: The join condition:(cast(<lambda>(prop_lat#49, prop_long#50, Latitude#190, Longitude#191)#347 as int) <= 3) of the join plan contains PythonUDF only, it will be moved out and the join plan will be turned to cross join.\n"
     ]
    },
    {
     "name": "stderr",
     "output_type": "stream",
     "text": [
      "                                                                                \r"
     ]
    },
    {
     "name": "stdout",
     "output_type": "stream",
     "text": [
      "22/09/12 15:50:07 WARN ExtractPythonUDFFromJoinCondition: The join condition:(cast(<lambda>(prop_lat#49, prop_long#50, Latitude#190, Longitude#191)#347 as int) <= 3) of the join plan contains PythonUDF only, it will be moved out and the join plan will be turned to cross join.\n"
     ]
    },
    {
     "name": "stderr",
     "output_type": "stream",
     "text": [
      "                                                                                \r"
     ]
    },
    {
     "data": {
      "text/html": [
       "<table border='1'>\n",
       "<tr><th>index</th><th>count</th><th>name</th><th>type</th><th>prop_lat</th><th>prop_long</th><th>Beds</th><th>Baths</th><th>Parking</th><th>weekly_cost</th><th>suburb</th></tr>\n",
       "<tr><td>0</td><td>1</td><td>56 Selwyn Street ...</td><td>House</td><td>-37.7807821</td><td>144.8130199</td><td>3</td><td>2</td><td>2</td><td>300.0</td><td>3020</td></tr>\n",
       "<tr><td>1</td><td>1</td><td>1/3 Robin Street ...</td><td>Apartment / Unit ...</td><td>-37.8690276</td><td>144.8072501</td><td>2</td><td>1</td><td>1</td><td>300.0</td><td>3018</td></tr>\n",
       "<tr><td>2</td><td>1</td><td>34 Hucker Street ...</td><td>House</td><td>-37.27641089999999</td><td>142.920079</td><td>3</td><td>1</td><td>1</td><td>300.0</td><td>3377</td></tr>\n",
       "<tr><td>3</td><td>1</td><td>3 Neylan Street A...</td><td>House</td><td>-37.292905</td><td>142.9218811</td><td>2</td><td>1</td><td>2</td><td>300.0</td><td>3377</td></tr>\n",
       "<tr><td>4</td><td>1</td><td>8 Suspension Stre...</td><td>House</td><td>-37.7823611</td><td>144.8088328</td><td>2</td><td>1</td><td>2</td><td>300.0</td><td>3022</td></tr>\n",
       "<tr><td>5</td><td>14</td><td>14/27 St Georges ...</td><td>Apartment / Unit ...</td><td>-37.860329</td><td>145.0220163</td><td>1</td><td>1</td><td>1</td><td>300.0</td><td>3143</td></tr>\n",
       "<tr><td>6</td><td>8</td><td>1/28 Ormond Road ...</td><td>Apartment / Unit ...</td><td>-37.7730663</td><td>144.9303035</td><td>1</td><td>1</td><td>1</td><td>300.0</td><td>3032</td></tr>\n",
       "<tr><td>7</td><td>1</td><td>30B San Remo Driv...</td><td>Apartment / Unit ...</td><td>-37.7573875</td><td>144.8691038</td><td>1</td><td>1</td><td>0</td><td>300.0</td><td>3034</td></tr>\n",
       "<tr><td>8</td><td>3</td><td>205 Johns Street ...</td><td>House</td><td>-37.5570369</td><td>143.8794746</td><td>3</td><td>1</td><td>1</td><td>300.0</td><td>3350</td></tr>\n",
       "<tr><td>9</td><td>1</td><td>14B Purcell St Be...</td><td>House</td><td>-36.5566188</td><td>145.973497</td><td>1</td><td>1</td><td>0</td><td>300.0</td><td>3672</td></tr>\n",
       "<tr><td>10</td><td>3</td><td>3/25A Havlin Stre...</td><td>Apartment / Unit ...</td><td>-36.7615282</td><td>144.2899869</td><td>2</td><td>1</td><td>1</td><td>300.0</td><td>3550</td></tr>\n",
       "<tr><td>11</td><td>3</td><td>3/180 Williamson ...</td><td>Townhouse</td><td>-36.7684112</td><td>144.290465</td><td>2</td><td>1</td><td>1</td><td>300.0</td><td>3550</td></tr>\n",
       "<tr><td>12</td><td>5</td><td>765 Warrigal Rd B...</td><td>House</td><td>-37.9125784</td><td>145.0842931</td><td>1</td><td>1</td><td>1</td><td>300.0</td><td>3165</td></tr>\n",
       "<tr><td>13</td><td>4</td><td>4/718 Chisholm St...</td><td>House</td><td>-37.5503711</td><td>143.8716351</td><td>2</td><td>1</td><td>1</td><td>300.0</td><td>3350</td></tr>\n",
       "<tr><td>14</td><td>4</td><td>1/53 Bishop Stree...</td><td>Apartment / Unit ...</td><td>-37.820344</td><td>145.134384</td><td>2</td><td>1</td><td>1</td><td>300.0</td><td>3128</td></tr>\n",
       "<tr><td>15</td><td>4</td><td>12/23-25 Albion R...</td><td>Apartment / Unit ...</td><td>-37.8242993</td><td>145.1246278</td><td>2</td><td>1</td><td>1</td><td>300.0</td><td>3128</td></tr>\n",
       "<tr><td>16</td><td>9</td><td>7/380 Brunswick R...</td><td>Apartment / Unit ...</td><td>-37.775646</td><td>144.947037</td><td>2</td><td>1</td><td>1</td><td>300.0</td><td>3056</td></tr>\n",
       "<tr><td>17</td><td>8</td><td>5/24 Passfield St...</td><td>Apartment / Unit ...</td><td>-37.7678541</td><td>144.9407823</td><td>2</td><td>1</td><td>1</td><td>300.0</td><td>3056</td></tr>\n",
       "<tr><td>18</td><td>2</td><td>18/39 Murray St B...</td><td>Apartment / Unit ...</td><td>-37.7596004</td><td>144.9414751</td><td>1</td><td>1</td><td>0</td><td>300.0</td><td>3055</td></tr>\n",
       "<tr><td>19</td><td>3</td><td>8/16 Wallace Stre...</td><td>Apartment / Unit ...</td><td>-37.7628591</td><td>144.946364</td><td>1</td><td>1</td><td>1</td><td>300.0</td><td>3055</td></tr>\n",
       "</table>\n",
       "only showing top 20 rows\n"
      ],
      "text/plain": [
       "+-----+-----+--------------------+--------------------+------------------+-----------+----+-----+-------+-----------+------+\n",
       "|index|count|                name|                type|          prop_lat|  prop_long|Beds|Baths|Parking|weekly_cost|suburb|\n",
       "+-----+-----+--------------------+--------------------+------------------+-----------+----+-----+-------+-----------+------+\n",
       "|    0|    1|56 Selwyn Street ...|               House|       -37.7807821|144.8130199|   3|    2|      2|      300.0|  3020|\n",
       "|    1|    1|1/3 Robin Street ...|Apartment / Unit ...|       -37.8690276|144.8072501|   2|    1|      1|      300.0|  3018|\n",
       "|    2|    1|34 Hucker Street ...|               House|-37.27641089999999| 142.920079|   3|    1|      1|      300.0|  3377|\n",
       "|    3|    1|3 Neylan Street A...|               House|        -37.292905|142.9218811|   2|    1|      2|      300.0|  3377|\n",
       "|    4|    1|8 Suspension Stre...|               House|       -37.7823611|144.8088328|   2|    1|      2|      300.0|  3022|\n",
       "|    5|   14|14/27 St Georges ...|Apartment / Unit ...|        -37.860329|145.0220163|   1|    1|      1|      300.0|  3143|\n",
       "|    6|    8|1/28 Ormond Road ...|Apartment / Unit ...|       -37.7730663|144.9303035|   1|    1|      1|      300.0|  3032|\n",
       "|    7|    1|30B San Remo Driv...|Apartment / Unit ...|       -37.7573875|144.8691038|   1|    1|      0|      300.0|  3034|\n",
       "|    8|    3|205 Johns Street ...|               House|       -37.5570369|143.8794746|   3|    1|      1|      300.0|  3350|\n",
       "|    9|    1|14B Purcell St Be...|               House|       -36.5566188| 145.973497|   1|    1|      0|      300.0|  3672|\n",
       "|   10|    3|3/25A Havlin Stre...|Apartment / Unit ...|       -36.7615282|144.2899869|   2|    1|      1|      300.0|  3550|\n",
       "|   11|    3|3/180 Williamson ...|           Townhouse|       -36.7684112| 144.290465|   2|    1|      1|      300.0|  3550|\n",
       "|   12|    5|765 Warrigal Rd B...|               House|       -37.9125784|145.0842931|   1|    1|      1|      300.0|  3165|\n",
       "|   13|    4|4/718 Chisholm St...|               House|       -37.5503711|143.8716351|   2|    1|      1|      300.0|  3350|\n",
       "|   14|    4|1/53 Bishop Stree...|Apartment / Unit ...|        -37.820344| 145.134384|   2|    1|      1|      300.0|  3128|\n",
       "|   15|    4|12/23-25 Albion R...|Apartment / Unit ...|       -37.8242993|145.1246278|   2|    1|      1|      300.0|  3128|\n",
       "|   16|    9|7/380 Brunswick R...|Apartment / Unit ...|        -37.775646| 144.947037|   2|    1|      1|      300.0|  3056|\n",
       "|   17|    8|5/24 Passfield St...|Apartment / Unit ...|       -37.7678541|144.9407823|   2|    1|      1|      300.0|  3056|\n",
       "|   18|    2|18/39 Murray St B...|Apartment / Unit ...|       -37.7596004|144.9414751|   1|    1|      0|      300.0|  3055|\n",
       "|   19|    3|8/16 Wallace Stre...|Apartment / Unit ...|       -37.7628591| 144.946364|   1|    1|      1|      300.0|  3055|\n",
       "+-----+-----+--------------------+--------------------+------------------+-----------+----+-----+-------+-----------+------+\n",
       "only showing top 20 rows"
      ]
     },
     "execution_count": 38,
     "metadata": {},
     "output_type": "execute_result"
    }
   ],
   "source": [
    "hospital_count"
   ]
  },
  {
   "cell_type": "code",
   "execution_count": null,
   "id": "a77b625e",
   "metadata": {},
   "outputs": [],
   "source": []
  },
  {
   "cell_type": "code",
   "execution_count": null,
   "id": "a3750a5e",
   "metadata": {},
   "outputs": [],
   "source": []
  },
  {
   "cell_type": "code",
   "execution_count": 25,
   "id": "bb0ff1d3",
   "metadata": {},
   "outputs": [],
   "source": [
    "# Fill propertys having no hospitals within 3km as 0\n",
    "hospital_count[['count']] = hospital_count[['count']].fillna(0)"
   ]
  },
  {
   "cell_type": "code",
   "execution_count": 26,
   "id": "7e38a13b",
   "metadata": {},
   "outputs": [],
   "source": [
    "distanceHospital = pd.merge(hospital_count, nearestHospital, how='inner', on = 'index')"
   ]
  },
  {
   "cell_type": "code",
   "execution_count": 27,
   "id": "919ae279",
   "metadata": {},
   "outputs": [],
   "source": [
    "distanceHospital = distanceHospital.rename(columns = {'count':'numHospital_3km', 'min(distance)': 'distance_to_nearest_hospital'})"
   ]
  },
  {
   "cell_type": "code",
   "execution_count": 28,
   "id": "e71fe420",
   "metadata": {},
   "outputs": [],
   "source": [
    "distanceHospital = distanceHospital[['index', 'numHospital_3km', 'distance_to_nearest_hospital']]"
   ]
  },
  {
   "cell_type": "code",
   "execution_count": 29,
   "id": "e3adcb38",
   "metadata": {},
   "outputs": [],
   "source": [
    "properties = pd.merge(properties, distanceHospital, how='inner', on='index')"
   ]
  },
  {
   "cell_type": "code",
   "execution_count": 30,
   "id": "ff6deb46",
   "metadata": {},
   "outputs": [
    {
     "data": {
      "text/html": [
       "<div>\n",
       "<style scoped>\n",
       "    .dataframe tbody tr th:only-of-type {\n",
       "        vertical-align: middle;\n",
       "    }\n",
       "\n",
       "    .dataframe tbody tr th {\n",
       "        vertical-align: top;\n",
       "    }\n",
       "\n",
       "    .dataframe thead th {\n",
       "        text-align: right;\n",
       "    }\n",
       "</style>\n",
       "<table border=\"1\" class=\"dataframe\">\n",
       "  <thead>\n",
       "    <tr style=\"text-align: right;\">\n",
       "      <th></th>\n",
       "      <th>index</th>\n",
       "      <th>name</th>\n",
       "      <th>type</th>\n",
       "      <th>prop_lat</th>\n",
       "      <th>prop_long</th>\n",
       "      <th>Beds</th>\n",
       "      <th>Baths</th>\n",
       "      <th>Parking</th>\n",
       "      <th>weekly_cost</th>\n",
       "      <th>suburb</th>\n",
       "      <th>numSchool_3km</th>\n",
       "      <th>distance_to_nearest_school</th>\n",
       "      <th>numHospital_3km</th>\n",
       "      <th>distance_to_nearest_hospital</th>\n",
       "    </tr>\n",
       "  </thead>\n",
       "  <tbody>\n",
       "    <tr>\n",
       "      <th>0</th>\n",
       "      <td>0</td>\n",
       "      <td>56 Selwyn Street Albion VIC 3020</td>\n",
       "      <td>House</td>\n",
       "      <td>-37.780782</td>\n",
       "      <td>144.813020</td>\n",
       "      <td>3</td>\n",
       "      <td>2</td>\n",
       "      <td>2</td>\n",
       "      <td>300.0</td>\n",
       "      <td>3020</td>\n",
       "      <td>33.0</td>\n",
       "      <td>0.6501404158195666</td>\n",
       "      <td>1.0</td>\n",
       "      <td>10.83147814710251</td>\n",
       "    </tr>\n",
       "    <tr>\n",
       "      <th>1</th>\n",
       "      <td>1</td>\n",
       "      <td>1/3 Robin Street Altona VIC 3018</td>\n",
       "      <td>Apartment / Unit / Flat</td>\n",
       "      <td>-37.869028</td>\n",
       "      <td>144.807250</td>\n",
       "      <td>2</td>\n",
       "      <td>1</td>\n",
       "      <td>1</td>\n",
       "      <td>300.0</td>\n",
       "      <td>3018</td>\n",
       "      <td>12.0</td>\n",
       "      <td>0.6896526476051238</td>\n",
       "      <td>1.0</td>\n",
       "      <td>1.8653500382034183</td>\n",
       "    </tr>\n",
       "    <tr>\n",
       "      <th>2</th>\n",
       "      <td>2</td>\n",
       "      <td>34 Hucker Street Ararat VIC 3377</td>\n",
       "      <td>House</td>\n",
       "      <td>-37.276411</td>\n",
       "      <td>142.920079</td>\n",
       "      <td>3</td>\n",
       "      <td>1</td>\n",
       "      <td>1</td>\n",
       "      <td>300.0</td>\n",
       "      <td>3377</td>\n",
       "      <td>6.0</td>\n",
       "      <td>0.1333351425115027</td>\n",
       "      <td>1.0</td>\n",
       "      <td>1.1618697631779715</td>\n",
       "    </tr>\n",
       "    <tr>\n",
       "      <th>3</th>\n",
       "      <td>3</td>\n",
       "      <td>3 Neylan Street Ararat VIC 3377</td>\n",
       "      <td>House</td>\n",
       "      <td>-37.292905</td>\n",
       "      <td>142.921881</td>\n",
       "      <td>2</td>\n",
       "      <td>1</td>\n",
       "      <td>2</td>\n",
       "      <td>300.0</td>\n",
       "      <td>3377</td>\n",
       "      <td>6.0</td>\n",
       "      <td>0.7678326903981126</td>\n",
       "      <td>1.0</td>\n",
       "      <td>1.843199687372491</td>\n",
       "    </tr>\n",
       "    <tr>\n",
       "      <th>4</th>\n",
       "      <td>4</td>\n",
       "      <td>8 Suspension Street Ardeer VIC 3022</td>\n",
       "      <td>House</td>\n",
       "      <td>-37.782361</td>\n",
       "      <td>144.808833</td>\n",
       "      <td>2</td>\n",
       "      <td>1</td>\n",
       "      <td>2</td>\n",
       "      <td>300.0</td>\n",
       "      <td>3022</td>\n",
       "      <td>30.0</td>\n",
       "      <td>0.5862197076000492</td>\n",
       "      <td>1.0</td>\n",
       "      <td>10.834261807364065</td>\n",
       "    </tr>\n",
       "    <tr>\n",
       "      <th>...</th>\n",
       "      <td>...</td>\n",
       "      <td>...</td>\n",
       "      <td>...</td>\n",
       "      <td>...</td>\n",
       "      <td>...</td>\n",
       "      <td>...</td>\n",
       "      <td>...</td>\n",
       "      <td>...</td>\n",
       "      <td>...</td>\n",
       "      <td>...</td>\n",
       "      <td>...</td>\n",
       "      <td>...</td>\n",
       "      <td>...</td>\n",
       "      <td>...</td>\n",
       "    </tr>\n",
       "    <tr>\n",
       "      <th>9389</th>\n",
       "      <td>9389</td>\n",
       "      <td>31 Austin Road Seaford VIC 3198</td>\n",
       "      <td>House</td>\n",
       "      <td>-38.105231</td>\n",
       "      <td>145.134350</td>\n",
       "      <td>4</td>\n",
       "      <td>2</td>\n",
       "      <td>2</td>\n",
       "      <td>850.0</td>\n",
       "      <td>3198</td>\n",
       "      <td>15.0</td>\n",
       "      <td>0.34816382989589356</td>\n",
       "      <td>0.0</td>\n",
       "      <td>101.60528521826753</td>\n",
       "    </tr>\n",
       "    <tr>\n",
       "      <th>9390</th>\n",
       "      <td>9390</td>\n",
       "      <td>12 Morobe Street Sorrento VIC 3943</td>\n",
       "      <td>House</td>\n",
       "      <td>-38.354365</td>\n",
       "      <td>144.758948</td>\n",
       "      <td>5</td>\n",
       "      <td>2</td>\n",
       "      <td>0</td>\n",
       "      <td>850.0</td>\n",
       "      <td>3943</td>\n",
       "      <td>2.0</td>\n",
       "      <td>100.14569569048717</td>\n",
       "      <td>0.0</td>\n",
       "      <td>10.895777765396797</td>\n",
       "    </tr>\n",
       "    <tr>\n",
       "      <th>9391</th>\n",
       "      <td>9391</td>\n",
       "      <td>7/278 Kings Way South Melbourne VIC 3205</td>\n",
       "      <td>Townhouse</td>\n",
       "      <td>-37.833083</td>\n",
       "      <td>144.966977</td>\n",
       "      <td>3</td>\n",
       "      <td>2</td>\n",
       "      <td>1</td>\n",
       "      <td>850.0</td>\n",
       "      <td>3205</td>\n",
       "      <td>50.0</td>\n",
       "      <td>0.5303940155951052</td>\n",
       "      <td>26.0</td>\n",
       "      <td>0.47241226296551453</td>\n",
       "    </tr>\n",
       "    <tr>\n",
       "      <th>9392</th>\n",
       "      <td>9392</td>\n",
       "      <td>37 Cunningham Street South Yarra VIC 3141</td>\n",
       "      <td>House</td>\n",
       "      <td>-37.840129</td>\n",
       "      <td>144.996587</td>\n",
       "      <td>3</td>\n",
       "      <td>1</td>\n",
       "      <td>1</td>\n",
       "      <td>850.0</td>\n",
       "      <td>3141</td>\n",
       "      <td>58.0</td>\n",
       "      <td>0.29501884947033125</td>\n",
       "      <td>21.0</td>\n",
       "      <td>0.8452948276125342</td>\n",
       "    </tr>\n",
       "    <tr>\n",
       "      <th>9393</th>\n",
       "      <td>9393</td>\n",
       "      <td>46 Alexandra Street South Yarra VIC 3141</td>\n",
       "      <td>House</td>\n",
       "      <td>-37.840863</td>\n",
       "      <td>144.988399</td>\n",
       "      <td>3</td>\n",
       "      <td>2</td>\n",
       "      <td>0</td>\n",
       "      <td>850.0</td>\n",
       "      <td>3141</td>\n",
       "      <td>54.0</td>\n",
       "      <td>0.2499786048734872</td>\n",
       "      <td>22.0</td>\n",
       "      <td>0.8120713539054856</td>\n",
       "    </tr>\n",
       "  </tbody>\n",
       "</table>\n",
       "<p>9394 rows × 14 columns</p>\n",
       "</div>"
      ],
      "text/plain": [
       "      index                                       name  \\\n",
       "0         0           56 Selwyn Street Albion VIC 3020   \n",
       "1         1           1/3 Robin Street Altona VIC 3018   \n",
       "2         2           34 Hucker Street Ararat VIC 3377   \n",
       "3         3            3 Neylan Street Ararat VIC 3377   \n",
       "4         4        8 Suspension Street Ardeer VIC 3022   \n",
       "...     ...                                        ...   \n",
       "9389   9389            31 Austin Road Seaford VIC 3198   \n",
       "9390   9390         12 Morobe Street Sorrento VIC 3943   \n",
       "9391   9391   7/278 Kings Way South Melbourne VIC 3205   \n",
       "9392   9392  37 Cunningham Street South Yarra VIC 3141   \n",
       "9393   9393   46 Alexandra Street South Yarra VIC 3141   \n",
       "\n",
       "                         type   prop_lat   prop_long  Beds  Baths  Parking  \\\n",
       "0                       House -37.780782  144.813020     3      2        2   \n",
       "1     Apartment / Unit / Flat -37.869028  144.807250     2      1        1   \n",
       "2                       House -37.276411  142.920079     3      1        1   \n",
       "3                       House -37.292905  142.921881     2      1        2   \n",
       "4                       House -37.782361  144.808833     2      1        2   \n",
       "...                       ...        ...         ...   ...    ...      ...   \n",
       "9389                    House -38.105231  145.134350     4      2        2   \n",
       "9390                    House -38.354365  144.758948     5      2        0   \n",
       "9391                Townhouse -37.833083  144.966977     3      2        1   \n",
       "9392                    House -37.840129  144.996587     3      1        1   \n",
       "9393                    House -37.840863  144.988399     3      2        0   \n",
       "\n",
       "      weekly_cost  suburb  numSchool_3km distance_to_nearest_school  \\\n",
       "0           300.0    3020           33.0         0.6501404158195666   \n",
       "1           300.0    3018           12.0         0.6896526476051238   \n",
       "2           300.0    3377            6.0         0.1333351425115027   \n",
       "3           300.0    3377            6.0         0.7678326903981126   \n",
       "4           300.0    3022           30.0         0.5862197076000492   \n",
       "...           ...     ...            ...                        ...   \n",
       "9389        850.0    3198           15.0        0.34816382989589356   \n",
       "9390        850.0    3943            2.0         100.14569569048717   \n",
       "9391        850.0    3205           50.0         0.5303940155951052   \n",
       "9392        850.0    3141           58.0        0.29501884947033125   \n",
       "9393        850.0    3141           54.0         0.2499786048734872   \n",
       "\n",
       "      numHospital_3km distance_to_nearest_hospital  \n",
       "0                 1.0            10.83147814710251  \n",
       "1                 1.0           1.8653500382034183  \n",
       "2                 1.0           1.1618697631779715  \n",
       "3                 1.0            1.843199687372491  \n",
       "4                 1.0           10.834261807364065  \n",
       "...               ...                          ...  \n",
       "9389              0.0           101.60528521826753  \n",
       "9390              0.0           10.895777765396797  \n",
       "9391             26.0          0.47241226296551453  \n",
       "9392             21.0           0.8452948276125342  \n",
       "9393             22.0           0.8120713539054856  \n",
       "\n",
       "[9394 rows x 14 columns]"
      ]
     },
     "execution_count": 30,
     "metadata": {},
     "output_type": "execute_result"
    }
   ],
   "source": [
    "properties"
   ]
  },
  {
   "cell_type": "code",
   "execution_count": null,
   "id": "2086a31e",
   "metadata": {},
   "outputs": [],
   "source": []
  }
 ],
 "metadata": {
  "kernelspec": {
   "display_name": "Python 3 (ipykernel)",
   "language": "python",
   "name": "python3"
  },
  "language_info": {
   "codemirror_mode": {
    "name": "ipython",
    "version": 3
   },
   "file_extension": ".py",
   "mimetype": "text/x-python",
   "name": "python",
   "nbconvert_exporter": "python",
   "pygments_lexer": "ipython3",
   "version": "3.10.4"
  }
 },
 "nbformat": 4,
 "nbformat_minor": 5
}
