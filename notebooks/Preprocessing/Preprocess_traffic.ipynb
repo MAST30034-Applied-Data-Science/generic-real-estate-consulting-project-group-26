{
 "cells": [
  {
   "cell_type": "code",
   "execution_count": 2,
   "metadata": {},
   "outputs": [],
   "source": [
    "import pandas as pd\n",
    "import geopandas as gpd"
   ]
  },
  {
   "cell_type": "code",
   "execution_count": 3,
   "metadata": {},
   "outputs": [
    {
     "data": {
      "text/html": [
       "<div>\n",
       "<style scoped>\n",
       "    .dataframe tbody tr th:only-of-type {\n",
       "        vertical-align: middle;\n",
       "    }\n",
       "\n",
       "    .dataframe tbody tr th {\n",
       "        vertical-align: top;\n",
       "    }\n",
       "\n",
       "    .dataframe thead th {\n",
       "        text-align: right;\n",
       "    }\n",
       "</style>\n",
       "<table border=\"1\" class=\"dataframe\">\n",
       "  <thead>\n",
       "    <tr style=\"text-align: right;\">\n",
       "      <th></th>\n",
       "      <th>STOP_ID</th>\n",
       "      <th>STOP_NAME</th>\n",
       "      <th>LATITUDE</th>\n",
       "      <th>LONGITUDE</th>\n",
       "      <th>TICKETZONE</th>\n",
       "      <th>ROUTEUSSP</th>\n",
       "      <th>geometry</th>\n",
       "    </tr>\n",
       "  </thead>\n",
       "  <tbody>\n",
       "    <tr>\n",
       "      <th>0</th>\n",
       "      <td>19970</td>\n",
       "      <td>Royal Park Railway Station (Parkville)</td>\n",
       "      <td>-37.781193</td>\n",
       "      <td>144.952301</td>\n",
       "      <td>1</td>\n",
       "      <td>Upfield</td>\n",
       "      <td>POINT (144.95230 -37.78119)</td>\n",
       "    </tr>\n",
       "    <tr>\n",
       "      <th>1</th>\n",
       "      <td>19971</td>\n",
       "      <td>Flemington Bridge Railway Station (North Melbo...</td>\n",
       "      <td>-37.788140</td>\n",
       "      <td>144.939323</td>\n",
       "      <td>1</td>\n",
       "      <td>Upfield</td>\n",
       "      <td>POINT (144.93932 -37.78814)</td>\n",
       "    </tr>\n",
       "    <tr>\n",
       "      <th>2</th>\n",
       "      <td>19972</td>\n",
       "      <td>Macaulay Railway Station (North Melbourne)</td>\n",
       "      <td>-37.794267</td>\n",
       "      <td>144.936166</td>\n",
       "      <td>1</td>\n",
       "      <td>Upfield</td>\n",
       "      <td>POINT (144.93617 -37.79427)</td>\n",
       "    </tr>\n",
       "    <tr>\n",
       "      <th>3</th>\n",
       "      <td>19973</td>\n",
       "      <td>North Melbourne Railway Station (West Melbourne)</td>\n",
       "      <td>-37.807419</td>\n",
       "      <td>144.942570</td>\n",
       "      <td>1</td>\n",
       "      <td>Flemington,Sunbury,Upfield,Werribee,Williamsto...</td>\n",
       "      <td>POINT (144.94257 -37.80742)</td>\n",
       "    </tr>\n",
       "    <tr>\n",
       "      <th>4</th>\n",
       "      <td>19974</td>\n",
       "      <td>Clifton Hill Railway Station (Clifton Hill)</td>\n",
       "      <td>-37.788657</td>\n",
       "      <td>144.995417</td>\n",
       "      <td>1</td>\n",
       "      <td>Mernda,Hurstbridge</td>\n",
       "      <td>POINT (144.99542 -37.78866)</td>\n",
       "    </tr>\n",
       "  </tbody>\n",
       "</table>\n",
       "</div>"
      ],
      "text/plain": [
       "  STOP_ID                                          STOP_NAME   LATITUDE  \\\n",
       "0   19970             Royal Park Railway Station (Parkville) -37.781193   \n",
       "1   19971  Flemington Bridge Railway Station (North Melbo... -37.788140   \n",
       "2   19972         Macaulay Railway Station (North Melbourne) -37.794267   \n",
       "3   19973   North Melbourne Railway Station (West Melbourne) -37.807419   \n",
       "4   19974        Clifton Hill Railway Station (Clifton Hill) -37.788657   \n",
       "\n",
       "    LONGITUDE TICKETZONE                                          ROUTEUSSP  \\\n",
       "0  144.952301          1                                            Upfield   \n",
       "1  144.939323          1                                            Upfield   \n",
       "2  144.936166          1                                            Upfield   \n",
       "3  144.942570          1  Flemington,Sunbury,Upfield,Werribee,Williamsto...   \n",
       "4  144.995417          1                                 Mernda,Hurstbridge   \n",
       "\n",
       "                      geometry  \n",
       "0  POINT (144.95230 -37.78119)  \n",
       "1  POINT (144.93932 -37.78814)  \n",
       "2  POINT (144.93617 -37.79427)  \n",
       "3  POINT (144.94257 -37.80742)  \n",
       "4  POINT (144.99542 -37.78866)  "
      ]
     },
     "execution_count": 3,
     "metadata": {},
     "output_type": "execute_result"
    }
   ],
   "source": [
    "train = gpd.read_file(\"../../data/raw/PTV/PTV_METRO_TRAIN_STATION.shp\")\n",
    "train.head()"
   ]
  },
  {
   "cell_type": "code",
   "execution_count": 4,
   "metadata": {},
   "outputs": [],
   "source": [
    "train.to_csv('../../data/raw/train_station.csv')"
   ]
  },
  {
   "cell_type": "code",
   "execution_count": 5,
   "metadata": {},
   "outputs": [],
   "source": [
    "# data about the location of each train station\n",
    "train = pd.read_csv(\"../../data/raw/train_station.csv\")   "
   ]
  },
  {
   "cell_type": "code",
   "execution_count": 6,
   "metadata": {},
   "outputs": [],
   "source": [
    "# passenger flow volume data for each station\n",
    "pas = pd.read_csv(\"../../data/raw/Annual metropolitan train station entries 2020-21.csv\") "
   ]
  },
  {
   "cell_type": "code",
   "execution_count": 7,
   "metadata": {},
   "outputs": [],
   "source": [
    "pas[\"STOP_ID\"] = pas[\"Stop_ID\"]  # create merging attribute"
   ]
  },
  {
   "cell_type": "code",
   "execution_count": 8,
   "metadata": {},
   "outputs": [
    {
     "name": "stdout",
     "output_type": "stream",
     "text": [
      "Fin_year               0\n",
      "Stop_ID                0\n",
      "Stop_name              0\n",
      "Stop_lat               0\n",
      "Stop_long              0\n",
      "Pax_annual             0\n",
      "Pax_weekday            0\n",
      "Pax_norm_weekday       0\n",
      "Pax_sch_hol_weekday    0\n",
      "Pax_Saturday           0\n",
      "Pax_Sunday             0\n",
      "Pax_pre_AM_peak        0\n",
      "Pax_AM_peak            0\n",
      "Pax_interpeak          0\n",
      "Pax_PM_peak            0\n",
      "Pax_PM_late            0\n",
      "STOP_ID                0\n",
      "dtype: int64\n"
     ]
    }
   ],
   "source": [
    "print(pas.isnull().sum())"
   ]
  },
  {
   "cell_type": "markdown",
   "metadata": {},
   "source": [
    "### Merge the location of train station and passenger flow volume "
   ]
  },
  {
   "cell_type": "code",
   "execution_count": 9,
   "metadata": {},
   "outputs": [],
   "source": [
    "# merge data on \"STOP_ID\"\n",
    "merge = pd.merge(train, pas, on=\"STOP_ID\", how=\"outer\") "
   ]
  },
  {
   "cell_type": "code",
   "execution_count": 10,
   "metadata": {},
   "outputs": [
    {
     "data": {
      "text/html": [
       "<div>\n",
       "<style scoped>\n",
       "    .dataframe tbody tr th:only-of-type {\n",
       "        vertical-align: middle;\n",
       "    }\n",
       "\n",
       "    .dataframe tbody tr th {\n",
       "        vertical-align: top;\n",
       "    }\n",
       "\n",
       "    .dataframe thead th {\n",
       "        text-align: right;\n",
       "    }\n",
       "</style>\n",
       "<table border=\"1\" class=\"dataframe\">\n",
       "  <thead>\n",
       "    <tr style=\"text-align: right;\">\n",
       "      <th></th>\n",
       "      <th>Unnamed: 0</th>\n",
       "      <th>STOP_ID</th>\n",
       "      <th>STOP_NAME</th>\n",
       "      <th>LATITUDE</th>\n",
       "      <th>LONGITUDE</th>\n",
       "      <th>TICKETZONE</th>\n",
       "      <th>ROUTEUSSP</th>\n",
       "      <th>geometry</th>\n",
       "      <th>Fin_year</th>\n",
       "      <th>Stop_ID</th>\n",
       "      <th>...</th>\n",
       "      <th>Pax_weekday</th>\n",
       "      <th>Pax_norm_weekday</th>\n",
       "      <th>Pax_sch_hol_weekday</th>\n",
       "      <th>Pax_Saturday</th>\n",
       "      <th>Pax_Sunday</th>\n",
       "      <th>Pax_pre_AM_peak</th>\n",
       "      <th>Pax_AM_peak</th>\n",
       "      <th>Pax_interpeak</th>\n",
       "      <th>Pax_PM_peak</th>\n",
       "      <th>Pax_PM_late</th>\n",
       "    </tr>\n",
       "  </thead>\n",
       "  <tbody>\n",
       "    <tr>\n",
       "      <th>0</th>\n",
       "      <td>0.0</td>\n",
       "      <td>19970</td>\n",
       "      <td>Royal Park Railway Station (Parkville)</td>\n",
       "      <td>-37.781193</td>\n",
       "      <td>144.952301</td>\n",
       "      <td>1</td>\n",
       "      <td>Upfield</td>\n",
       "      <td>POINT (144.95230116 -37.7811929699999)</td>\n",
       "      <td>FY20-21</td>\n",
       "      <td>19970</td>\n",
       "      <td>...</td>\n",
       "      <td>350</td>\n",
       "      <td>350</td>\n",
       "      <td>500</td>\n",
       "      <td>250</td>\n",
       "      <td>200</td>\n",
       "      <td>50</td>\n",
       "      <td>50</td>\n",
       "      <td>100</td>\n",
       "      <td>150</td>\n",
       "      <td>50</td>\n",
       "    </tr>\n",
       "    <tr>\n",
       "      <th>1</th>\n",
       "      <td>1.0</td>\n",
       "      <td>19971</td>\n",
       "      <td>Flemington Bridge Railway Station (North Melbo...</td>\n",
       "      <td>-37.788140</td>\n",
       "      <td>144.939323</td>\n",
       "      <td>1</td>\n",
       "      <td>Upfield</td>\n",
       "      <td>POINT (144.93932316 -37.78813998)</td>\n",
       "      <td>FY20-21</td>\n",
       "      <td>19971</td>\n",
       "      <td>...</td>\n",
       "      <td>300</td>\n",
       "      <td>300</td>\n",
       "      <td>300</td>\n",
       "      <td>200</td>\n",
       "      <td>150</td>\n",
       "      <td>50</td>\n",
       "      <td>50</td>\n",
       "      <td>100</td>\n",
       "      <td>100</td>\n",
       "      <td>50</td>\n",
       "    </tr>\n",
       "    <tr>\n",
       "      <th>2</th>\n",
       "      <td>2.0</td>\n",
       "      <td>19972</td>\n",
       "      <td>Macaulay Railway Station (North Melbourne)</td>\n",
       "      <td>-37.794267</td>\n",
       "      <td>144.936166</td>\n",
       "      <td>1</td>\n",
       "      <td>Upfield</td>\n",
       "      <td>POINT (144.93616596 -37.794267)</td>\n",
       "      <td>FY20-21</td>\n",
       "      <td>19972</td>\n",
       "      <td>...</td>\n",
       "      <td>350</td>\n",
       "      <td>350</td>\n",
       "      <td>300</td>\n",
       "      <td>200</td>\n",
       "      <td>150</td>\n",
       "      <td>50</td>\n",
       "      <td>50</td>\n",
       "      <td>100</td>\n",
       "      <td>150</td>\n",
       "      <td>50</td>\n",
       "    </tr>\n",
       "    <tr>\n",
       "      <th>3</th>\n",
       "      <td>3.0</td>\n",
       "      <td>19973</td>\n",
       "      <td>North Melbourne Railway Station (West Melbourne)</td>\n",
       "      <td>-37.807419</td>\n",
       "      <td>144.942570</td>\n",
       "      <td>1</td>\n",
       "      <td>Flemington,Sunbury,Upfield,Werribee,Williamsto...</td>\n",
       "      <td>POINT (144.94257 -37.80741897)</td>\n",
       "      <td>FY20-21</td>\n",
       "      <td>19973</td>\n",
       "      <td>...</td>\n",
       "      <td>1950</td>\n",
       "      <td>2000</td>\n",
       "      <td>1650</td>\n",
       "      <td>1950</td>\n",
       "      <td>1300</td>\n",
       "      <td>50</td>\n",
       "      <td>350</td>\n",
       "      <td>500</td>\n",
       "      <td>950</td>\n",
       "      <td>150</td>\n",
       "    </tr>\n",
       "    <tr>\n",
       "      <th>4</th>\n",
       "      <td>4.0</td>\n",
       "      <td>19974</td>\n",
       "      <td>Clifton Hill Railway Station (Clifton Hill)</td>\n",
       "      <td>-37.788657</td>\n",
       "      <td>144.995417</td>\n",
       "      <td>1</td>\n",
       "      <td>Mernda,Hurstbridge</td>\n",
       "      <td>POINT (144.99541692 -37.78865703)</td>\n",
       "      <td>FY20-21</td>\n",
       "      <td>19974</td>\n",
       "      <td>...</td>\n",
       "      <td>1000</td>\n",
       "      <td>1050</td>\n",
       "      <td>950</td>\n",
       "      <td>900</td>\n",
       "      <td>700</td>\n",
       "      <td>50</td>\n",
       "      <td>350</td>\n",
       "      <td>250</td>\n",
       "      <td>300</td>\n",
       "      <td>100</td>\n",
       "    </tr>\n",
       "  </tbody>\n",
       "</table>\n",
       "<p>5 rows × 24 columns</p>\n",
       "</div>"
      ],
      "text/plain": [
       "   Unnamed: 0  STOP_ID                                          STOP_NAME  \\\n",
       "0         0.0    19970             Royal Park Railway Station (Parkville)   \n",
       "1         1.0    19971  Flemington Bridge Railway Station (North Melbo...   \n",
       "2         2.0    19972         Macaulay Railway Station (North Melbourne)   \n",
       "3         3.0    19973   North Melbourne Railway Station (West Melbourne)   \n",
       "4         4.0    19974        Clifton Hill Railway Station (Clifton Hill)   \n",
       "\n",
       "    LATITUDE   LONGITUDE TICKETZONE  \\\n",
       "0 -37.781193  144.952301          1   \n",
       "1 -37.788140  144.939323          1   \n",
       "2 -37.794267  144.936166          1   \n",
       "3 -37.807419  144.942570          1   \n",
       "4 -37.788657  144.995417          1   \n",
       "\n",
       "                                           ROUTEUSSP  \\\n",
       "0                                            Upfield   \n",
       "1                                            Upfield   \n",
       "2                                            Upfield   \n",
       "3  Flemington,Sunbury,Upfield,Werribee,Williamsto...   \n",
       "4                                 Mernda,Hurstbridge   \n",
       "\n",
       "                                 geometry Fin_year  Stop_ID  ... Pax_weekday  \\\n",
       "0  POINT (144.95230116 -37.7811929699999)  FY20-21    19970  ...         350   \n",
       "1       POINT (144.93932316 -37.78813998)  FY20-21    19971  ...         300   \n",
       "2         POINT (144.93616596 -37.794267)  FY20-21    19972  ...         350   \n",
       "3          POINT (144.94257 -37.80741897)  FY20-21    19973  ...        1950   \n",
       "4       POINT (144.99541692 -37.78865703)  FY20-21    19974  ...        1000   \n",
       "\n",
       "   Pax_norm_weekday  Pax_sch_hol_weekday  Pax_Saturday  Pax_Sunday  \\\n",
       "0               350                  500           250         200   \n",
       "1               300                  300           200         150   \n",
       "2               350                  300           200         150   \n",
       "3              2000                 1650          1950        1300   \n",
       "4              1050                  950           900         700   \n",
       "\n",
       "   Pax_pre_AM_peak  Pax_AM_peak  Pax_interpeak  Pax_PM_peak  Pax_PM_late  \n",
       "0               50           50            100          150           50  \n",
       "1               50           50            100          100           50  \n",
       "2               50           50            100          150           50  \n",
       "3               50          350            500          950          150  \n",
       "4               50          350            250          300          100  \n",
       "\n",
       "[5 rows x 24 columns]"
      ]
     },
     "execution_count": 10,
     "metadata": {},
     "output_type": "execute_result"
    }
   ],
   "source": [
    "merge.head()"
   ]
  },
  {
   "cell_type": "code",
   "execution_count": 11,
   "metadata": {},
   "outputs": [
    {
     "data": {
      "text/plain": [
       "count    2.220000e+02\n",
       "mean     3.505405e+05\n",
       "std      7.405339e+05\n",
       "min      1.850000e+03\n",
       "25%      1.096250e+05\n",
       "50%      1.978000e+05\n",
       "75%      3.395500e+05\n",
       "max      8.528000e+06\n",
       "Name: Pax_annual, dtype: float64"
      ]
     },
     "execution_count": 11,
     "metadata": {},
     "output_type": "execute_result"
    }
   ],
   "source": [
    "merge[\"Pax_annual\"].describe()  # check the data validity"
   ]
  },
  {
   "cell_type": "markdown",
   "metadata": {},
   "source": [
    "### Select useful attributes"
   ]
  },
  {
   "cell_type": "code",
   "execution_count": 12,
   "metadata": {},
   "outputs": [],
   "source": [
    "# determine useful attributes\n",
    "merge=merge[[\"STOP_ID\",\"STOP_NAME\",\"LATITUDE\",\n",
    "             \"LONGITUDE\",\"ROUTEUSSP\",\"geometry\",\"Fin_year\",\"Pax_annual\"]] "
   ]
  },
  {
   "cell_type": "code",
   "execution_count": 13,
   "metadata": {},
   "outputs": [
    {
     "name": "stdout",
     "output_type": "stream",
     "text": [
      "STOP_ID       0\n",
      "STOP_NAME     2\n",
      "LATITUDE      2\n",
      "LONGITUDE     2\n",
      "ROUTEUSSP     2\n",
      "geometry      2\n",
      "Fin_year      0\n",
      "Pax_annual    0\n",
      "dtype: int64\n"
     ]
    }
   ],
   "source": [
    "print(merge.isnull().sum())"
   ]
  },
  {
   "cell_type": "code",
   "execution_count": 14,
   "metadata": {},
   "outputs": [],
   "source": [
    "merge=merge.dropna() #delete missing value"
   ]
  },
  {
   "cell_type": "code",
   "execution_count": 15,
   "metadata": {},
   "outputs": [],
   "source": [
    "merge.to_csv('../../data/curated/traffic_dataset.csv')"
   ]
  }
 ],
 "metadata": {
  "kernelspec": {
   "display_name": "Python 3 (ipykernel)",
   "language": "python",
   "name": "python3"
  },
  "language_info": {
   "codemirror_mode": {
    "name": "ipython",
    "version": 3
   },
   "file_extension": ".py",
   "mimetype": "text/x-python",
   "name": "python",
   "nbconvert_exporter": "python",
   "pygments_lexer": "ipython3",
   "version": "3.10.4"
  },
  "vscode": {
   "interpreter": {
    "hash": "916dbcbb3f70747c44a77c7bcd40155683ae19c65e1c03b4aa3499c5328201f1"
   }
  }
 },
 "nbformat": 4,
 "nbformat_minor": 2
}
