{
 "cells": [
  {
   "cell_type": "code",
   "execution_count": 34,
   "metadata": {},
   "outputs": [],
   "source": [
    "# import required libries\n",
    "import os\n",
    "import numpy as np\n",
    "import spicy as sp\n",
    "import pandas as pd\n",
    "\n",
    "# define required path\n",
    "raw_data = '../../data/raw/'\n",
    "curated_data = '../../data/curated/'"
   ]
  },
  {
   "cell_type": "code",
   "execution_count": 35,
   "metadata": {},
   "outputs": [],
   "source": [
    "# read in dataset\n",
    "popu = pd.read_csv(raw_data + 'population.csv', index_col=0)"
   ]
  },
  {
   "cell_type": "code",
   "execution_count": 36,
   "metadata": {},
   "outputs": [],
   "source": [
    "required = ['SA2_code', '2021']\n",
    "popu_sa2 = popu[required]"
   ]
  },
  {
   "cell_type": "code",
   "execution_count": 37,
   "metadata": {},
   "outputs": [],
   "source": [
    "# Select data in Victoria\n",
    "popu = popu.loc[(popu['SA2_code'].astype(int)>199999999) &\n",
    "                (popu['SA2_code'].astype(int)<300000000)]\n",
    "popu_sa2 = popu_sa2.loc[(popu_sa2['SA2_code'].astype(int)>199999999) &\n",
    "                        (popu_sa2['SA2_code'].astype(int)<300000000)]"
   ]
  },
  {
   "cell_type": "code",
   "execution_count": 38,
   "metadata": {},
   "outputs": [],
   "source": [
    "popu_sa2.to_csv(curated_data + 'population.csv')"
   ]
  },
  {
   "cell_type": "code",
   "execution_count": 39,
   "metadata": {},
   "outputs": [],
   "source": [
    "suburb = pd.read_csv(raw_data + 'suburb.csv', index_col=0)"
   ]
  },
  {
   "cell_type": "code",
   "execution_count": 40,
   "metadata": {},
   "outputs": [],
   "source": [
    "# drop duplicate suburbs\n",
    "suburb['Suburb'] = suburb['Suburb'].drop_duplicates()\n",
    "suburb = suburb.dropna()"
   ]
  },
  {
   "cell_type": "code",
   "execution_count": 41,
   "metadata": {},
   "outputs": [],
   "source": [
    "# read in dataset\n",
    "properties = pd.read_csv(curated_data + 'properties.csv')"
   ]
  },
  {
   "cell_type": "code",
   "execution_count": 42,
   "metadata": {},
   "outputs": [],
   "source": [
    "# calcuate the number of suburbs in properties\n",
    "suburb_count = properties.groupby(['suburb'],as_index=False)['name'].count()\n",
    "suburb_count.columns = ['suburb', 'count']"
   ]
  },
  {
   "cell_type": "code",
   "execution_count": 43,
   "metadata": {},
   "outputs": [],
   "source": [
    "# prepare for joining\n",
    "suburb_count['suburb'] = suburb_count['suburb'].str.upper()"
   ]
  },
  {
   "cell_type": "code",
   "execution_count": 44,
   "metadata": {},
   "outputs": [],
   "source": [
    "# join the suburb and dataset with sa2\n",
    "suburb_count = suburb[['Suburb', 'SA2_code']].join(suburb_count.set_index('suburb'), \n",
    "                                                   on = 'Suburb').dropna().reset_index(drop=True)"
   ]
  },
  {
   "cell_type": "code",
   "execution_count": 47,
   "metadata": {},
   "outputs": [
    {
     "name": "stderr",
     "output_type": "stream",
     "text": [
      "/tmp/ipykernel_4415/3150107530.py:2: FutureWarning: The default value of numeric_only in DataFrameGroupBy.sum is deprecated. In a future version, numeric_only will default to False. Either specify numeric_only or select only columns which should be valid for the function.\n",
      "  sa2_count = suburb_count.groupby(['SA2_code'], as_index=False).sum()\n"
     ]
    }
   ],
   "source": [
    "# calculate the number of properties in each sa2 area\n",
    "sa2_count = suburb_count.groupby(['SA2_code'], as_index=False).sum()\n",
    "sa2_count.columns = ['SA2_code', 'sum']"
   ]
  },
  {
   "cell_type": "code",
   "execution_count": 48,
   "metadata": {},
   "outputs": [],
   "source": [
    "# merge the sum of sa2 properties data\n",
    "suburb_count = suburb_count.join(sa2_count.set_index('SA2_code'), on = 'SA2_code')"
   ]
  },
  {
   "cell_type": "code",
   "execution_count": 49,
   "metadata": {},
   "outputs": [],
   "source": [
    "# calculate the properties proportions of suburbs\n",
    "suburb_count['popu_ratio'] = suburb_count['count'] / suburb_count['sum']"
   ]
  },
  {
   "cell_type": "code",
   "execution_count": 50,
   "metadata": {},
   "outputs": [],
   "source": [
    "# merge the population dataframe\n",
    "suburb_popu = suburb_count.join(popu.set_index('SA2_code'), on='SA2_code')"
   ]
  },
  {
   "cell_type": "code",
   "execution_count": 51,
   "metadata": {},
   "outputs": [
    {
     "data": {
      "text/html": [
       "<div>\n",
       "<style scoped>\n",
       "    .dataframe tbody tr th:only-of-type {\n",
       "        vertical-align: middle;\n",
       "    }\n",
       "\n",
       "    .dataframe tbody tr th {\n",
       "        vertical-align: top;\n",
       "    }\n",
       "\n",
       "    .dataframe thead th {\n",
       "        text-align: right;\n",
       "    }\n",
       "</style>\n",
       "<table border=\"1\" class=\"dataframe\">\n",
       "  <thead>\n",
       "    <tr style=\"text-align: right;\">\n",
       "      <th></th>\n",
       "      <th>Suburb</th>\n",
       "      <th>SA2_code</th>\n",
       "      <th>count</th>\n",
       "      <th>sum</th>\n",
       "      <th>popu_ratio</th>\n",
       "      <th>SA2_name</th>\n",
       "      <th>2001</th>\n",
       "      <th>2002</th>\n",
       "      <th>2003</th>\n",
       "      <th>2004</th>\n",
       "      <th>...</th>\n",
       "      <th>2014</th>\n",
       "      <th>2015</th>\n",
       "      <th>2016</th>\n",
       "      <th>2017</th>\n",
       "      <th>2018</th>\n",
       "      <th>2019</th>\n",
       "      <th>2020</th>\n",
       "      <th>2021</th>\n",
       "      <th>Area</th>\n",
       "      <th>Population_density_2021</th>\n",
       "    </tr>\n",
       "  </thead>\n",
       "  <tbody>\n",
       "    <tr>\n",
       "      <th>0</th>\n",
       "      <td>MELBOURNE</td>\n",
       "      <td>206041122.0</td>\n",
       "      <td>482.0</td>\n",
       "      <td>482.0</td>\n",
       "      <td>1.000000</td>\n",
       "      <td>Melbourne</td>\n",
       "      <td>7644.0</td>\n",
       "      <td>9592.0</td>\n",
       "      <td>11400.0</td>\n",
       "      <td>12727.0</td>\n",
       "      <td>...</td>\n",
       "      <td>33626.0</td>\n",
       "      <td>37162.0</td>\n",
       "      <td>40181.0</td>\n",
       "      <td>44599.0</td>\n",
       "      <td>47615.0</td>\n",
       "      <td>49743.0</td>\n",
       "      <td>50425.0</td>\n",
       "      <td>43823.0</td>\n",
       "      <td>2.4</td>\n",
       "      <td>18498.5</td>\n",
       "    </tr>\n",
       "    <tr>\n",
       "      <th>1</th>\n",
       "      <td>EAST MELBOURNE</td>\n",
       "      <td>206041119.0</td>\n",
       "      <td>32.0</td>\n",
       "      <td>32.0</td>\n",
       "      <td>1.000000</td>\n",
       "      <td>East Melbourne</td>\n",
       "      <td>3731.0</td>\n",
       "      <td>3859.0</td>\n",
       "      <td>4243.0</td>\n",
       "      <td>4460.0</td>\n",
       "      <td>...</td>\n",
       "      <td>5374.0</td>\n",
       "      <td>5411.0</td>\n",
       "      <td>5475.0</td>\n",
       "      <td>5495.0</td>\n",
       "      <td>5409.0</td>\n",
       "      <td>5413.0</td>\n",
       "      <td>5378.0</td>\n",
       "      <td>4962.0</td>\n",
       "      <td>2.9</td>\n",
       "      <td>1711.2</td>\n",
       "    </tr>\n",
       "    <tr>\n",
       "      <th>2</th>\n",
       "      <td>WEST MELBOURNE</td>\n",
       "      <td>206041127.0</td>\n",
       "      <td>43.0</td>\n",
       "      <td>43.0</td>\n",
       "      <td>1.000000</td>\n",
       "      <td>West Melbourne</td>\n",
       "      <td>0.0</td>\n",
       "      <td>0.0</td>\n",
       "      <td>0.0</td>\n",
       "      <td>0.0</td>\n",
       "      <td>...</td>\n",
       "      <td>0.0</td>\n",
       "      <td>0.0</td>\n",
       "      <td>3.0</td>\n",
       "      <td>3.0</td>\n",
       "      <td>3.0</td>\n",
       "      <td>3.0</td>\n",
       "      <td>0.0</td>\n",
       "      <td>0.0</td>\n",
       "      <td>6.2</td>\n",
       "      <td>0.0</td>\n",
       "    </tr>\n",
       "    <tr>\n",
       "      <th>3</th>\n",
       "      <td>SOUTHBANK</td>\n",
       "      <td>206051132.0</td>\n",
       "      <td>149.0</td>\n",
       "      <td>216.0</td>\n",
       "      <td>0.689815</td>\n",
       "      <td>South Melbourne</td>\n",
       "      <td>8529.0</td>\n",
       "      <td>8771.0</td>\n",
       "      <td>9021.0</td>\n",
       "      <td>9375.0</td>\n",
       "      <td>...</td>\n",
       "      <td>11972.0</td>\n",
       "      <td>12253.0</td>\n",
       "      <td>12492.0</td>\n",
       "      <td>12700.0</td>\n",
       "      <td>12956.0</td>\n",
       "      <td>13153.0</td>\n",
       "      <td>13144.0</td>\n",
       "      <td>12330.0</td>\n",
       "      <td>2.5</td>\n",
       "      <td>4942.3</td>\n",
       "    </tr>\n",
       "    <tr>\n",
       "      <th>4</th>\n",
       "      <td>DOCKLANDS</td>\n",
       "      <td>206041118.0</td>\n",
       "      <td>111.0</td>\n",
       "      <td>111.0</td>\n",
       "      <td>1.000000</td>\n",
       "      <td>Docklands</td>\n",
       "      <td>154.0</td>\n",
       "      <td>926.0</td>\n",
       "      <td>1913.0</td>\n",
       "      <td>3089.0</td>\n",
       "      <td>...</td>\n",
       "      <td>9170.0</td>\n",
       "      <td>10444.0</td>\n",
       "      <td>11832.0</td>\n",
       "      <td>13923.0</td>\n",
       "      <td>15439.0</td>\n",
       "      <td>16375.0</td>\n",
       "      <td>16678.0</td>\n",
       "      <td>15942.0</td>\n",
       "      <td>2.4</td>\n",
       "      <td>6522.9</td>\n",
       "    </tr>\n",
       "    <tr>\n",
       "      <th>...</th>\n",
       "      <td>...</td>\n",
       "      <td>...</td>\n",
       "      <td>...</td>\n",
       "      <td>...</td>\n",
       "      <td>...</td>\n",
       "      <td>...</td>\n",
       "      <td>...</td>\n",
       "      <td>...</td>\n",
       "      <td>...</td>\n",
       "      <td>...</td>\n",
       "      <td>...</td>\n",
       "      <td>...</td>\n",
       "      <td>...</td>\n",
       "      <td>...</td>\n",
       "      <td>...</td>\n",
       "      <td>...</td>\n",
       "      <td>...</td>\n",
       "      <td>...</td>\n",
       "      <td>...</td>\n",
       "      <td>...</td>\n",
       "      <td>...</td>\n",
       "    </tr>\n",
       "    <tr>\n",
       "      <th>639</th>\n",
       "      <td>DALYSTON</td>\n",
       "      <td>205031093.0</td>\n",
       "      <td>1.0</td>\n",
       "      <td>16.0</td>\n",
       "      <td>0.062500</td>\n",
       "      <td>Wonthaggi - Inverloch</td>\n",
       "      <td>17647.0</td>\n",
       "      <td>17801.0</td>\n",
       "      <td>17956.0</td>\n",
       "      <td>18117.0</td>\n",
       "      <td>...</td>\n",
       "      <td>21611.0</td>\n",
       "      <td>22039.0</td>\n",
       "      <td>22577.0</td>\n",
       "      <td>23270.0</td>\n",
       "      <td>23966.0</td>\n",
       "      <td>24739.0</td>\n",
       "      <td>25631.0</td>\n",
       "      <td>26723.0</td>\n",
       "      <td>728.8</td>\n",
       "      <td>36.7</td>\n",
       "    </tr>\n",
       "    <tr>\n",
       "      <th>640</th>\n",
       "      <td>CAPE PATERSON</td>\n",
       "      <td>205031093.0</td>\n",
       "      <td>1.0</td>\n",
       "      <td>16.0</td>\n",
       "      <td>0.062500</td>\n",
       "      <td>Wonthaggi - Inverloch</td>\n",
       "      <td>17647.0</td>\n",
       "      <td>17801.0</td>\n",
       "      <td>17956.0</td>\n",
       "      <td>18117.0</td>\n",
       "      <td>...</td>\n",
       "      <td>21611.0</td>\n",
       "      <td>22039.0</td>\n",
       "      <td>22577.0</td>\n",
       "      <td>23270.0</td>\n",
       "      <td>23966.0</td>\n",
       "      <td>24739.0</td>\n",
       "      <td>25631.0</td>\n",
       "      <td>26723.0</td>\n",
       "      <td>728.8</td>\n",
       "      <td>36.7</td>\n",
       "    </tr>\n",
       "    <tr>\n",
       "      <th>641</th>\n",
       "      <td>NORTH WONTHAGGI</td>\n",
       "      <td>205031093.0</td>\n",
       "      <td>1.0</td>\n",
       "      <td>16.0</td>\n",
       "      <td>0.062500</td>\n",
       "      <td>Wonthaggi - Inverloch</td>\n",
       "      <td>17647.0</td>\n",
       "      <td>17801.0</td>\n",
       "      <td>17956.0</td>\n",
       "      <td>18117.0</td>\n",
       "      <td>...</td>\n",
       "      <td>21611.0</td>\n",
       "      <td>22039.0</td>\n",
       "      <td>22577.0</td>\n",
       "      <td>23270.0</td>\n",
       "      <td>23966.0</td>\n",
       "      <td>24739.0</td>\n",
       "      <td>25631.0</td>\n",
       "      <td>26723.0</td>\n",
       "      <td>728.8</td>\n",
       "      <td>36.7</td>\n",
       "    </tr>\n",
       "    <tr>\n",
       "      <th>642</th>\n",
       "      <td>WONTHAGGI</td>\n",
       "      <td>205031093.0</td>\n",
       "      <td>5.0</td>\n",
       "      <td>16.0</td>\n",
       "      <td>0.312500</td>\n",
       "      <td>Wonthaggi - Inverloch</td>\n",
       "      <td>17647.0</td>\n",
       "      <td>17801.0</td>\n",
       "      <td>17956.0</td>\n",
       "      <td>18117.0</td>\n",
       "      <td>...</td>\n",
       "      <td>21611.0</td>\n",
       "      <td>22039.0</td>\n",
       "      <td>22577.0</td>\n",
       "      <td>23270.0</td>\n",
       "      <td>23966.0</td>\n",
       "      <td>24739.0</td>\n",
       "      <td>25631.0</td>\n",
       "      <td>26723.0</td>\n",
       "      <td>728.8</td>\n",
       "      <td>36.7</td>\n",
       "    </tr>\n",
       "    <tr>\n",
       "      <th>643</th>\n",
       "      <td>INVERLOCH</td>\n",
       "      <td>205031093.0</td>\n",
       "      <td>3.0</td>\n",
       "      <td>16.0</td>\n",
       "      <td>0.187500</td>\n",
       "      <td>Wonthaggi - Inverloch</td>\n",
       "      <td>17647.0</td>\n",
       "      <td>17801.0</td>\n",
       "      <td>17956.0</td>\n",
       "      <td>18117.0</td>\n",
       "      <td>...</td>\n",
       "      <td>21611.0</td>\n",
       "      <td>22039.0</td>\n",
       "      <td>22577.0</td>\n",
       "      <td>23270.0</td>\n",
       "      <td>23966.0</td>\n",
       "      <td>24739.0</td>\n",
       "      <td>25631.0</td>\n",
       "      <td>26723.0</td>\n",
       "      <td>728.8</td>\n",
       "      <td>36.7</td>\n",
       "    </tr>\n",
       "  </tbody>\n",
       "</table>\n",
       "<p>644 rows × 29 columns</p>\n",
       "</div>"
      ],
      "text/plain": [
       "              Suburb     SA2_code  count    sum  popu_ratio  \\\n",
       "0          MELBOURNE  206041122.0  482.0  482.0    1.000000   \n",
       "1     EAST MELBOURNE  206041119.0   32.0   32.0    1.000000   \n",
       "2     WEST MELBOURNE  206041127.0   43.0   43.0    1.000000   \n",
       "3          SOUTHBANK  206051132.0  149.0  216.0    0.689815   \n",
       "4          DOCKLANDS  206041118.0  111.0  111.0    1.000000   \n",
       "..               ...          ...    ...    ...         ...   \n",
       "639         DALYSTON  205031093.0    1.0   16.0    0.062500   \n",
       "640    CAPE PATERSON  205031093.0    1.0   16.0    0.062500   \n",
       "641  NORTH WONTHAGGI  205031093.0    1.0   16.0    0.062500   \n",
       "642        WONTHAGGI  205031093.0    5.0   16.0    0.312500   \n",
       "643        INVERLOCH  205031093.0    3.0   16.0    0.187500   \n",
       "\n",
       "                  SA2_name     2001     2002     2003     2004  ...     2014  \\\n",
       "0                Melbourne   7644.0   9592.0  11400.0  12727.0  ...  33626.0   \n",
       "1           East Melbourne   3731.0   3859.0   4243.0   4460.0  ...   5374.0   \n",
       "2           West Melbourne      0.0      0.0      0.0      0.0  ...      0.0   \n",
       "3          South Melbourne   8529.0   8771.0   9021.0   9375.0  ...  11972.0   \n",
       "4                Docklands    154.0    926.0   1913.0   3089.0  ...   9170.0   \n",
       "..                     ...      ...      ...      ...      ...  ...      ...   \n",
       "639  Wonthaggi - Inverloch  17647.0  17801.0  17956.0  18117.0  ...  21611.0   \n",
       "640  Wonthaggi - Inverloch  17647.0  17801.0  17956.0  18117.0  ...  21611.0   \n",
       "641  Wonthaggi - Inverloch  17647.0  17801.0  17956.0  18117.0  ...  21611.0   \n",
       "642  Wonthaggi - Inverloch  17647.0  17801.0  17956.0  18117.0  ...  21611.0   \n",
       "643  Wonthaggi - Inverloch  17647.0  17801.0  17956.0  18117.0  ...  21611.0   \n",
       "\n",
       "        2015     2016     2017     2018     2019     2020     2021   Area  \\\n",
       "0    37162.0  40181.0  44599.0  47615.0  49743.0  50425.0  43823.0    2.4   \n",
       "1     5411.0   5475.0   5495.0   5409.0   5413.0   5378.0   4962.0    2.9   \n",
       "2        0.0      3.0      3.0      3.0      3.0      0.0      0.0    6.2   \n",
       "3    12253.0  12492.0  12700.0  12956.0  13153.0  13144.0  12330.0    2.5   \n",
       "4    10444.0  11832.0  13923.0  15439.0  16375.0  16678.0  15942.0    2.4   \n",
       "..       ...      ...      ...      ...      ...      ...      ...    ...   \n",
       "639  22039.0  22577.0  23270.0  23966.0  24739.0  25631.0  26723.0  728.8   \n",
       "640  22039.0  22577.0  23270.0  23966.0  24739.0  25631.0  26723.0  728.8   \n",
       "641  22039.0  22577.0  23270.0  23966.0  24739.0  25631.0  26723.0  728.8   \n",
       "642  22039.0  22577.0  23270.0  23966.0  24739.0  25631.0  26723.0  728.8   \n",
       "643  22039.0  22577.0  23270.0  23966.0  24739.0  25631.0  26723.0  728.8   \n",
       "\n",
       "     Population_density_2021  \n",
       "0                    18498.5  \n",
       "1                     1711.2  \n",
       "2                        0.0  \n",
       "3                     4942.3  \n",
       "4                     6522.9  \n",
       "..                       ...  \n",
       "639                     36.7  \n",
       "640                     36.7  \n",
       "641                     36.7  \n",
       "642                     36.7  \n",
       "643                     36.7  \n",
       "\n",
       "[644 rows x 29 columns]"
      ]
     },
     "execution_count": 51,
     "metadata": {},
     "output_type": "execute_result"
    }
   ],
   "source": [
    "suburb_popu"
   ]
  },
  {
   "cell_type": "code",
   "execution_count": 52,
   "metadata": {},
   "outputs": [
    {
     "name": "stderr",
     "output_type": "stream",
     "text": [
      "/tmp/ipykernel_4415/291212093.py:2: FutureWarning: In a future version, `df.iloc[:, i] = newvals` will attempt to set the values inplace instead of always setting a new array. To retain the old behavior, use either `df[df.columns[i]] = newvals` or, if columns are non-unique, `df.isetitem(i, newvals)`\n",
      "  suburb_popu.iloc[:, 6:] = suburb_popu.iloc[:, 6:].multiply(suburb_popu['popu_ratio'], axis=\"index\").astype(int)\n"
     ]
    }
   ],
   "source": [
    "# calculate population of suburbs according to the properties ratio\n",
    "suburb_popu.iloc[:, 6:] = suburb_popu.iloc[:, 6:].multiply(suburb_popu['popu_ratio'], axis=\"index\").astype(int)"
   ]
  },
  {
   "cell_type": "code",
   "execution_count": 53,
   "metadata": {},
   "outputs": [],
   "source": [
    "# discard columns that not required\n",
    "suburb_popu = suburb_popu.drop(['SA2_code', 'SA2_name', 'count', \n",
    "                                'sum', 'popu_ratio', 'Area', 'Population_density_2021'], axis=1)"
   ]
  },
  {
   "cell_type": "code",
   "execution_count": 54,
   "metadata": {},
   "outputs": [],
   "source": [
    "popu_2021 = suburb_popu[['Suburb','2021']]"
   ]
  },
  {
   "cell_type": "code",
   "execution_count": 55,
   "metadata": {},
   "outputs": [],
   "source": [
    "popu_2021.columns = ['Suburb','2021_population']"
   ]
  },
  {
   "cell_type": "code",
   "execution_count": 56,
   "metadata": {},
   "outputs": [],
   "source": [
    "# idea from https://stackoverflow.com/questions/39772896/add-prefix-to-specific-columns-of-dataframe\n",
    "new_names = [(i,i+'_population') for i in suburb_popu.iloc[:, 1:].columns.values]\n",
    "suburb_popu.rename(columns=dict(new_names), inplace=True)"
   ]
  },
  {
   "cell_type": "code",
   "execution_count": 57,
   "metadata": {},
   "outputs": [],
   "source": [
    "popu_2021.to_csv(curated_data + 'suburb_population2021.csv', index=False)"
   ]
  },
  {
   "cell_type": "code",
   "execution_count": 58,
   "metadata": {},
   "outputs": [],
   "source": [
    "suburb_popu.to_csv(curated_data + 'suburb_population2001-2021.csv', index=False)"
   ]
  },
  {
   "cell_type": "code",
   "execution_count": null,
   "metadata": {},
   "outputs": [],
   "source": []
  }
 ],
 "metadata": {
  "kernelspec": {
   "display_name": "Python 3 (ipykernel)",
   "language": "python",
   "name": "python3"
  },
  "language_info": {
   "codemirror_mode": {
    "name": "ipython",
    "version": 3
   },
   "file_extension": ".py",
   "mimetype": "text/x-python",
   "name": "python",
   "nbconvert_exporter": "python",
   "pygments_lexer": "ipython3",
   "version": "3.10.4"
  },
  "vscode": {
   "interpreter": {
    "hash": "916dbcbb3f70747c44a77c7bcd40155683ae19c65e1c03b4aa3499c5328201f1"
   }
  }
 },
 "nbformat": 4,
 "nbformat_minor": 2
}
