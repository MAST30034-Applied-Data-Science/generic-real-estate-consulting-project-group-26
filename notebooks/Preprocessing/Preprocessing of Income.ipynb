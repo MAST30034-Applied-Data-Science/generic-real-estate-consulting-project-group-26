{
 "cells": [
  {
   "cell_type": "code",
   "execution_count": 17,
   "metadata": {},
   "outputs": [],
   "source": [
    "import pandas as pd\n",
    "from sklearn import preprocessing"
   ]
  },
  {
   "cell_type": "code",
   "execution_count": 18,
   "metadata": {},
   "outputs": [],
   "source": [
    "income = pd.read_csv('../../data/raw/income.csv', index_col=0)\n",
    "income2010 = pd.read_csv('../../data/raw/income2010-2013.csv', index_col=0)\n",
    "income2005 = pd.read_csv('../../data/raw/income2005-2009.csv', index_col=0)"
   ]
  },
  {
   "cell_type": "code",
   "execution_count": 19,
   "metadata": {},
   "outputs": [
    {
     "name": "stdout",
     "output_type": "stream",
     "text": [
      "2287\n",
      "2310\n",
      "2167\n"
     ]
    }
   ],
   "source": [
    "print(len(income))\n",
    "print(len(income2010))\n",
    "print(len(income2005))"
   ]
  },
  {
   "cell_type": "code",
   "execution_count": 20,
   "metadata": {},
   "outputs": [],
   "source": [
    "# Delete all rows with np values\n",
    "income = income[['SA2_code','2014_15_mean', '2015_16_mean', '2016_17_mean', '2017_18_mean', '2018_19_mean']]\n",
    "income = income[(income != 'np').all(axis=1)]\n",
    "income2010 = income2010[(income2010 != 'na').all(axis=1)]\n",
    "income2005 = income2005[(income2005 != '-').all(axis=1)]"
   ]
  },
  {
   "cell_type": "code",
   "execution_count": 21,
   "metadata": {},
   "outputs": [
    {
     "name": "stdout",
     "output_type": "stream",
     "text": [
      "2201\n",
      "2197\n",
      "2143\n"
     ]
    }
   ],
   "source": [
    "print(len(income))\n",
    "print(len(income2010))\n",
    "print(len(income2005))"
   ]
  },
  {
   "cell_type": "code",
   "execution_count": 22,
   "metadata": {},
   "outputs": [],
   "source": [
    "income.columns = ['SA2_code', '2014_income', '2015_income', '2016_income', '2017_income', '2018_income']"
   ]
  },
  {
   "cell_type": "code",
   "execution_count": 24,
   "metadata": {},
   "outputs": [],
   "source": [
    "# Select data in Victoria\n",
    "income = income.loc[(income['SA2_code'].astype(int)>199999999) & (income['SA2_code'].astype(int)<300000000)]\n",
    "income2010 = income2010.loc[(income2010['SA2'].astype(int)>199999999) & (income2010['SA2'].astype(int)<300000000)]\n",
    "income2005 = income2005.loc[(income2005['SA2'].astype(int)>199999999) & (income2005['SA2'].astype(int)<300000000)]"
   ]
  },
  {
   "cell_type": "code",
   "execution_count": 26,
   "metadata": {},
   "outputs": [
    {
     "name": "stdout",
     "output_type": "stream",
     "text": [
      "456\n",
      "456\n",
      "429\n"
     ]
    }
   ],
   "source": [
    "print(len(income))\n",
    "print(len(income2010))\n",
    "print(len(income2005))"
   ]
  },
  {
   "cell_type": "code",
   "execution_count": 28,
   "metadata": {},
   "outputs": [],
   "source": [
    "# merge datasets\n",
    "income_all = income2005.join(income2010.set_index('SA2'), on = 'SA2')\n",
    "income_all = income_all.join(income.set_index('SA2_code'), on = 'SA2')"
   ]
  },
  {
   "cell_type": "code",
   "execution_count": 32,
   "metadata": {},
   "outputs": [],
   "source": [
    "# discard rows with missing values\n",
    "income_all = income_all.dropna()"
   ]
  },
  {
   "cell_type": "code",
   "execution_count": 33,
   "metadata": {},
   "outputs": [],
   "source": [
    "income_all.to_csv('../../data/curated/income2005-2018.csv')"
   ]
  }
 ],
 "metadata": {
  "colab": {
   "collapsed_sections": [],
   "provenance": [],
   "toc_visible": true
  },
  "kernelspec": {
   "display_name": "Python 3 (ipykernel)",
   "language": "python",
   "name": "python3"
  },
  "language_info": {
   "codemirror_mode": {
    "name": "ipython",
    "version": 3
   },
   "file_extension": ".py",
   "mimetype": "text/x-python",
   "name": "python",
   "nbconvert_exporter": "python",
   "pygments_lexer": "ipython3",
   "version": "3.10.4"
  },
  "vscode": {
   "interpreter": {
    "hash": "916dbcbb3f70747c44a77c7bcd40155683ae19c65e1c03b4aa3499c5328201f1"
   }
  }
 },
 "nbformat": 4,
 "nbformat_minor": 1
}
