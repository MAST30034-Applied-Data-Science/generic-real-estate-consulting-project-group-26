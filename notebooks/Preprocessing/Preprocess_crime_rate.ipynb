{
 "cells": [
  {
   "cell_type": "code",
   "execution_count": 1,
   "metadata": {},
   "outputs": [],
   "source": [
    "import pandas as pd\n",
    "import numpy as np"
   ]
  },
  {
   "cell_type": "code",
   "execution_count": 2,
   "metadata": {},
   "outputs": [],
   "source": [
    "crime=pd.read_csv('../../data/curated/crime_rate.csv')"
   ]
  },
  {
   "cell_type": "code",
   "execution_count": 4,
   "metadata": {},
   "outputs": [
    {
     "data": {
      "text/html": [
       "<div>\n",
       "<style scoped>\n",
       "    .dataframe tbody tr th:only-of-type {\n",
       "        vertical-align: middle;\n",
       "    }\n",
       "\n",
       "    .dataframe tbody tr th {\n",
       "        vertical-align: top;\n",
       "    }\n",
       "\n",
       "    .dataframe thead th {\n",
       "        text-align: right;\n",
       "    }\n",
       "</style>\n",
       "<table border=\"1\" class=\"dataframe\">\n",
       "  <thead>\n",
       "    <tr style=\"text-align: right;\">\n",
       "      <th></th>\n",
       "      <th>Unnamed: 0</th>\n",
       "      <th>Year</th>\n",
       "      <th>Year ending</th>\n",
       "      <th>Police Region</th>\n",
       "      <th>Local Government Area</th>\n",
       "      <th>Incidents Recorded</th>\n",
       "      <th>Rate per 100,000 population</th>\n",
       "      <th>crime_rate</th>\n",
       "    </tr>\n",
       "  </thead>\n",
       "  <tbody>\n",
       "    <tr>\n",
       "      <th>0</th>\n",
       "      <td>0</td>\n",
       "      <td>2021</td>\n",
       "      <td>December</td>\n",
       "      <td>1 North West Metro</td>\n",
       "      <td>Banyule</td>\n",
       "      <td>5418</td>\n",
       "      <td>4122.096863</td>\n",
       "      <td>0.041221</td>\n",
       "    </tr>\n",
       "    <tr>\n",
       "      <th>1</th>\n",
       "      <td>1</td>\n",
       "      <td>2021</td>\n",
       "      <td>December</td>\n",
       "      <td>1 North West Metro</td>\n",
       "      <td>Brimbank</td>\n",
       "      <td>12682</td>\n",
       "      <td>6252.185377</td>\n",
       "      <td>0.062522</td>\n",
       "    </tr>\n",
       "    <tr>\n",
       "      <th>2</th>\n",
       "      <td>2</td>\n",
       "      <td>2021</td>\n",
       "      <td>December</td>\n",
       "      <td>1 North West Metro</td>\n",
       "      <td>Darebin</td>\n",
       "      <td>9563</td>\n",
       "      <td>5800.002842</td>\n",
       "      <td>0.058000</td>\n",
       "    </tr>\n",
       "    <tr>\n",
       "      <th>3</th>\n",
       "      <td>3</td>\n",
       "      <td>2021</td>\n",
       "      <td>December</td>\n",
       "      <td>1 North West Metro</td>\n",
       "      <td>Hobsons Bay</td>\n",
       "      <td>4567</td>\n",
       "      <td>4691.164939</td>\n",
       "      <td>0.046912</td>\n",
       "    </tr>\n",
       "    <tr>\n",
       "      <th>4</th>\n",
       "      <td>4</td>\n",
       "      <td>2021</td>\n",
       "      <td>December</td>\n",
       "      <td>1 North West Metro</td>\n",
       "      <td>Hume</td>\n",
       "      <td>12588</td>\n",
       "      <td>5126.172194</td>\n",
       "      <td>0.051262</td>\n",
       "    </tr>\n",
       "  </tbody>\n",
       "</table>\n",
       "</div>"
      ],
      "text/plain": [
       "   Unnamed: 0  Year Year ending       Police Region Local Government Area  \\\n",
       "0           0  2021    December  1 North West Metro               Banyule   \n",
       "1           1  2021    December  1 North West Metro              Brimbank   \n",
       "2           2  2021    December  1 North West Metro               Darebin   \n",
       "3           3  2021    December  1 North West Metro           Hobsons Bay   \n",
       "4           4  2021    December  1 North West Metro                  Hume   \n",
       "\n",
       "   Incidents Recorded  Rate per 100,000 population  crime_rate  \n",
       "0                5418                  4122.096863    0.041221  \n",
       "1               12682                  6252.185377    0.062522  \n",
       "2                9563                  5800.002842    0.058000  \n",
       "3                4567                  4691.164939    0.046912  \n",
       "4               12588                  5126.172194    0.051262  "
      ]
     },
     "execution_count": 4,
     "metadata": {},
     "output_type": "execute_result"
    }
   ],
   "source": [
    "crime.head()"
   ]
  },
  {
   "cell_type": "code",
   "execution_count": 5,
   "metadata": {},
   "outputs": [
    {
     "data": {
      "text/plain": [
       "(830, 8)"
      ]
     },
     "execution_count": 5,
     "metadata": {},
     "output_type": "execute_result"
    }
   ],
   "source": [
    "crime.shape  # check the shape of data"
   ]
  },
  {
   "cell_type": "code",
   "execution_count": 6,
   "metadata": {},
   "outputs": [],
   "source": [
    "crime=crime[(crime[\"Local Government Area\"] != \"Total\")] # The instance of total data in each police region is not selected"
   ]
  },
  {
   "cell_type": "code",
   "execution_count": 7,
   "metadata": {},
   "outputs": [
    {
     "data": {
      "text/plain": [
       "(790, 8)"
      ]
     },
     "execution_count": 7,
     "metadata": {},
     "output_type": "execute_result"
    }
   ],
   "source": [
    "crime.shape"
   ]
  },
  {
   "cell_type": "markdown",
   "metadata": {},
   "source": [
    "### List the crime rate in each local government area from 2021 to 2012"
   ]
  },
  {
   "cell_type": "code",
   "execution_count": 8,
   "metadata": {},
   "outputs": [],
   "source": [
    "crime_2021 = crime[(crime['Year'] == 2021)]  "
   ]
  },
  {
   "cell_type": "code",
   "execution_count": 9,
   "metadata": {},
   "outputs": [
    {
     "data": {
      "text/html": [
       "<div>\n",
       "<style scoped>\n",
       "    .dataframe tbody tr th:only-of-type {\n",
       "        vertical-align: middle;\n",
       "    }\n",
       "\n",
       "    .dataframe tbody tr th {\n",
       "        vertical-align: top;\n",
       "    }\n",
       "\n",
       "    .dataframe thead th {\n",
       "        text-align: right;\n",
       "    }\n",
       "</style>\n",
       "<table border=\"1\" class=\"dataframe\">\n",
       "  <thead>\n",
       "    <tr style=\"text-align: right;\">\n",
       "      <th></th>\n",
       "      <th>Unnamed: 0</th>\n",
       "      <th>Year</th>\n",
       "      <th>Year ending</th>\n",
       "      <th>Police Region</th>\n",
       "      <th>Local Government Area</th>\n",
       "      <th>Incidents Recorded</th>\n",
       "      <th>Rate per 100,000 population</th>\n",
       "      <th>crime_rate</th>\n",
       "    </tr>\n",
       "  </thead>\n",
       "  <tbody>\n",
       "    <tr>\n",
       "      <th>0</th>\n",
       "      <td>0</td>\n",
       "      <td>2021</td>\n",
       "      <td>December</td>\n",
       "      <td>1 North West Metro</td>\n",
       "      <td>Banyule</td>\n",
       "      <td>5418</td>\n",
       "      <td>4122.096863</td>\n",
       "      <td>0.041221</td>\n",
       "    </tr>\n",
       "    <tr>\n",
       "      <th>1</th>\n",
       "      <td>1</td>\n",
       "      <td>2021</td>\n",
       "      <td>December</td>\n",
       "      <td>1 North West Metro</td>\n",
       "      <td>Brimbank</td>\n",
       "      <td>12682</td>\n",
       "      <td>6252.185377</td>\n",
       "      <td>0.062522</td>\n",
       "    </tr>\n",
       "    <tr>\n",
       "      <th>2</th>\n",
       "      <td>2</td>\n",
       "      <td>2021</td>\n",
       "      <td>December</td>\n",
       "      <td>1 North West Metro</td>\n",
       "      <td>Darebin</td>\n",
       "      <td>9563</td>\n",
       "      <td>5800.002842</td>\n",
       "      <td>0.058000</td>\n",
       "    </tr>\n",
       "    <tr>\n",
       "      <th>3</th>\n",
       "      <td>3</td>\n",
       "      <td>2021</td>\n",
       "      <td>December</td>\n",
       "      <td>1 North West Metro</td>\n",
       "      <td>Hobsons Bay</td>\n",
       "      <td>4567</td>\n",
       "      <td>4691.164939</td>\n",
       "      <td>0.046912</td>\n",
       "    </tr>\n",
       "    <tr>\n",
       "      <th>4</th>\n",
       "      <td>4</td>\n",
       "      <td>2021</td>\n",
       "      <td>December</td>\n",
       "      <td>1 North West Metro</td>\n",
       "      <td>Hume</td>\n",
       "      <td>12588</td>\n",
       "      <td>5126.172194</td>\n",
       "      <td>0.051262</td>\n",
       "    </tr>\n",
       "  </tbody>\n",
       "</table>\n",
       "</div>"
      ],
      "text/plain": [
       "   Unnamed: 0  Year Year ending       Police Region Local Government Area  \\\n",
       "0           0  2021    December  1 North West Metro               Banyule   \n",
       "1           1  2021    December  1 North West Metro              Brimbank   \n",
       "2           2  2021    December  1 North West Metro               Darebin   \n",
       "3           3  2021    December  1 North West Metro           Hobsons Bay   \n",
       "4           4  2021    December  1 North West Metro                  Hume   \n",
       "\n",
       "   Incidents Recorded  Rate per 100,000 population  crime_rate  \n",
       "0                5418                  4122.096863    0.041221  \n",
       "1               12682                  6252.185377    0.062522  \n",
       "2                9563                  5800.002842    0.058000  \n",
       "3                4567                  4691.164939    0.046912  \n",
       "4               12588                  5126.172194    0.051262  "
      ]
     },
     "execution_count": 9,
     "metadata": {},
     "output_type": "execute_result"
    }
   ],
   "source": [
    "crime_2021.head()"
   ]
  },
  {
   "cell_type": "code",
   "execution_count": 10,
   "metadata": {},
   "outputs": [],
   "source": [
    "crime_2020 = crime[(crime['Year'] == 2020)]   # select data from different year\n",
    "crime_2019 = crime[(crime['Year'] == 2019)]\n",
    "crime_2018 = crime[(crime['Year'] == 2018)]\n",
    "crime_2017 = crime[(crime['Year'] == 2017)]\n",
    "crime_2016 = crime[(crime['Year'] == 2016)]\n",
    "crime_2015 = crime[(crime['Year'] == 2015)]\n",
    "crime_2014 = crime[(crime['Year'] == 2014)]\n",
    "crime_2013 = crime[(crime['Year'] == 2013)]\n",
    "crime_2012 = crime[(crime['Year'] == 2012)]\n"
   ]
  },
  {
   "cell_type": "code",
   "execution_count": 11,
   "metadata": {},
   "outputs": [],
   "source": [
    "crime_2021=crime_2021[[\"Local Government Area\",\"crime_rate\"]]  # choose the useful attribute for each dataset\n",
    "crime_2020=crime_2020[[\"Local Government Area\",\"crime_rate\"]]\n",
    "crime_2019=crime_2019[[\"Local Government Area\",\"crime_rate\"]]\n",
    "crime_2018=crime_2018[[\"Local Government Area\",\"crime_rate\"]]\n",
    "crime_2017=crime_2017[[\"Local Government Area\",\"crime_rate\"]]\n",
    "crime_2016=crime_2016[[\"Local Government Area\",\"crime_rate\"]]\n",
    "crime_2015=crime_2015[[\"Local Government Area\",\"crime_rate\"]]\n",
    "crime_2014=crime_2014[[\"Local Government Area\",\"crime_rate\"]]\n",
    "crime_2013=crime_2013[[\"Local Government Area\",\"crime_rate\"]]\n",
    "crime_2012=crime_2012[[\"Local Government Area\",\"crime_rate\"]]"
   ]
  },
  {
   "cell_type": "code",
   "execution_count": 12,
   "metadata": {},
   "outputs": [],
   "source": [
    "crime_2021[\"crime_rate_2021\"]=crime_2021[\"crime_rate\"]   # allocate corresponding year crime rate to each dataset to create new attribute\n",
    "crime_2020[\"crime_rate_2020\"]=crime_2020[\"crime_rate\"]\n",
    "crime_2019[\"crime_rate_2019\"]=crime_2019[\"crime_rate\"]\n",
    "crime_2018[\"crime_rate_2018\"]=crime_2018[\"crime_rate\"]\n",
    "crime_2017[\"crime_rate_2017\"]=crime_2017[\"crime_rate\"]\n",
    "crime_2016[\"crime_rate_2016\"]=crime_2016[\"crime_rate\"]\n",
    "crime_2015[\"crime_rate_2015\"]=crime_2015[\"crime_rate\"]\n",
    "crime_2014[\"crime_rate_2014\"]=crime_2014[\"crime_rate\"]\n",
    "crime_2013[\"crime_rate_2013\"]=crime_2013[\"crime_rate\"]\n",
    "crime_2012[\"crime_rate_2012\"]=crime_2012[\"crime_rate\"]"
   ]
  },
  {
   "cell_type": "code",
   "execution_count": 13,
   "metadata": {},
   "outputs": [],
   "source": [
    "crime_2021=crime_2021[[\"Local Government Area\",\"crime_rate_2021\"]] #Select the attribute with corresponding year\n",
    "crime_2020=crime_2020[[\"Local Government Area\",\"crime_rate_2020\"]]\n",
    "crime_2019=crime_2019[[\"Local Government Area\",\"crime_rate_2019\"]]\n",
    "crime_2018=crime_2018[[\"Local Government Area\",\"crime_rate_2018\"]]\n",
    "crime_2017=crime_2017[[\"Local Government Area\",\"crime_rate_2017\"]]\n",
    "crime_2016=crime_2016[[\"Local Government Area\",\"crime_rate_2016\"]]\n",
    "crime_2015=crime_2015[[\"Local Government Area\",\"crime_rate_2015\"]]\n",
    "crime_2014=crime_2014[[\"Local Government Area\",\"crime_rate_2014\"]]\n",
    "crime_2013=crime_2013[[\"Local Government Area\",\"crime_rate_2013\"]]\n",
    "crime_2012=crime_2012[[\"Local Government Area\",\"crime_rate_2012\"]]"
   ]
  },
  {
   "cell_type": "markdown",
   "metadata": {},
   "source": [
    "### Merge crime rate of each LGA "
   ]
  },
  {
   "cell_type": "code",
   "execution_count": 14,
   "metadata": {},
   "outputs": [],
   "source": [
    "merge=pd.merge(crime_2021,crime_2020,on=\"Local Government Area\",how=\"outer\")  # data merges on LGA attribute\n",
    "merge=pd.merge(merge,crime_2019,on=\"Local Government Area\",how=\"outer\")\n",
    "merge=pd.merge(merge,crime_2018,on=\"Local Government Area\",how=\"outer\")\n",
    "merge=pd.merge(merge,crime_2017,on=\"Local Government Area\",how=\"outer\")\n",
    "merge=pd.merge(merge,crime_2016,on=\"Local Government Area\",how=\"outer\")\n",
    "merge=pd.merge(merge,crime_2015,on=\"Local Government Area\",how=\"outer\")\n",
    "merge=pd.merge(merge,crime_2014,on=\"Local Government Area\",how=\"outer\")\n",
    "merge=pd.merge(merge,crime_2013,on=\"Local Government Area\",how=\"outer\")\n",
    "merge=pd.merge(merge,crime_2012,on=\"Local Government Area\",how=\"outer\")"
   ]
  },
  {
   "cell_type": "code",
   "execution_count": 15,
   "metadata": {},
   "outputs": [
    {
     "data": {
      "text/html": [
       "<div>\n",
       "<style scoped>\n",
       "    .dataframe tbody tr th:only-of-type {\n",
       "        vertical-align: middle;\n",
       "    }\n",
       "\n",
       "    .dataframe tbody tr th {\n",
       "        vertical-align: top;\n",
       "    }\n",
       "\n",
       "    .dataframe thead th {\n",
       "        text-align: right;\n",
       "    }\n",
       "</style>\n",
       "<table border=\"1\" class=\"dataframe\">\n",
       "  <thead>\n",
       "    <tr style=\"text-align: right;\">\n",
       "      <th></th>\n",
       "      <th>Local Government Area</th>\n",
       "      <th>crime_rate_2021</th>\n",
       "      <th>crime_rate_2020</th>\n",
       "      <th>crime_rate_2019</th>\n",
       "      <th>crime_rate_2018</th>\n",
       "      <th>crime_rate_2017</th>\n",
       "      <th>crime_rate_2016</th>\n",
       "      <th>crime_rate_2015</th>\n",
       "      <th>crime_rate_2014</th>\n",
       "      <th>crime_rate_2013</th>\n",
       "      <th>crime_rate_2012</th>\n",
       "    </tr>\n",
       "  </thead>\n",
       "  <tbody>\n",
       "    <tr>\n",
       "      <th>0</th>\n",
       "      <td>Banyule</td>\n",
       "      <td>0.041221</td>\n",
       "      <td>0.050834</td>\n",
       "      <td>0.053517</td>\n",
       "      <td>0.055010</td>\n",
       "      <td>0.057569</td>\n",
       "      <td>0.058707</td>\n",
       "      <td>0.054383</td>\n",
       "      <td>0.054401</td>\n",
       "      <td>0.051724</td>\n",
       "      <td>0.047045</td>\n",
       "    </tr>\n",
       "    <tr>\n",
       "      <th>1</th>\n",
       "      <td>Brimbank</td>\n",
       "      <td>0.062522</td>\n",
       "      <td>0.073802</td>\n",
       "      <td>0.072287</td>\n",
       "      <td>0.069808</td>\n",
       "      <td>0.063991</td>\n",
       "      <td>0.073936</td>\n",
       "      <td>0.073788</td>\n",
       "      <td>0.069155</td>\n",
       "      <td>0.077856</td>\n",
       "      <td>0.079892</td>\n",
       "    </tr>\n",
       "    <tr>\n",
       "      <th>2</th>\n",
       "      <td>Darebin</td>\n",
       "      <td>0.058000</td>\n",
       "      <td>0.072235</td>\n",
       "      <td>0.069515</td>\n",
       "      <td>0.071783</td>\n",
       "      <td>0.072094</td>\n",
       "      <td>0.085266</td>\n",
       "      <td>0.075493</td>\n",
       "      <td>0.073406</td>\n",
       "      <td>0.068010</td>\n",
       "      <td>0.066710</td>\n",
       "    </tr>\n",
       "    <tr>\n",
       "      <th>3</th>\n",
       "      <td>Hobsons Bay</td>\n",
       "      <td>0.046912</td>\n",
       "      <td>0.045718</td>\n",
       "      <td>0.051143</td>\n",
       "      <td>0.049885</td>\n",
       "      <td>0.051625</td>\n",
       "      <td>0.057103</td>\n",
       "      <td>0.058446</td>\n",
       "      <td>0.061460</td>\n",
       "      <td>0.061062</td>\n",
       "      <td>0.066222</td>\n",
       "    </tr>\n",
       "    <tr>\n",
       "      <th>4</th>\n",
       "      <td>Hume</td>\n",
       "      <td>0.051262</td>\n",
       "      <td>0.066977</td>\n",
       "      <td>0.067987</td>\n",
       "      <td>0.069258</td>\n",
       "      <td>0.069913</td>\n",
       "      <td>0.085307</td>\n",
       "      <td>0.075095</td>\n",
       "      <td>0.069130</td>\n",
       "      <td>0.065072</td>\n",
       "      <td>0.066891</td>\n",
       "    </tr>\n",
       "  </tbody>\n",
       "</table>\n",
       "</div>"
      ],
      "text/plain": [
       "  Local Government Area  crime_rate_2021  crime_rate_2020  crime_rate_2019  \\\n",
       "0               Banyule         0.041221         0.050834         0.053517   \n",
       "1              Brimbank         0.062522         0.073802         0.072287   \n",
       "2               Darebin         0.058000         0.072235         0.069515   \n",
       "3           Hobsons Bay         0.046912         0.045718         0.051143   \n",
       "4                  Hume         0.051262         0.066977         0.067987   \n",
       "\n",
       "   crime_rate_2018  crime_rate_2017  crime_rate_2016  crime_rate_2015  \\\n",
       "0         0.055010         0.057569         0.058707         0.054383   \n",
       "1         0.069808         0.063991         0.073936         0.073788   \n",
       "2         0.071783         0.072094         0.085266         0.075493   \n",
       "3         0.049885         0.051625         0.057103         0.058446   \n",
       "4         0.069258         0.069913         0.085307         0.075095   \n",
       "\n",
       "   crime_rate_2014  crime_rate_2013  crime_rate_2012  \n",
       "0         0.054401         0.051724         0.047045  \n",
       "1         0.069155         0.077856         0.079892  \n",
       "2         0.073406         0.068010         0.066710  \n",
       "3         0.061460         0.061062         0.066222  \n",
       "4         0.069130         0.065072         0.066891  "
      ]
     },
     "execution_count": 15,
     "metadata": {},
     "output_type": "execute_result"
    }
   ],
   "source": [
    "merge.head()"
   ]
  },
  {
   "cell_type": "code",
   "execution_count": 16,
   "metadata": {},
   "outputs": [
    {
     "data": {
      "text/plain": [
       "(79, 11)"
      ]
     },
     "execution_count": 16,
     "metadata": {},
     "output_type": "execute_result"
    }
   ],
   "source": [
    "merge.shape"
   ]
  },
  {
   "cell_type": "code",
   "execution_count": 19,
   "metadata": {},
   "outputs": [],
   "source": [
    "merge.to_csv('../../data/curated/crime_rate_year.csv')"
   ]
  },
  {
   "cell_type": "code",
   "execution_count": 18,
   "metadata": {},
   "outputs": [
    {
     "name": "stdout",
     "output_type": "stream",
     "text": [
      "Local Government Area    0\n",
      "crime_rate_2021          0\n",
      "crime_rate_2020          0\n",
      "crime_rate_2019          0\n",
      "crime_rate_2018          0\n",
      "crime_rate_2017          0\n",
      "crime_rate_2016          0\n",
      "crime_rate_2015          0\n",
      "crime_rate_2014          0\n",
      "crime_rate_2013          0\n",
      "crime_rate_2012          0\n",
      "dtype: int64\n"
     ]
    }
   ],
   "source": [
    "print(merge.isnull().sum())"
   ]
  }
 ],
 "metadata": {
  "kernelspec": {
   "display_name": "Python 3 (ipykernel)",
   "language": "python",
   "name": "python3"
  },
  "language_info": {
   "codemirror_mode": {
    "name": "ipython",
    "version": 3
   },
   "file_extension": ".py",
   "mimetype": "text/x-python",
   "name": "python",
   "nbconvert_exporter": "python",
   "pygments_lexer": "ipython3",
   "version": "3.8.10"
  },
  "vscode": {
   "interpreter": {
    "hash": "916dbcbb3f70747c44a77c7bcd40155683ae19c65e1c03b4aa3499c5328201f1"
   }
  }
 },
 "nbformat": 4,
 "nbformat_minor": 2
}
