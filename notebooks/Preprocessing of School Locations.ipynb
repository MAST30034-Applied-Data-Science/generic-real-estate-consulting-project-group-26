{
 "cells": [
  {
   "cell_type": "code",
   "execution_count": 1,
   "id": "06c45d16",
   "metadata": {},
   "outputs": [],
   "source": [
    "import pandas as pd"
   ]
  },
  {
   "cell_type": "code",
   "execution_count": 2,
   "id": "be7439b4",
   "metadata": {},
   "outputs": [],
   "source": [
    "schools = pd.read_csv('../data/raw/SchoolLocation.csv')"
   ]
  },
  {
   "cell_type": "code",
   "execution_count": 9,
   "id": "9144de9e",
   "metadata": {},
   "outputs": [
    {
     "data": {
      "text/plain": [
       "2299"
      ]
     },
     "execution_count": 9,
     "metadata": {},
     "output_type": "execute_result"
    }
   ],
   "source": [
    "len(schools)"
   ]
  },
  {
   "cell_type": "code",
   "execution_count": 5,
   "id": "e2f41f3b",
   "metadata": {},
   "outputs": [],
   "source": [
    "schools = schools[[ 'X', 'Y']]\n",
    "schools = schools.rename(columns={\"X\": \"school_long\", \"Y\": \"school_lat\"})"
   ]
  },
  {
   "cell_type": "code",
   "execution_count": 38,
   "id": "7537c703",
   "metadata": {},
   "outputs": [],
   "source": [
    "schools = schools.dropna(subset=['school_long']).dropna(subset=['school_lat'])"
   ]
  },
  {
   "cell_type": "code",
   "execution_count": 39,
   "id": "d5c94a54",
   "metadata": {},
   "outputs": [],
   "source": [
    "schools.to_csv('../data/curated/schools.csv', index = False) "
   ]
  }
 ],
 "metadata": {
  "kernelspec": {
   "display_name": "Python 3 (ipykernel)",
   "language": "python",
   "name": "python3"
  },
  "language_info": {
   "codemirror_mode": {
    "name": "ipython",
    "version": 3
   },
   "file_extension": ".py",
   "mimetype": "text/x-python",
   "name": "python",
   "nbconvert_exporter": "python",
   "pygments_lexer": "ipython3",
   "version": "3.10.4"
  }
 },
 "nbformat": 4,
 "nbformat_minor": 5
}
