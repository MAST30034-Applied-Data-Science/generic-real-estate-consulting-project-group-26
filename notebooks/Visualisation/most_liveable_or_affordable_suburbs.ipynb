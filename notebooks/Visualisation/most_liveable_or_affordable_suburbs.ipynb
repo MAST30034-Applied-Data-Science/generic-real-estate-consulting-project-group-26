{
 "cells": [
  {
   "cell_type": "code",
   "execution_count": 1,
   "metadata": {},
   "outputs": [
    {
     "name": "stderr",
     "output_type": "stream",
     "text": [
      "/home/shunranw/.local/lib/python3.8/site-packages/geopandas/_compat.py:112: UserWarning: The Shapely GEOS version (3.10.2-CAPI-1.16.0) is incompatible with the GEOS version PyGEOS was compiled with (3.10.1-CAPI-1.16.0). Conversions between both will be slow.\n",
      "  warnings.warn(\n"
     ]
    }
   ],
   "source": [
    "# import required libries\n",
    "import pandas as pd\n",
    "import geopandas as gpd\n",
    "import matplotlib.pyplot as plt\n",
    "import folium\n",
    "# define required path\n",
    "curated_data = '../../data/curated/'\n",
    "raw_data = '../../data/raw/'"
   ]
  },
  {
   "cell_type": "code",
   "execution_count": 2,
   "metadata": {},
   "outputs": [],
   "source": [
    "# read csv files\n",
    "liveable = pd.read_csv(curated_data + 'Liveability_rank.csv', index_col = 0)\n",
    "affordable = pd.read_csv(curated_data + 'Affordability_rank.csv', index_col = 0)"
   ]
  },
  {
   "cell_type": "code",
   "execution_count": 3,
   "metadata": {},
   "outputs": [],
   "source": [
    "# code from tut02\n",
    "# sf stands for shape file\n",
    "sf = gpd.read_file(raw_data + \"suburbs_shape/vic_localities.shp\")"
   ]
  },
  {
   "cell_type": "code",
   "execution_count": 4,
   "metadata": {},
   "outputs": [],
   "source": [
    "# Convert the geometry shaape to to latitude and longitude\n",
    "sf['geometry'] = sf['geometry'].to_crs(\"+proj=longlat +ellps=WGS84 +datum=WGS84 +no_defs\")"
   ]
  },
  {
   "cell_type": "code",
   "execution_count": 5,
   "metadata": {},
   "outputs": [],
   "source": [
    "# (y, x) since we want (lat, long)\n",
    "sf['centroid'] = sf['geometry'].apply(lambda x: (x.centroid.y, x.centroid.x))"
   ]
  },
  {
   "cell_type": "code",
   "execution_count": 6,
   "metadata": {},
   "outputs": [],
   "source": [
    "# find top 5 affordable suburbs\n",
    "affordable_suburbs = list(affordable['Suburb'].head(5))"
   ]
  },
  {
   "cell_type": "code",
   "execution_count": 7,
   "metadata": {},
   "outputs": [],
   "source": [
    "# find top 5 liveable suburbs\n",
    "liveable_suburbs = list(liveable['Suburb'].head(5))"
   ]
  },
  {
   "cell_type": "code",
   "execution_count": 8,
   "metadata": {},
   "outputs": [],
   "source": [
    "# prepare for merge\n",
    "sf['LOC_NAME'] = sf['LOC_NAME'].str.upper()"
   ]
  },
  {
   "cell_type": "code",
   "execution_count": 9,
   "metadata": {},
   "outputs": [],
   "source": [
    "# select the top 5 affordable suburbs\n",
    "top5_aff = sf.query('LOC_NAME in @affordable_suburbs')"
   ]
  },
  {
   "cell_type": "code",
   "execution_count": 10,
   "metadata": {},
   "outputs": [],
   "source": [
    "# select the top 5 liveable suburbs\n",
    "top5_live = sf.query('LOC_NAME in @liveable_suburbs')"
   ]
  },
  {
   "cell_type": "code",
   "execution_count": 11,
   "metadata": {},
   "outputs": [],
   "source": [
    "map_aff = folium.Map(location=[-37.02, 146.76], tiles=\"Stamen Terrain\", zoom_start=10)"
   ]
  },
  {
   "cell_type": "code",
   "execution_count": 12,
   "metadata": {},
   "outputs": [],
   "source": [
    "# draw the 5 subrubs in the map\n",
    "for zone_name, coord in top5_aff[['LOC_NAME', 'centroid']].values:\n",
    "    map_aff.add_child(\n",
    "        folium.Marker(location=coord, popup=zone_name)\n",
    "    )\n",
    "map_aff.save('../../plots/affordable_Map.html')"
   ]
  },
  {
   "cell_type": "code",
   "execution_count": 13,
   "metadata": {},
   "outputs": [],
   "source": [
    "map_live = folium.Map(location=[-37.02, 146.76], tiles=\"Stamen Terrain\", zoom_start=10)"
   ]
  },
  {
   "cell_type": "code",
   "execution_count": 14,
   "metadata": {},
   "outputs": [],
   "source": [
    "# draw the 5 subrubs in the map\n",
    "for zone_name, coord in top5_live[['LOC_NAME', 'centroid']].values:\n",
    "    map_live.add_child(\n",
    "        folium.Marker(location=coord, popup=zone_name)\n",
    "    )\n",
    "map_live.save('../../plots/liveable_Map.html')"
   ]
  }
 ],
 "metadata": {
  "kernelspec": {
   "display_name": "Python 3.8.10 64-bit",
   "language": "python",
   "name": "python3"
  },
  "language_info": {
   "codemirror_mode": {
    "name": "ipython",
    "version": 3
   },
   "file_extension": ".py",
   "mimetype": "text/x-python",
   "name": "python",
   "nbconvert_exporter": "python",
   "pygments_lexer": "ipython3",
   "version": "3.8.10"
  },
  "orig_nbformat": 4,
  "vscode": {
   "interpreter": {
    "hash": "916dbcbb3f70747c44a77c7bcd40155683ae19c65e1c03b4aa3499c5328201f1"
   }
  }
 },
 "nbformat": 4,
 "nbformat_minor": 2
}
