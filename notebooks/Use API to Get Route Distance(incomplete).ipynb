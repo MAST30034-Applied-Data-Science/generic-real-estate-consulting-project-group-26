{
 "cells": [
  {
   "cell_type": "code",
   "execution_count": 16,
   "id": "dc4cb9d1",
   "metadata": {},
   "outputs": [],
   "source": [
    "import pandas as pd\n",
    "import numpy as np\n",
    "import openrouteservice as ors\n",
    "import folium\n",
    "import time"
   ]
  },
  {
   "cell_type": "code",
   "execution_count": 65,
   "id": "900c7e32",
   "metadata": {},
   "outputs": [],
   "source": [
    "properties = pd.read_csv(\"../data/curated/distance_to_property.csv\")"
   ]
  },
  {
   "cell_type": "code",
   "execution_count": 3,
   "id": "97b54d93",
   "metadata": {},
   "outputs": [],
   "source": [
    "# We need to process each places below one at a time\n",
    "property_position = properties[['prop_lat', 'prop_long']]\n",
    "school_position = properties[['school_lat', 'school_long']]\n",
    "hospital_position = properties[['hospital_lat', 'hospital_long']]\n",
    "station_position = properties[['station_lat', 'station_long']]\n",
    "facility_position = properties[['facility_lat', 'facility_long']]"
   ]
  },
  {
   "cell_type": "code",
   "execution_count": 4,
   "id": "04cbc7a8",
   "metadata": {},
   "outputs": [],
   "source": [
    "client = ors.Client(key='')"
   ]
  },
  {
   "cell_type": "markdown",
   "id": "60652624",
   "metadata": {},
   "source": [
    "### IMPORTANT NOTE"
   ]
  },
  {
   "cell_type": "markdown",
   "id": "71c37cc1",
   "metadata": {},
   "source": [
    "The sections splitted by markdown cells below utilises openrouteservice API and openstreetmap to calculate route distance\\\n",
    "Due to the restriction of API service, one key can only request 10000 records daily\\\n",
    "Since we have around 9100 records in our dataframe, and there are 6 attribute deriving from API (see cells below)\\\n",
    "Therefore can only execute one section per day"
   ]
  },
  {
   "cell_type": "markdown",
   "id": "4f986690",
   "metadata": {},
   "source": [
    "#### Find Distance to Nearest School (API)"
   ]
  },
  {
   "cell_type": "code",
   "execution_count": 21,
   "id": "37aeeacf",
   "metadata": {},
   "outputs": [],
   "source": [
    "propterty_school_coord = pd.merge(property_position.reset_index(), school_position.reset_index())"
   ]
  },
  {
   "cell_type": "code",
   "execution_count": 26,
   "id": "8f17d09f",
   "metadata": {},
   "outputs": [],
   "source": [
    "# We need to format the list correctly to use API\n",
    "# There is an outer list, containing each [property, school] pairs of [longitude, latitude] coordinates \n",
    "propterty_school_coord_inv = []\n",
    "for i in range(len(propterty_school_coord)):\n",
    "    cur_position = []\n",
    "    cur_position.append([list(propterty_school_coord[['prop_long']].iloc[i])[0],\n",
    "                         list(propterty_school_coord[['prop_lat']].iloc[i])[0]])\n",
    "    cur_position.append([list(propterty_school_coord[['school_long']].iloc[i])[0], \n",
    "                         list(propterty_school_coord[['school_lat']].iloc[i])[0]])\n",
    "    propterty_school_coord_inv.append(cur_position)"
   ]
  },
  {
   "cell_type": "code",
   "execution_count": 36,
   "id": "e588d175",
   "metadata": {},
   "outputs": [],
   "source": [
    "# This section of code takes about 7 hours to execute\n",
    "routes = []\n",
    "for each in propterty_school_coord_inv:\n",
    "    time.sleep(2) # openrouteservice API allows only 40 requests per minute\n",
    "    try:\n",
    "        route = client.directions(coordinates=each)\n",
    "        routes.append(route['routes'][0]['summary']['distance'])    # extract distance from route in form of Json\n",
    "    except:\n",
    "        routes.append(np.nan)\n",
    " "
   ]
  },
  {
   "cell_type": "code",
   "execution_count": 100,
   "id": "0ed70549",
   "metadata": {},
   "outputs": [],
   "source": [
    "# add derived attribute to original dataframe\n",
    "properties['school_route'] = routes"
   ]
  },
  {
   "cell_type": "code",
   "execution_count": 101,
   "id": "c78e1412",
   "metadata": {},
   "outputs": [],
   "source": [
    "# if unable to find route distance use API, we try to estimate this\n",
    "# First calculate the percentage increase of distance when converting from straight distance to route distance\n",
    "avg_straight_distance =  properties.dropna(subset = ['school_route'])[['distance_school']].mean()*1000 #this is in km\n",
    "avg_route_distance = properties.dropna(subset = ['school_route'])[['school_route']].mean()\n",
    "increase_rate = float(avg_route_distance) / float(avg_straight_distance)"
   ]
  },
  {
   "cell_type": "code",
   "execution_count": 102,
   "id": "aa8bb43a",
   "metadata": {},
   "outputs": [],
   "source": [
    "# Fill null route distance by multiplying straight distance by increase rate just calculated\n",
    "properties['school_route'] = properties['school_route'].fillna(properties['distance_school'] * increase_rate * 1000)"
   ]
  },
  {
   "cell_type": "code",
   "execution_count": 105,
   "id": "77ef1526",
   "metadata": {},
   "outputs": [],
   "source": [
    "properties.to_csv('../data/curated/api_distance_property.csv', index = False)"
   ]
  },
  {
   "cell_type": "code",
   "execution_count": null,
   "id": "a02f3805",
   "metadata": {},
   "outputs": [],
   "source": []
  },
  {
   "cell_type": "code",
   "execution_count": null,
   "id": "33ce39ba",
   "metadata": {},
   "outputs": [],
   "source": [
    "propterty_hospital_coord = pd.merge(property_position.reset_index(), hospital_position.reset_index())\n",
    "propterty_hospital_coord_inv = []\n",
    "for i in range(len(propterty_hospital_coord)):\n",
    "    cur_position = []\n",
    "    cur_position.append([list(propterty_hospital_coord[['prop_long']].iloc[i])[0],\n",
    "                         list(propterty_hospital_coord[['prop_lat']].iloc[i])[0]])\n",
    "    cur_position.append([list(propterty_hospital_coord[['school_long']].iloc[i])[0], \n",
    "                         list(propterty_hospital_coord[['school_lat']].iloc[i])[0]])\n",
    "    propterty_hospital_coord_inv.append(cur_position)"
   ]
  },
  {
   "cell_type": "code",
   "execution_count": null,
   "id": "6e346313",
   "metadata": {},
   "outputs": [],
   "source": [
    "hospital_routes = []\n",
    "for each in propterty_hospital_coord_inv:\n",
    "    time.sleep(2) \n",
    "    try:\n",
    "        route = client.directions(coordinates=each)\n",
    "        hospital_routes.append(route['routes'][0]['summary']['distance'])  \n",
    "    except:\n",
    "        hospital_routes.append(np.nan)"
   ]
  }
 ],
 "metadata": {
  "kernelspec": {
   "display_name": "Python 3 (ipykernel)",
   "language": "python",
   "name": "python3"
  },
  "language_info": {
   "codemirror_mode": {
    "name": "ipython",
    "version": 3
   },
   "file_extension": ".py",
   "mimetype": "text/x-python",
   "name": "python",
   "nbconvert_exporter": "python",
   "pygments_lexer": "ipython3",
   "version": "3.10.4"
  }
 },
 "nbformat": 4,
 "nbformat_minor": 5
}
