{
 "cells": [
  {
   "cell_type": "code",
   "execution_count": 1,
   "metadata": {},
   "outputs": [],
   "source": [
    "# import required libries\n",
    "import pandas as pd\n",
    "\n",
    "# define required path\n",
    "raw_data = '../../data/raw/'\n",
    "curated_data = '../../data/curated/'"
   ]
  },
  {
   "cell_type": "code",
   "execution_count": 2,
   "metadata": {},
   "outputs": [],
   "source": [
    "# read in datasets\n",
    "\n",
    "population_01_21 = pd.read_csv(curated_data + 'suburb_population2001-2021.csv')\n",
    "\n",
    "population_21 = pd.read_csv(curated_data + 'suburb_population2021.csv')\n",
    "\n",
    "income = pd.read_csv(curated_data + 'suburb_income.csv')\n",
    "\n",
    "requried_suburb = pd.read_csv(curated_data + 'final_table.csv',index_col=0)\n",
    "\n",
    "rent = pd.read_csv(curated_data + 'annual_rent_all.csv', index_col=0)\n"
   ]
  },
  {
   "cell_type": "code",
   "execution_count": 3,
   "metadata": {},
   "outputs": [],
   "source": [
    "# get useful suburb\n",
    "requried_suburb = list(requried_suburb.Suburb)\n"
   ]
  },
  {
   "cell_type": "code",
   "execution_count": 4,
   "metadata": {},
   "outputs": [],
   "source": [
    "# Tranfer all suburb columns to uppercase\n",
    "rent['Suburb'] = rent['Suburb'].str.upper()\n"
   ]
  },
  {
   "cell_type": "code",
   "execution_count": 5,
   "metadata": {},
   "outputs": [],
   "source": [
    "# select datasrt\n",
    "select_income = income.loc[income['Suburb'].isin(requried_suburb)]\n",
    "select_population_01_21 = population_01_21.loc[population_01_21['Suburb'].isin(requried_suburb)]\n",
    "select_population_21 = population_21.loc[population_21['Suburb'].isin(requried_suburb)]\n",
    "select_rent = rent.loc[rent['Suburb'].isin(requried_suburb)]\n"
   ]
  },
  {
   "cell_type": "code",
   "execution_count": 8,
   "metadata": {},
   "outputs": [],
   "source": [
    "# save to file\n",
    "select_income.to_csv(curated_data + 'select_income.csv')\n",
    "select_population_01_21.to_csv(curated_data + 'select_population.csv')\n",
    "select_population_21.to_csv(curated_data + 'select_population_21.csv')\n",
    "\n",
    "select_rent.to_csv(curated_data + 'select_rent.csv')\n"
   ]
  },
  {
   "cell_type": "code",
   "execution_count": null,
   "metadata": {},
   "outputs": [],
   "source": []
  }
 ],
 "metadata": {
  "kernelspec": {
   "display_name": "Python 3 (ipykernel)",
   "language": "python",
   "name": "python3"
  },
  "language_info": {
   "codemirror_mode": {
    "name": "ipython",
    "version": 3
   },
   "file_extension": ".py",
   "mimetype": "text/x-python",
   "name": "python",
   "nbconvert_exporter": "python",
   "pygments_lexer": "ipython3",
   "version": "3.10.4"
  },
  "vscode": {
   "interpreter": {
    "hash": "916dbcbb3f70747c44a77c7bcd40155683ae19c65e1c03b4aa3499c5328201f1"
   }
  }
 },
 "nbformat": 4,
 "nbformat_minor": 2
}
