{
 "cells": [
  {
   "cell_type": "code",
   "execution_count": 27,
   "metadata": {},
   "outputs": [],
   "source": [
    "# import required libries\n",
    "import pandas as pd\n",
    "\n",
    "# define required path\n",
    "raw_data = '../../data/raw/'\n",
    "curated_data = '../../data/curated/'"
   ]
  },
  {
   "cell_type": "code",
   "execution_count": 33,
   "metadata": {},
   "outputs": [],
   "source": [
    "# read in datasets\n",
    "crime = pd.read_csv(curated_data + 'crime_rate.csv', index_col=0)\n",
    "suburb = pd.read_csv(raw_data + 'suburb.csv', index_col=0)\n",
    "traffic = pd.read_csv(curated_data + 'traffic_dataset.csv', index_col=0)\n",
    "income = pd.read_csv(curated_data + 'income2005-2018.csv', index_col=0)"
   ]
  },
  {
   "cell_type": "code",
   "execution_count": 5,
   "metadata": {},
   "outputs": [],
   "source": [
    "# drop total data\n",
    "crime = crime.loc[crime[\"Local Government Area\"] != 'Total']"
   ]
  },
  {
   "cell_type": "code",
   "execution_count": 6,
   "metadata": {},
   "outputs": [],
   "source": [
    "# drop duplicate suburbs\n",
    "suburb['Suburb'] = suburb['Suburb'].drop_duplicates()\n",
    "suburb = suburb.dropna()"
   ]
  },
  {
   "cell_type": "code",
   "execution_count": 7,
   "metadata": {},
   "outputs": [],
   "source": [
    "# select crime rate in 2021\n",
    "crime = crime.loc[crime['Year'] == 2021]"
   ]
  },
  {
   "cell_type": "code",
   "execution_count": 8,
   "metadata": {},
   "outputs": [],
   "source": [
    "# preprocessing the column to drop space\n",
    "crime['Local Government Area'] = crime['Local Government Area'].str[1:]"
   ]
  },
  {
   "cell_type": "code",
   "execution_count": 9,
   "metadata": {},
   "outputs": [],
   "source": [
    "# left join crime dataset to suburb dataset\n",
    "crime2021 = suburb[['Suburb','LGA']].join(crime[['Local Government Area','crime_rate']].set_index('Local Government Area'), \\\n",
    "    on = 'LGA').reset_index(drop=True)"
   ]
  },
  {
   "cell_type": "code",
   "execution_count": 10,
   "metadata": {},
   "outputs": [],
   "source": [
    "crime2021.to_csv(curated_data + 'crime2021.csv')"
   ]
  },
  {
   "cell_type": "code",
   "execution_count": 11,
   "metadata": {},
   "outputs": [],
   "source": [
    "# extract suburb from stop name\n",
    "traffic['Suburb'] = traffic['STOP_NAME'].str.extract(r\"\\(([A-Za-z ]+)\\)\", expand=False)"
   ]
  },
  {
   "cell_type": "code",
   "execution_count": 12,
   "metadata": {},
   "outputs": [],
   "source": [
    "# calculate the number of station each suburb\n",
    "traffic_count = traffic.groupby(['Suburb'], as_index=False)['STOP_ID'].count()"
   ]
  },
  {
   "cell_type": "code",
   "execution_count": 13,
   "metadata": {},
   "outputs": [],
   "source": [
    "traffic_count.columns = ['Suburb','traffic_count']"
   ]
  },
  {
   "cell_type": "code",
   "execution_count": 14,
   "metadata": {},
   "outputs": [],
   "source": [
    "# calculate the annual traffic\n",
    "traffic_sum = traffic.groupby(['Suburb'], as_index=False)['Pax_annual'].sum()"
   ]
  },
  {
   "cell_type": "code",
   "execution_count": 15,
   "metadata": {},
   "outputs": [],
   "source": [
    "traffic_sum.columns = ['Suburb','traffic_sum']"
   ]
  },
  {
   "cell_type": "code",
   "execution_count": 16,
   "metadata": {},
   "outputs": [],
   "source": [
    "traffic_count.to_csv(curated_data + 'traffic_count.csv')\n",
    "traffic_sum.to_csv(curated_data + 'traffic_sum.csv')"
   ]
  },
  {
   "cell_type": "code",
   "execution_count": 35,
   "metadata": {},
   "outputs": [],
   "source": [
    "# allocate data in sa2 to suburbs\n",
    "suburb_income = suburb.join(income.set_index('SA2'), on = 'SA2_code').dropna().reset_index(drop=True)"
   ]
  },
  {
   "cell_type": "code",
   "execution_count": 44,
   "metadata": {},
   "outputs": [],
   "source": [
    "suburb_income = suburb_income.drop(['Postcode', 'LGA', 'SA2_name'], axis = 1)"
   ]
  },
  {
   "cell_type": "code",
   "execution_count": 46,
   "metadata": {},
   "outputs": [],
   "source": [
    "suburb_income.to_csv(curated_data + 'suburb_income.csv', index = False)"
   ]
  }
 ],
 "metadata": {
  "kernelspec": {
   "display_name": "Python 3 (ipykernel)",
   "language": "python",
   "name": "python3"
  },
  "language_info": {
   "codemirror_mode": {
    "name": "ipython",
    "version": 3
   },
   "file_extension": ".py",
   "mimetype": "text/x-python",
   "name": "python",
   "nbconvert_exporter": "python",
   "pygments_lexer": "ipython3",
   "version": "3.10.4"
  },
  "vscode": {
   "interpreter": {
    "hash": "916dbcbb3f70747c44a77c7bcd40155683ae19c65e1c03b4aa3499c5328201f1"
   }
  }
 },
 "nbformat": 4,
 "nbformat_minor": 2
}
