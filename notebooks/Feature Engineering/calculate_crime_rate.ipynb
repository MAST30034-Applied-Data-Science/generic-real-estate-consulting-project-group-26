{
 "cells": [
  {
   "cell_type": "code",
   "execution_count": 1,
   "metadata": {},
   "outputs": [],
   "source": [
    "import pandas as pd"
   ]
  },
  {
   "cell_type": "code",
   "execution_count": 2,
   "metadata": {},
   "outputs": [
    {
     "name": "stdout",
     "output_type": "stream",
     "text": [
      "Requirement already satisfied: openpyxl in /usr/local/lib/python3.8/dist-packages (3.0.10)\n",
      "Requirement already satisfied: et-xmlfile in /usr/local/lib/python3.8/dist-packages (from openpyxl) (1.1.0)\n",
      "Note: you may need to restart the kernel to use updated packages.\n"
     ]
    }
   ],
   "source": [
    "pip install openpyxl"
   ]
  },
  {
   "cell_type": "code",
   "execution_count": 3,
   "metadata": {},
   "outputs": [],
   "source": [
    "crime=pd.read_excel(\"../../data/raw/crime.xlsx\")"
   ]
  },
  {
   "cell_type": "code",
   "execution_count": 4,
   "metadata": {},
   "outputs": [
    {
     "data": {
      "text/html": [
       "<div>\n",
       "<style scoped>\n",
       "    .dataframe tbody tr th:only-of-type {\n",
       "        vertical-align: middle;\n",
       "    }\n",
       "\n",
       "    .dataframe tbody tr th {\n",
       "        vertical-align: top;\n",
       "    }\n",
       "\n",
       "    .dataframe thead th {\n",
       "        text-align: right;\n",
       "    }\n",
       "</style>\n",
       "<table border=\"1\" class=\"dataframe\">\n",
       "  <thead>\n",
       "    <tr style=\"text-align: right;\">\n",
       "      <th></th>\n",
       "      <th>Year</th>\n",
       "      <th>Year ending</th>\n",
       "      <th>Police Region</th>\n",
       "      <th>Local Government Area</th>\n",
       "      <th>Incidents Recorded</th>\n",
       "      <th>Rate per 100,000 population</th>\n",
       "    </tr>\n",
       "  </thead>\n",
       "  <tbody>\n",
       "    <tr>\n",
       "      <th>0</th>\n",
       "      <td>2021</td>\n",
       "      <td>December</td>\n",
       "      <td>1 North West Metro</td>\n",
       "      <td>Banyule</td>\n",
       "      <td>5418</td>\n",
       "      <td>4122.096863</td>\n",
       "    </tr>\n",
       "    <tr>\n",
       "      <th>1</th>\n",
       "      <td>2021</td>\n",
       "      <td>December</td>\n",
       "      <td>1 North West Metro</td>\n",
       "      <td>Brimbank</td>\n",
       "      <td>12682</td>\n",
       "      <td>6252.185377</td>\n",
       "    </tr>\n",
       "    <tr>\n",
       "      <th>2</th>\n",
       "      <td>2021</td>\n",
       "      <td>December</td>\n",
       "      <td>1 North West Metro</td>\n",
       "      <td>Darebin</td>\n",
       "      <td>9563</td>\n",
       "      <td>5800.002842</td>\n",
       "    </tr>\n",
       "    <tr>\n",
       "      <th>3</th>\n",
       "      <td>2021</td>\n",
       "      <td>December</td>\n",
       "      <td>1 North West Metro</td>\n",
       "      <td>Hobsons Bay</td>\n",
       "      <td>4567</td>\n",
       "      <td>4691.164939</td>\n",
       "    </tr>\n",
       "    <tr>\n",
       "      <th>4</th>\n",
       "      <td>2021</td>\n",
       "      <td>December</td>\n",
       "      <td>1 North West Metro</td>\n",
       "      <td>Hume</td>\n",
       "      <td>12588</td>\n",
       "      <td>5126.172194</td>\n",
       "    </tr>\n",
       "  </tbody>\n",
       "</table>\n",
       "</div>"
      ],
      "text/plain": [
       "   Year Year ending       Police Region Local Government Area  \\\n",
       "0  2021    December  1 North West Metro               Banyule   \n",
       "1  2021    December  1 North West Metro              Brimbank   \n",
       "2  2021    December  1 North West Metro               Darebin   \n",
       "3  2021    December  1 North West Metro           Hobsons Bay   \n",
       "4  2021    December  1 North West Metro                  Hume   \n",
       "\n",
       "   Incidents Recorded  Rate per 100,000 population  \n",
       "0                5418                  4122.096863  \n",
       "1               12682                  6252.185377  \n",
       "2                9563                  5800.002842  \n",
       "3                4567                  4691.164939  \n",
       "4               12588                  5126.172194  "
      ]
     },
     "execution_count": 4,
     "metadata": {},
     "output_type": "execute_result"
    }
   ],
   "source": [
    "crime.head()"
   ]
  },
  {
   "cell_type": "code",
   "execution_count": 5,
   "metadata": {},
   "outputs": [
    {
     "name": "stdout",
     "output_type": "stream",
     "text": [
      "Year                            0\n",
      "Year ending                     0\n",
      "Police Region                   0\n",
      "Local Government Area           0\n",
      "Incidents Recorded              0\n",
      "Rate per 100,000 population    40\n",
      "dtype: int64\n"
     ]
    }
   ],
   "source": [
    "print(crime.isnull().sum())  #check missing value"
   ]
  },
  {
   "cell_type": "code",
   "execution_count": 6,
   "metadata": {},
   "outputs": [],
   "source": [
    "irrelevant =crime.loc[crime[\"Local Government Area\"]==\" Justice Institutions and Immigration Facilities\"]  # delete irrelevant instance"
   ]
  },
  {
   "cell_type": "code",
   "execution_count": 7,
   "metadata": {},
   "outputs": [
    {
     "data": {
      "text/html": [
       "<div>\n",
       "<style scoped>\n",
       "    .dataframe tbody tr th:only-of-type {\n",
       "        vertical-align: middle;\n",
       "    }\n",
       "\n",
       "    .dataframe tbody tr th {\n",
       "        vertical-align: top;\n",
       "    }\n",
       "\n",
       "    .dataframe thead th {\n",
       "        text-align: right;\n",
       "    }\n",
       "</style>\n",
       "<table border=\"1\" class=\"dataframe\">\n",
       "  <thead>\n",
       "    <tr style=\"text-align: right;\">\n",
       "      <th></th>\n",
       "      <th>Year</th>\n",
       "      <th>Year ending</th>\n",
       "      <th>Police Region</th>\n",
       "      <th>Local Government Area</th>\n",
       "      <th>Incidents Recorded</th>\n",
       "      <th>Rate per 100,000 population</th>\n",
       "    </tr>\n",
       "  </thead>\n",
       "  <tbody>\n",
       "    <tr>\n",
       "      <th>83</th>\n",
       "      <td>2021</td>\n",
       "      <td>December</td>\n",
       "      <td>Justice Institutions and Immigration Facilities</td>\n",
       "      <td>Justice Institutions and Immigration Facilities</td>\n",
       "      <td>967</td>\n",
       "      <td>NaN</td>\n",
       "    </tr>\n",
       "    <tr>\n",
       "      <th>170</th>\n",
       "      <td>2020</td>\n",
       "      <td>December</td>\n",
       "      <td>Justice Institutions and Immigration Facilities</td>\n",
       "      <td>Justice Institutions and Immigration Facilities</td>\n",
       "      <td>1328</td>\n",
       "      <td>NaN</td>\n",
       "    </tr>\n",
       "    <tr>\n",
       "      <th>257</th>\n",
       "      <td>2019</td>\n",
       "      <td>December</td>\n",
       "      <td>Justice Institutions and Immigration Facilities</td>\n",
       "      <td>Justice Institutions and Immigration Facilities</td>\n",
       "      <td>1356</td>\n",
       "      <td>NaN</td>\n",
       "    </tr>\n",
       "    <tr>\n",
       "      <th>344</th>\n",
       "      <td>2018</td>\n",
       "      <td>December</td>\n",
       "      <td>Justice Institutions and Immigration Facilities</td>\n",
       "      <td>Justice Institutions and Immigration Facilities</td>\n",
       "      <td>1497</td>\n",
       "      <td>NaN</td>\n",
       "    </tr>\n",
       "    <tr>\n",
       "      <th>431</th>\n",
       "      <td>2017</td>\n",
       "      <td>December</td>\n",
       "      <td>Justice Institutions and Immigration Facilities</td>\n",
       "      <td>Justice Institutions and Immigration Facilities</td>\n",
       "      <td>1476</td>\n",
       "      <td>NaN</td>\n",
       "    </tr>\n",
       "    <tr>\n",
       "      <th>518</th>\n",
       "      <td>2016</td>\n",
       "      <td>December</td>\n",
       "      <td>Justice Institutions and Immigration Facilities</td>\n",
       "      <td>Justice Institutions and Immigration Facilities</td>\n",
       "      <td>1016</td>\n",
       "      <td>NaN</td>\n",
       "    </tr>\n",
       "    <tr>\n",
       "      <th>605</th>\n",
       "      <td>2015</td>\n",
       "      <td>December</td>\n",
       "      <td>Justice Institutions and Immigration Facilities</td>\n",
       "      <td>Justice Institutions and Immigration Facilities</td>\n",
       "      <td>777</td>\n",
       "      <td>NaN</td>\n",
       "    </tr>\n",
       "    <tr>\n",
       "      <th>692</th>\n",
       "      <td>2014</td>\n",
       "      <td>December</td>\n",
       "      <td>Justice Institutions and Immigration Facilities</td>\n",
       "      <td>Justice Institutions and Immigration Facilities</td>\n",
       "      <td>719</td>\n",
       "      <td>NaN</td>\n",
       "    </tr>\n",
       "    <tr>\n",
       "      <th>779</th>\n",
       "      <td>2013</td>\n",
       "      <td>December</td>\n",
       "      <td>Justice Institutions and Immigration Facilities</td>\n",
       "      <td>Justice Institutions and Immigration Facilities</td>\n",
       "      <td>1041</td>\n",
       "      <td>NaN</td>\n",
       "    </tr>\n",
       "    <tr>\n",
       "      <th>866</th>\n",
       "      <td>2012</td>\n",
       "      <td>December</td>\n",
       "      <td>Justice Institutions and Immigration Facilities</td>\n",
       "      <td>Justice Institutions and Immigration Facilities</td>\n",
       "      <td>832</td>\n",
       "      <td>NaN</td>\n",
       "    </tr>\n",
       "  </tbody>\n",
       "</table>\n",
       "</div>"
      ],
      "text/plain": [
       "     Year Year ending                                    Police Region  \\\n",
       "83   2021    December  Justice Institutions and Immigration Facilities   \n",
       "170  2020    December  Justice Institutions and Immigration Facilities   \n",
       "257  2019    December  Justice Institutions and Immigration Facilities   \n",
       "344  2018    December  Justice Institutions and Immigration Facilities   \n",
       "431  2017    December  Justice Institutions and Immigration Facilities   \n",
       "518  2016    December  Justice Institutions and Immigration Facilities   \n",
       "605  2015    December  Justice Institutions and Immigration Facilities   \n",
       "692  2014    December  Justice Institutions and Immigration Facilities   \n",
       "779  2013    December  Justice Institutions and Immigration Facilities   \n",
       "866  2012    December  Justice Institutions and Immigration Facilities   \n",
       "\n",
       "                                Local Government Area  Incidents Recorded  \\\n",
       "83    Justice Institutions and Immigration Facilities                 967   \n",
       "170   Justice Institutions and Immigration Facilities                1328   \n",
       "257   Justice Institutions and Immigration Facilities                1356   \n",
       "344   Justice Institutions and Immigration Facilities                1497   \n",
       "431   Justice Institutions and Immigration Facilities                1476   \n",
       "518   Justice Institutions and Immigration Facilities                1016   \n",
       "605   Justice Institutions and Immigration Facilities                 777   \n",
       "692   Justice Institutions and Immigration Facilities                 719   \n",
       "779   Justice Institutions and Immigration Facilities                1041   \n",
       "866   Justice Institutions and Immigration Facilities                 832   \n",
       "\n",
       "     Rate per 100,000 population  \n",
       "83                           NaN  \n",
       "170                          NaN  \n",
       "257                          NaN  \n",
       "344                          NaN  \n",
       "431                          NaN  \n",
       "518                          NaN  \n",
       "605                          NaN  \n",
       "692                          NaN  \n",
       "779                          NaN  \n",
       "866                          NaN  "
      ]
     },
     "execution_count": 7,
     "metadata": {},
     "output_type": "execute_result"
    }
   ],
   "source": [
    "irrelevant"
   ]
  },
  {
   "cell_type": "markdown",
   "metadata": {},
   "source": [
    "## We only want to focus on Local Government Area, we won't think about the irrelevant items such as Justice Institutions and Immigration Facilities. So we need to delete them  "
   ]
  },
  {
   "cell_type": "code",
   "execution_count": 8,
   "metadata": {},
   "outputs": [
    {
     "data": {
      "text/plain": [
       "(870, 6)"
      ]
     },
     "execution_count": 8,
     "metadata": {},
     "output_type": "execute_result"
    }
   ],
   "source": [
    "crime.shape"
   ]
  },
  {
   "cell_type": "code",
   "execution_count": 9,
   "metadata": {},
   "outputs": [],
   "source": [
    "crime=crime.dropna()"
   ]
  },
  {
   "cell_type": "code",
   "execution_count": 10,
   "metadata": {},
   "outputs": [
    {
     "data": {
      "text/plain": [
       "(830, 6)"
      ]
     },
     "execution_count": 10,
     "metadata": {},
     "output_type": "execute_result"
    }
   ],
   "source": [
    "crime.shape"
   ]
  },
  {
   "cell_type": "code",
   "execution_count": 11,
   "metadata": {},
   "outputs": [
    {
     "data": {
      "text/plain": [
       "0    4122.096863\n",
       "1    6252.185377\n",
       "2    5800.002842\n",
       "3    4691.164939\n",
       "4    5126.172194\n",
       "Name: Rate per 100,000 population, dtype: float64"
      ]
     },
     "execution_count": 11,
     "metadata": {},
     "output_type": "execute_result"
    }
   ],
   "source": [
    "crime[\"Rate per 100,000 population\"].head()"
   ]
  },
  {
   "cell_type": "code",
   "execution_count": 12,
   "metadata": {},
   "outputs": [
    {
     "data": {
      "text/plain": [
       "4122.096863362"
      ]
     },
     "execution_count": 12,
     "metadata": {},
     "output_type": "execute_result"
    }
   ],
   "source": [
    "crime[\"Rate per 100,000 population\"][0]"
   ]
  },
  {
   "cell_type": "markdown",
   "metadata": {},
   "source": [
    "## Calculate crime rate"
   ]
  },
  {
   "cell_type": "code",
   "execution_count": 13,
   "metadata": {},
   "outputs": [],
   "source": [
    "crime[\"crime_rate\"]=crime[\"Rate per 100,000 population\"]/100000   #data is based on 100000 people in each LGA"
   ]
  },
  {
   "cell_type": "code",
   "execution_count": 14,
   "metadata": {},
   "outputs": [
    {
     "data": {
      "text/plain": [
       "0.23003774005838"
      ]
     },
     "execution_count": 14,
     "metadata": {},
     "output_type": "execute_result"
    }
   ],
   "source": [
    "crime[\"crime_rate\"].max()"
   ]
  },
  {
   "cell_type": "code",
   "execution_count": 15,
   "metadata": {},
   "outputs": [
    {
     "data": {
      "text/plain": [
       "count    830.000000\n",
       "mean       0.056124\n",
       "std        0.024353\n",
       "min        0.017867\n",
       "25%        0.038317\n",
       "50%        0.053306\n",
       "75%        0.067667\n",
       "max        0.230038\n",
       "Name: crime_rate, dtype: float64"
      ]
     },
     "execution_count": 15,
     "metadata": {},
     "output_type": "execute_result"
    }
   ],
   "source": [
    "crime[\"crime_rate\"].describe()"
   ]
  },
  {
   "cell_type": "code",
   "execution_count": 16,
   "metadata": {},
   "outputs": [],
   "source": [
    "crime.to_csv('../../data/curated/crime_rate.csv')"
   ]
  },
  {
   "cell_type": "code",
   "execution_count": null,
   "metadata": {},
   "outputs": [],
   "source": []
  },
  {
   "cell_type": "code",
   "execution_count": null,
   "metadata": {},
   "outputs": [],
   "source": []
  }
 ],
 "metadata": {
  "kernelspec": {
   "display_name": "Python 3 (ipykernel)",
   "language": "python",
   "name": "python3"
  },
  "language_info": {
   "codemirror_mode": {
    "name": "ipython",
    "version": 3
   },
   "file_extension": ".py",
   "mimetype": "text/x-python",
   "name": "python",
   "nbconvert_exporter": "python",
   "pygments_lexer": "ipython3",
   "version": "3.10.4"
  },
  "vscode": {
   "interpreter": {
    "hash": "916dbcbb3f70747c44a77c7bcd40155683ae19c65e1c03b4aa3499c5328201f1"
   }
  }
 },
 "nbformat": 4,
 "nbformat_minor": 2
}
