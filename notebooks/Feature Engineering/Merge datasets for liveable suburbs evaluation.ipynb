{
 "cells": [
  {
   "cell_type": "code",
   "execution_count": 1,
   "metadata": {},
   "outputs": [],
   "source": [
    "# import required libries\n",
    "import pandas as pd\n",
    "\n",
    "# define required path\n",
    "raw_data = '../../data/raw/'\n",
    "curated_data = '../../data/curated/'"
   ]
  },
  {
   "cell_type": "code",
   "execution_count": 2,
   "metadata": {},
   "outputs": [],
   "source": [
    "# read in datasets\n",
    "shopping = pd.read_csv(curated_data + 'suburb_shopping.csv', index_col=0)\n",
    "population = pd.read_csv(curated_data + 'suburb_population2021.csv')\n",
    "crime = pd.read_csv(curated_data + 'crime2021.csv', index_col=0)\n",
    "passenger = pd.read_csv(curated_data + 'traffic_sum.csv', index_col=0)\n",
    "station = pd.read_csv(curated_data + 'traffic_count.csv', index_col=0)\n",
    "income = pd.read_csv(curated_data + 'suburb_income.csv')\n",
    "\n",
    "facilites = pd.read_csv(curated_data + 'facilites_suburb.csv', index_col=0)\n",
    "hospital = pd.read_csv(curated_data + 'hospital_suburb.csv', index_col=0)\n",
    "school = pd.read_csv(curated_data + 'school_suburb.csv', index_col=0)\n",
    "\n",
    "rent =  pd.read_csv(curated_data + 'annual_rent_2019_2020.csv')"
   ]
  },
  {
   "cell_type": "code",
   "execution_count": 3,
   "metadata": {},
   "outputs": [],
   "source": [
    "crime = crime[['Suburb', 'crime_rate']]\n",
    "income = income[['Suburb', '2018_income']]\n",
    "rent =  rent [['Suburb','Mar 2021 Median']]"
   ]
  },
  {
   "cell_type": "code",
   "execution_count": 4,
   "metadata": {},
   "outputs": [],
   "source": [
    "# Tranfer all suburb columns to uppercase\n",
    "shopping['suburb'] = shopping['suburb'].str.upper()\n",
    "passenger['Suburb'] = passenger['Suburb'].str.upper()\n",
    "hospital['Suburb'] = hospital['Suburb'].str.upper()\n",
    "station['Suburb'] = station['Suburb'].str.upper()\n",
    "rent['Suburb'] = rent['Suburb'].str.upper()"
   ]
  },
  {
   "cell_type": "code",
   "execution_count": 5,
   "metadata": {},
   "outputs": [],
   "source": [
    "suburb_merged = income.join(shopping.set_index('suburb'), on = 'Suburb')"
   ]
  },
  {
   "cell_type": "code",
   "execution_count": 6,
   "metadata": {},
   "outputs": [],
   "source": [
    "suburb_merged = suburb_merged.join(population.set_index('Suburb'), on = 'Suburb')"
   ]
  },
  {
   "cell_type": "code",
   "execution_count": 7,
   "metadata": {},
   "outputs": [],
   "source": [
    "suburb_merged = suburb_merged.join(crime.set_index('Suburb'), on = 'Suburb')"
   ]
  },
  {
   "cell_type": "code",
   "execution_count": 8,
   "metadata": {},
   "outputs": [],
   "source": [
    "suburb_merged = suburb_merged.join(passenger.set_index('Suburb'), on = 'Suburb')"
   ]
  },
  {
   "cell_type": "code",
   "execution_count": 9,
   "metadata": {},
   "outputs": [],
   "source": [
    "suburb_merged = suburb_merged.join(station.set_index('Suburb'), on = 'Suburb')"
   ]
  },
  {
   "cell_type": "code",
   "execution_count": 10,
   "metadata": {},
   "outputs": [],
   "source": [
    "suburb_merged = suburb_merged.join(facilites.set_index('Suburb'), on = 'Suburb')"
   ]
  },
  {
   "cell_type": "code",
   "execution_count": 11,
   "metadata": {},
   "outputs": [],
   "source": [
    "suburb_merged = suburb_merged.join(hospital.set_index('Suburb'), on = 'Suburb')"
   ]
  },
  {
   "cell_type": "code",
   "execution_count": 12,
   "metadata": {},
   "outputs": [],
   "source": [
    "suburb_merged = suburb_merged.join(school.set_index('Suburb'), on = 'Suburb')"
   ]
  },
  {
   "cell_type": "code",
   "execution_count": 13,
   "metadata": {},
   "outputs": [],
   "source": [
    "final_table  = rent.join(suburb_merged.set_index('Suburb'), on = 'Suburb')"
   ]
  },
  {
   "cell_type": "code",
   "execution_count": 14,
   "metadata": {},
   "outputs": [],
   "source": [
    "final_table.columns = ['Suburb', '2021 rent','2018_income', 'shopping_count', 'population', 'crime_rate', 'num_passenger', 'num_station','num facilites','num hospital','num school']"
   ]
  },
  {
   "cell_type": "code",
   "execution_count": 15,
   "metadata": {},
   "outputs": [
    {
     "data": {
      "text/plain": [
       "Suburb              0\n",
       "2021 rent           0\n",
       "2018_income        27\n",
       "shopping_count    146\n",
       "population         33\n",
       "crime_rate         27\n",
       "num_passenger     132\n",
       "num_station       132\n",
       "num facilites      36\n",
       "num hospital      144\n",
       "num school         65\n",
       "dtype: int64"
      ]
     },
     "execution_count": 15,
     "metadata": {},
     "output_type": "execute_result"
    }
   ],
   "source": [
    "final_table.isnull().sum()"
   ]
  },
  {
   "cell_type": "code",
   "execution_count": 16,
   "metadata": {},
   "outputs": [],
   "source": [
    "final_table.dropna(subset = [\"population\",'2018_income'], inplace=True)"
   ]
  },
  {
   "cell_type": "code",
   "execution_count": 17,
   "metadata": {},
   "outputs": [],
   "source": [
    "final_table = final_table.fillna(0)"
   ]
  },
  {
   "cell_type": "code",
   "execution_count": 30,
   "metadata": {},
   "outputs": [],
   "source": [
    "final_table = final_table.drop_duplicates(subset = ['Suburb'])"
   ]
  },
  {
   "cell_type": "code",
   "execution_count": 31,
   "metadata": {},
   "outputs": [
    {
     "data": {
      "text/html": [
       "<div>\n",
       "<style scoped>\n",
       "    .dataframe tbody tr th:only-of-type {\n",
       "        vertical-align: middle;\n",
       "    }\n",
       "\n",
       "    .dataframe tbody tr th {\n",
       "        vertical-align: top;\n",
       "    }\n",
       "\n",
       "    .dataframe thead th {\n",
       "        text-align: right;\n",
       "    }\n",
       "</style>\n",
       "<table border=\"1\" class=\"dataframe\">\n",
       "  <thead>\n",
       "    <tr style=\"text-align: right;\">\n",
       "      <th></th>\n",
       "      <th>Suburb</th>\n",
       "      <th>2021 rent</th>\n",
       "      <th>2018_income</th>\n",
       "      <th>shopping_count</th>\n",
       "      <th>population</th>\n",
       "      <th>crime_rate</th>\n",
       "      <th>num_passenger</th>\n",
       "      <th>num_station</th>\n",
       "      <th>num facilites</th>\n",
       "      <th>num hospital</th>\n",
       "      <th>num school</th>\n",
       "    </tr>\n",
       "  </thead>\n",
       "  <tbody>\n",
       "    <tr>\n",
       "      <th>0</th>\n",
       "      <td>ALBERT PARK</td>\n",
       "      <td>500</td>\n",
       "      <td>120412.0</td>\n",
       "      <td>0.0</td>\n",
       "      <td>11310.0</td>\n",
       "      <td>0.083418</td>\n",
       "      <td>0.0</td>\n",
       "      <td>0.0</td>\n",
       "      <td>10.0</td>\n",
       "      <td>0.0</td>\n",
       "      <td>0.0</td>\n",
       "    </tr>\n",
       "    <tr>\n",
       "      <th>1</th>\n",
       "      <td>MIDDLE PARK</td>\n",
       "      <td>500</td>\n",
       "      <td>120412.0</td>\n",
       "      <td>0.0</td>\n",
       "      <td>4712.0</td>\n",
       "      <td>0.083418</td>\n",
       "      <td>0.0</td>\n",
       "      <td>0.0</td>\n",
       "      <td>1.0</td>\n",
       "      <td>0.0</td>\n",
       "      <td>0.0</td>\n",
       "    </tr>\n",
       "    <tr>\n",
       "      <th>3</th>\n",
       "      <td>ARMADALE</td>\n",
       "      <td>450</td>\n",
       "      <td>111629.0</td>\n",
       "      <td>0.0</td>\n",
       "      <td>9436.0</td>\n",
       "      <td>0.069923</td>\n",
       "      <td>423950.0</td>\n",
       "      <td>2.0</td>\n",
       "      <td>6.0</td>\n",
       "      <td>0.0</td>\n",
       "      <td>2.0</td>\n",
       "    </tr>\n",
       "    <tr>\n",
       "      <th>4</th>\n",
       "      <td>CARLTON NORTH</td>\n",
       "      <td>580</td>\n",
       "      <td>88807.0</td>\n",
       "      <td>0.0</td>\n",
       "      <td>8097.0</td>\n",
       "      <td>0.091946</td>\n",
       "      <td>0.0</td>\n",
       "      <td>0.0</td>\n",
       "      <td>0.0</td>\n",
       "      <td>0.0</td>\n",
       "      <td>0.0</td>\n",
       "    </tr>\n",
       "    <tr>\n",
       "      <th>5</th>\n",
       "      <td>CARLTON</td>\n",
       "      <td>350</td>\n",
       "      <td>59791.0</td>\n",
       "      <td>0.0</td>\n",
       "      <td>17198.0</td>\n",
       "      <td>0.091946</td>\n",
       "      <td>0.0</td>\n",
       "      <td>0.0</td>\n",
       "      <td>2.0</td>\n",
       "      <td>1.0</td>\n",
       "      <td>0.0</td>\n",
       "    </tr>\n",
       "    <tr>\n",
       "      <th>...</th>\n",
       "      <td>...</td>\n",
       "      <td>...</td>\n",
       "      <td>...</td>\n",
       "      <td>...</td>\n",
       "      <td>...</td>\n",
       "      <td>...</td>\n",
       "      <td>...</td>\n",
       "      <td>...</td>\n",
       "      <td>...</td>\n",
       "      <td>...</td>\n",
       "      <td>...</td>\n",
       "    </tr>\n",
       "    <tr>\n",
       "      <th>208</th>\n",
       "      <td>SWAN HILL</td>\n",
       "      <td>298</td>\n",
       "      <td>54265.0</td>\n",
       "      <td>0.0</td>\n",
       "      <td>11169.0</td>\n",
       "      <td>0.085372</td>\n",
       "      <td>0.0</td>\n",
       "      <td>0.0</td>\n",
       "      <td>16.0</td>\n",
       "      <td>1.0</td>\n",
       "      <td>3.0</td>\n",
       "    </tr>\n",
       "    <tr>\n",
       "      <th>209</th>\n",
       "      <td>TORQUAY</td>\n",
       "      <td>520</td>\n",
       "      <td>71515.0</td>\n",
       "      <td>0.0</td>\n",
       "      <td>21334.0</td>\n",
       "      <td>0.030081</td>\n",
       "      <td>0.0</td>\n",
       "      <td>0.0</td>\n",
       "      <td>26.0</td>\n",
       "      <td>0.0</td>\n",
       "      <td>1.0</td>\n",
       "    </tr>\n",
       "    <tr>\n",
       "      <th>210</th>\n",
       "      <td>TRARALGON</td>\n",
       "      <td>330</td>\n",
       "      <td>66226.0</td>\n",
       "      <td>1.0</td>\n",
       "      <td>28735.0</td>\n",
       "      <td>0.065452</td>\n",
       "      <td>0.0</td>\n",
       "      <td>0.0</td>\n",
       "      <td>24.0</td>\n",
       "      <td>1.0</td>\n",
       "      <td>2.0</td>\n",
       "    </tr>\n",
       "    <tr>\n",
       "      <th>212</th>\n",
       "      <td>WARRAGUL</td>\n",
       "      <td>373</td>\n",
       "      <td>58776.0</td>\n",
       "      <td>0.0</td>\n",
       "      <td>23080.0</td>\n",
       "      <td>0.055303</td>\n",
       "      <td>0.0</td>\n",
       "      <td>0.0</td>\n",
       "      <td>26.0</td>\n",
       "      <td>1.0</td>\n",
       "      <td>5.0</td>\n",
       "    </tr>\n",
       "    <tr>\n",
       "      <th>214</th>\n",
       "      <td>WODONGA</td>\n",
       "      <td>340</td>\n",
       "      <td>56835.0</td>\n",
       "      <td>4.0</td>\n",
       "      <td>22915.0</td>\n",
       "      <td>0.029469</td>\n",
       "      <td>0.0</td>\n",
       "      <td>0.0</td>\n",
       "      <td>25.0</td>\n",
       "      <td>2.0</td>\n",
       "      <td>4.0</td>\n",
       "    </tr>\n",
       "  </tbody>\n",
       "</table>\n",
       "<p>183 rows × 11 columns</p>\n",
       "</div>"
      ],
      "text/plain": [
       "            Suburb  2021 rent  2018_income  shopping_count  population  \\\n",
       "0      ALBERT PARK        500     120412.0             0.0     11310.0   \n",
       "1      MIDDLE PARK        500     120412.0             0.0      4712.0   \n",
       "3         ARMADALE        450     111629.0             0.0      9436.0   \n",
       "4    CARLTON NORTH        580      88807.0             0.0      8097.0   \n",
       "5          CARLTON        350      59791.0             0.0     17198.0   \n",
       "..             ...        ...          ...             ...         ...   \n",
       "208      SWAN HILL        298      54265.0             0.0     11169.0   \n",
       "209        TORQUAY        520      71515.0             0.0     21334.0   \n",
       "210      TRARALGON        330      66226.0             1.0     28735.0   \n",
       "212       WARRAGUL        373      58776.0             0.0     23080.0   \n",
       "214        WODONGA        340      56835.0             4.0     22915.0   \n",
       "\n",
       "     crime_rate  num_passenger  num_station  num facilites  num hospital  \\\n",
       "0      0.083418            0.0          0.0           10.0           0.0   \n",
       "1      0.083418            0.0          0.0            1.0           0.0   \n",
       "3      0.069923       423950.0          2.0            6.0           0.0   \n",
       "4      0.091946            0.0          0.0            0.0           0.0   \n",
       "5      0.091946            0.0          0.0            2.0           1.0   \n",
       "..          ...            ...          ...            ...           ...   \n",
       "208    0.085372            0.0          0.0           16.0           1.0   \n",
       "209    0.030081            0.0          0.0           26.0           0.0   \n",
       "210    0.065452            0.0          0.0           24.0           1.0   \n",
       "212    0.055303            0.0          0.0           26.0           1.0   \n",
       "214    0.029469            0.0          0.0           25.0           2.0   \n",
       "\n",
       "     num school  \n",
       "0           0.0  \n",
       "1           0.0  \n",
       "3           2.0  \n",
       "4           0.0  \n",
       "5           0.0  \n",
       "..          ...  \n",
       "208         3.0  \n",
       "209         1.0  \n",
       "210         2.0  \n",
       "212         5.0  \n",
       "214         4.0  \n",
       "\n",
       "[183 rows x 11 columns]"
      ]
     },
     "execution_count": 31,
     "metadata": {},
     "output_type": "execute_result"
    }
   ],
   "source": [
    "final_table"
   ]
  },
  {
   "cell_type": "code",
   "execution_count": 32,
   "metadata": {},
   "outputs": [],
   "source": [
    "final_table.to_csv(curated_data + 'final_table.csv')"
   ]
  }
 ],
 "metadata": {
  "kernelspec": {
   "display_name": "Python 3 (ipykernel)",
   "language": "python",
   "name": "python3"
  },
  "language_info": {
   "codemirror_mode": {
    "name": "ipython",
    "version": 3
   },
   "file_extension": ".py",
   "mimetype": "text/x-python",
   "name": "python",
   "nbconvert_exporter": "python",
   "pygments_lexer": "ipython3",
   "version": "3.8.10"
  },
  "vscode": {
   "interpreter": {
    "hash": "916dbcbb3f70747c44a77c7bcd40155683ae19c65e1c03b4aa3499c5328201f1"
   }
  }
 },
 "nbformat": 4,
 "nbformat_minor": 2
}
