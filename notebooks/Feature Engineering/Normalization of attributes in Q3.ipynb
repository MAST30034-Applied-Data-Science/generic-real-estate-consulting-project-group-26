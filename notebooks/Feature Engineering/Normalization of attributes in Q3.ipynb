{
 "cells": [
  {
   "cell_type": "code",
   "execution_count": 1,
   "metadata": {},
   "outputs": [],
   "source": [
    "# import required libries\n",
    "import pandas as pd\n",
    "from sklearn.preprocessing import MinMaxScaler\n",
    "import seaborn as sns\n",
    "import matplotlib.pyplot as plt\n",
    "from sklearn import preprocessing\n",
    "# define required path\n",
    "raw_data = '../../data/raw/'\n",
    "curated_data = '../../data/curated/'"
   ]
  },
  {
   "cell_type": "code",
   "execution_count": 2,
   "metadata": {},
   "outputs": [],
   "source": [
    "conditions = pd.read_csv(curated_data + 'final_table.csv',index_col = 0) "
   ]
  },
  {
   "cell_type": "code",
   "execution_count": 4,
   "metadata": {},
   "outputs": [],
   "source": [
    "del conditions['2021 rent']\n",
    "del conditions['2018_income']"
   ]
  },
  {
   "cell_type": "code",
   "execution_count": null,
   "metadata": {},
   "outputs": [],
   "source": [
    "#delete the tips with less correlation with wait cost\n",
    "# From tut02 written by Calvin and Akira\n",
    "# check correlation between attributes\n",
    "sns.heatmap(conditions.corr(),annot=True,fmt='.3f')\n",
    "\n",
    "plt.title('Pearson Correlation Metric')\n",
    "plt.show()"
   ]
  },
  {
   "cell_type": "code",
   "execution_count": 47,
   "metadata": {},
   "outputs": [],
   "source": [
    "# discard this attribute due to the high correlation with the number of station\n",
    "del conditions['num_passenger']"
   ]
  },
  {
   "cell_type": "code",
   "execution_count": 48,
   "metadata": {},
   "outputs": [],
   "source": [
    "# Normalize features with max-min normalization\n",
    "attributes = ['shopping_count', 'population', 'crime_rate', 'num_station', 'num facilites', 'num hospital', 'num school']\n",
    "for feature_name in attributes:\n",
    "    max_value = conditions[feature_name].max()\n",
    "    min_value = conditions[feature_name].min()\n",
    "    conditions[feature_name] = (conditions[feature_name] - min_value) / (max_value - min_value)"
   ]
  },
  {
   "cell_type": "code",
   "execution_count": 51,
   "metadata": {},
   "outputs": [],
   "source": [
    "conditions.to_csv(curated_data + 'normalized_data.csv')"
   ]
  }
 ],
 "metadata": {
  "kernelspec": {
   "display_name": "Python 3.9.13 64-bit (microsoft store)",
   "language": "python",
   "name": "python3"
  },
  "language_info": {
   "codemirror_mode": {
    "name": "ipython",
    "version": 3
   },
   "file_extension": ".py",
   "mimetype": "text/x-python",
   "name": "python",
   "nbconvert_exporter": "python",
   "pygments_lexer": "ipython3",
   "version": "3.9.13"
  },
  "vscode": {
   "interpreter": {
    "hash": "3dac822559ee519d00f970b6d061decf8565b44dd5cb9b85ec8da4c4ef76b4a4"
   }
  }
 },
 "nbformat": 4,
 "nbformat_minor": 2
}
