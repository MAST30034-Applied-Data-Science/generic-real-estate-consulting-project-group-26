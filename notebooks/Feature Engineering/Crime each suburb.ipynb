{
 "cells": [
  {
   "cell_type": "code",
   "execution_count": 2,
   "metadata": {},
   "outputs": [],
   "source": [
    "# import required libries\n",
    "import pandas as pd\n",
    "\n",
    "# define required path\n",
    "raw_data = '../data/raw/'\n",
    "curated_data = '../data/curated/'"
   ]
  },
  {
   "cell_type": "code",
   "execution_count": 14,
   "metadata": {},
   "outputs": [],
   "source": [
    "# read in datasets\n",
    "crime = pd.read_csv(curated_data + 'crime_rate_year.csv', index_col=0)\n",
    "suburb = pd.read_csv(raw_data + 'suburb.csv', index_col=0)"
   ]
  },
  {
   "cell_type": "code",
   "execution_count": 15,
   "metadata": {},
   "outputs": [],
   "source": [
    "# drop duplicate suburbs\n",
    "suburb['Suburb'] = suburb['Suburb'].drop_duplicates()\n",
    "suburb = suburb.dropna()"
   ]
  },
  {
   "cell_type": "code",
   "execution_count": 22,
   "metadata": {},
   "outputs": [],
   "source": [
    "# preprocessing the column to drop space\n",
    "crime['Local Government Area'] = crime['Local Government Area'].str[1:]"
   ]
  },
  {
   "cell_type": "code",
   "execution_count": 30,
   "metadata": {},
   "outputs": [],
   "source": [
    "# assign crime rate to suburbs\n",
    "crime_sub = suburb[['Suburb', 'LGA']].join(crime.set_index('Local Government Area'), on = 'LGA')\n",
    "del crime_sub['LGA']"
   ]
  },
  {
   "cell_type": "code",
   "execution_count": 35,
   "metadata": {},
   "outputs": [],
   "source": [
    "crime_sub.to_csv(curated_data + 'suburb_crime12-21.csv')"
   ]
  }
 ],
 "metadata": {
  "kernelspec": {
   "display_name": "Python 3.9.13 64-bit (microsoft store)",
   "language": "python",
   "name": "python3"
  },
  "language_info": {
   "codemirror_mode": {
    "name": "ipython",
    "version": 3
   },
   "file_extension": ".py",
   "mimetype": "text/x-python",
   "name": "python",
   "nbconvert_exporter": "python",
   "pygments_lexer": "ipython3",
   "version": "3.9.13"
  },
  "orig_nbformat": 4,
  "vscode": {
   "interpreter": {
    "hash": "3dac822559ee519d00f970b6d061decf8565b44dd5cb9b85ec8da4c4ef76b4a4"
   }
  }
 },
 "nbformat": 4,
 "nbformat_minor": 2
}
