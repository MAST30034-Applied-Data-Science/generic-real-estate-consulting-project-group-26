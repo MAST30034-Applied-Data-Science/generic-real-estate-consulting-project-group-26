{
 "cells": [
  {
   "cell_type": "code",
   "execution_count": 2,
   "id": "dc4cb9d1",
   "metadata": {},
   "outputs": [],
   "source": [
    "import pandas as pd\n",
    "import numpy as np\n",
    "import openrouteservice as ors\n",
    "import folium\n",
    "import time\n",
    "from functools import reduce"
   ]
  },
  {
   "cell_type": "code",
   "execution_count": 3,
   "id": "04cbc7a8",
   "metadata": {},
   "outputs": [],
   "source": [
    "# Please use collaborative key in openrouteservice\n",
    "client = ors.Client(key='{YOUR_API_KEY}')"
   ]
  },
  {
   "cell_type": "code",
   "execution_count": null,
   "id": "364fdcd6",
   "metadata": {},
   "outputs": [],
   "source": [
    "properties = pd.read_csv(\"../../data/curated/distance_to_property.csv\").reset_index()"
   ]
  },
  {
   "cell_type": "markdown",
   "id": "60652624",
   "metadata": {},
   "source": [
    "### IMPORTANT NOTE"
   ]
  },
  {
   "cell_type": "markdown",
   "id": "71c37cc1",
   "metadata": {},
   "source": [
    "The sections splitted by markdown cells below utilises openrouteservice API and openstreetmap to calculate route distance\\\n",
    "Due to the restriction of API service, one key can only request 10000 records daily\\\n",
    "Since we have around 9100 records in our dataframe, and there are 6 attribute deriving from API (see cells below)\\\n",
    "Therefore can only execute one section per day"
   ]
  },
  {
   "cell_type": "markdown",
   "id": "4f986690",
   "metadata": {},
   "source": [
    "#### Find Distance to Nearest School (API)"
   ]
  },
  {
   "cell_type": "code",
   "execution_count": 21,
   "id": "37aeeacf",
   "metadata": {},
   "outputs": [],
   "source": [
    "property_position = properties[['prop_lat', 'prop_long']]\n",
    "school_position = properties[['school_lat', 'school_long']]\n"
   ]
  },
  {
   "cell_type": "code",
   "execution_count": 26,
   "id": "8f17d09f",
   "metadata": {},
   "outputs": [],
   "source": [
    "# We need to format the list correctly to use API\n",
    "# There is an outer list, containing each [property, school] pairs of [longitude, latitude] coordinates \n",
    "propterty_school_coord = pd.merge(property_position.reset_index(), school_position.reset_index())\n",
    "propterty_school_coord_inv = []\n",
    "for i in range(len(propterty_school_coord)):\n",
    "    cur_position = []\n",
    "    cur_position.append([list(propterty_school_coord[['prop_long']].iloc[i])[0],\n",
    "                         list(propterty_school_coord[['prop_lat']].iloc[i])[0]])\n",
    "    cur_position.append([list(propterty_school_coord[['school_long']].iloc[i])[0], \n",
    "                         list(propterty_school_coord[['school_lat']].iloc[i])[0]])\n",
    "    propterty_school_coord_inv.append(cur_position)"
   ]
  },
  {
   "cell_type": "code",
   "execution_count": 36,
   "id": "e588d175",
   "metadata": {},
   "outputs": [],
   "source": [
    "# This section of code takes about 7 hours to execute\n",
    "school_routes = []\n",
    "for each in propterty_school_coord_inv:\n",
    "    time.sleep(1.5) # openrouteservice API allows only 40 requests per minute\n",
    "    try:\n",
    "        route = client.directions(coordinates=each)\n",
    "        school_routes.append(route['routes'][0]['summary']['distance'])    # extract distance from route in form of Json\n",
    "    except:\n",
    "        school_routes.append(np.nan)\n",
    " "
   ]
  },
  {
   "cell_type": "code",
   "execution_count": 100,
   "id": "0ed70549",
   "metadata": {},
   "outputs": [],
   "source": [
    "# add derived attribute to original dataframe\n",
    "properties['school_route'] = school_routes"
   ]
  },
  {
   "cell_type": "code",
   "execution_count": 101,
   "id": "c78e1412",
   "metadata": {},
   "outputs": [],
   "source": [
    "# if unable to find route distance use API, we try to estimate this\n",
    "# First calculate the percentage increase of distance when converting from straight distance to route distance\n",
    "avg_straight_distance =  properties.dropna(subset = ['school_route'])[['distance_school']]\n",
    "avg_route_distance = properties.dropna(subset = ['school_route'])[['school_route']]\n",
    "increase_rate = (avg_route_distance / avg_straight_distance).mean()"
   ]
  },
  {
   "cell_type": "code",
   "execution_count": 102,
   "id": "aa8bb43a",
   "metadata": {},
   "outputs": [],
   "source": [
    "# Fill null route distance by multiplying straight distance by increase rate just calculated\n",
    "properties['school_route'] = properties['school_route'].fillna(properties['distance_school'] * increase_rate)"
   ]
  },
  {
   "cell_type": "code",
   "execution_count": null,
   "id": "a02f3805",
   "metadata": {},
   "outputs": [],
   "source": []
  },
  {
   "cell_type": "markdown",
   "id": "3448a453",
   "metadata": {},
   "source": [
    "#### Find Distance to Nearest Hospital (API)"
   ]
  },
  {
   "cell_type": "code",
   "execution_count": 7,
   "id": "7ad9bfbb",
   "metadata": {},
   "outputs": [],
   "source": [
    "property_position = properties[['prop_lat', 'prop_long']]\n",
    "hospital_position = properties[['hospital_lat', 'hospital_long']]"
   ]
  },
  {
   "cell_type": "code",
   "execution_count": 9,
   "id": "33ce39ba",
   "metadata": {},
   "outputs": [],
   "source": [
    "propterty_hospital_coord = pd.merge(property_position.reset_index(), hospital_position.reset_index())\n",
    "propterty_hospital_coord_inv = []\n",
    "for i in range(len(propterty_hospital_coord)):\n",
    "    cur_position = []\n",
    "    cur_position.append([list(propterty_hospital_coord[['prop_long']].iloc[i])[0],\n",
    "                         list(propterty_hospital_coord[['prop_lat']].iloc[i])[0]])\n",
    "    cur_position.append([list(propterty_hospital_coord[['hospital_long']].iloc[i])[0], \n",
    "                         list(propterty_hospital_coord[['hospital_lat']].iloc[i])[0]])\n",
    "    propterty_hospital_coord_inv.append(cur_position)"
   ]
  },
  {
   "cell_type": "code",
   "execution_count": 13,
   "id": "6e346313",
   "metadata": {},
   "outputs": [
    {
     "name": "stderr",
     "output_type": "stream",
     "text": [
      "/home/byh20000914/.local/lib/python3.10/site-packages/openrouteservice/client.py:211: UserWarning: Rate limit exceeded. Retrying for the 6th time.\n",
      "  warnings.warn('Rate limit exceeded. Retrying for the {0}{1} time.'.format(retry_counter + 1,\n"
     ]
    }
   ],
   "source": [
    "hospital_routes = []\n",
    "for each in propterty_hospital_coord_inv:\n",
    "    time.sleep(1.5) \n",
    "    try:\n",
    "        route = client.directions(coordinates=each)\n",
    "        hospital_routes.append(route['routes'][0]['summary']['distance'])  \n",
    "    except:\n",
    "        hospital_routes.append(np.nan)\n",
    "        "
   ]
  },
  {
   "cell_type": "code",
   "execution_count": 14,
   "id": "105fca64",
   "metadata": {},
   "outputs": [],
   "source": [
    "# add derived attribute to original dataframe\n",
    "properties['hospital_route'] =  hospital_routes"
   ]
  },
  {
   "cell_type": "code",
   "execution_count": 29,
   "id": "88cb039d",
   "metadata": {},
   "outputs": [],
   "source": [
    "# if unable to find route distance use API, we try to estimate this\n",
    "# First calculate the percentage increase of distance when converting from straight distance to route distance\n",
    "straight_distance =  properties.dropna(subset = ['hospital_route'])['distance_hospital']\n",
    "route_distance = properties.dropna(subset = ['hospital_route'])['hospital_route']\n",
    "increase_rate = (route_distance / straight_distance).mean()"
   ]
  },
  {
   "cell_type": "code",
   "execution_count": 31,
   "id": "6607d4a4",
   "metadata": {},
   "outputs": [],
   "source": [
    "# Fill null route distance by multiplying straight distance by increase rate just calculated\n",
    "properties['hospital_route'] = properties['hospital_route'].fillna(properties['distance_hospital'] * increase_rate)"
   ]
  },
  {
   "cell_type": "markdown",
   "id": "47ffc41f",
   "metadata": {},
   "source": [
    "#### Find Distance to Nearest Train Station (API)"
   ]
  },
  {
   "cell_type": "code",
   "execution_count": 5,
   "id": "7545b5f4",
   "metadata": {},
   "outputs": [],
   "source": [
    "property_position = properties[['prop_lat', 'prop_long']]\n",
    "station_position = properties[['station_lat', 'station_long']]"
   ]
  },
  {
   "cell_type": "code",
   "execution_count": 7,
   "id": "67665bc5",
   "metadata": {},
   "outputs": [],
   "source": [
    "propterty_station_coord = pd.merge(property_position.reset_index(), station_position.reset_index())\n",
    "propterty_station_coord_inv = []\n",
    "for i in range(len(propterty_station_coord)):\n",
    "    cur_position = []\n",
    "    cur_position.append([list(propterty_station_coord[['prop_long']].iloc[i])[0],\n",
    "                         list(propterty_station_coord[['prop_lat']].iloc[i])[0]])\n",
    "    cur_position.append([list(propterty_station_coord[['station_long']].iloc[i])[0], \n",
    "                         list(propterty_station_coord[['station_lat']].iloc[i])[0]])\n",
    "    propterty_station_coord_inv.append(cur_position)"
   ]
  },
  {
   "cell_type": "code",
   "execution_count": 11,
   "id": "41a00c4e",
   "metadata": {},
   "outputs": [
    {
     "name": "stderr",
     "output_type": "stream",
     "text": [
      "/home/byh20000914/.local/lib/python3.10/site-packages/openrouteservice/client.py:211: UserWarning: Rate limit exceeded. Retrying for the 6th time.\n",
      "  warnings.warn('Rate limit exceeded. Retrying for the {0}{1} time.'.format(retry_counter + 1,\n"
     ]
    }
   ],
   "source": [
    "station_routes = []\n",
    "for each in propterty_station_coord_inv:\n",
    "    time.sleep(1.5) \n",
    "    try:\n",
    "        route = client.directions(coordinates=each)\n",
    "        station_routes.append(route['routes'][0]['summary']['distance'])  \n",
    "    except:\n",
    "        station_routes.append(np.nan)"
   ]
  },
  {
   "cell_type": "code",
   "execution_count": 12,
   "id": "a926dc9c",
   "metadata": {},
   "outputs": [],
   "source": [
    "# add derived attribute to original dataframe\n",
    "properties['station_route'] =  station_routes"
   ]
  },
  {
   "cell_type": "code",
   "execution_count": 13,
   "id": "8df17afa",
   "metadata": {},
   "outputs": [],
   "source": [
    "# if unable to find route distance use API, we try to estimate this\n",
    "# First calculate the percentage increase of distance when converting from straight distance to route distance\n",
    "straight_distance =  properties.dropna(subset = ['station_route'])['distance_station']\n",
    "route_distance = properties.dropna(subset = ['station_route'])['station_route']\n",
    "increase_rate = (route_distance / straight_distance).mean()"
   ]
  },
  {
   "cell_type": "code",
   "execution_count": 15,
   "id": "d5cbef2d",
   "metadata": {},
   "outputs": [],
   "source": [
    "# Fill null route distance by multiplying straight distance by increase rate just calculated\n",
    "properties['station_route'] = properties['station_route'].fillna(properties['distance_station'] * increase_rate)"
   ]
  },
  {
   "cell_type": "markdown",
   "id": "bbd61155",
   "metadata": {},
   "source": [
    "#### Find Distance to Nearest Entertainment Facility(API)"
   ]
  },
  {
   "cell_type": "code",
   "execution_count": 3,
   "id": "88748fcf",
   "metadata": {},
   "outputs": [],
   "source": [
    "property_position = properties[['prop_lat', 'prop_long']]\n",
    "facility_position = properties[['facility_lat', 'facility_long']]"
   ]
  },
  {
   "cell_type": "code",
   "execution_count": 4,
   "id": "ce24505a",
   "metadata": {},
   "outputs": [],
   "source": [
    "propterty_facility_coord = pd.merge(property_position.reset_index(), facility_position.reset_index())\n",
    "propterty_facility_coord_inv = []\n",
    "for i in range(len(propterty_facility_coord)):\n",
    "    cur_position = []\n",
    "    cur_position.append([list(propterty_facility_coord[['prop_long']].iloc[i])[0],\n",
    "                         list(propterty_facility_coord[['prop_lat']].iloc[i])[0]])\n",
    "    cur_position.append([list(propterty_facility_coord[['facility_long']].iloc[i])[0], \n",
    "                         list(propterty_facility_coord[['facility_lat']].iloc[i])[0]])\n",
    "    propterty_facility_coord_inv.append(cur_position)"
   ]
  },
  {
   "cell_type": "code",
   "execution_count": 9,
   "id": "5889eb6f",
   "metadata": {},
   "outputs": [
    {
     "name": "stderr",
     "output_type": "stream",
     "text": [
      "/home/byh20000914/.local/lib/python3.10/site-packages/openrouteservice/client.py:211: UserWarning: Rate limit exceeded. Retrying for the 6th time.\n",
      "  warnings.warn('Rate limit exceeded. Retrying for the {0}{1} time.'.format(retry_counter + 1,\n"
     ]
    }
   ],
   "source": [
    "facility_routes = []\n",
    "for each in propterty_facility_coord_inv:\n",
    "    try:\n",
    "        route = client.directions(coordinates=each)\n",
    "        facility_routes.append(route['routes'][0]['summary']['distance'])  \n",
    "        time.sleep(2) \n",
    "    except:\n",
    "        facility_routes.append(np.nan)\n",
    "        time.sleep(2) "
   ]
  },
  {
   "cell_type": "code",
   "execution_count": 10,
   "id": "992d6b50",
   "metadata": {},
   "outputs": [],
   "source": [
    "# add derived attribute to original dataframe\n",
    "properties['facility_route'] =  facility_routes"
   ]
  },
  {
   "cell_type": "code",
   "execution_count": 11,
   "id": "362acb0e",
   "metadata": {},
   "outputs": [],
   "source": [
    "# if unable to find route distance use API, we try to estimate this\n",
    "# First calculate the percentage increase of distance when converting from straight distance to route distance\n",
    "straight_distance =  properties.dropna(subset = ['facility_route'])['distance_facility']\n",
    "route_distance = properties.dropna(subset = ['facility_route'])['facility_route']\n",
    "increase_rate = (route_distance / straight_distance).mean()"
   ]
  },
  {
   "cell_type": "code",
   "execution_count": 13,
   "id": "bc12b1c4",
   "metadata": {},
   "outputs": [],
   "source": [
    "# Fill null route distance by multiplying straight distance by increase rate just calculated\n",
    "properties['facility_route'] = properties['facility_route'].fillna(properties['distance_facility'] * increase_rate)"
   ]
  },
  {
   "cell_type": "markdown",
   "id": "abe8101e",
   "metadata": {},
   "source": [
    "#### Find Distance to Nearest Shopping Centre(API)"
   ]
  },
  {
   "cell_type": "code",
   "execution_count": 4,
   "id": "ec26adb6",
   "metadata": {},
   "outputs": [],
   "source": [
    "property_position = properties[['prop_lat', 'prop_long']]\n",
    "shopping_position = properties[['shopping_lat', 'shopping_long']]"
   ]
  },
  {
   "cell_type": "code",
   "execution_count": 5,
   "id": "d02bb053",
   "metadata": {},
   "outputs": [],
   "source": [
    "propterty_shopping_coord = pd.merge(property_position.reset_index(), shopping_position.reset_index())\n",
    "propterty_shopping_coord_inv = []\n",
    "for i in range(len(propterty_shopping_coord)):\n",
    "    cur_position = []\n",
    "    cur_position.append([list(propterty_shopping_coord[['prop_long']].iloc[i])[0],\n",
    "                         list(propterty_shopping_coord[['prop_lat']].iloc[i])[0]])\n",
    "    cur_position.append([list(propterty_shopping_coord[['shopping_long']].iloc[i])[0], \n",
    "                         list(propterty_shopping_coord[['shopping_lat']].iloc[i])[0]])\n",
    "    propterty_shopping_coord_inv.append(cur_position)"
   ]
  },
  {
   "cell_type": "code",
   "execution_count": 7,
   "id": "04bcce94",
   "metadata": {},
   "outputs": [
    {
     "name": "stderr",
     "output_type": "stream",
     "text": [
      "/home/byh20000914/.local/lib/python3.10/site-packages/openrouteservice/client.py:211: UserWarning: Rate limit exceeded. Retrying for the 1st time.\n",
      "  warnings.warn('Rate limit exceeded. Retrying for the {0}{1} time.'.format(retry_counter + 1,\n"
     ]
    }
   ],
   "source": [
    "shopping_routes = []\n",
    "for each in propterty_shopping_coord_inv:\n",
    "    time.sleep(1.5) \n",
    "    try:\n",
    "        route = client.directions(coordinates=each)\n",
    "        shopping_routes.append(route['routes'][0]['summary']['distance'])  \n",
    "    except:\n",
    "        shopping_routes.append(np.nan)\n"
   ]
  },
  {
   "cell_type": "code",
   "execution_count": 8,
   "id": "b42c23d7",
   "metadata": {},
   "outputs": [],
   "source": [
    "# add derived attribute to original dataframe\n",
    "properties['shopping_route'] =  shopping_routes"
   ]
  },
  {
   "cell_type": "code",
   "execution_count": 9,
   "id": "4edd95f5",
   "metadata": {},
   "outputs": [],
   "source": [
    "# if unable to find route distance use API, we try to estimate this\n",
    "# First calculate the percentage increase of distance when converting from straight distance to route distance\n",
    "straight_distance =  properties.dropna(subset = ['shopping_route'])['distance_shopping']\n",
    "route_distance = properties.dropna(subset = ['shopping_route'])['shopping_route']\n",
    "increase_rate = (route_distance / straight_distance).mean()"
   ]
  },
  {
   "cell_type": "code",
   "execution_count": 10,
   "id": "4d62644b",
   "metadata": {},
   "outputs": [],
   "source": [
    "# Fill null route distance by multiplying straight distance by increase rate just calculated\n",
    "properties['shopping_route'] = properties['shopping_route'].fillna(properties['distance_shopping'] * increase_rate)"
   ]
  },
  {
   "cell_type": "markdown",
   "id": "48f86d9c",
   "metadata": {},
   "source": [
    "#### Find Distance to Melbourne CBD(API)"
   ]
  },
  {
   "cell_type": "code",
   "execution_count": 8,
   "id": "cee358da",
   "metadata": {},
   "outputs": [],
   "source": [
    "property_position = properties[['prop_lat', 'prop_long']]\n",
    "cbd_position = properties[['cbd_lat', 'cbd_long']]"
   ]
  },
  {
   "cell_type": "code",
   "execution_count": 9,
   "id": "8a22b9c0",
   "metadata": {},
   "outputs": [],
   "source": [
    "propterty_cbd_coord = pd.merge(property_position.reset_index(), cbd_position.reset_index())\n",
    "propterty_cbd_coord_inv = []\n",
    "for i in range(len(propterty_cbd_coord)):\n",
    "    cur_position = []\n",
    "    cur_position.append([list(propterty_cbd_coord[['prop_long']].iloc[i])[0],\n",
    "                         list(propterty_cbd_coord[['prop_lat']].iloc[i])[0]])\n",
    "    cur_position.append([list(propterty_cbd_coord[['cbd_long']].iloc[i])[0], \n",
    "                         list(propterty_cbd_coord[['cbd_lat']].iloc[i])[0]])\n",
    "    propterty_cbd_coord_inv.append(cur_position)"
   ]
  },
  {
   "cell_type": "code",
   "execution_count": 11,
   "id": "25a1b0a5",
   "metadata": {},
   "outputs": [
    {
     "name": "stderr",
     "output_type": "stream",
     "text": [
      "/home/byh20000914/.local/lib/python3.10/site-packages/openrouteservice/client.py:211: UserWarning: Rate limit exceeded. Retrying for the 1st time.\n",
      "  warnings.warn('Rate limit exceeded. Retrying for the {0}{1} time.'.format(retry_counter + 1,\n",
      "/home/byh20000914/.local/lib/python3.10/site-packages/openrouteservice/client.py:211: UserWarning: Rate limit exceeded. Retrying for the 2nd time.\n",
      "  warnings.warn('Rate limit exceeded. Retrying for the {0}{1} time.'.format(retry_counter + 1,\n",
      "/home/byh20000914/.local/lib/python3.10/site-packages/openrouteservice/client.py:211: UserWarning: Rate limit exceeded. Retrying for the 3rd time.\n",
      "  warnings.warn('Rate limit exceeded. Retrying for the {0}{1} time.'.format(retry_counter + 1,\n"
     ]
    }
   ],
   "source": [
    "cbd_routes = []\n",
    "for each in propterty_cbd_coord_inv:\n",
    "    time.sleep(1.5) \n",
    "    try:\n",
    "        route = client.directions(coordinates=each)\n",
    "        cbd_routes.append(route['routes'][0]['summary']['distance'])  \n",
    "    except:\n",
    "        cbd_routes.append(np.nan)"
   ]
  },
  {
   "cell_type": "code",
   "execution_count": 12,
   "id": "ca1e1ebe",
   "metadata": {},
   "outputs": [],
   "source": [
    "# add derived attribute to original dataframe\n",
    "properties['cbd_route'] =  cbd_routes"
   ]
  },
  {
   "cell_type": "code",
   "execution_count": 13,
   "id": "ca33d540",
   "metadata": {},
   "outputs": [],
   "source": [
    "# if unable to find route distance use API, we try to estimate this\n",
    "# First calculate the percentage increase of distance when converting from straight distance to route distance\n",
    "straight_distance =  properties.dropna(subset = ['cbd_route'])['distance_CBD']\n",
    "route_distance = properties.dropna(subset = ['cbd_route'])['cbd_route']\n",
    "increase_rate = (route_distance / straight_distance).mean()"
   ]
  },
  {
   "cell_type": "code",
   "execution_count": 14,
   "id": "2bb9ac57",
   "metadata": {},
   "outputs": [],
   "source": [
    "# Fill null route distance by multiplying straight distance by increase rate just calculated\n",
    "properties['cbd_route'] = properties['cbd_route'].fillna(properties['distance_CBD'] * increase_rate)"
   ]
  },
  {
   "cell_type": "markdown",
   "id": "8c3dca6d",
   "metadata": {},
   "source": [
    "### Extract Useful columns"
   ]
  },
  {
   "cell_type": "code",
   "execution_count": 15,
   "id": "3083faeb",
   "metadata": {},
   "outputs": [],
   "source": [
    "properties = properties[['numSchool_3km', 'numHospital_1km', 'numStation_1km','numShopping_3km','numFacility_3km',\n",
    "                        'cbd_route','facility_route','hospital_route','shopping_route','station_route','school_route']]"
   ]
  },
  {
   "cell_type": "code",
   "execution_count": 45,
   "id": "04e1db36",
   "metadata": {},
   "outputs": [],
   "source": [
    "properties.to_csv('../../data/curated/api_distance_to_property.csv', index=False)"
   ]
  },
  {
   "cell_type": "code",
   "execution_count": null,
   "id": "7c1ba739",
   "metadata": {},
   "outputs": [],
   "source": []
  }
 ],
 "metadata": {
  "kernelspec": {
   "display_name": "Python 3 (ipykernel)",
   "language": "python",
   "name": "python3"
  },
  "language_info": {
   "codemirror_mode": {
    "name": "ipython",
    "version": 3
   },
   "file_extension": ".py",
   "mimetype": "text/x-python",
   "name": "python",
   "nbconvert_exporter": "python",
   "pygments_lexer": "ipython3",
   "version": "3.10.4"
  }
 },
 "nbformat": 4,
 "nbformat_minor": 5
}
